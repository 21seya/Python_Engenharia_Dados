{
 "cells": [
  {
   "cell_type": "code",
   "execution_count": null,
   "metadata": {},
   "outputs": [
    {
     "ename": "",
     "evalue": "",
     "output_type": "error",
     "traceback": [
      "\u001b[1;31mFailed to start the Kernel. \n",
      "\u001b[1;31mUnable to start Kernel 'Python 3.9.2' due to a timeout waiting for the ports to get used. \n",
      "\u001b[1;31mView Jupyter <a href='command:jupyter.viewOutput'>log</a> for further details."
     ]
    }
   ],
   "source": [
    "import numpy as np \n",
    "boolean = np.bool_(True)\n",
    "print(boolean,type(boolean))"
   ]
  },
  {
   "cell_type": "code",
   "execution_count": null,
   "metadata": {},
   "outputs": [],
   "source": [
    "import numpy as np \n",
    "string= np.string_(\"Este e um texto\")\n",
    "print(string,type(string))"
   ]
  },
  {
   "cell_type": "code",
   "execution_count": null,
   "metadata": {},
   "outputs": [],
   "source": [
    "import numpy as np \n",
    "string= np.unicode_(\"Este é um texto\")\n",
    "print(string,type(string))"
   ]
  },
  {
   "cell_type": "code",
   "execution_count": null,
   "metadata": {},
   "outputs": [],
   "source": [
    "import numpy as np \n",
    "inteiro = np.intc(-12)\n",
    "uinteiro = np.uintc(102)\n",
    "long= np.int_(89839399)\n",
    "ulong = np.uint(345656)\n",
    "print(inteiro,type(inteiro))\n",
    "print(uinteiro,type(uinteiro))\n",
    "print(long,type(long))\n",
    "print(ulong,type(ulong))"
   ]
  },
  {
   "cell_type": "code",
   "execution_count": null,
   "metadata": {},
   "outputs": [],
   "source": [
    "import numpy as np \n",
    "ponto_flutuante = np.float(1002.34)\n",
    "\n",
    "ponto_flutuante_2 = np.float32(3994.34)\n",
    "print(ponto_flutuante,type(ponto_flutuante))\n",
    "print(ponto_flutuante_2,type(ponto_flutuante_2))"
   ]
  },
  {
   "cell_type": "code",
   "execution_count": null,
   "metadata": {},
   "outputs": [],
   "source": [
    "import numpy as np \n",
    "int8 = np.int8(20)\n",
    "int16 = np.int16(100)\n",
    "uint8 = np.uint8(34)\n",
    "uint16 = np.uint16(344)\n",
    "print(int8,type(int8))\n",
    "print(int16,type(int16))\n",
    "print(uint8,type(uint8))\n",
    "print(uint16,type(uint16))\n"
   ]
  },
  {
   "cell_type": "code",
   "execution_count": null,
   "metadata": {},
   "outputs": [],
   "source": [
    "import numpy as np \n",
    "array = np.array([1,2,3,4,5,6,7,8,9,0])\n",
    "print(array)\n",
    "print(type(array))\n",
    "print(array.dtype)"
   ]
  },
  {
   "cell_type": "code",
   "execution_count": null,
   "metadata": {},
   "outputs": [],
   "source": [
    "import numpy as np \n",
    "array = np.array([1,2,3,4,5,6,7,8,9,0],dtype=np.int8)\n",
    "print(array)\n",
    "print(type(array))\n",
    "print(array.dtype)"
   ]
  },
  {
   "cell_type": "code",
   "execution_count": null,
   "metadata": {},
   "outputs": [],
   "source": [
    "import numpy as np \n",
    "array = np.array([\"1\",\"234\",\"1\"],dtype=np.string_)\n",
    "print(array)\n",
    "print(type(array))\n",
    "print(array.dtype)"
   ]
  },
  {
   "cell_type": "code",
   "execution_count": null,
   "metadata": {},
   "outputs": [],
   "source": [
    "import numpy as np\n",
    "class Pessoa:\n",
    "    def __init__(self,nome,idade):\n",
    "        self.nome = nome \n",
    "        self.idade = idade\n",
    "\n",
    "array = np.array([Pessoa(\"Wallace\",32),Pessoa(\"Maria\",26)])\n",
    "print(array)\n",
    "print(type(array))\n",
    "print(array.dtype,end=\"\\n\\n\")\n",
    "\n",
    "print(array[0].nome,array[1].idade)"
   ]
  },
  {
   "cell_type": "code",
   "execution_count": null,
   "metadata": {},
   "outputs": [],
   "source": [
    "import numpy as np\n",
    "tipo_pessoa = np.dtype([('nome','S10'),('Idade','i4')])\n",
    "\n",
    "array = np.array([('Roger',33),('Ivan',45)])\n",
    "print(array)"
   ]
  },
  {
   "cell_type": "code",
   "execution_count": null,
   "metadata": {},
   "outputs": [],
   "source": [
    "import numpy as np \n",
    "array = np.array([1,2,3,45,6,7,8,9,0])\n",
    "print(array)\n",
    "print(array.ndim)\n",
    "print(array.size)\n",
    "print(len(array))\n",
    "print(array.shape)\n",
    "print(array.dtype)\n",
    "print(array.itemsize)\n",
    "print(array.nbytes)\n"
   ]
  },
  {
   "cell_type": "code",
   "execution_count": null,
   "metadata": {},
   "outputs": [],
   "source": [
    "import numpy as np \n",
    "\n",
    "array1 = np.zeros(9)\n",
    "array2 = np.ones(3)\n",
    "array3 = np.empty(6)\n",
    "array4 = np.identity(4)\n",
    "\n",
    "print(array1,end='\\n\\n')\n",
    "print(array2,end='\\n\\n')\n",
    "print(array3,end='\\n\\n')\n",
    "print(array4,end='\\n\\n')\n"
   ]
  },
  {
   "cell_type": "code",
   "execution_count": null,
   "metadata": {},
   "outputs": [],
   "source": [
    "import numpy as np \n",
    "\n",
    "array1 = np.arange(9)\n",
    "array2 = np.arange(4,16)\n",
    "print(array1)\n",
    "print(array2)"
   ]
  },
  {
   "cell_type": "code",
   "execution_count": null,
   "metadata": {},
   "outputs": [],
   "source": [
    "import numpy as np \n",
    "array = np.full((4,4),10)\n",
    "print(array)"
   ]
  },
  {
   "cell_type": "code",
   "execution_count": null,
   "metadata": {},
   "outputs": [],
   "source": [
    "import numpy as np \n",
    "array_float = np.random.rand(4,4)\n",
    "array_int = np.random.randint(5,10)\n",
    "print(array_float)\n",
    "print(array_int)"
   ]
  },
  {
   "cell_type": "code",
   "execution_count": null,
   "metadata": {},
   "outputs": [],
   "source": [
    "#List Comprehesion com numpy\n",
    "import numpy as np \n",
    "array = np.array([ i for i in range(0,10)])\n",
    "print(array)"
   ]
  },
  {
   "cell_type": "code",
   "execution_count": null,
   "metadata": {},
   "outputs": [],
   "source": [
    "#List Comprehesion com numpy\n",
    "import numpy as np \n",
    "array = np.array([\n",
    "    [i for i in range(0,3)],\n",
    "    [i for i in range(3,6)],\n",
    "    [i for i in range(6,9)]],\n",
    ")\n",
    "print(array)"
   ]
  },
  {
   "cell_type": "code",
   "execution_count": null,
   "metadata": {},
   "outputs": [],
   "source": [
    "def aprender():\n",
    "    rows = []\n",
    "    for i in range(0,10):\n",
    "        rows.append(i)\n",
    "        return rows\n",
    "aprender()    "
   ]
  },
  {
   "cell_type": "code",
   "execution_count": null,
   "metadata": {},
   "outputs": [],
   "source": [
    "import numpy as np \n",
    "array = np.array([1,2,3,4,5,6,7,8,9,10])\n",
    "print(array[2])\n"
   ]
  },
  {
   "cell_type": "code",
   "execution_count": null,
   "metadata": {},
   "outputs": [],
   "source": [
    "import numpy as np \n",
    "array = np.array([[1,2,3],[4,5,6],[7,8,9]])\n",
    "print(array,end='\\n\\n')\n",
    "\n",
    "print(array[2])\n",
    "print(array[2][2])\n",
    "print(array[2,2])\n",
    "print(array[1:3])"
   ]
  },
  {
   "cell_type": "code",
   "execution_count": null,
   "metadata": {},
   "outputs": [],
   "source": [
    "import numpy as np \n",
    "array = np.array([[1,2,3,4],[5,6,7,8]])\n",
    "print(array,end='\\n\\n')\n",
    "print(array[1,:])\n",
    "print(array[:,2])"
   ]
  },
  {
   "cell_type": "code",
   "execution_count": null,
   "metadata": {},
   "outputs": [],
   "source": [
    "import numpy as np \n",
    "array = np.array([1,2,3,4])\n",
    "for i in array:\n",
    "    print(i)"
   ]
  },
  {
   "cell_type": "code",
   "execution_count": null,
   "metadata": {},
   "outputs": [],
   "source": [
    "import numpy as np \n",
    "array = np.array([[1,2,3,4],[5,6,7,8]])\n",
    "for i in array:\n",
    "    for j in array:\n",
    "        print(j)"
   ]
  },
  {
   "cell_type": "code",
   "execution_count": null,
   "metadata": {},
   "outputs": [],
   "source": [
    "import numpy as np \n",
    "array = np.array([[1,2,3,4],[5,6,7,8]])\n",
    "print(array)\n",
    "\n",
    "for x in np.nditer(array,order='F'):\n",
    "    print(x)"
   ]
  },
  {
   "cell_type": "code",
   "execution_count": null,
   "metadata": {},
   "outputs": [],
   "source": [
    "import numpy as np \n",
    "array = np.array([[1,2,3],[4,5,6],[7,8,9]])\n",
    "print(array)\n",
    "array[0] = [1,2,4]\n",
    "array[1,1:3] = [0,0]\n",
    "print(array)"
   ]
  },
  {
   "cell_type": "code",
   "execution_count": null,
   "metadata": {},
   "outputs": [],
   "source": [
    "import numpy as np \n",
    "array = np.array([[1,2,3],[4,5,6],[7,8,9]])\n",
    "print(array)\n",
    "array[0] = [1,2,4]\n",
    "print(array)"
   ]
  },
  {
   "cell_type": "code",
   "execution_count": null,
   "metadata": {},
   "outputs": [],
   "source": [
    "import numpy as np \n",
    "array = np.array([[1,2,3],[4,5,6],[7,8,9]])\n",
    "print(array)\n",
    "array[0] = [1,2,4]\n",
    "print(array)\n",
    "array[1,1:3] = [0,0]\n",
    "print(array)\n",
    "array[0,0] = 10\n",
    "print(array)"
   ]
  },
  {
   "cell_type": "code",
   "execution_count": null,
   "metadata": {},
   "outputs": [],
   "source": [
    "import numpy as np \n",
    "array = np.array([[1,2,3],[4,5,6],[7,8,9]])\n",
    "print(array)\n",
    "array[:,2] = [0,0,0]\n",
    "print(array)"
   ]
  },
  {
   "cell_type": "code",
   "execution_count": null,
   "metadata": {},
   "outputs": [],
   "source": [
    "import numpy as np \n",
    "array = np.array([1,2,3,4])\n",
    "array2 = np.append(array,[5,6,7,8,9])\n",
    "print(array2)"
   ]
  },
  {
   "cell_type": "code",
   "execution_count": null,
   "metadata": {},
   "outputs": [],
   "source": [
    "import numpy as np \n",
    "array = np.array([[1,2,3],[4,5,6],[7,8,9]])\n",
    "print(array,end='\\n\\n')\n",
    "array2 = np.append(array,[5,6,7,8,9])\n",
    "print(array2)"
   ]
  },
  {
   "cell_type": "code",
   "execution_count": null,
   "metadata": {},
   "outputs": [],
   "source": [
    "import numpy as np \n",
    "array = np.array([[1,2,3],[4,5,6],[7,8,9]])\n",
    "print(array,end='\\n\\n')\n",
    "array2 = np.append(array,[[10,11,12]],axis=0)\n",
    "print(array2)"
   ]
  },
  {
   "cell_type": "code",
   "execution_count": null,
   "metadata": {},
   "outputs": [],
   "source": [
    "import numpy as np \n",
    "array = np.array([1,2,3])\n",
    "array2 = np.insert(array,1,10)\n",
    "print(array2) "
   ]
  },
  {
   "cell_type": "code",
   "execution_count": null,
   "metadata": {},
   "outputs": [],
   "source": [
    "import numpy as np \n",
    "array = np.array([[1,2,3],[4,5,6],[7,8,9]])\n",
    "array1 = np.insert(array,1,[3,3,3],axis=0)\n",
    "print(array1)"
   ]
  },
  {
   "cell_type": "code",
   "execution_count": null,
   "metadata": {},
   "outputs": [],
   "source": [
    "import numpy as np \n",
    "array = np.array([[1,2,3],[4,5,6],[7,8,9]])\n",
    "array1 = np.delete(array,1,axis=0)\n",
    "print(array1)"
   ]
  },
  {
   "cell_type": "code",
   "execution_count": null,
   "metadata": {},
   "outputs": [],
   "source": [
    "import numpy as np \n",
    "array = np.array([1,2,3])\n",
    "copy_array = array\n",
    "copy_array[0] = 0\n",
    "print(array)"
   ]
  },
  {
   "cell_type": "code",
   "execution_count": null,
   "metadata": {},
   "outputs": [],
   "source": [
    "import numpy as np \n",
    "array = np.array([1,2,3])\n",
    "copy_array = array.copy()\n",
    "copy_array[0] = 0\n",
    "print(array)"
   ]
  },
  {
   "cell_type": "code",
   "execution_count": null,
   "metadata": {},
   "outputs": [],
   "source": [
    "def aprender(dados:str) -> str:\n",
    "    return str(dados) \n",
    "\n",
    "aprender('ola') "
   ]
  },
  {
   "cell_type": "code",
   "execution_count": null,
   "metadata": {},
   "outputs": [],
   "source": [
    "import numpy as np \n",
    "array = np.array([[1,2,3],[4,5,6],[7,8,9]])\n",
    "print(array)\n",
    "array = array.reshape(9)\n",
    "print(array)"
   ]
  },
  {
   "cell_type": "code",
   "execution_count": null,
   "metadata": {},
   "outputs": [],
   "source": [
    "import numpy as np \n",
    "array = np.array([i for i in range(0,27)])\n",
    "print(array)\n",
    "array = array.reshape(3,9)\n",
    "print(array)"
   ]
  },
  {
   "cell_type": "code",
   "execution_count": null,
   "metadata": {},
   "outputs": [],
   "source": [
    "import numpy as np \n",
    "array1 = np.array([1,2,3])\n",
    "array2 = np.array([2,4,6])\n",
    "\n",
    "print(array1 +array2)\n",
    "print(array1 - array2)\n",
    "print(array1 * array2)\n",
    "print(array1 / array2)\n",
    "print(array1 ** array2)"
   ]
  },
  {
   "cell_type": "code",
   "execution_count": null,
   "metadata": {},
   "outputs": [],
   "source": [
    "import numpy as np \n",
    "array1 = np.array([10,20,30,5])\n",
    "array2 = np.array([20,40,10,5])\n",
    "array12 =np.concatenate((array1,array2),axis=0)\n",
    "print(array12)"
   ]
  },
  {
   "cell_type": "code",
   "execution_count": null,
   "metadata": {},
   "outputs": [],
   "source": [
    "import numpy as np \n",
    "array1 = np.array([[1,2,3],[4,5,6]])\n",
    "array2 = np.array([[20,10,20],[20,40,50]])\n",
    "array21 = np.concatenate((array1,array2),axis=0)\n",
    "print(array21)"
   ]
  },
  {
   "cell_type": "code",
   "execution_count": null,
   "metadata": {},
   "outputs": [],
   "source": [
    "import numpy as np \n",
    "array1 = np.array([1,2,3])\n",
    "array2 = np.array([4,5,6])\n",
    "\n",
    "arrayconc = np.vstack((array1,array2))\n",
    "print(arrayconc)"
   ]
  },
  {
   "cell_type": "code",
   "execution_count": null,
   "metadata": {},
   "outputs": [],
   "source": [
    "import numpy as np \n",
    "array = np.array([1,2,3,4,5,6])\n",
    "print(np.split(array,1))\n",
    "print(np.split(array,2))"
   ]
  },
  {
   "cell_type": "code",
   "execution_count": null,
   "metadata": {},
   "outputs": [],
   "source": [
    "import numpy as np \n",
    "array1 = np.array([[1,2,3,4],[4,5,6,7]])\n",
    "print(np.split(array1,2))"
   ]
  },
  {
   "cell_type": "code",
   "execution_count": null,
   "metadata": {},
   "outputs": [],
   "source": [
    "import numpy as np \n",
    "array1 = np.array([[1,2,3,4],[5,6,7,8]])\n",
    "print(np.split(array1,2))"
   ]
  },
  {
   "cell_type": "code",
   "execution_count": null,
   "metadata": {},
   "outputs": [],
   "source": [
    "import numpy as np \n",
    "array = np.array([1,2,3,4,5,6])\n",
    "array1 = np.array_split(array,2)\n",
    "array2 = np.array_split(array,3)\n",
    "array3 = np.array_split(array,4)\n",
    "print(array1)\n",
    "print(array2)\n",
    "print(array3)\n"
   ]
  },
  {
   "cell_type": "code",
   "execution_count": null,
   "metadata": {},
   "outputs": [],
   "source": [
    "import numpy as np \n",
    "array = np.array([[1,2,3],[4,5,6]])\n",
    "array1 = np.array_split(array,2)\n",
    "array2 = np.array_split(array,2)\n",
    "array3 = np.array_split(array,2)\n",
    "print(array1)\n",
    "print(array2)\n",
    "print(array3)\n"
   ]
  },
  {
   "cell_type": "code",
   "execution_count": null,
   "metadata": {},
   "outputs": [],
   "source": [
    "import numpy as np \n",
    "array = np.array([[1,2,3],[4,5,6],[7,8,9]])\n",
    "array1 = np.hsplit(array,3)\n",
    "print(array1)"
   ]
  },
  {
   "cell_type": "code",
   "execution_count": null,
   "metadata": {},
   "outputs": [],
   "source": [
    "import numpy as np \n",
    "array = np.array([1,2,3,4,5])\n",
    "array_find = np.where(array >= 4)\n",
    "print(array_find)"
   ]
  },
  {
   "cell_type": "code",
   "execution_count": null,
   "metadata": {},
   "outputs": [],
   "source": [
    "import numpy as np \n",
    "array = np.array([1,2,3,4,5,6,7])\n",
    "array_find = np.where((array == 4) | (array == 7))\n",
    "print(array_find)"
   ]
  },
  {
   "cell_type": "code",
   "execution_count": null,
   "metadata": {},
   "outputs": [],
   "source": [
    "import numpy as np \n",
    "array = np.array([1,2,3,4,5,6,7,8,20,304,50,40])\n",
    "array_find = np.where((array >0) & (array < 10))\n",
    "print(array_find)"
   ]
  },
  {
   "cell_type": "code",
   "execution_count": 1,
   "metadata": {},
   "outputs": [
    {
     "name": "stdout",
     "output_type": "stream",
     "text": [
      "[0 0]\n"
     ]
    }
   ],
   "source": [
    "import numpy as np\n",
    "array = np.array([1,0,1,1,1,0,2])\n",
    "filtered_array = np.array([i for i in array if i ==0])\n",
    "print(filtered_array)"
   ]
  },
  {
   "cell_type": "code",
   "execution_count": 2,
   "metadata": {},
   "outputs": [
    {
     "name": "stdout",
     "output_type": "stream",
     "text": [
      "[1 2 3 4]\n"
     ]
    }
   ],
   "source": [
    "import numpy as np \n",
    "array = np.array([4,1,3,2])\n",
    "print(np.sort(array,kind='quicksort'))\n"
   ]
  },
  {
   "cell_type": "code",
   "execution_count": 3,
   "metadata": {},
   "outputs": [
    {
     "name": "stdout",
     "output_type": "stream",
     "text": [
      "[[ 5  2  0]\n",
      " [38  6  7]]\n",
      "[[ 0  2 38]\n",
      " [ 5  6  7]]\n"
     ]
    }
   ],
   "source": [
    "import numpy as np \n",
    "array = np.array([[38,2,0],[5,6,7]])\n",
    "print(np.sort(array,axis=0))\n",
    "print(np.sort(array,axis=1))"
   ]
  },
  {
   "cell_type": "code",
   "execution_count": 5,
   "metadata": {},
   "outputs": [
    {
     "name": "stdout",
     "output_type": "stream",
     "text": [
      "[ 2  4  6  8 10 12 73]\n",
      "[ 0  0  0  0  0  0 -7]\n",
      "[   1    4    9   16   25   36 1320]\n",
      "[1.    1.    1.    1.    1.    1.    0.825]\n"
     ]
    }
   ],
   "source": [
    "import numpy as np \n",
    "arr1 = np.array([1,2,3,4,5,6,33])\n",
    "arr2 = np.array([1,2,3,4,5,6,40])\n",
    "\n",
    "array1 = np.add(arr1,arr2)\n",
    "array2 = np.subtract(arr1,arr2)\n",
    "array3 = np.multiply(arr1,arr2)\n",
    "array4 = np.divide(arr1,arr2)\n",
    "\n",
    "print(array1)\n",
    "print(array2)\n",
    "print(array3)\n",
    "print(array4)\n",
    "\n"
   ]
  },
  {
   "cell_type": "code",
   "execution_count": 9,
   "metadata": {},
   "outputs": [
    {
     "name": "stdout",
     "output_type": "stream",
     "text": [
      "[[1. 1. 1.]\n",
      " [1. 1. 1.]\n",
      " [1. 1. 1.]]\n",
      "[[1 1 1]\n",
      " [1 1 1]\n",
      " [1 1 1]]\n"
     ]
    }
   ],
   "source": [
    "import numpy as np \n",
    "arr1 = np.array([[1,2,3],[4,5,6],[7,8,9]])\n",
    "arr2 = np.array([[1,2,3],[4,5,6],[7,8,9]])\n",
    "\n",
    "array1 = np.divide(arr1,arr2)\n",
    "array2 = np.floor_divide(arr1,arr2)\n",
    "\n",
    "print(array1)\n",
    "print(array2)\n",
    "\n"
   ]
  },
  {
   "cell_type": "code",
   "execution_count": 10,
   "metadata": {},
   "outputs": [
    {
     "name": "stdout",
     "output_type": "stream",
     "text": [
      "[[        1         4        27]\n",
      " [      256      3125     46656]\n",
      " [   823543  16777216 387420489]]\n"
     ]
    }
   ],
   "source": [
    "import numpy as np \n",
    "arr1 = np.array([[1,2,3],[4,5,6],[7,8,9]])\n",
    "arr2 = np.array([[1,2,3],[4,5,6],[7,8,9]])\n",
    "\n",
    "array1 = np.power(arr1,arr2)\n",
    "print(array1)"
   ]
  },
  {
   "cell_type": "code",
   "execution_count": 11,
   "metadata": {},
   "outputs": [
    {
     "name": "stdout",
     "output_type": "stream",
     "text": [
      "[0 2 7]\n"
     ]
    }
   ],
   "source": [
    "import numpy as np \n",
    "arr1 = np.array([2,2,100])\n",
    "arr2 = np.array([2,3,31])\n",
    "\n",
    "array1 = np.mod(arr1,arr2)\n",
    "print(array1)"
   ]
  },
  {
   "cell_type": "code",
   "execution_count": 12,
   "metadata": {},
   "outputs": [
    {
     "name": "stdout",
     "output_type": "stream",
     "text": [
      "(array([1, 0, 3]), array([0, 2, 7]))\n"
     ]
    }
   ],
   "source": [
    "import numpy as np \n",
    "arr1 = np.array([2,2,100])\n",
    "arr2 = np.array([2,3,31])\n",
    "\n",
    "array1 = np.divmod(arr1,arr2)\n",
    "print(array1)"
   ]
  },
  {
   "cell_type": "code",
   "execution_count": 13,
   "metadata": {},
   "outputs": [
    {
     "name": "stdout",
     "output_type": "stream",
     "text": [
      "[ 2.  5. 10.]\n"
     ]
    }
   ],
   "source": [
    "import numpy as np \n",
    "arr1 = np.array([4,25,100])\n",
    "\n",
    "array1 = np.sqrt(arr1)\n",
    "print(array1)"
   ]
  },
  {
   "cell_type": "code",
   "execution_count": 15,
   "metadata": {},
   "outputs": [
    {
     "name": "stdout",
     "output_type": "stream",
     "text": [
      "[3.14 2.71]\n"
     ]
    }
   ],
   "source": [
    "import numpy as np \n",
    "\n",
    "arr1 = np.array([3.14159,2.71])\n",
    "array1 = np.around(arr1,2)\n",
    "print(array1)"
   ]
  },
  {
   "cell_type": "code",
   "execution_count": null,
   "metadata": {},
   "outputs": [],
   "source": []
  }
 ],
 "metadata": {
  "kernelspec": {
   "display_name": "Python 3",
   "language": "python",
   "name": "python3"
  },
  "language_info": {
   "codemirror_mode": {
    "name": "ipython",
    "version": 3
   },
   "file_extension": ".py",
   "mimetype": "text/x-python",
   "name": "python",
   "nbconvert_exporter": "python",
   "pygments_lexer": "ipython3",
   "version": "3.9.2"
  }
 },
 "nbformat": 4,
 "nbformat_minor": 2
}
