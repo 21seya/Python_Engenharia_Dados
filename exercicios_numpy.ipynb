{
 "cells": [
  {
   "cell_type": "code",
   "execution_count": 2,
   "metadata": {},
   "outputs": [
    {
     "name": "stdout",
     "output_type": "stream",
     "text": [
      "True <class 'numpy.bool_'>\n"
     ]
    }
   ],
   "source": [
    "import numpy as np \n",
    "boolean = np.bool_(True)\n",
    "print(boolean,type(boolean))"
   ]
  },
  {
   "cell_type": "code",
   "execution_count": 4,
   "metadata": {},
   "outputs": [
    {
     "name": "stdout",
     "output_type": "stream",
     "text": [
      "b'Este e um texto' <class 'numpy.bytes_'>\n"
     ]
    }
   ],
   "source": [
    "import numpy as np \n",
    "string= np.string_(\"Este e um texto\")\n",
    "print(string,type(string))"
   ]
  },
  {
   "cell_type": "code",
   "execution_count": 5,
   "metadata": {},
   "outputs": [
    {
     "name": "stdout",
     "output_type": "stream",
     "text": [
      "Este é um texto <class 'numpy.str_'>\n"
     ]
    }
   ],
   "source": [
    "import numpy as np \n",
    "string= np.unicode_(\"Este é um texto\")\n",
    "print(string,type(string))"
   ]
  },
  {
   "cell_type": "code",
   "execution_count": 6,
   "metadata": {},
   "outputs": [
    {
     "name": "stdout",
     "output_type": "stream",
     "text": [
      "-12 <class 'numpy.intc'>\n",
      "102 <class 'numpy.uintc'>\n",
      "89839399 <class 'numpy.int32'>\n",
      "345656 <class 'numpy.uint32'>\n"
     ]
    }
   ],
   "source": [
    "import numpy as np \n",
    "inteiro = np.intc(-12)\n",
    "uinteiro = np.uintc(102)\n",
    "long= np.int_(89839399)\n",
    "ulong = np.uint(345656)\n",
    "print(inteiro,type(inteiro))\n",
    "print(uinteiro,type(uinteiro))\n",
    "print(long,type(long))\n",
    "print(ulong,type(ulong))"
   ]
  },
  {
   "cell_type": "code",
   "execution_count": 1,
   "metadata": {},
   "outputs": [
    {
     "name": "stdout",
     "output_type": "stream",
     "text": [
      "1002.34 <class 'float'>\n",
      "3994.34 <class 'numpy.float32'>\n"
     ]
    },
    {
     "name": "stderr",
     "output_type": "stream",
     "text": [
      "C:\\Users\\walla\\AppData\\Local\\Temp\\ipykernel_56400\\247381712.py:2: DeprecationWarning: `np.float` is a deprecated alias for the builtin `float`. To silence this warning, use `float` by itself. Doing this will not modify any behavior and is safe. If you specifically wanted the numpy scalar type, use `np.float64` here.\n",
      "Deprecated in NumPy 1.20; for more details and guidance: https://numpy.org/devdocs/release/1.20.0-notes.html#deprecations\n",
      "  ponto_flutuante = np.float(1002.34)\n"
     ]
    }
   ],
   "source": [
    "import numpy as np \n",
    "ponto_flutuante = np.float(1002.34)\n",
    "\n",
    "ponto_flutuante_2 = np.float32(3994.34)\n",
    "print(ponto_flutuante,type(ponto_flutuante))\n",
    "print(ponto_flutuante_2,type(ponto_flutuante_2))"
   ]
  },
  {
   "cell_type": "code",
   "execution_count": 2,
   "metadata": {},
   "outputs": [
    {
     "name": "stdout",
     "output_type": "stream",
     "text": [
      "20 <class 'numpy.int8'>\n",
      "100 <class 'numpy.int16'>\n",
      "34 <class 'numpy.uint8'>\n",
      "344 <class 'numpy.uint16'>\n"
     ]
    }
   ],
   "source": [
    "import numpy as np \n",
    "int8 = np.int8(20)\n",
    "int16 = np.int16(100)\n",
    "uint8 = np.uint8(34)\n",
    "uint16 = np.uint16(344)\n",
    "print(int8,type(int8))\n",
    "print(int16,type(int16))\n",
    "print(uint8,type(uint8))\n",
    "print(uint16,type(uint16))\n"
   ]
  },
  {
   "cell_type": "code",
   "execution_count": 7,
   "metadata": {},
   "outputs": [
    {
     "name": "stdout",
     "output_type": "stream",
     "text": [
      "[1 2 3 4 5 6 7 8 9 0]\n",
      "<class 'numpy.ndarray'>\n",
      "int32\n"
     ]
    }
   ],
   "source": [
    "import numpy as np \n",
    "array = np.array([1,2,3,4,5,6,7,8,9,0])\n",
    "print(array)\n",
    "print(type(array))\n",
    "print(array.dtype)"
   ]
  },
  {
   "cell_type": "code",
   "execution_count": 8,
   "metadata": {},
   "outputs": [
    {
     "name": "stdout",
     "output_type": "stream",
     "text": [
      "[1 2 3 4 5 6 7 8 9 0]\n",
      "<class 'numpy.ndarray'>\n",
      "int8\n"
     ]
    }
   ],
   "source": [
    "import numpy as np \n",
    "array = np.array([1,2,3,4,5,6,7,8,9,0],dtype=np.int8)\n",
    "print(array)\n",
    "print(type(array))\n",
    "print(array.dtype)"
   ]
  },
  {
   "cell_type": "code",
   "execution_count": 9,
   "metadata": {},
   "outputs": [
    {
     "name": "stdout",
     "output_type": "stream",
     "text": [
      "[b'1' b'234' b'1']\n",
      "<class 'numpy.ndarray'>\n",
      "|S3\n"
     ]
    }
   ],
   "source": [
    "import numpy as np \n",
    "array = np.array([\"1\",\"234\",\"1\"],dtype=np.string_)\n",
    "print(array)\n",
    "print(type(array))\n",
    "print(array.dtype)"
   ]
  },
  {
   "cell_type": "code",
   "execution_count": 1,
   "metadata": {},
   "outputs": [
    {
     "name": "stdout",
     "output_type": "stream",
     "text": [
      "[<__main__.Pessoa object at 0x00000239C6105DC0>\n",
      " <__main__.Pessoa object at 0x00000239C6105E80>]\n",
      "<class 'numpy.ndarray'>\n",
      "object\n",
      "\n",
      "Wallace 26\n"
     ]
    }
   ],
   "source": [
    "import numpy as np\n",
    "class Pessoa:\n",
    "    def __init__(self,nome,idade):\n",
    "        self.nome = nome \n",
    "        self.idade = idade\n",
    "\n",
    "array = np.array([Pessoa(\"Wallace\",32),Pessoa(\"Maria\",26)])\n",
    "print(array)\n",
    "print(type(array))\n",
    "print(array.dtype,end=\"\\n\\n\")\n",
    "\n",
    "print(array[0].nome,array[1].idade)"
   ]
  },
  {
   "cell_type": "code",
   "execution_count": 2,
   "metadata": {},
   "outputs": [
    {
     "name": "stdout",
     "output_type": "stream",
     "text": [
      "[['Roger' '33']\n",
      " ['Ivan' '45']]\n"
     ]
    }
   ],
   "source": [
    "import numpy as np\n",
    "tipo_pessoa = np.dtype([('nome','S10'),('Idade','i4')])\n",
    "\n",
    "array = np.array([('Roger',33),('Ivan',45)])\n",
    "print(array)"
   ]
  },
  {
   "cell_type": "code",
   "execution_count": 1,
   "metadata": {},
   "outputs": [
    {
     "name": "stdout",
     "output_type": "stream",
     "text": [
      "[ 1  2  3 45  6  7  8  9  0]\n",
      "1\n",
      "9\n",
      "9\n",
      "(9,)\n",
      "int32\n",
      "4\n",
      "36\n"
     ]
    }
   ],
   "source": [
    "import numpy as np \n",
    "array = np.array([1,2,3,45,6,7,8,9,0])\n",
    "print(array)\n",
    "print(array.ndim)\n",
    "print(array.size)\n",
    "print(len(array))\n",
    "print(array.shape)\n",
    "print(array.dtype)\n",
    "print(array.itemsize)\n",
    "print(array.nbytes)\n"
   ]
  },
  {
   "cell_type": "code",
   "execution_count": 2,
   "metadata": {},
   "outputs": [
    {
     "name": "stdout",
     "output_type": "stream",
     "text": [
      "[0. 0. 0. 0. 0. 0. 0. 0. 0.]\n",
      "\n",
      "[1. 1. 1.]\n",
      "\n",
      "[1.e-323 0.e+000 0.e+000 0.e+000 0.e+000 0.e+000]\n",
      "\n",
      "[[1. 0. 0. 0.]\n",
      " [0. 1. 0. 0.]\n",
      " [0. 0. 1. 0.]\n",
      " [0. 0. 0. 1.]]\n",
      "\n"
     ]
    }
   ],
   "source": [
    "import numpy as np \n",
    "\n",
    "array1 = np.zeros(9)\n",
    "array2 = np.ones(3)\n",
    "array3 = np.empty(6)\n",
    "array4 = np.identity(4)\n",
    "\n",
    "print(array1,end='\\n\\n')\n",
    "print(array2,end='\\n\\n')\n",
    "print(array3,end='\\n\\n')\n",
    "print(array4,end='\\n\\n')\n"
   ]
  },
  {
   "cell_type": "code",
   "execution_count": 3,
   "metadata": {},
   "outputs": [
    {
     "name": "stdout",
     "output_type": "stream",
     "text": [
      "[0 1 2 3 4 5 6 7 8]\n",
      "[ 4  5  6  7  8  9 10 11 12 13 14 15]\n"
     ]
    }
   ],
   "source": [
    "import numpy as np \n",
    "\n",
    "array1 = np.arange(9)\n",
    "array2 = np.arange(4,16)\n",
    "print(array1)\n",
    "print(array2)"
   ]
  },
  {
   "cell_type": "code",
   "execution_count": 4,
   "metadata": {},
   "outputs": [
    {
     "name": "stdout",
     "output_type": "stream",
     "text": [
      "[[10 10 10 10]\n",
      " [10 10 10 10]\n",
      " [10 10 10 10]\n",
      " [10 10 10 10]]\n"
     ]
    }
   ],
   "source": [
    "import numpy as np \n",
    "array = np.full((4,4),10)\n",
    "print(array)"
   ]
  },
  {
   "cell_type": "code",
   "execution_count": 5,
   "metadata": {},
   "outputs": [
    {
     "name": "stdout",
     "output_type": "stream",
     "text": [
      "[[0.15075362 0.85225149 0.5056621  0.51582812]\n",
      " [0.96941267 0.80791725 0.17283248 0.9441176 ]\n",
      " [0.03689792 0.01438238 0.05775187 0.5971397 ]\n",
      " [0.46017742 0.66225486 0.26423557 0.24626125]]\n",
      "5\n"
     ]
    }
   ],
   "source": [
    "import numpy as np \n",
    "array_float = np.random.rand(4,4)\n",
    "array_int = np.random.randint(5,10)\n",
    "print(array_float)\n",
    "print(array_int)"
   ]
  },
  {
   "cell_type": "code",
   "execution_count": null,
   "metadata": {},
   "outputs": [
    {
     "name": "stdout",
     "output_type": "stream",
     "text": [
      "[0 1 2 3 4 5 6 7 8 9]\n"
     ]
    }
   ],
   "source": [
    "#List Comprehesion com numpy\n",
    "import numpy as np \n",
    "array = np.array([ i for i in range(0,10)])\n",
    "print(array)"
   ]
  },
  {
   "cell_type": "code",
   "execution_count": null,
   "metadata": {},
   "outputs": [
    {
     "name": "stdout",
     "output_type": "stream",
     "text": [
      "[[0 1 2]\n",
      " [3 4 5]\n",
      " [6 7 8]]\n"
     ]
    }
   ],
   "source": [
    "#List Comprehesion com numpy\n",
    "import numpy as np \n",
    "array = np.array([\n",
    "    [i for i in range(0,3)],\n",
    "    [i for i in range(3,6)],\n",
    "    [i for i in range(6,9)]],\n",
    ")\n",
    "print(array)"
   ]
  },
  {
   "cell_type": "code",
   "execution_count": 1,
   "metadata": {},
   "outputs": [
    {
     "data": {
      "text/plain": [
       "[0]"
      ]
     },
     "execution_count": 1,
     "metadata": {},
     "output_type": "execute_result"
    }
   ],
   "source": [
    "def aprender():\n",
    "    rows = []\n",
    "    for i in range(0,10):\n",
    "        rows.append(i)\n",
    "        return rows\n",
    "aprender()    "
   ]
  },
  {
   "cell_type": "code",
   "execution_count": 2,
   "metadata": {},
   "outputs": [
    {
     "name": "stdout",
     "output_type": "stream",
     "text": [
      "3\n"
     ]
    }
   ],
   "source": [
    "import numpy as np \n",
    "array = np.array([1,2,3,4,5,6,7,8,9,10])\n",
    "print(array[2])\n"
   ]
  },
  {
   "cell_type": "code",
   "execution_count": 5,
   "metadata": {},
   "outputs": [
    {
     "name": "stdout",
     "output_type": "stream",
     "text": [
      "[[1 2 3]\n",
      " [4 5 6]\n",
      " [7 8 9]]\n",
      "\n",
      "[7 8 9]\n",
      "9\n",
      "9\n",
      "[[4 5 6]\n",
      " [7 8 9]]\n"
     ]
    }
   ],
   "source": [
    "import numpy as np \n",
    "array = np.array([[1,2,3],[4,5,6],[7,8,9]])\n",
    "print(array,end='\\n\\n')\n",
    "\n",
    "print(array[2])\n",
    "print(array[2][2])\n",
    "print(array[2,2])\n",
    "print(array[1:3])"
   ]
  },
  {
   "cell_type": "code",
   "execution_count": 7,
   "metadata": {},
   "outputs": [
    {
     "name": "stdout",
     "output_type": "stream",
     "text": [
      "[[1 2 3 4]\n",
      " [5 6 7 8]]\n",
      "\n",
      "[5 6 7 8]\n",
      "[3 7]\n"
     ]
    }
   ],
   "source": [
    "import numpy as np \n",
    "array = np.array([[1,2,3,4],[5,6,7,8]])\n",
    "print(array,end='\\n\\n')\n",
    "print(array[1,:])\n",
    "print(array[:,2])"
   ]
  },
  {
   "cell_type": "code",
   "execution_count": 8,
   "metadata": {},
   "outputs": [
    {
     "name": "stdout",
     "output_type": "stream",
     "text": [
      "1\n",
      "2\n",
      "3\n",
      "4\n"
     ]
    }
   ],
   "source": [
    "import numpy as np \n",
    "array = np.array([1,2,3,4])\n",
    "for i in array:\n",
    "    print(i)"
   ]
  },
  {
   "cell_type": "code",
   "execution_count": 10,
   "metadata": {},
   "outputs": [
    {
     "name": "stdout",
     "output_type": "stream",
     "text": [
      "[1 2 3 4]\n",
      "[5 6 7 8]\n",
      "[1 2 3 4]\n",
      "[5 6 7 8]\n"
     ]
    }
   ],
   "source": [
    "import numpy as np \n",
    "array = np.array([[1,2,3,4],[5,6,7,8]])\n",
    "for i in array:\n",
    "    for j in array:\n",
    "        print(j)"
   ]
  },
  {
   "cell_type": "code",
   "execution_count": 12,
   "metadata": {},
   "outputs": [
    {
     "name": "stdout",
     "output_type": "stream",
     "text": [
      "[[1 2 3 4]\n",
      " [5 6 7 8]]\n",
      "1\n",
      "5\n",
      "2\n",
      "6\n",
      "3\n",
      "7\n",
      "4\n",
      "8\n"
     ]
    }
   ],
   "source": [
    "import numpy as np \n",
    "array = np.array([[1,2,3,4],[5,6,7,8]])\n",
    "print(array)\n",
    "\n",
    "for x in np.nditer(array,order='F'):\n",
    "    print(x)"
   ]
  },
  {
   "cell_type": "code",
   "execution_count": 15,
   "metadata": {},
   "outputs": [
    {
     "name": "stdout",
     "output_type": "stream",
     "text": [
      "[[1 2 3]\n",
      " [4 5 6]\n",
      " [7 8 9]]\n",
      "[[1 2 4]\n",
      " [4 0 0]\n",
      " [7 8 9]]\n"
     ]
    }
   ],
   "source": [
    "import numpy as np \n",
    "array = np.array([[1,2,3],[4,5,6],[7,8,9]])\n",
    "print(array)\n",
    "array[0] = [1,2,4]\n",
    "array[1,1:3] = [0,0]\n",
    "print(array)"
   ]
  },
  {
   "cell_type": "code",
   "execution_count": 17,
   "metadata": {},
   "outputs": [
    {
     "name": "stdout",
     "output_type": "stream",
     "text": [
      "[[1 2 3]\n",
      " [4 5 6]\n",
      " [7 8 9]]\n",
      "[[1 2 4]\n",
      " [4 5 6]\n",
      " [7 8 9]]\n"
     ]
    }
   ],
   "source": [
    "import numpy as np \n",
    "array = np.array([[1,2,3],[4,5,6],[7,8,9]])\n",
    "print(array)\n",
    "array[0] = [1,2,4]\n",
    "print(array)"
   ]
  },
  {
   "cell_type": "code",
   "execution_count": 4,
   "metadata": {},
   "outputs": [
    {
     "name": "stdout",
     "output_type": "stream",
     "text": [
      "[[1 2 3]\n",
      " [4 5 6]\n",
      " [7 8 9]]\n",
      "[[1 2 4]\n",
      " [4 5 6]\n",
      " [7 8 9]]\n",
      "[[1 2 4]\n",
      " [4 0 0]\n",
      " [7 8 9]]\n",
      "[[10  2  4]\n",
      " [ 4  0  0]\n",
      " [ 7  8  9]]\n"
     ]
    }
   ],
   "source": [
    "import numpy as np \n",
    "array = np.array([[1,2,3],[4,5,6],[7,8,9]])\n",
    "print(array)\n",
    "array[0] = [1,2,4]\n",
    "print(array)\n",
    "array[1,1:3] = [0,0]\n",
    "print(array)\n",
    "array[0,0] = 10\n",
    "print(array)"
   ]
  },
  {
   "cell_type": "code",
   "execution_count": 6,
   "metadata": {},
   "outputs": [
    {
     "name": "stdout",
     "output_type": "stream",
     "text": [
      "[[1 2 3]\n",
      " [4 5 6]\n",
      " [7 8 9]]\n",
      "[[1 2 0]\n",
      " [4 5 0]\n",
      " [7 8 0]]\n"
     ]
    }
   ],
   "source": [
    "import numpy as np \n",
    "array = np.array([[1,2,3],[4,5,6],[7,8,9]])\n",
    "print(array)\n",
    "array[:,2] = [0,0,0]\n",
    "print(array)"
   ]
  },
  {
   "cell_type": "code",
   "execution_count": 7,
   "metadata": {},
   "outputs": [
    {
     "name": "stdout",
     "output_type": "stream",
     "text": [
      "[1 2 3 4 5 6 7 8 9]\n"
     ]
    }
   ],
   "source": [
    "import numpy as np \n",
    "array = np.array([1,2,3,4])\n",
    "array2 = np.append(array,[5,6,7,8,9])\n",
    "print(array2)"
   ]
  },
  {
   "cell_type": "code",
   "execution_count": 8,
   "metadata": {},
   "outputs": [
    {
     "name": "stdout",
     "output_type": "stream",
     "text": [
      "[[1 2 3]\n",
      " [4 5 6]\n",
      " [7 8 9]]\n",
      "\n",
      "[1 2 3 4 5 6 7 8 9 5 6 7 8 9]\n"
     ]
    }
   ],
   "source": [
    "import numpy as np \n",
    "array = np.array([[1,2,3],[4,5,6],[7,8,9]])\n",
    "print(array,end='\\n\\n')\n",
    "array2 = np.append(array,[5,6,7,8,9])\n",
    "print(array2)"
   ]
  },
  {
   "cell_type": "code",
   "execution_count": 9,
   "metadata": {},
   "outputs": [
    {
     "name": "stdout",
     "output_type": "stream",
     "text": [
      "[[1 2 3]\n",
      " [4 5 6]\n",
      " [7 8 9]]\n",
      "\n",
      "[[ 1  2  3]\n",
      " [ 4  5  6]\n",
      " [ 7  8  9]\n",
      " [10 11 12]]\n"
     ]
    }
   ],
   "source": [
    "import numpy as np \n",
    "array = np.array([[1,2,3],[4,5,6],[7,8,9]])\n",
    "print(array,end='\\n\\n')\n",
    "array2 = np.append(array,[[10,11,12]],axis=0)\n",
    "print(array2)"
   ]
  },
  {
   "cell_type": "code",
   "execution_count": 10,
   "metadata": {},
   "outputs": [
    {
     "name": "stdout",
     "output_type": "stream",
     "text": [
      "[ 1 10  2  3]\n"
     ]
    }
   ],
   "source": [
    "import numpy as np \n",
    "array = np.array([1,2,3])\n",
    "array2 = np.insert(array,1,10)\n",
    "print(array2) "
   ]
  },
  {
   "cell_type": "code",
   "execution_count": 12,
   "metadata": {},
   "outputs": [
    {
     "name": "stdout",
     "output_type": "stream",
     "text": [
      "[[1 2 3]\n",
      " [3 3 3]\n",
      " [4 5 6]\n",
      " [7 8 9]]\n"
     ]
    }
   ],
   "source": [
    "import numpy as np \n",
    "array = np.array([[1,2,3],[4,5,6],[7,8,9]])\n",
    "array1 = np.insert(array,1,[3,3,3],axis=0)\n",
    "print(array1)"
   ]
  },
  {
   "cell_type": "code",
   "execution_count": 13,
   "metadata": {},
   "outputs": [
    {
     "name": "stdout",
     "output_type": "stream",
     "text": [
      "[[1 2 3]\n",
      " [7 8 9]]\n"
     ]
    }
   ],
   "source": [
    "import numpy as np \n",
    "array = np.array([[1,2,3],[4,5,6],[7,8,9]])\n",
    "array1 = np.delete(array,1,axis=0)\n",
    "print(array1)"
   ]
  },
  {
   "cell_type": "code",
   "execution_count": 1,
   "metadata": {},
   "outputs": [
    {
     "name": "stdout",
     "output_type": "stream",
     "text": [
      "[0 2 3]\n"
     ]
    }
   ],
   "source": [
    "import numpy as np \n",
    "array = np.array([1,2,3])\n",
    "copy_array = array\n",
    "copy_array[0] = 0\n",
    "print(array)"
   ]
  },
  {
   "cell_type": "code",
   "execution_count": 2,
   "metadata": {},
   "outputs": [
    {
     "name": "stdout",
     "output_type": "stream",
     "text": [
      "[1 2 3]\n"
     ]
    }
   ],
   "source": [
    "import numpy as np \n",
    "array = np.array([1,2,3])\n",
    "copy_array = array.copy()\n",
    "copy_array[0] = 0\n",
    "print(array)"
   ]
  },
  {
   "cell_type": "code",
   "execution_count": 3,
   "metadata": {},
   "outputs": [
    {
     "data": {
      "text/plain": [
       "'ola'"
      ]
     },
     "execution_count": 3,
     "metadata": {},
     "output_type": "execute_result"
    }
   ],
   "source": [
    "def aprender(dados:str) -> str:\n",
    "    return str(dados) \n",
    "\n",
    "aprender('ola') "
   ]
  }
 ],
 "metadata": {
  "kernelspec": {
   "display_name": "Python 3",
   "language": "python",
   "name": "python3"
  },
  "language_info": {
   "codemirror_mode": {
    "name": "ipython",
    "version": 3
   },
   "file_extension": ".py",
   "mimetype": "text/x-python",
   "name": "python",
   "nbconvert_exporter": "python",
   "pygments_lexer": "ipython3",
   "version": "3.9.2"
  }
 },
 "nbformat": 4,
 "nbformat_minor": 2
}
