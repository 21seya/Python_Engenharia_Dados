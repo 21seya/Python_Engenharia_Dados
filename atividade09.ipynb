{
 "cells": [
  {
   "cell_type": "code",
   "execution_count": null,
   "metadata": {},
   "outputs": [
    {
     "ename": "",
     "evalue": "",
     "output_type": "error",
     "traceback": [
      "\u001b[1;31mFailed to start the Kernel. \n",
      "\u001b[1;31mUnable to start Kernel 'Python 3.9.2' due to a timeout waiting for the ports to get used. \n",
      "\u001b[1;31mView Jupyter <a href='command:jupyter.viewOutput'>log</a> for further details."
     ]
    }
   ],
   "source": [
    "#1 -Crie uma única string que contem seu nome e sobrenome \n",
    "#em seguida use o slicing para separar o nome em uma variável e o sobrenome em outra. \n",
    "#Printe esses valores"
   ]
  },
  {
   "cell_type": "code",
   "execution_count": 3,
   "metadata": {},
   "outputs": [
    {
     "name": "stdout",
     "output_type": "stream",
     "text": [
      "Nome :  Antonio\n",
      "Sobrenome : da Silva Santos\n"
     ]
    }
   ],
   "source": [
    "nome_completo = \"Antonio da Silva Santos\"\n",
    "nome = nome_completo[:7]\n",
    "sobrenome = nome_completo[8:]\n",
    "print(\"Nome : \", nome)\n",
    "print(\"Sobrenome :\" ,sobrenome)"
   ]
  },
  {
   "cell_type": "code",
   "execution_count": null,
   "metadata": {},
   "outputs": [],
   "source": [
    "#2 Leia uma string atraves do input e retire o último caractere \n"
   ]
  },
  {
   "cell_type": "code",
   "execution_count": 1,
   "metadata": {},
   "outputs": [
    {
     "name": "stdout",
     "output_type": "stream",
     "text": [
      "ola mund\n"
     ]
    }
   ],
   "source": [
    "string = input(\"Digite um texto qualqur :\")\n",
    "string = string[:-1]\n",
    "print(string)"
   ]
  },
  {
   "cell_type": "code",
   "execution_count": null,
   "metadata": {},
   "outputs": [],
   "source": [
    "#3 - Faça um programa que leia uma string atraves do input \n",
    "# e diga se ela possui vogal"
   ]
  },
  {
   "cell_type": "code",
   "execution_count": 2,
   "metadata": {},
   "outputs": [
    {
     "name": "stdout",
     "output_type": "stream",
     "text": [
      "Possuio vogal : True\n"
     ]
    }
   ],
   "source": [
    "texto = input(\"Digite uma palavra: \")\n",
    "possui_vogal = (\"a\" in texto) or (\" e\" in texto) or (\"i\" in texto) or (\"o\" in texto) or (\"u\" in texto)\n",
    "print(\"Possuio vogal :\",possui_vogal)"
   ]
  },
  {
   "cell_type": "code",
   "execution_count": null,
   "metadata": {},
   "outputs": [],
   "source": [
    "#4 - Faça um programa que insira a palavra 'ABC' na primeira posição \n",
    "# de string lida por input "
   ]
  },
  {
   "cell_type": "code",
   "execution_count": 3,
   "metadata": {},
   "outputs": [
    {
     "name": "stdout",
     "output_type": "stream",
     "text": [
      "ABCPython\n"
     ]
    }
   ],
   "source": [
    "texto =input(\"Digite uma palavra :\")\n",
    "texto = \"ABC \" + texto[0:]\n",
    "print(texto)"
   ]
  }
 ],
 "metadata": {
  "kernelspec": {
   "display_name": "Python 3",
   "language": "python",
   "name": "python3"
  },
  "language_info": {
   "codemirror_mode": {
    "name": "ipython",
    "version": 3
   },
   "file_extension": ".py",
   "mimetype": "text/x-python",
   "name": "python",
   "nbconvert_exporter": "python",
   "pygments_lexer": "ipython3",
   "version": "3.9.2"
  }
 },
 "nbformat": 4,
 "nbformat_minor": 2
}
