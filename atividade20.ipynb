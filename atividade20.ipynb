{
 "cells": [
  {
   "cell_type": "markdown",
   "metadata": {},
   "source": [
    "# 1 - Faça uma expressão regular para reconhecer números de 20 até 35 apenas. O texto \n",
    "# deve ser composto apenas destes números , nenhum outro número ou outro caractere é permitido."
   ]
  },
  {
   "cell_type": "code",
   "execution_count": 7,
   "metadata": {},
   "outputs": [
    {
     "name": "stdout",
     "output_type": "stream",
     "text": [
      "Encontrada ocorrência em  (0, 2)\n",
      "Número encontrado 25\n"
     ]
    }
   ],
   "source": [
    "import re \n",
    "texto = '25'\n",
    "info = re.search(\"^([2][0-9])|([3][0-5])$\",texto)\n",
    "if info != None:\n",
    "    print(\"Encontrada ocorrência em \",info.span())\n",
    "    print(\"Número encontrado\",info.group())\n",
    "else:\n",
    "    print(\"Valor invalido\")    "
   ]
  },
  {
   "cell_type": "markdown",
   "metadata": {},
   "source": [
    "# 2 - Faça uma expressão regular para dizer se a palavra 'Python' esta na frase. "
   ]
  },
  {
   "cell_type": "code",
   "execution_count": 8,
   "metadata": {},
   "outputs": [
    {
     "name": "stdout",
     "output_type": "stream",
     "text": [
      "Encontrada ocorrência em  (22, 28)\n",
      "Número encontrado Python\n"
     ]
    }
   ],
   "source": [
    "import re \n",
    "texto = 'este notebook utiliza Python'\n",
    "info = re.search(\"Python\",texto)\n",
    "if info != None:\n",
    "    print(\"Encontrada ocorrência em \",info.span())\n",
    "    print(\"Número encontrado\",info.group())\n",
    "else:\n",
    "    print(\"Valor invalido\")    "
   ]
  },
  {
   "cell_type": "markdown",
   "metadata": {},
   "source": [
    "# 3 - Faça uma expressão regular para validar se uma string dada é um dia da semana. As possibilidades \n",
    "# São : Segunda-Feira, Terça-Feira , Quarta-Feira,Quinta-Feira,Sexta-Feira,Sábado , Domingo."
   ]
  },
  {
   "cell_type": "code",
   "execution_count": 10,
   "metadata": {},
   "outputs": [
    {
     "name": "stdout",
     "output_type": "stream",
     "text": [
      "Encontrada ocorrência em  (0, 13)\n",
      "Número encontrado Segunda-Feira\n"
     ]
    }
   ],
   "source": [
    "import re \n",
    "texto = 'Segunda-Feira'\n",
    "info = re.search(\"^(Segunda-Feira|Terça-Feira|Quarta-Feira|Quinta-Feira|Sexta-Feira|Sábado|Domingo)$\",texto)\n",
    "if info != None:\n",
    "    print(\"Encontrada ocorrência em \",info.span())\n",
    "    print(\"Número encontrado\",info.group())\n",
    "else:\n",
    "    print(\"Valor invalido\")    "
   ]
  },
  {
   "cell_type": "markdown",
   "metadata": {},
   "source": [
    "# 4 - Faça uma expressão regular para detectar telefones que começam com 95. Telefones que começam com 95 \n",
    "# devem ser bloqueados. Um número de telefone deve ser válido para poder ser validado , na forma xxxxxxxx \n",
    "# onde X é um número . Primeiro diga se é um número válido. Caso seja diga se ele foi bloqueado ou não. "
   ]
  },
  {
   "cell_type": "code",
   "execution_count": 11,
   "metadata": {},
   "outputs": [
    {
     "name": "stdout",
     "output_type": "stream",
     "text": [
      "Telefone não bloqueado\n"
     ]
    }
   ],
   "source": [
    "import re \n",
    "texto = '956464787'\n",
    "info = re.search(\"^([0-9]{8})$\",texto)\n",
    "if info != None:\n",
    "    print(\"Número Invalido\")\n",
    "    info2 = re.search(\"^95([0-9]{6})$\")\n",
    "    if info2 != None:\n",
    "        print(\"Telefone bloqueado\")\n",
    "else:\n",
    "    print(\"Telefone não bloqueado\")    "
   ]
  },
  {
   "cell_type": "markdown",
   "metadata": {},
   "source": [
    "# 5- Faça uma expressão regular para reconhecer palavras no gerúndio.Normalmente essas palavras \n",
    "# podem ser detectadas caso elas terminam com ando , endo,indo: exemplos - sorrindo, andando, usa a função \n",
    "# \"find all\" para retornar as ocorrências"
   ]
  },
  {
   "cell_type": "code",
   "execution_count": 13,
   "metadata": {},
   "outputs": [
    {
     "name": "stdout",
     "output_type": "stream",
     "text": [
      "['dormindo', 'sorrindo']\n"
     ]
    }
   ],
   "source": [
    "import re \n",
    "texto = \"Olá ,eu estou dormindo , e não sorrindo\"\n",
    "info = re.findall(\"([\\w]+indo|ando|endo)+\",texto)\n",
    "print(info)"
   ]
  },
  {
   "cell_type": "markdown",
   "metadata": {},
   "source": [
    "# 6 - Faça expressão regular para detectar se a hora é valida. O formato é de 24 horas , é especificdo \n",
    "# da seguinte forma HH:MM\n",
    "# ex : 19:30 , 09:30 23:45 , 23:70 (invalido)"
   ]
  },
  {
   "cell_type": "code",
   "execution_count": 14,
   "metadata": {},
   "outputs": [
    {
     "name": "stdout",
     "output_type": "stream",
     "text": [
      "Horário válido\n"
     ]
    }
   ],
   "source": [
    "import re \n",
    "texto = \"00:50\"\n",
    "info = re.search(\"^([0-1][0-9]|[2][0-3]):[0-5][0-9]$\",texto)\n",
    "\n",
    "if info != None:\n",
    "    print(\"Horário válido\")\n",
    "else:\n",
    "    print(\"Horário Invalido\")    \n"
   ]
  },
  {
   "cell_type": "markdown",
   "metadata": {},
   "source": [
    "# 7 - (DESAFIO) Faça uma expressão regular para validar se uma expressão é uma conta matemática valida. \n",
    "# Nessa conta matemática só podem haver 2 números inteiros sendo somados ou subtraídos entre si. \n",
    "# Se é uma expressão matemática ou não."
   ]
  },
  {
   "cell_type": "code",
   "execution_count": 16,
   "metadata": {},
   "outputs": [
    {
     "name": "stdout",
     "output_type": "stream",
     "text": [
      "Expressão válida\n"
     ]
    }
   ],
   "source": [
    "import re \n",
    "texto = '310 + 4453'\n",
    "info = re.search('^ *(\\d+ *(-|\\+) *\\d+) *$',texto)\n",
    "if info != None:\n",
    "    print(\"Expressão válida\")\n",
    "else:\n",
    "    print(\"Expressão invalida\")\n"
   ]
  }
 ],
 "metadata": {
  "kernelspec": {
   "display_name": "Python 3",
   "language": "python",
   "name": "python3"
  },
  "language_info": {
   "codemirror_mode": {
    "name": "ipython",
    "version": 3
   },
   "file_extension": ".py",
   "mimetype": "text/x-python",
   "name": "python",
   "nbconvert_exporter": "python",
   "pygments_lexer": "ipython3",
   "version": "3.9.2"
  }
 },
 "nbformat": 4,
 "nbformat_minor": 2
}
