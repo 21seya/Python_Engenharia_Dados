{
 "cells": [
  {
   "cell_type": "code",
   "execution_count": 21,
   "id": "80ee6a13",
   "metadata": {},
   "outputs": [],
   "source": [
    "import pytest \n",
    "from primo import primo \n",
    "\n",
    "@pytest.mark.parametrize(\"num,res\",[(2,True),(6,False),(13,True),(-1,False)])\n",
    "def test_primo(num,res):\n",
    "    assert primo(num) == res\n"
   ]
  },
  {
   "cell_type": "code",
   "execution_count": 27,
   "id": "4c0d2053",
   "metadata": {},
   "outputs": [
    {
     "name": "stdout",
     "output_type": "stream",
     "text": [
      "\u001b[1m============================= test session starts =============================\u001b[0m\n",
      "platform win32 -- Python 3.9.2, pytest-8.3.5, pluggy-1.5.0 -- C:\\Users\\walla\\AppData\\Local\\Programs\\Python\\Python39\\python.exe\n",
      "cachedir: .pytest_cache\n",
      "rootdir: c:\\Users\\walla\\OneDrive\\Documentos\\Python_Data_Engineer_new\n",
      "plugins: dash-2.17.1\n",
      "\u001b[1mcollecting ... \u001b[0mcollected 2 items\n",
      "\n",
      "test_1.py::test_par \u001b[32mPASSED\u001b[0m\u001b[33m                                               [ 50%]\u001b[0m\n",
      "test_1.py::test_impar \u001b[32mPASSED\u001b[0m\u001b[33m                                             [100%]\u001b[0m\n",
      "\n",
      "\u001b[33m============================== warnings summary ===============================\u001b[0m\n",
      "test_1.py:3\n",
      "  c:\\Users\\walla\\OneDrive\\Documentos\\Python_Data_Engineer_new\\test_1.py:3: PytestUnknownMarkWarning: Unknown pytest.mark.primarios - is this a typo?  You can register custom marks to avoid this warning - for details, see https://docs.pytest.org/en/stable/how-to/mark.html\n",
      "    @pytest.mark.primarios\n",
      "\n",
      "-- Docs: https://docs.pytest.org/en/stable/how-to/capture-warnings.html\n",
      "\u001b[33m======================== \u001b[32m2 passed\u001b[0m, \u001b[33m\u001b[1m1 warning\u001b[0m\u001b[33m in 0.05s\u001b[0m\u001b[33m =========================\u001b[0m\n"
     ]
    }
   ],
   "source": [
    "! pytest -v"
   ]
  }
 ],
 "metadata": {
  "kernelspec": {
   "display_name": "Python 3",
   "language": "python",
   "name": "python3"
  },
  "language_info": {
   "codemirror_mode": {
    "name": "ipython",
    "version": 3
   },
   "file_extension": ".py",
   "mimetype": "text/x-python",
   "name": "python",
   "nbconvert_exporter": "python",
   "pygments_lexer": "ipython3",
   "version": "3.9.2"
  }
 },
 "nbformat": 4,
 "nbformat_minor": 5
}
