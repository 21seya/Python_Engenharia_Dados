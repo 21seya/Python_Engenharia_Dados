{
 "cells": [
  {
   "cell_type": "markdown",
   "metadata": {},
   "source": [
    "#Crie uma função \"e_negativo\" que receba um número , retorna um booleano \n",
    "# \"True\" se o número for negativo , caso contrario retorna \"False\""
   ]
  },
  {
   "cell_type": "code",
   "execution_count": 1,
   "metadata": {},
   "outputs": [
    {
     "name": "stdout",
     "output_type": "stream",
     "text": [
      "False\n",
      "True\n"
     ]
    }
   ],
   "source": [
    "def e_negativo(num):\n",
    "    return num < 0\n",
    "\n",
    "print(e_negativo(1))\n",
    "print(e_negativo(-2))"
   ]
  },
  {
   "cell_type": "markdown",
   "metadata": {},
   "source": [
    "# 2- Crie uma função que receba um array de números (int ou floar) e retorne a sua soma"
   ]
  },
  {
   "cell_type": "code",
   "execution_count": 3,
   "metadata": {},
   "outputs": [
    {
     "name": "stdout",
     "output_type": "stream",
     "text": [
      "170\n"
     ]
    }
   ],
   "source": [
    "def soma_array(arr):\n",
    "    soma = 0\n",
    "    for i in arr:\n",
    "        soma += i \n",
    "    return soma \n",
    "\n",
    "print(soma_array([10,30,20,50,60]))    "
   ]
  },
  {
   "cell_type": "markdown",
   "metadata": {},
   "source": [
    "# 3- Crie uma função que receba uma string e que conte e retorne o número de vogais desta string."
   ]
  },
  {
   "cell_type": "code",
   "execution_count": 4,
   "metadata": {},
   "outputs": [
    {
     "name": "stdout",
     "output_type": "stream",
     "text": [
      "1\n"
     ]
    }
   ],
   "source": [
    "def conta_vogais(texto):\n",
    "    vogais = 0 \n",
    "    arr_vogais = ('a','e','i','o','u')\n",
    "    for i in texto:\n",
    "        if i in arr_vogais:\n",
    "            vogais += 1 \n",
    "    return vogais\n",
    "\n",
    "print(conta_vogais(\"Python\"))    "
   ]
  },
  {
   "cell_type": "markdown",
   "metadata": {},
   "source": [
    "# 4- Crie uma função que retorne o último caractere de uma string recebida. "
   ]
  },
  {
   "cell_type": "code",
   "execution_count": 5,
   "metadata": {},
   "outputs": [
    {
     "name": "stdout",
     "output_type": "stream",
     "text": [
      "n\n"
     ]
    }
   ],
   "source": [
    "def pega_ultimo(texto):\n",
    "    return texto[len(texto) - 1]\n",
    "\n",
    "print(pega_ultimo(\"Python\"))"
   ]
  },
  {
   "cell_type": "markdown",
   "metadata": {},
   "source": [
    "# 5- Crie uma função que receba dois números e uma string dizendo se deve relizar a soma ou subtração dos números."
   ]
  },
  {
   "cell_type": "code",
   "execution_count": 8,
   "metadata": {},
   "outputs": [
    {
     "name": "stdout",
     "output_type": "stream",
     "text": [
      "6\n"
     ]
    }
   ],
   "source": [
    "def calcula(num1,num2,op):\n",
    "    if (op==\"+\"):\n",
    "        return num1+ num2\n",
    "    else:\n",
    "        return num1 - num2\n",
    "    \n",
    "print(calcula(1,5,\"+\"))    "
   ]
  },
  {
   "cell_type": "markdown",
   "metadata": {},
   "source": [
    "# 6 - Crie uma função que receba uma lista de elementos e um valor qualquer. Em seguida \n",
    "# retorne um booleano dizendo se o valor foi encontrado ou não da lista"
   ]
  },
  {
   "cell_type": "code",
   "execution_count": null,
   "metadata": {},
   "outputs": [],
   "source": []
  },
  {
   "cell_type": "markdown",
   "metadata": {},
   "source": [
    "# 7 - Crie uma função que receba uma lista de elementos e um valor qualquer . Em seguida \n",
    "# retorne um booleano dizendo se o valor foi encontrado ou não e também a posição onde foi encontrado."
   ]
  },
  {
   "cell_type": "code",
   "execution_count": null,
   "metadata": {},
   "outputs": [],
   "source": []
  },
  {
   "cell_type": "markdown",
   "metadata": {},
   "source": [
    "# 8 - Crie uma função que recebe um número arbitro de parâmetros . Em seguida diga qual \n",
    "# o tipo de cada parâmetro "
   ]
  },
  {
   "cell_type": "code",
   "execution_count": null,
   "metadata": {},
   "outputs": [],
   "source": []
  },
  {
   "cell_type": "markdown",
   "metadata": {},
   "source": [
    "# 9 - Crie uma função que receba um string , mas que possua um decorator para transforma=lo \n",
    "# em uma citação  ou seja você deve retornar strings entre aspas duplas , além disso transforme \n",
    "# todos os caracteres para minúscula usando a função lower()"
   ]
  },
  {
   "cell_type": "code",
   "execution_count": null,
   "metadata": {},
   "outputs": [],
   "source": []
  },
  {
   "cell_type": "markdown",
   "metadata": {},
   "source": [
    "# 10 - Cria uma função recursiva que itere os números de 0 até 10 e printe o resultado \n",
    "# de sua divisão inteira com o número três "
   ]
  },
  {
   "cell_type": "code",
   "execution_count": null,
   "metadata": {},
   "outputs": [],
   "source": []
  }
 ],
 "metadata": {
  "kernelspec": {
   "display_name": "Python 3",
   "language": "python",
   "name": "python3"
  },
  "language_info": {
   "codemirror_mode": {
    "name": "ipython",
    "version": 3
   },
   "file_extension": ".py",
   "mimetype": "text/x-python",
   "name": "python",
   "nbconvert_exporter": "python",
   "pygments_lexer": "ipython3",
   "version": "3.9.2"
  }
 },
 "nbformat": 4,
 "nbformat_minor": 2
}
