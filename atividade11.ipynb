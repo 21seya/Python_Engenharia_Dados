{
 "cells": [
  {
   "cell_type": "code",
   "execution_count": null,
   "metadata": {},
   "outputs": [],
   "source": [
    "#1 - Crie um programa que receba uma string por input e conte quantos caracteres \n",
    "#ela tem , não leve em conta caracteres de espaços. Você não deve usar o len() "
   ]
  },
  {
   "cell_type": "code",
   "execution_count": 1,
   "metadata": {},
   "outputs": [
    {
     "name": "stdout",
     "output_type": "stream",
     "text": [
      "Tem 7 caracteres no texto: \n"
     ]
    }
   ],
   "source": [
    "texto = input(\"Digite um texto: \")\n",
    "num_caracteres = 0 \n",
    "\n",
    "for letra in texto:\n",
    "    if (letra != \" \"):\n",
    "        num_caracteres += 1\n",
    "        \n",
    "print(\"Tem %d caracteres no texto: \" %(num_caracteres))        "
   ]
  },
  {
   "cell_type": "code",
   "execution_count": null,
   "metadata": {},
   "outputs": [],
   "source": [
    "#2 - Crie um programa que faça calculo do fatorial de um número. O fatorial \n",
    "# a ser calculado deve ser recebido por input"
   ]
  },
  {
   "cell_type": "code",
   "execution_count": 4,
   "metadata": {},
   "outputs": [
    {
     "name": "stdout",
     "output_type": "stream",
     "text": [
      "O fatorial de 10 e 3628800 \n"
     ]
    }
   ],
   "source": [
    "fatorial_str = input(\"Digite o fatorial desejado: \")\n",
    "fatorial_num = int(fatorial_str)\n",
    "resultado = 1 \n",
    "\n",
    "for i in range(1,fatorial_num+1):\n",
    "    resultado *= i\n",
    "\n",
    "print(\"O fatorial de %d e %d \" % (fatorial_num,resultado))"
   ]
  },
  {
   "cell_type": "code",
   "execution_count": null,
   "metadata": {},
   "outputs": [],
   "source": [
    "# 3 - Crie um programa que leia uma quantidade arbitraria de textos \n",
    "# e concatene eles numa string única."
   ]
  },
  {
   "cell_type": "code",
   "execution_count": 9,
   "metadata": {},
   "outputs": [
    {
     "name": "stdout",
     "output_type": "stream",
     "text": [
      "Texto completo:   ola mundo\n"
     ]
    }
   ],
   "source": [
    "numero_leituras = int(input(\"Digite o número de textos serão lidos:\"))\n",
    "texto_total = \" \"\n",
    "for i in range(numero_leituras):\n",
    "    texto_total += input(\"Digite o texto : \")\n",
    "\n",
    "print(\"Texto completo: \", texto_total)"
   ]
  },
  {
   "cell_type": "code",
   "execution_count": null,
   "metadata": {},
   "outputs": [],
   "source": [
    "# 4- Crie um programa que printe a tabuada da divisão de um número lido \n",
    "# por input "
   ]
  },
  {
   "cell_type": "code",
   "execution_count": 10,
   "metadata": {},
   "outputs": [
    {
     "name": "stdout",
     "output_type": "stream",
     "text": [
      "1 / 5 = 0.200000 \n",
      "2 / 5 = 0.400000 \n",
      "3 / 5 = 0.600000 \n",
      "4 / 5 = 0.800000 \n",
      "5 / 5 = 1.000000 \n",
      "6 / 5 = 1.200000 \n",
      "7 / 5 = 1.400000 \n",
      "8 / 5 = 1.600000 \n",
      "9 / 5 = 1.800000 \n",
      "10 / 5 = 2.000000 \n"
     ]
    }
   ],
   "source": [
    "numero = int(input(\"Digite a tabuada de divisão desejada: \"))\n",
    "for num in range(1,11):\n",
    "    print(\"%d / %d = %f \" %(num,numero , num/ numero))"
   ]
  },
  {
   "cell_type": "code",
   "execution_count": null,
   "metadata": {},
   "outputs": [],
   "source": [
    "# 5 - Crie um programa que percorra os números de 3 até 30 e diga o número é primo ou não "
   ]
  },
  {
   "cell_type": "code",
   "execution_count": 13,
   "metadata": {},
   "outputs": [
    {
     "name": "stdout",
     "output_type": "stream",
     "text": [
      "O numero 3 é primo \n",
      "O numero 4 não é primo \n",
      "O numero 5 é primo \n",
      "O numero 6 não é primo \n",
      "O numero 7 é primo \n",
      "O numero 8 não é primo \n",
      "O numero 9 não é primo \n",
      "O numero 10 não é primo \n",
      "O numero 11 é primo \n",
      "O numero 12 não é primo \n",
      "O numero 13 é primo \n",
      "O numero 14 não é primo \n",
      "O numero 15 não é primo \n",
      "O numero 16 não é primo \n",
      "O numero 17 é primo \n",
      "O numero 18 não é primo \n",
      "O numero 19 é primo \n",
      "O numero 20 não é primo \n",
      "O numero 21 não é primo \n",
      "O numero 22 não é primo \n",
      "O numero 23 é primo \n",
      "O numero 24 não é primo \n",
      "O numero 25 não é primo \n",
      "O numero 26 não é primo \n",
      "O numero 27 não é primo \n",
      "O numero 28 não é primo \n",
      "O numero 29 é primo \n",
      "O numero 30 não é primo \n"
     ]
    }
   ],
   "source": [
    "for numero in range(3,31):\n",
    "    e_primo = True \n",
    "\n",
    "    for num_teste in range(2,numero):\n",
    "        if (numero % num_teste ==0):\n",
    "            e_primo = False\n",
    "            break\n",
    "\n",
    "    if(e_primo):\n",
    "        print(\"O numero %d é primo \" %(numero))\n",
    "    else:\n",
    "        print(\"O numero %d não é primo \" %(numero))\n"
   ]
  }
 ],
 "metadata": {
  "kernelspec": {
   "display_name": "Python 3",
   "language": "python",
   "name": "python3"
  },
  "language_info": {
   "codemirror_mode": {
    "name": "ipython",
    "version": 3
   },
   "file_extension": ".py",
   "mimetype": "text/x-python",
   "name": "python",
   "nbconvert_exporter": "python",
   "pygments_lexer": "ipython3",
   "version": "3.9.2"
  }
 },
 "nbformat": 4,
 "nbformat_minor": 2
}
