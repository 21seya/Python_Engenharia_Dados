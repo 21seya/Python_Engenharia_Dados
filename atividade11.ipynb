{
 "cells": [
  {
   "cell_type": "code",
   "execution_count": null,
   "metadata": {},
   "outputs": [],
   "source": [
    "#1 - Crie um programa que receba uma string por input e conte quantos caracteres \n",
    "#ela tem , não leve em conta caracteres de espaços. Você não deve usar o len() "
   ]
  },
  {
   "cell_type": "code",
   "execution_count": null,
   "metadata": {},
   "outputs": [],
   "source": [
    "#2 - Crie um programa que faça calculo do fatorial de um número. O fatorial \n",
    "# a ser calculado deve ser recebido por input"
   ]
  },
  {
   "cell_type": "code",
   "execution_count": null,
   "metadata": {},
   "outputs": [],
   "source": [
    "# 3 - Crie um programa que leia uma quantidade arbitraria de textos \n",
    "# e concatene eles numa string única."
   ]
  },
  {
   "cell_type": "code",
   "execution_count": null,
   "metadata": {},
   "outputs": [],
   "source": [
    "# 4- Crie um programa que printe a tabuada da divisão de um número lido \n",
    "# por input "
   ]
  },
  {
   "cell_type": "code",
   "execution_count": null,
   "metadata": {},
   "outputs": [],
   "source": [
    "# 5 - Crie um programa que percorra os números de 3 até 30 e diga o número é primo ou não "
   ]
  }
 ],
 "metadata": {
  "language_info": {
   "name": "python"
  }
 },
 "nbformat": 4,
 "nbformat_minor": 2
}
