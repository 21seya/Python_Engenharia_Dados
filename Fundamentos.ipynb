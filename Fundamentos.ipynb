{
 "cells": [
  {
   "cell_type": "code",
   "execution_count": 9,
   "metadata": {},
   "outputs": [
    {
     "name": "stdout",
     "output_type": "stream",
     "text": [
      "Ola mundo\n"
     ]
    }
   ],
   "source": [
    "print('Ola mundo')"
   ]
  },
  {
   "cell_type": "code",
   "execution_count": 10,
   "metadata": {},
   "outputs": [
    {
     "name": "stdout",
     "output_type": "stream",
     "text": [
      "['D', 'e', 'a', 'd', 'p', 'o', 'o', 'l']\n"
     ]
    }
   ],
   "source": [
    "def assitir_filmes(filmes):\n",
    "    novo_filme = []\n",
    "    for i in filmes:\n",
    "        novo_filme.append(i)\n",
    "    return novo_filme\n",
    "\n",
    "filme = assitir_filmes('Deadpool')\n",
    "print(filme)    \n"
   ]
  },
  {
   "cell_type": "code",
   "execution_count": 11,
   "metadata": {},
   "outputs": [
    {
     "name": "stdout",
     "output_type": "stream",
     "text": [
      "Maça - Pera - Uva\n"
     ]
    }
   ],
   "source": [
    "print('Maça','Pera','Uva',sep=' - ')"
   ]
  },
  {
   "cell_type": "code",
   "execution_count": 12,
   "metadata": {},
   "outputs": [
    {
     "name": "stdout",
     "output_type": "stream",
     "text": [
      "Maça Fim "
     ]
    }
   ],
   "source": [
    "print('Maça' , end= ' Fim ')"
   ]
  },
  {
   "cell_type": "code",
   "execution_count": 13,
   "metadata": {},
   "outputs": [
    {
     "name": "stdout",
     "output_type": "stream",
     "text": [
      " A pontuação total de Programador foi 20 pontos\n"
     ]
    }
   ],
   "source": [
    "print(\" A pontuação total de {} foi {} pontos\".format(\"Programador\",\"20\"))"
   ]
  },
  {
   "cell_type": "markdown",
   "metadata": {},
   "source": [
    "Variáveis"
   ]
  },
  {
   "cell_type": "code",
   "execution_count": 14,
   "metadata": {},
   "outputs": [
    {
     "name": "stdout",
     "output_type": "stream",
     "text": [
      "10 20 40 100\n"
     ]
    }
   ],
   "source": [
    "_numero = 10 \n",
    "Numero = 20 \n",
    "num = 40 \n",
    "num123 = 100\n",
    "print(_numero,Numero,num,num123)"
   ]
  },
  {
   "cell_type": "code",
   "execution_count": 15,
   "metadata": {},
   "outputs": [
    {
     "name": "stdout",
     "output_type": "stream",
     "text": [
      "10\n",
      "20\n"
     ]
    }
   ],
   "source": [
    "num = 10 \n",
    "print(num)\n",
    "num = 20 \n",
    "print(num)"
   ]
  },
  {
   "cell_type": "code",
   "execution_count": 16,
   "metadata": {},
   "outputs": [
    {
     "name": "stdout",
     "output_type": "stream",
     "text": [
      "Aprendendo a programar em Python\n"
     ]
    }
   ],
   "source": [
    "texto = \"Aprendendo a programar em Python\"\n",
    "print(texto)"
   ]
  },
  {
   "cell_type": "code",
   "execution_count": 17,
   "metadata": {},
   "outputs": [
    {
     "name": "stdout",
     "output_type": "stream",
     "text": [
      "True\n",
      "False\n"
     ]
    }
   ],
   "source": [
    "var = True \n",
    "print(var)\n",
    "var = False\n",
    "print(var)"
   ]
  },
  {
   "cell_type": "code",
   "execution_count": 18,
   "metadata": {},
   "outputs": [
    {
     "name": "stdout",
     "output_type": "stream",
     "text": [
      "20\n"
     ]
    }
   ],
   "source": [
    "var1 = 20 \n",
    "var2 = var1 \n",
    "print(var2)"
   ]
  },
  {
   "cell_type": "code",
   "execution_count": 19,
   "metadata": {},
   "outputs": [
    {
     "name": "stdout",
     "output_type": "stream",
     "text": [
      "None\n",
      "1\n",
      "Text\n"
     ]
    }
   ],
   "source": [
    "var = None \n",
    "print(var)\n",
    "var = 1 \n",
    "print(var)\n",
    "var = 'Text'\n",
    "print(var)"
   ]
  },
  {
   "cell_type": "code",
   "execution_count": 20,
   "metadata": {},
   "outputs": [],
   "source": [
    "#Pascal case\n",
    "SaldoBancario = 100\n",
    "\n",
    "# padrão pascal case\n",
    "SaldoBancario = 100\n",
    "\n",
    "# padrão snake case\n",
    "saldo_bancario = 100"
   ]
  },
  {
   "cell_type": "code",
   "execution_count": 1,
   "metadata": {},
   "outputs": [
    {
     "name": "stdout",
     "output_type": "stream",
     "text": [
      "O nome dela é Fernanda\n"
     ]
    }
   ],
   "source": [
    "nome = \"Fernanda\"\n",
    "text_formatado = \"O nome dela é %s\" %(nome)\n",
    "print(text_formatado)"
   ]
  },
  {
   "cell_type": "code",
   "execution_count": 3,
   "metadata": {},
   "outputs": [
    {
     "name": "stdout",
     "output_type": "stream",
     "text": [
      "Meu nome e Rodrigo. tenho 30 anos e tenho 1.810000 metros de altura\n"
     ]
    }
   ],
   "source": [
    "nome = \"Rodrigo\"\n",
    "idade = 30\n",
    "altura = 1.81\n",
    "text = \"Meu nome e %s. tenho %d anos e tenho %2.f metros de altura\" %(nome,idade,altura)\n",
    "print(text)"
   ]
  },
  {
   "cell_type": "code",
   "execution_count": 4,
   "metadata": {},
   "outputs": [
    {
     "name": "stdout",
     "output_type": "stream",
     "text": [
      "Numero grande formatado: 1.90\n"
     ]
    }
   ],
   "source": [
    "nume_grande = 1.9000000000 \n",
    "print(\"Numero grande formatado: %.2f\"%(nume_grande))"
   ]
  },
  {
   "cell_type": "code",
   "execution_count": 7,
   "metadata": {},
   "outputs": [
    {
     "name": "stdout",
     "output_type": "stream",
     "text": [
      "O valor e True \n",
      "O valor e 1 \n"
     ]
    }
   ],
   "source": [
    "valor = True \n",
    "print(\"O valor e %s \"%(valor))\n",
    "print(\"O valor e %d \"%(valor))\n"
   ]
  },
  {
   "cell_type": "code",
   "execution_count": 8,
   "metadata": {},
   "outputs": [
    {
     "name": "stdout",
     "output_type": "stream",
     "text": [
      "A parte inteira é 2 \n"
     ]
    }
   ],
   "source": [
    "decimal = 2.333876545\n",
    "print(\"A parte inteira é %d \" %(decimal))"
   ]
  },
  {
   "cell_type": "code",
   "execution_count": 1,
   "metadata": {},
   "outputs": [
    {
     "name": "stdout",
     "output_type": "stream",
     "text": [
      "30\n"
     ]
    }
   ],
   "source": [
    "print(10+20)"
   ]
  },
  {
   "cell_type": "code",
   "execution_count": 2,
   "metadata": {},
   "outputs": [
    {
     "name": "stdout",
     "output_type": "stream",
     "text": [
      "30\n"
     ]
    }
   ],
   "source": [
    "numero = 10+ 20 \n",
    "print(numero)"
   ]
  },
  {
   "cell_type": "code",
   "execution_count": 3,
   "metadata": {},
   "outputs": [
    {
     "name": "stdout",
     "output_type": "stream",
     "text": [
      "7\n"
     ]
    }
   ],
   "source": [
    "num = 10 - 3\n",
    "print(num)"
   ]
  },
  {
   "cell_type": "code",
   "execution_count": 4,
   "metadata": {},
   "outputs": [
    {
     "name": "stdout",
     "output_type": "stream",
     "text": [
      "20\n"
     ]
    }
   ],
   "source": [
    "num = 10 * 2\n",
    "print(num)"
   ]
  },
  {
   "cell_type": "code",
   "execution_count": 5,
   "metadata": {},
   "outputs": [
    {
     "name": "stdout",
     "output_type": "stream",
     "text": [
      "5.0\n"
     ]
    }
   ],
   "source": [
    "num = 10 / 2 \n",
    "print(num)"
   ]
  },
  {
   "cell_type": "code",
   "execution_count": 6,
   "metadata": {},
   "outputs": [
    {
     "name": "stdout",
     "output_type": "stream",
     "text": [
      "4\n"
     ]
    }
   ],
   "source": [
    "num = 2 ** 2 \n",
    "print(num)"
   ]
  },
  {
   "cell_type": "code",
   "execution_count": 7,
   "metadata": {},
   "outputs": [
    {
     "name": "stdout",
     "output_type": "stream",
     "text": [
      "0\n"
     ]
    }
   ],
   "source": [
    "num = 4 % 2  \n",
    "print(num)"
   ]
  },
  {
   "cell_type": "code",
   "execution_count": 8,
   "metadata": {},
   "outputs": [
    {
     "name": "stdout",
     "output_type": "stream",
     "text": [
      "24\n"
     ]
    }
   ],
   "source": [
    "numero = 10 * 2 + 2+2 \n",
    "print(numero)"
   ]
  },
  {
   "cell_type": "markdown",
   "metadata": {},
   "source": [
    "OPERADORES LÓGICOS"
   ]
  },
  {
   "cell_type": "code",
   "execution_count": 9,
   "metadata": {},
   "outputs": [
    {
     "name": "stdout",
     "output_type": "stream",
     "text": [
      "False\n"
     ]
    }
   ],
   "source": [
    "resultado = True and False \n",
    "print(resultado)"
   ]
  },
  {
   "cell_type": "code",
   "execution_count": 10,
   "metadata": {},
   "outputs": [
    {
     "name": "stdout",
     "output_type": "stream",
     "text": [
      "False\n"
     ]
    }
   ],
   "source": [
    "resultado_1 = True and True\n",
    "print(resultado)"
   ]
  },
  {
   "cell_type": "code",
   "execution_count": 11,
   "metadata": {},
   "outputs": [
    {
     "name": "stdout",
     "output_type": "stream",
     "text": [
      "False\n"
     ]
    }
   ],
   "source": [
    "resultado_3 = True or False \n",
    "print(resultado)"
   ]
  },
  {
   "cell_type": "code",
   "execution_count": 13,
   "metadata": {},
   "outputs": [
    {
     "name": "stdout",
     "output_type": "stream",
     "text": [
      "True\n"
     ]
    }
   ],
   "source": [
    "resultado = True and not False \n",
    "print(resultado)"
   ]
  },
  {
   "cell_type": "code",
   "execution_count": 14,
   "metadata": {},
   "outputs": [
    {
     "name": "stdout",
     "output_type": "stream",
     "text": [
      "True\n"
     ]
    }
   ],
   "source": [
    "resultado = True or not False \n",
    "print(resultado)"
   ]
  },
  {
   "cell_type": "markdown",
   "metadata": {},
   "source": [
    "CASTING"
   ]
  },
  {
   "cell_type": "code",
   "execution_count": 1,
   "metadata": {},
   "outputs": [
    {
     "name": "stdout",
     "output_type": "stream",
     "text": [
      "<class 'str'>\n"
     ]
    }
   ],
   "source": [
    "texto = \"Ola\"\n",
    "numero = 2 \n",
    "decimal = 1.5 \n",
    "booleano = True \n",
    "print(type(texto))"
   ]
  },
  {
   "cell_type": "code",
   "execution_count": 3,
   "metadata": {},
   "outputs": [
    {
     "name": "stdout",
     "output_type": "stream",
     "text": [
      "4\n"
     ]
    }
   ],
   "source": [
    "texto1 = \"2\"\n",
    "text2 = \"1.5\"\n",
    "num1 = int(texto1)\n",
    "num2 = float(text2)\n",
    "print(num1+num1)"
   ]
  },
  {
   "cell_type": "code",
   "execution_count": 4,
   "metadata": {},
   "outputs": [
    {
     "name": "stdout",
     "output_type": "stream",
     "text": [
      "A parte inteira de 21.456780 e 21\n"
     ]
    }
   ],
   "source": [
    "num = 21.45678\n",
    "inteira = int(num)\n",
    "print(\"A parte inteira de %f e %d\"%(num,inteira))"
   ]
  },
  {
   "cell_type": "code",
   "execution_count": 5,
   "metadata": {},
   "outputs": [
    {
     "name": "stdout",
     "output_type": "stream",
     "text": [
      "O numero e  21.45678\n",
      "<class 'str'>\n"
     ]
    }
   ],
   "source": [
    "texto = \"O numero e \"\n",
    "numero = 10.3\n",
    "numero_em_string = str(num)\n",
    "print(texto,numero_em_string)\n",
    "print(type(numero_em_string))\n"
   ]
  },
  {
   "cell_type": "code",
   "execution_count": 6,
   "metadata": {},
   "outputs": [
    {
     "name": "stdout",
     "output_type": "stream",
     "text": [
      "O numero 123 tem 3 digitos \n"
     ]
    }
   ],
   "source": [
    "numero =123 \n",
    "texto = str(numero)\n",
    "numero_de_digitos = len(texto)\n",
    "print(\"O numero %s tem %d digitos \"%(texto,numero_de_digitos)) "
   ]
  },
  {
   "cell_type": "code",
   "execution_count": 7,
   "metadata": {},
   "outputs": [
    {
     "name": "stdout",
     "output_type": "stream",
     "text": [
      "Variavel tem valor : False\n",
      "Número tem valor : True\n"
     ]
    }
   ],
   "source": [
    "vazio = None \n",
    "numero_um = 15 \n",
    "numero_zero = 0 \n",
    "texto = \"Texto\"\n",
    "texto_vazio = \" \"\n",
    "decimal_zero = 0.0\n",
    "decimal = 4.5\n",
    "\n",
    "print(\"Variavel tem valor :\",bool(vazio))\n",
    "print(\"Número tem valor :\",bool(numero_um))"
   ]
  },
  {
   "cell_type": "markdown",
   "metadata": {},
   "source": [
    "INPUT"
   ]
  },
  {
   "cell_type": "code",
   "execution_count": 2,
   "metadata": {},
   "outputs": [
    {
     "name": "stdout",
     "output_type": "stream",
     "text": [
      "<class 'str'>\n",
      "30\n"
     ]
    }
   ],
   "source": [
    "valor_escrito = input()\n",
    "print(type(valor_escrito))\n",
    "print(valor_escrito)"
   ]
  },
  {
   "cell_type": "code",
   "execution_count": 3,
   "metadata": {},
   "outputs": [
    {
     "name": "stdout",
     "output_type": "stream",
     "text": [
      "Eu meu chamo wallace\n"
     ]
    }
   ],
   "source": [
    "meu_nome = input()\n",
    "print(\"Eu meu chamo %s\" %(meu_nome))"
   ]
  },
  {
   "cell_type": "code",
   "execution_count": 5,
   "metadata": {},
   "outputs": [
    {
     "name": "stdout",
     "output_type": "stream",
     "text": [
      "A data inserida for 20/08/2024\n"
     ]
    }
   ],
   "source": [
    "dia = input()\n",
    "mes = input()\n",
    "ano = input()\n",
    "print(\"A data inserida for %s/%s/%s\" %(dia,mes,ano))"
   ]
  },
  {
   "cell_type": "code",
   "execution_count": 8,
   "metadata": {},
   "outputs": [
    {
     "name": "stdout",
     "output_type": "stream",
     "text": [
      "Você escolheu: False \n",
      "ou ainda você escolheu : 0\n"
     ]
    }
   ],
   "source": [
    "entrada_usuario = input(\"Digite 1 para verdadeiro 0 para falso: \")\n",
    "valor_inteiro = int(entrada_usuario)\n",
    "valor_logico = bool(valor_inteiro)\n",
    "print(\"Você escolheu: %s \" % valor_logico)\n",
    "print(\"ou ainda você escolheu : %i\" %(valor_inteiro))"
   ]
  },
  {
   "cell_type": "markdown",
   "metadata": {},
   "source": [
    "OPERADORES DE ATRIBUIÇÃO E COMBINAÇÃO DE OPERADORES LÓGICOS"
   ]
  },
  {
   "cell_type": "code",
   "execution_count": 1,
   "metadata": {},
   "outputs": [
    {
     "name": "stdout",
     "output_type": "stream",
     "text": [
      "2\n"
     ]
    }
   ],
   "source": [
    "numero = 1 \n",
    "numero = numero + 1 \n",
    "print(numero)"
   ]
  },
  {
   "cell_type": "code",
   "execution_count": 2,
   "metadata": {},
   "outputs": [
    {
     "name": "stdout",
     "output_type": "stream",
     "text": [
      "4\n"
     ]
    }
   ],
   "source": [
    "numero = 2 \n",
    "numero += 2 \n",
    "print(numero)"
   ]
  },
  {
   "cell_type": "code",
   "execution_count": 3,
   "metadata": {},
   "outputs": [
    {
     "name": "stdout",
     "output_type": "stream",
     "text": [
      "5.0\n"
     ]
    }
   ],
   "source": [
    "numero = 10 \n",
    "numero = numero /2 \n",
    "print(numero)"
   ]
  },
  {
   "cell_type": "code",
   "execution_count": 4,
   "metadata": {},
   "outputs": [
    {
     "name": "stdout",
     "output_type": "stream",
     "text": [
      "5.0\n"
     ]
    }
   ],
   "source": [
    "numero = 10 \n",
    "numero /= 2 \n",
    "print(numero)\n"
   ]
  },
  {
   "cell_type": "code",
   "execution_count": 5,
   "metadata": {},
   "outputs": [
    {
     "name": "stdout",
     "output_type": "stream",
     "text": [
      "False\n"
     ]
    }
   ],
   "source": [
    "num = 20 \n",
    "booleana = (num ==10)\n",
    "print(booleana)\n"
   ]
  },
  {
   "cell_type": "code",
   "execution_count": 6,
   "metadata": {},
   "outputs": [
    {
     "name": "stdout",
     "output_type": "stream",
     "text": [
      "True\n"
     ]
    }
   ],
   "source": [
    "num = 20 \n",
    "booleana = (num !=10)\n",
    "print(booleana)\n"
   ]
  },
  {
   "cell_type": "code",
   "execution_count": 7,
   "metadata": {},
   "outputs": [
    {
     "name": "stdout",
     "output_type": "stream",
     "text": [
      "True\n"
     ]
    }
   ],
   "source": [
    "num1 = 20 \n",
    "num2 = 10 \n",
    "e_maior = num1 > num2 \n",
    "print(e_maior)"
   ]
  },
  {
   "cell_type": "code",
   "execution_count": 8,
   "metadata": {},
   "outputs": [
    {
     "name": "stdout",
     "output_type": "stream",
     "text": [
      "True\n"
     ]
    }
   ],
   "source": [
    "num = 11 \n",
    "boolean = num > 0 and num < 30 \n",
    "print(boolean)"
   ]
  },
  {
   "cell_type": "code",
   "execution_count": 9,
   "metadata": {},
   "outputs": [
    {
     "name": "stdout",
     "output_type": "stream",
     "text": [
      "True\n"
     ]
    }
   ],
   "source": [
    "num = 10.1 \n",
    "booleano = type(num) == float and (num == 10.1 or num ==20.2)\n",
    "print(booleano)"
   ]
  },
  {
   "cell_type": "markdown",
   "metadata": {},
   "source": [
    "OPERADORES STRING"
   ]
  },
  {
   "cell_type": "code",
   "execution_count": 2,
   "metadata": {},
   "outputs": [
    {
     "name": "stdout",
     "output_type": "stream",
     "text": [
      "ola,tudo bem ?\n"
     ]
    }
   ],
   "source": [
    "text1 = 'ola'\n",
    "text2 = ','\n",
    "text3 = 'tudo bem ?'\n",
    "text_complete = text1+ text2+text3 \n",
    "print(text_complete)\n"
   ]
  },
  {
   "cell_type": "code",
   "execution_count": 3,
   "metadata": {},
   "outputs": [
    {
     "name": "stdout",
     "output_type": "stream",
     "text": [
      "Olamundo\n"
     ]
    }
   ],
   "source": [
    "text1 = 'Ola'\n",
    "text1 += 'mundo'\n",
    "print(text1)"
   ]
  },
  {
   "cell_type": "code",
   "execution_count": 5,
   "metadata": {},
   "outputs": [
    {
     "name": "stdout",
     "output_type": "stream",
     "text": [
      "Python é produtivo, Python é produtivo, Python é produtivo, \n"
     ]
    }
   ],
   "source": [
    "texto = \"Python é produtivo, \"\n",
    "texto_repetido = texto * 3 \n",
    "print(texto_repetido)"
   ]
  },
  {
   "cell_type": "code",
   "execution_count": 6,
   "metadata": {},
   "outputs": [
    {
     "name": "stdout",
     "output_type": "stream",
     "text": [
      "E\n",
      "x\n"
     ]
    }
   ],
   "source": [
    "texto = \"Exemplo\"\n",
    "print(texto[0])\n",
    "print(texto[1])"
   ]
  },
  {
   "cell_type": "code",
   "execution_count": 7,
   "metadata": {},
   "outputs": [
    {
     "name": "stdout",
     "output_type": "stream",
     "text": [
      "xe\n"
     ]
    }
   ],
   "source": [
    "texto = \"exemplos\"\n",
    "print(texto[1:3])"
   ]
  },
  {
   "cell_type": "code",
   "execution_count": 10,
   "metadata": {},
   "outputs": [
    {
     "name": "stdout",
     "output_type": "stream",
     "text": [
      "xem\n",
      "mplos\n",
      "exemp\n"
     ]
    }
   ],
   "source": [
    "texto = \"exemplos\"\n",
    "print(texto[1:4])\n",
    "print(texto[3:])\n",
    "print(texto[:5])"
   ]
  },
  {
   "cell_type": "code",
   "execution_count": 12,
   "metadata": {},
   "outputs": [
    {
     "name": "stdout",
     "output_type": "stream",
     "text": [
      "r\n",
      "rros\n"
     ]
    }
   ],
   "source": [
    "texto = \"carros\"\n",
    "print(texto[-4])\n",
    "print(texto[-4:])"
   ]
  },
  {
   "cell_type": "code",
   "execution_count": 13,
   "metadata": {},
   "outputs": [
    {
     "name": "stdout",
     "output_type": "stream",
     "text": [
      "ortem\n"
     ]
    }
   ],
   "source": [
    "texto = \"metro\"\n",
    "print(texto[::-1])"
   ]
  },
  {
   "cell_type": "code",
   "execution_count": 14,
   "metadata": {},
   "outputs": [
    {
     "name": "stdout",
     "output_type": "stream",
     "text": [
      "1\n"
     ]
    }
   ],
   "source": [
    "numeros = \"123\"\n",
    "print(numeros[0])"
   ]
  },
  {
   "cell_type": "code",
   "execution_count": 15,
   "metadata": {},
   "outputs": [
    {
     "name": "stdout",
     "output_type": "stream",
     "text": [
      "abcefg\n"
     ]
    }
   ],
   "source": [
    "texto = \"abcdefg\"\n",
    "texto = texto[:3] + texto[4:]\n",
    "print(texto)"
   ]
  },
  {
   "cell_type": "code",
   "execution_count": 18,
   "metadata": {},
   "outputs": [
    {
     "name": "stdout",
     "output_type": "stream",
     "text": [
      "Textos são iguais ?  True\n"
     ]
    }
   ],
   "source": [
    "texto1 = \"Ola\"\n",
    "texto2 = \"Ola\"\n",
    "igual = texto1 == texto2\n",
    "print(\"Textos são iguais ? \",igual)"
   ]
  },
  {
   "cell_type": "code",
   "execution_count": 19,
   "metadata": {},
   "outputs": [
    {
     "name": "stdout",
     "output_type": "stream",
     "text": [
      "True\n"
     ]
    }
   ],
   "source": [
    "texto = \"programacao\"\n",
    "print(\"a\" in texto)"
   ]
  },
  {
   "cell_type": "code",
   "execution_count": 20,
   "metadata": {},
   "outputs": [
    {
     "name": "stdout",
     "output_type": "stream",
     "text": [
      "11\n"
     ]
    }
   ],
   "source": [
    "tamanho = len(texto)\n",
    "print(tamanho)"
   ]
  }
 ],
 "metadata": {
  "kernelspec": {
   "display_name": "Python 3",
   "language": "python",
   "name": "python3"
  },
  "language_info": {
   "codemirror_mode": {
    "name": "ipython",
    "version": 3
   },
   "file_extension": ".py",
   "mimetype": "text/x-python",
   "name": "python",
   "nbconvert_exporter": "python",
   "pygments_lexer": "ipython3",
   "version": "3.9.2"
  }
 },
 "nbformat": 4,
 "nbformat_minor": 2
}
