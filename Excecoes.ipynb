{
 "cells": [
  {
   "cell_type": "code",
   "execution_count": null,
   "metadata": {},
   "outputs": [
    {
     "ename": "",
     "evalue": "",
     "output_type": "error",
     "traceback": [
      "\u001b[1;31mFailed to start the Kernel. \n",
      "\u001b[1;31mUnable to start Kernel 'Python 3.9.2' due to a timeout waiting for the ports to get used. \n",
      "\u001b[1;31mView Jupyter <a href='command:jupyter.viewOutput'>log</a> for further details."
     ]
    }
   ],
   "source": [
    "print(\"INICIO\")\n",
    "lista = [1,2,3]\n",
    "print(lista[10])\n",
    "print(\"FIM\")"
   ]
  },
  {
   "cell_type": "code",
   "execution_count": null,
   "metadata": {},
   "outputs": [
    {
     "ename": "",
     "evalue": "",
     "output_type": "error",
     "traceback": [
      "\u001b[1;31mFailed to start the Kernel. \n",
      "\u001b[1;31mUnable to start Kernel 'Python 3.9.2' due to a timeout waiting for the ports to get used. \n",
      "\u001b[1;31mView Jupyter <a href='command:jupyter.viewOutput'>log</a> for further details."
     ]
    }
   ],
   "source": [
    "print(\"INICIO\")\n",
    "lista = [1,2,3]\n",
    "try:\n",
    "    print(lista[10])\n",
    "except:\n",
    "    print(\"Falha ao acessar,linha não encontrada\")    \n",
    "print(\"FIM\")"
   ]
  },
  {
   "cell_type": "code",
   "execution_count": 1,
   "metadata": {},
   "outputs": [
    {
     "name": "stdout",
     "output_type": "stream",
     "text": [
      "INICIO\n",
      "Falha ao acessar,linha não encontradalist index out of range\n",
      "FIM\n"
     ]
    }
   ],
   "source": [
    "print(\"INICIO\")\n",
    "lista = [1,2,3]\n",
    "try:\n",
    "    print(lista[10])\n",
    "except Exception as error:\n",
    "    print(\"Falha ao acessar,linha não encontrada\"+str(error))    \n",
    "print(\"FIM\")"
   ]
  },
  {
   "cell_type": "code",
   "execution_count": 2,
   "metadata": {},
   "outputs": [
    {
     "name": "stdout",
     "output_type": "stream",
     "text": [
      "Falha no cast : invalid literal for int() with base 10: 'b'\n"
     ]
    }
   ],
   "source": [
    "try:\n",
    "    numero = int('b')\n",
    "\n",
    "except Exception as error:\n",
    "    print(\"Falha no cast :\",str(error))"
   ]
  },
  {
   "cell_type": "code",
   "execution_count": 3,
   "metadata": {},
   "outputs": [
    {
     "name": "stdout",
     "output_type": "stream",
     "text": [
      "INICIO\n",
      "Falha ao acessar,linha não encontradalist index out of range\n",
      "Executa sempre que o try-except acabar, mesmo que não ocorra error\n",
      "FIM\n"
     ]
    }
   ],
   "source": [
    "print(\"INICIO\")\n",
    "lista = [1,2,3]\n",
    "try:\n",
    "    print(lista[10])\n",
    "except Exception as error:\n",
    "    print(\"Falha ao acessar,linha não encontrada\"+str(error)) \n",
    "\n",
    "finally:\n",
    "    del lista\n",
    "    print(\"Executa sempre que o try-except acabar, mesmo que não ocorra error\")\n",
    "print(\"FIM\")"
   ]
  },
  {
   "cell_type": "code",
   "execution_count": null,
   "metadata": {},
   "outputs": [],
   "source": []
  }
 ],
 "metadata": {
  "kernelspec": {
   "display_name": "Python 3",
   "language": "python",
   "name": "python3"
  },
  "language_info": {
   "codemirror_mode": {
    "name": "ipython",
    "version": 3
   },
   "file_extension": ".py",
   "mimetype": "text/x-python",
   "name": "python",
   "nbconvert_exporter": "python",
   "pygments_lexer": "ipython3",
   "version": "3.9.2"
  }
 },
 "nbformat": 4,
 "nbformat_minor": 2
}
