{
 "cells": [
  {
   "cell_type": "code",
   "execution_count": null,
   "metadata": {},
   "outputs": [
    {
     "ename": "",
     "evalue": "",
     "output_type": "error",
     "traceback": [
      "\u001b[1;31mFailed to start the Kernel. \n",
      "\u001b[1;31mUnable to start Kernel 'Python 3.9.2' due to a timeout waiting for the ports to get used. \n",
      "\u001b[1;31mView Jupyter <a href='command:jupyter.viewOutput'>log</a> for further details."
     ]
    }
   ],
   "source": [
    "print(\"INICIO\")\n",
    "lista = [1,2,3]\n",
    "print(lista[10])\n",
    "print(\"FIM\")"
   ]
  },
  {
   "cell_type": "code",
   "execution_count": null,
   "metadata": {},
   "outputs": [],
   "source": [
    "print(\"INICIO\")\n",
    "lista = [1,2,3]\n",
    "try:\n",
    "    print(lista[10])\n",
    "except:\n",
    "    print(\"Falha ao acessar,linha não encontrada\")    \n",
    "print(\"FIM\")"
   ]
  },
  {
   "cell_type": "code",
   "execution_count": null,
   "metadata": {},
   "outputs": [],
   "source": [
    "print(\"INICIO\")\n",
    "lista = [1,2,3]\n",
    "try:\n",
    "    print(lista[10])\n",
    "except Exception as error:\n",
    "    print(\"Falha ao acessar,linha não encontrada\"+str(error))    \n",
    "print(\"FIM\")"
   ]
  },
  {
   "cell_type": "code",
   "execution_count": null,
   "metadata": {},
   "outputs": [],
   "source": [
    "try:\n",
    "    numero = int('b')\n",
    "\n",
    "except Exception as error:\n",
    "    print(\"Falha no cast :\",str(error))"
   ]
  },
  {
   "cell_type": "code",
   "execution_count": null,
   "metadata": {},
   "outputs": [],
   "source": [
    "print(\"INICIO\")\n",
    "lista = [1,2,3]\n",
    "try:\n",
    "    print(lista[10])\n",
    "except Exception as error:\n",
    "    print(\"Falha ao acessar,linha não encontrada\"+str(error)) \n",
    "\n",
    "finally:\n",
    "    del lista\n",
    "    print(\"Executa sempre que o try-except acabar, mesmo que não ocorra error\")\n",
    "print(\"FIM\")"
   ]
  },
  {
   "cell_type": "code",
   "execution_count": 2,
   "metadata": {},
   "outputs": [
    {
     "name": "stdout",
     "output_type": "stream",
     "text": [
      "INICIO\n",
      "Erro de divisão por 0division by zero\n",
      "FIM\n"
     ]
    }
   ],
   "source": [
    "print(\"INICIO\")\n",
    "lista= [1,2,3]\n",
    "numero = 0\n",
    "try:\n",
    "    divisao = 10 / numero\n",
    "    print(lista[10])\n",
    "except IndexError as erro1:\n",
    "    print(\"Error de aceso ao indice\"+str(erro1))\n",
    "\n",
    "except ZeroDivisionError as error2 :\n",
    "    print(\"Erro de divisão por 0\"+str(error2))\n",
    "except Exception as erro3 :\n",
    "    print(\"Ocorreu um outro error\")\n",
    "\n",
    "else:\n",
    "    print(\"Executa se não ocorre error\")\n",
    "\n",
    "print(\"FIM\")"
   ]
  },
  {
   "cell_type": "code",
   "execution_count": null,
   "metadata": {},
   "outputs": [
    {
     "ename": "",
     "evalue": "",
     "output_type": "error",
     "traceback": [
      "\u001b[1;31mFailed to start the Kernel. \n",
      "\u001b[1;31mUnable to start Kernel 'Python 3.9.2' due to a timeout waiting for the ports to get used. \n",
      "\u001b[1;31mView Jupyter <a href='command:jupyter.viewOutput'>log</a> for further details."
     ]
    }
   ],
   "source": [
    "raise Exception(\"nos geramos uma exceção!\")"
   ]
  },
  {
   "cell_type": "code",
   "execution_count": null,
   "metadata": {},
   "outputs": [],
   "source": [
    "raise IndexError(\"Exceção de Indice\")"
   ]
  },
  {
   "cell_type": "code",
   "execution_count": 2,
   "metadata": {},
   "outputs": [
    {
     "name": "stdout",
     "output_type": "stream",
     "text": [
      "O erro e Valor não pode ser negativo\n"
     ]
    }
   ],
   "source": [
    "def printa_positivo(numero):\n",
    "    if numero < 0:\n",
    "        raise ValueError(\"Valor não pode ser negativo\")\n",
    "    print(numero)\n",
    "try:\n",
    "    printa_positivo(-1)\n",
    "\n",
    "except ValueError as erro:\n",
    "    print(\"O erro e\",str(erro))\n",
    "\n",
    "except Exception as erro1:\n",
    "    print(\"Erro Qualquer\",str(erro1))\n",
    "        "
   ]
  },
  {
   "cell_type": "code",
   "execution_count": 3,
   "metadata": {},
   "outputs": [
    {
     "name": "stdout",
     "output_type": "stream",
     "text": [
      "O erro e \n"
     ]
    }
   ],
   "source": [
    "def printa_positivo(numero):\n",
    "    assert(numero >=0)\n",
    "    print(numero)\n",
    "try:\n",
    "    printa_positivo(-1)\n",
    "\n",
    "except AssertionError as erro:\n",
    "    print(\"O erro e\",str(erro))\n",
    "\n",
    "except Exception as erro1:\n",
    "    print(\"Erro Qualquer\",str(erro1))"
   ]
  },
  {
   "cell_type": "code",
   "execution_count": 4,
   "metadata": {},
   "outputs": [
    {
     "ename": "IndexError",
     "evalue": "list index out of range",
     "output_type": "error",
     "traceback": [
      "\u001b[1;31m---------------------------------------------------------------------------\u001b[0m",
      "\u001b[1;31mIndexError\u001b[0m                                Traceback (most recent call last)",
      "Cell \u001b[1;32mIn[4], line 6\u001b[0m\n\u001b[0;32m      3\u001b[0m     \u001b[38;5;28mprint\u001b[39m(lista[\u001b[38;5;241m10\u001b[39m])\n\u001b[0;32m      5\u001b[0m \u001b[38;5;28;01mexcept\u001b[39;00m \u001b[38;5;167;01mIndexError\u001b[39;00m \u001b[38;5;28;01mas\u001b[39;00m error:\n\u001b[1;32m----> 6\u001b[0m     \u001b[38;5;28;01mraise\u001b[39;00m error\n",
      "Cell \u001b[1;32mIn[4], line 3\u001b[0m\n\u001b[0;32m      1\u001b[0m lista \u001b[38;5;241m=\u001b[39m [\u001b[38;5;241m1\u001b[39m]\n\u001b[0;32m      2\u001b[0m \u001b[38;5;28;01mtry\u001b[39;00m:\n\u001b[1;32m----> 3\u001b[0m     \u001b[38;5;28mprint\u001b[39m(\u001b[43mlista\u001b[49m\u001b[43m[\u001b[49m\u001b[38;5;241;43m10\u001b[39;49m\u001b[43m]\u001b[49m)\n\u001b[0;32m      5\u001b[0m \u001b[38;5;28;01mexcept\u001b[39;00m \u001b[38;5;167;01mIndexError\u001b[39;00m \u001b[38;5;28;01mas\u001b[39;00m error:\n\u001b[0;32m      6\u001b[0m     \u001b[38;5;28;01mraise\u001b[39;00m error\n",
      "\u001b[1;31mIndexError\u001b[0m: list index out of range"
     ]
    }
   ],
   "source": [
    "lista = [1]\n",
    "try:\n",
    "    print(lista[10])\n",
    "\n",
    "except IndexError as error:\n",
    "    raise error"
   ]
  },
  {
   "cell_type": "code",
   "execution_count": null,
   "metadata": {},
   "outputs": [],
   "source": []
  }
 ],
 "metadata": {
  "kernelspec": {
   "display_name": "Python 3",
   "language": "python",
   "name": "python3"
  },
  "language_info": {
   "codemirror_mode": {
    "name": "ipython",
    "version": 3
   },
   "file_extension": ".py",
   "mimetype": "text/x-python",
   "name": "python",
   "nbconvert_exporter": "python",
   "pygments_lexer": "ipython3",
   "version": "3.9.2"
  }
 },
 "nbformat": 4,
 "nbformat_minor": 2
}
