{
 "cells": [
  {
   "cell_type": "code",
   "execution_count": null,
   "metadata": {},
   "outputs": [],
   "source": [
    "#1 - Crie um programa que leia por input \n",
    "#dois números e realize a divisão entre ambos.Formate o print \n",
    "# para mostrar o cálculo completo."
   ]
  },
  {
   "cell_type": "code",
   "execution_count": 2,
   "metadata": {},
   "outputs": [
    {
     "name": "stdout",
     "output_type": "stream",
     "text": [
      "20 divisão por 2 é 10.00\n"
     ]
    }
   ],
   "source": [
    "num1 = input(\"Insira o primeiro numero: \")\n",
    "num2 = input(\"Insira o segundo numero: \")\n",
    "divisao = float(num1) / float(num2)\n",
    "print(\"%s divisão por %s é %.2f\" % (num1,num2,divisao))\n"
   ]
  },
  {
   "cell_type": "code",
   "execution_count": null,
   "metadata": {},
   "outputs": [],
   "source": [
    "#2 - Crie um programa que mostre o dia, mês , ano , hora , minuto e segundo \n",
    "#inseridos pelo usuário. Formate o valor."
   ]
  },
  {
   "cell_type": "code",
   "execution_count": 3,
   "metadata": {},
   "outputs": [
    {
     "name": "stdout",
     "output_type": "stream",
     "text": [
      "01/01/2024 21:34:55:55 \n"
     ]
    }
   ],
   "source": [
    "Dia = input(\"Insira o Dia :\")\n",
    "Mes = input(\"Insira o Mês :\")\n",
    "Ano = input(\"Insira o Ano :\")\n",
    "Hora = input(\"Insira a Hora :\")\n",
    "Minuto = input(\"Insira o Minuto :\")\n",
    "Segundo = input(\"Insira o Segundo :\")\n",
    "print(\"%s/%s/%s %s:%s:%s \" %(Dia,Mes,Ano,Hora,Minuto,Segundo))"
   ]
  }
 ],
 "metadata": {
  "kernelspec": {
   "display_name": "Python 3",
   "language": "python",
   "name": "python3"
  },
  "language_info": {
   "codemirror_mode": {
    "name": "ipython",
    "version": 3
   },
   "file_extension": ".py",
   "mimetype": "text/x-python",
   "name": "python",
   "nbconvert_exporter": "python",
   "pygments_lexer": "ipython3",
   "version": "3.9.2"
  }
 },
 "nbformat": 4,
 "nbformat_minor": 2
}
