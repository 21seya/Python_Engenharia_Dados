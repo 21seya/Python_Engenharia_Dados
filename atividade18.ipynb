{
 "cells": [
  {
   "cell_type": "markdown",
   "metadata": {},
   "source": [
    "# 1- Crie uma função iterável \"meses\" que retorne meses. Use um laço for para mostrar os valores. "
   ]
  },
  {
   "cell_type": "code",
   "execution_count": 2,
   "metadata": {},
   "outputs": [
    {
     "name": "stdout",
     "output_type": "stream",
     "text": [
      "Janeiro\n",
      "Fevereiro\n",
      "Março\n",
      "Abril\n",
      "Maio\n",
      "Junho\n",
      "Julho\n",
      "Agosto\n",
      "Setembro\n",
      "Outubro\n",
      "Novembro\n",
      "Dezembro\n"
     ]
    }
   ],
   "source": [
    "def meses():\n",
    "    meses = ['Janeiro','Fevereiro','Março','Abril','Maio','Junho',\n",
    "            'Julho','Agosto','Setembro','Outubro','Novembro','Dezembro']\n",
    "    for i in meses:\n",
    "        yield i\n",
    "\n",
    "for mes in meses():\n",
    "    print(mes)    "
   ]
  },
  {
   "cell_type": "markdown",
   "metadata": {},
   "source": [
    "# 2 - Cria uma função iterável que receba uma lista de números e que retorne a cada iteração \n",
    "# um item dessa lista multiplicado por dois. "
   ]
  },
  {
   "cell_type": "code",
   "execution_count": 3,
   "metadata": {},
   "outputs": [
    {
     "name": "stdout",
     "output_type": "stream",
     "text": [
      "2\n",
      "4\n",
      "6\n",
      "8\n",
      "10\n"
     ]
    }
   ],
   "source": [
    "def duplicado(lista):\n",
    "    for i in lista:\n",
    "        yield i * 2 \n",
    "\n",
    "lista = [1,2,3,4,5]\n",
    "\n",
    "for i in duplicado(lista):\n",
    "    print(i)\n"
   ]
  },
  {
   "cell_type": "markdown",
   "metadata": {},
   "source": [
    "# 3 - Crie uma classe iterável chamada \"tabuada\" que calcule a tabuada da multiplicação \n",
    "# do número recebido no construtor. A cada iteração ela deve retornar um resultado da tabuada. Para testar \n",
    "# use o laço for. "
   ]
  },
  {
   "cell_type": "code",
   "execution_count": 5,
   "metadata": {},
   "outputs": [
    {
     "name": "stdout",
     "output_type": "stream",
     "text": [
      "2\n",
      "4\n",
      "6\n",
      "8\n",
      "10\n",
      "12\n",
      "14\n",
      "16\n",
      "18\n",
      "20\n"
     ]
    }
   ],
   "source": [
    "class Tabuada:\n",
    "    def __init__(self,num):\n",
    "        self.num = num\n",
    "    def __iter__(self):\n",
    "        self.atual = 0\n",
    "        return self\n",
    "    def __next__(self):\n",
    "        self.atual += 1 \n",
    "        if(self.atual == 11):\n",
    "            raise StopIteration\n",
    "        return self.atual  * self.num\n",
    "    \n",
    "tabuada_cal = Tabuada(2)\n",
    "for i in tabuada_cal:\n",
    "    print(i) \n",
    "\n"
   ]
  },
  {
   "cell_type": "markdown",
   "metadata": {},
   "source": [
    "# 4 - (Desafio) - Crie uma classe que retorne os fatoriais de um número no intervalo \n",
    "# de x a y , recebidos por parâmetro no construtor da classe. "
   ]
  },
  {
   "cell_type": "code",
   "execution_count": 8,
   "metadata": {},
   "outputs": [
    {
     "name": "stdout",
     "output_type": "stream",
     "text": [
      "1\n",
      "2\n",
      "6\n",
      "24\n",
      "120\n",
      "720\n",
      "5040\n",
      "40320\n",
      "362880\n",
      "3628800\n"
     ]
    }
   ],
   "source": [
    "class Fatorial:\n",
    "    def __init__(self,x,y):\n",
    "        self.x = x \n",
    "        self.y = y \n",
    "\n",
    "    def __iter__(self):\n",
    "        self.atual = self.x \n",
    "        return self \n",
    "\n",
    "    @staticmethod\n",
    "    def calcula_fatorial(num):  \n",
    "        result = 1 \n",
    "        for i in range(1,num+1):\n",
    "            result *= i\n",
    "        return result    \n",
    "\n",
    "    def __next__(self):\n",
    "        if(self.atual == self.y + 1):\n",
    "            raise StopIteration\n",
    "        result = Fatorial.calcula_fatorial(self.atual)\n",
    "        self.atual += 1 \n",
    "        return result      \n",
    "\n",
    "for i in Fatorial(1,10):\n",
    "    print(i)\n"
   ]
  },
  {
   "cell_type": "markdown",
   "metadata": {},
   "source": [
    "# 5 - Utilizando como base o exercicio 1 , retorne o número que representa o mês e o próprio \n",
    "# mês. Faça isso de duas maneiras diferentes (usando enumeradores e a outra usando join)\n"
   ]
  },
  {
   "cell_type": "code",
   "execution_count": 12,
   "metadata": {},
   "outputs": [
    {
     "name": "stdout",
     "output_type": "stream",
     "text": [
      "0 Janeiro\n",
      "1 Fevereiro\n",
      "2 Março\n",
      "3 Abril\n",
      "4 Maio\n",
      "5 Junho\n",
      "6 Julho\n",
      "7 Agosto\n",
      "8 Setembro\n",
      "9 Outubro\n",
      "10 Novembro\n",
      "11 Dezembro\n"
     ]
    }
   ],
   "source": [
    "def meses_enum():\n",
    "    meses = ['Janeiro','Fevereiro','Março','Abril','Maio','Junho',\n",
    "            'Julho','Agosto','Setembro','Outubro','Novembro','Dezembro']\n",
    "    \n",
    "    for i in enumerate(meses):\n",
    "        yield i \n",
    "\n",
    "for indice,mes in meses_enum():\n",
    "    print(indice,mes)        \n"
   ]
  },
  {
   "cell_type": "markdown",
   "metadata": {},
   "source": [
    "# 6 - Crie uma função que receba uma lista de frases e junte as mesmas em uma só , separados por ponto final."
   ]
  },
  {
   "cell_type": "code",
   "execution_count": 13,
   "metadata": {},
   "outputs": [
    {
     "name": "stdout",
     "output_type": "stream",
     "text": [
      "Ola,Estou aprendendo,a programar,em Python\n"
     ]
    }
   ],
   "source": [
    "def frases(lista):\n",
    "    return ','.join(lista)\n",
    "\n",
    "textos = ['Ola','Estou aprendendo', 'a programar','em Python']\n",
    "print(frases(textos))"
   ]
  }
 ],
 "metadata": {
  "kernelspec": {
   "display_name": "Python 3",
   "language": "python",
   "name": "python3"
  },
  "language_info": {
   "codemirror_mode": {
    "name": "ipython",
    "version": 3
   },
   "file_extension": ".py",
   "mimetype": "text/x-python",
   "name": "python",
   "nbconvert_exporter": "python",
   "pygments_lexer": "ipython3",
   "version": "3.9.2"
  }
 },
 "nbformat": 4,
 "nbformat_minor": 2
}
