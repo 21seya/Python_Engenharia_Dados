{
 "cells": [
  {
   "cell_type": "markdown",
   "metadata": {},
   "source": [
    "IF"
   ]
  },
  {
   "cell_type": "code",
   "execution_count": 1,
   "metadata": {},
   "outputs": [
    {
     "name": "stdout",
     "output_type": "stream",
     "text": [
      "Isto está fora dos ifs\n",
      "VERDADE\n"
     ]
    }
   ],
   "source": [
    "print(\"Isto está fora dos ifs\")\n",
    "if (True):\n",
    "    print(\"VERDADE\")\n",
    "else:\n",
    "    print(\"FALSO\")    "
   ]
  },
  {
   "cell_type": "code",
   "execution_count": 2,
   "metadata": {},
   "outputs": [],
   "source": [
    "if (True):\n",
    "    pass"
   ]
  },
  {
   "cell_type": "code",
   "execution_count": 3,
   "metadata": {},
   "outputs": [
    {
     "name": "stdout",
     "output_type": "stream",
     "text": [
      "Não são iguais\n"
     ]
    }
   ],
   "source": [
    "valor_1 = 10 \n",
    "valor_2 = 20 \n",
    "sao_iguais = (valor_1 == valor_2)\n",
    "if sao_iguais:\n",
    "    print(\"São iguais \")\n",
    "else:\n",
    "    print(\"Não são iguais\")    "
   ]
  },
  {
   "cell_type": "code",
   "execution_count": 4,
   "metadata": {},
   "outputs": [
    {
     "name": "stdout",
     "output_type": "stream",
     "text": [
      "Eh maior do que 10\n"
     ]
    }
   ],
   "source": [
    "numero = 11 \n",
    "if (numero > 10):\n",
    "    print('Eh maior do que 10')"
   ]
  },
  {
   "cell_type": "markdown",
   "metadata": {},
   "source": [
    "ELSE"
   ]
  },
  {
   "cell_type": "code",
   "execution_count": 5,
   "metadata": {},
   "outputs": [
    {
     "name": "stdout",
     "output_type": "stream",
     "text": [
      "Possui alguma vogal\n"
     ]
    }
   ],
   "source": [
    "nome  = input(\"Digite o seu nome: \")\n",
    "possui_vogal = (\"a\" in nome) or (\"e\" in nome) or (\"i\" in nome) or (\"o\" in nome) or (\"u\" in nome)\n",
    "if possui_vogal:\n",
    "    print(\"Possui alguma vogal\")\n",
    "else:\n",
    "    print(\"Não possui vogal\")    "
   ]
  },
  {
   "cell_type": "code",
   "execution_count": 8,
   "metadata": {},
   "outputs": [
    {
     "name": "stdout",
     "output_type": "stream",
     "text": [
      " EH menor do que 10\n"
     ]
    }
   ],
   "source": [
    "numero = 9 \n",
    "if(numero >= 10):\n",
    "    print(\" EH maior do que 10\")\n",
    "else:\n",
    "    print(\" EH menor do que 10\")    "
   ]
  },
  {
   "cell_type": "code",
   "execution_count": 9,
   "metadata": {},
   "outputs": [
    {
     "name": "stdout",
     "output_type": "stream",
     "text": [
      " Eh par\n"
     ]
    }
   ],
   "source": [
    "numero = 10 \n",
    "if numero % 2 ==0:\n",
    "    print(\" Eh par\")\n",
    "else:\n",
    "    print(\"Eh impar\")    "
   ]
  },
  {
   "cell_type": "code",
   "execution_count": 10,
   "metadata": {},
   "outputs": [
    {
     "name": "stdout",
     "output_type": "stream",
     "text": [
      "Eh impar\n"
     ]
    }
   ],
   "source": [
    "numero = 9 \n",
    "if numero % 2 ==0:\n",
    "    print(\" Eh par\")\n",
    "else:\n",
    "    print(\"Eh impar\")    "
   ]
  },
  {
   "cell_type": "code",
   "execution_count": 11,
   "metadata": {},
   "outputs": [
    {
     "name": "stdout",
     "output_type": "stream",
     "text": [
      "5\n"
     ]
    }
   ],
   "source": [
    "valor = 5 \n",
    "if valor >= 0 and valor <= 5:\n",
    "    print(valor)\n",
    "else:\n",
    "    print(\"Valor não aceito\")    "
   ]
  },
  {
   "cell_type": "code",
   "execution_count": 12,
   "metadata": {},
   "outputs": [
    {
     "name": "stdout",
     "output_type": "stream",
     "text": [
      "Valor não aceito\n"
     ]
    }
   ],
   "source": [
    "valor = 500 \n",
    "if valor >= 0 and valor <= 5:\n",
    "    print(valor)\n",
    "else:\n",
    "    print(\"Valor não aceito\") "
   ]
  },
  {
   "cell_type": "code",
   "execution_count": null,
   "metadata": {},
   "outputs": [
    {
     "name": "stdout",
     "output_type": "stream",
     "text": [
      " tem 1 caractere\n"
     ]
    }
   ],
   "source": [
    "texto = \"q\"\n",
    "if len(texto) == 1:\n",
    "    print(\" tem 1 caractere\")\n",
    "else:\n",
    "    print(\"Não tem 1 caractere\")    "
   ]
  },
  {
   "cell_type": "code",
   "execution_count": 14,
   "metadata": {},
   "outputs": [
    {
     "name": "stdout",
     "output_type": "stream",
     "text": [
      "Não tem 1 caractere\n"
     ]
    }
   ],
   "source": [
    "texto = \"qx\"\n",
    "if len(texto) == 1:\n",
    "    print(\" tem 1 caractere\")\n",
    "else:\n",
    "    print(\"Não tem 1 caractere\")    "
   ]
  },
  {
   "cell_type": "code",
   "execution_count": null,
   "metadata": {},
   "outputs": [
    {
     "name": "stdout",
     "output_type": "stream",
     "text": [
      "Numero invalido\n"
     ]
    }
   ],
   "source": [
    "numero = 1\n",
    "if numero == 1 or numero ==0:\n",
    "    print(\"E 1 ou 0\")\n",
    "else:\n",
    "    print(\"Numero invalido\")    "
   ]
  },
  {
   "cell_type": "code",
   "execution_count": 17,
   "metadata": {},
   "outputs": [
    {
     "name": "stdout",
     "output_type": "stream",
     "text": [
      "Numero invalido\n"
     ]
    }
   ],
   "source": [
    "numero = 5\n",
    "if numero == 1 or numero ==0:\n",
    "    print(\"E 1 ou 0\")\n",
    "else:\n",
    "    print(\"Numero invalido\")    "
   ]
  },
  {
   "cell_type": "code",
   "execution_count": 19,
   "metadata": {},
   "outputs": [
    {
     "name": "stdout",
     "output_type": "stream",
     "text": [
      "Abosulutamento maior do que 10\n"
     ]
    }
   ],
   "source": [
    "numero =  - 10 \n",
    "condicao =  numero >= 10 or numero <= -10\n",
    "if condicao:\n",
    "    print(\"Abosulutamento maior do que 10\")\n",
    "else:\n",
    "    print(\"Não eh maior do que 10\")    \n"
   ]
  },
  {
   "cell_type": "code",
   "execution_count": 20,
   "metadata": {},
   "outputs": [
    {
     "name": "stdout",
     "output_type": "stream",
     "text": [
      "Número e maior do que zero\n",
      "Número e maior do que dez\n"
     ]
    }
   ],
   "source": [
    "numero = 11 \n",
    "if numero> 0:\n",
    "    print(\"Número e maior do que zero\")\n",
    "    if numero > 10:\n",
    "        print(\"Número e maior do que dez\")\n",
    "    else:\n",
    "        print(\"Numero inválido\")\n"
   ]
  },
  {
   "cell_type": "code",
   "execution_count": 22,
   "metadata": {},
   "outputs": [
    {
     "name": "stdout",
     "output_type": "stream",
     "text": [
      "Menor ou igual a mil\n"
     ]
    }
   ],
   "source": [
    "numero = 178\n",
    "if numero < 10:\n",
    "    print(\"Menor do que dez\")\n",
    "elif numero < 100:\n",
    "    print(\"Menor do que cem\")\n",
    "elif numero <= 1000:\n",
    "    print(\"Menor ou igual a mil\")\n",
    "else:\n",
    "    print(\"Nenhuma opção anterior\")            "
   ]
  },
  {
   "cell_type": "markdown",
   "metadata": {},
   "source": [
    "WHILE"
   ]
  },
  {
   "cell_type": "code",
   "execution_count": 3,
   "metadata": {},
   "outputs": [
    {
     "name": "stdout",
     "output_type": "stream",
     "text": [
      "10\n",
      "9\n",
      "8\n",
      "7\n",
      "6\n",
      "5\n",
      "4\n",
      "3\n",
      "2\n",
      "1\n"
     ]
    }
   ],
   "source": [
    "interacao = 10 \n",
    "while interacao >0:\n",
    "    print(interacao)\n",
    "    interacao -= 1"
   ]
  },
  {
   "cell_type": "markdown",
   "metadata": {},
   "source": [
    "FOR"
   ]
  },
  {
   "cell_type": "code",
   "execution_count": 1,
   "metadata": {},
   "outputs": [
    {
     "name": "stdout",
     "output_type": "stream",
     "text": [
      "0\n",
      "1\n",
      "2\n",
      "3\n",
      "4\n",
      "5\n",
      "6\n",
      "7\n",
      "8\n",
      "9\n"
     ]
    }
   ],
   "source": [
    "for i in range(10):\n",
    "    print(i)"
   ]
  },
  {
   "cell_type": "code",
   "execution_count": 2,
   "metadata": {},
   "outputs": [
    {
     "name": "stdout",
     "output_type": "stream",
     "text": [
      "5\n",
      "6\n",
      "7\n",
      "8\n",
      "9\n"
     ]
    }
   ],
   "source": [
    "for i in range(5,10):\n",
    "    print(i)"
   ]
  },
  {
   "cell_type": "code",
   "execution_count": 5,
   "metadata": {},
   "outputs": [
    {
     "name": "stdout",
     "output_type": "stream",
     "text": [
      "2\n",
      "7\n",
      "12\n",
      "17\n"
     ]
    }
   ],
   "source": [
    "for i in range(2,20,5):\n",
    "    print(i)"
   ]
  },
  {
   "cell_type": "code",
   "execution_count": 7,
   "metadata": {},
   "outputs": [
    {
     "name": "stdout",
     "output_type": "stream",
     "text": [
      "1\n",
      "2\n",
      "3\n",
      "4\n",
      "5\n",
      "6\n",
      "7\n",
      "8\n",
      "9\n"
     ]
    }
   ],
   "source": [
    "texto = \"123456789\"\n",
    "for i in range(0,len(texto)):\n",
    "    print(texto[i])"
   ]
  },
  {
   "cell_type": "code",
   "execution_count": 8,
   "metadata": {},
   "outputs": [
    {
     "name": "stdout",
     "output_type": "stream",
     "text": [
      "Encontrei a letra W na posição 0\n"
     ]
    }
   ],
   "source": [
    "letra = input(\"Digite uma letra:\")\n",
    "texto = input(\"Digite um texto:\")\n",
    "for i in range(0,len(texto)):\n",
    "    if letra == texto[i]:\n",
    "        print(\"Encontrei a letra %s na posição %d\" %(letra,i))\n",
    "        "
   ]
  },
  {
   "cell_type": "code",
   "execution_count": 1,
   "metadata": {},
   "outputs": [
    {
     "name": "stdout",
     "output_type": "stream",
     "text": [
      "O\n",
      "l\n",
      "á\n",
      ",\n",
      " \n",
      "s\n",
      "o\n",
      "u\n",
      " \n",
      "i\n",
      "t\n",
      "e\n",
      "r\n",
      "á\n",
      "v\n",
      "e\n",
      "l\n"
     ]
    }
   ],
   "source": [
    "texto = \"Olá, sou iterável\"\n",
    "for x in texto:\n",
    "    print(x)"
   ]
  },
  {
   "cell_type": "code",
   "execution_count": 2,
   "metadata": {},
   "outputs": [
    {
     "name": "stdout",
     "output_type": "stream",
     "text": [
      "0 0\n",
      "0 1\n",
      "0 2\n",
      "0 3\n",
      "0 4\n",
      "1 0\n",
      "1 1\n",
      "1 2\n",
      "1 3\n",
      "1 4\n",
      "2 0\n",
      "2 1\n",
      "2 2\n",
      "2 3\n",
      "2 4\n"
     ]
    }
   ],
   "source": [
    "for x in range(0,3):\n",
    "    for y in range(0,5):\n",
    "        print(x,y)"
   ]
  },
  {
   "cell_type": "code",
   "execution_count": 4,
   "metadata": {},
   "outputs": [
    {
     "name": "stdout",
     "output_type": "stream",
     "text": [
      "1 X 1 = 1\n",
      "1 X 2 = 2\n",
      "1 X 3 = 3\n",
      "1 X 4 = 4\n",
      "1 X 5 = 5\n",
      "1 X 6 = 6\n",
      "1 X 7 = 7\n",
      "1 X 8 = 8\n",
      "1 X 9 = 9\n",
      "1 X 10 = 10\n",
      "2 X 1 = 2\n",
      "2 X 2 = 4\n",
      "2 X 3 = 6\n",
      "2 X 4 = 8\n",
      "2 X 5 = 10\n",
      "2 X 6 = 12\n",
      "2 X 7 = 14\n",
      "2 X 8 = 16\n",
      "2 X 9 = 18\n",
      "2 X 10 = 20\n",
      "3 X 1 = 3\n",
      "3 X 2 = 6\n",
      "3 X 3 = 9\n",
      "3 X 4 = 12\n",
      "3 X 5 = 15\n",
      "3 X 6 = 18\n",
      "3 X 7 = 21\n",
      "3 X 8 = 24\n",
      "3 X 9 = 27\n",
      "3 X 10 = 30\n"
     ]
    }
   ],
   "source": [
    "for x in range(1,4):\n",
    "    for y in range(1,11):\n",
    "        print(\"%d X %d = %d\" %(x,y,x*y))"
   ]
  },
  {
   "cell_type": "code",
   "execution_count": null,
   "metadata": {},
   "outputs": [],
   "source": []
  }
 ],
 "metadata": {
  "kernelspec": {
   "display_name": "Python 3",
   "language": "python",
   "name": "python3"
  },
  "language_info": {
   "codemirror_mode": {
    "name": "ipython",
    "version": 3
   },
   "file_extension": ".py",
   "mimetype": "text/x-python",
   "name": "python",
   "nbconvert_exporter": "python",
   "pygments_lexer": "ipython3",
   "version": "3.9.2"
  }
 },
 "nbformat": 4,
 "nbformat_minor": 2
}
