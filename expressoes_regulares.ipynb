{
 "cells": [
  {
   "cell_type": "code",
   "execution_count": 1,
   "metadata": {},
   "outputs": [
    {
     "name": "stdout",
     "output_type": "stream",
     "text": [
      "Encontrou ocorrência (2, 3)\n",
      "o que foi encontrado 1\n"
     ]
    }
   ],
   "source": [
    "import re\n",
    "texto = '00123456789'\n",
    "info = re.search('1',texto)\n",
    "if info != None:\n",
    "    print(\"Encontrou ocorrência\",info.span())\n",
    "    print(\"o que foi encontrado\",info.group())\n",
    "else:\n",
    "    print(\"Nada foi encontrado\")    "
   ]
  },
  {
   "cell_type": "code",
   "execution_count": 4,
   "metadata": {},
   "outputs": [
    {
     "name": "stdout",
     "output_type": "stream",
     "text": [
      "['1', '1']\n"
     ]
    }
   ],
   "source": [
    "import re\n",
    "texto = '001234567891'\n",
    "info = re.findall('1',texto)\n",
    "print(info)"
   ]
  },
  {
   "cell_type": "code",
   "execution_count": 5,
   "metadata": {},
   "outputs": [
    {
     "name": "stdout",
     "output_type": "stream",
     "text": [
      "['00', '23456789', '']\n"
     ]
    }
   ],
   "source": [
    "import re\n",
    "texto = '001234567891'\n",
    "info = re.split(\"1\",texto)\n",
    "print(info)"
   ]
  },
  {
   "cell_type": "code",
   "execution_count": 6,
   "metadata": {},
   "outputs": [
    {
     "name": "stdout",
     "output_type": "stream",
     "text": [
      "0023456989#\n"
     ]
    }
   ],
   "source": [
    "import re \n",
    "texto = '00234569891'\n",
    "info = re.sub(\"1\",\"#\",texto)\n",
    "print(info)"
   ]
  },
  {
   "cell_type": "code",
   "execution_count": 22,
   "metadata": {},
   "outputs": [
    {
     "data": {
      "text/plain": [
       "['carro', 'nome', 'Idade']"
      ]
     },
     "execution_count": 22,
     "metadata": {},
     "output_type": "execute_result"
    }
   ],
   "source": [
    "def ler_dados():\n",
    "    dados = {\n",
    "        \"carro\":'ferrari',\n",
    "        \"nome\":\"Saulo\",\n",
    "        \"Idade\":34\n",
    "    }\n",
    "    lista_dados = []\n",
    "    for nomes in dados:\n",
    "        lista_dados.append(nomes)\n",
    "\n",
    "    return lista_dados \n",
    "\n",
    "ler_dados()   "
   ]
  },
  {
   "cell_type": "code",
   "execution_count": 23,
   "metadata": {},
   "outputs": [
    {
     "name": "stdout",
     "output_type": "stream",
     "text": [
      "Encontrado ocorrência (8, 9)\n",
      "O que foi encontrado 6\n"
     ]
    }
   ],
   "source": [
    "import re \n",
    "texto = \"existem 64 predios com 700 metros \"\n",
    "info = re.search('6',texto)\n",
    "if info != None:\n",
    "    print(\"Encontrado ocorrência\",info.span())\n",
    "    print(\"O que foi encontrado\",info.group())\n",
    "else:\n",
    "    print(\"Nada foi encontrado\")\n"
   ]
  },
  {
   "cell_type": "code",
   "execution_count": 24,
   "metadata": {},
   "outputs": [
    {
     "name": "stdout",
     "output_type": "stream",
     "text": [
      "['A', 'e', '3']\n",
      "['A', 'B', 'C', 'D', 'H']\n",
      "['e', 'f', 'g']\n",
      "['1', '2', '3', '4']\n",
      "['A', 'B', 'C', 'D', 'e', 'f', 'g', 'H']\n"
     ]
    }
   ],
   "source": [
    "import re \n",
    "texto = \"ABCDefgH1234\"\n",
    "\n",
    "info1 = re.findall('[Ae3]',texto)\n",
    "info2 = re.findall('[A-Z]',texto)\n",
    "info3 = re.findall('[a-z]',texto)\n",
    "info4 = re.findall('[0-9]',texto)\n",
    "info5 = re.findall('[A-Za-z]',texto)\n",
    "print(info1)\n",
    "print(info2)\n",
    "print(info3)\n",
    "print(info4)\n",
    "print(info5)"
   ]
  },
  {
   "cell_type": "code",
   "execution_count": 25,
   "metadata": {},
   "outputs": [
    {
     "name": "stdout",
     "output_type": "stream",
     "text": [
      "['predios', 'metros']\n"
     ]
    }
   ],
   "source": [
    "import re \n",
    "texto = \"existem 64 predios com 700 metros\"\n",
    "info = re.findall('predios|metros',texto)\n",
    "print(info)"
   ]
  },
  {
   "cell_type": "code",
   "execution_count": null,
   "metadata": {},
   "outputs": [
    {
     "name": "stdout",
     "output_type": "stream",
     "text": [
      "This is taking too long, we give up.\n",
      "\n"
     ]
    }
   ],
   "source": [
    "import re \n",
    "texto = \"ABCDefgH1234\"\n",
    "info = re.findall('[A-Z]|[0-9]',texto)\n",
    "print(info)"
   ]
  },
  {
   "cell_type": "code",
   "execution_count": 27,
   "metadata": {},
   "outputs": [
    {
     "name": "stdout",
     "output_type": "stream",
     "text": [
      "Encontrado ocorrência em  (0, 7)\n",
      " o que foi encontrado: existem\n"
     ]
    }
   ],
   "source": [
    "import re \n",
    "texto = \"existem 64 predios com 700 metros\"\n",
    "info = re.search(\"^existem\",texto)\n",
    "if info != None:\n",
    "    print(\"Encontrado ocorrência em \",info.span())\n",
    "    print(\" o que foi encontrado:\",info.group())\n",
    "    "
   ]
  }
 ],
 "metadata": {
  "kernelspec": {
   "display_name": "Python 3",
   "language": "python",
   "name": "python3"
  },
  "language_info": {
   "codemirror_mode": {
    "name": "ipython",
    "version": 3
   },
   "file_extension": ".py",
   "mimetype": "text/x-python",
   "name": "python",
   "nbconvert_exporter": "python",
   "pygments_lexer": "ipython3",
   "version": "3.9.2"
  }
 },
 "nbformat": 4,
 "nbformat_minor": 2
}
