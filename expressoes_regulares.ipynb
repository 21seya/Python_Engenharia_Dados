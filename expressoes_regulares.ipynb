{
 "cells": [
  {
   "cell_type": "code",
   "execution_count": 1,
   "metadata": {},
   "outputs": [
    {
     "name": "stdout",
     "output_type": "stream",
     "text": [
      "Encontrou ocorrência (2, 3)\n",
      "o que foi encontrado 1\n"
     ]
    }
   ],
   "source": [
    "import re\n",
    "texto = '00123456789'\n",
    "info = re.search('1',texto)\n",
    "if info != None:\n",
    "    print(\"Encontrou ocorrência\",info.span())\n",
    "    print(\"o que foi encontrado\",info.group())\n",
    "else:\n",
    "    print(\"Nada foi encontrado\")    "
   ]
  },
  {
   "cell_type": "code",
   "execution_count": 4,
   "metadata": {},
   "outputs": [
    {
     "name": "stdout",
     "output_type": "stream",
     "text": [
      "['1', '1']\n"
     ]
    }
   ],
   "source": [
    "import re\n",
    "texto = '001234567891'\n",
    "info = re.findall('1',texto)\n",
    "print(info)"
   ]
  },
  {
   "cell_type": "code",
   "execution_count": 5,
   "metadata": {},
   "outputs": [
    {
     "name": "stdout",
     "output_type": "stream",
     "text": [
      "['00', '23456789', '']\n"
     ]
    }
   ],
   "source": [
    "import re\n",
    "texto = '001234567891'\n",
    "info = re.split(\"1\",texto)\n",
    "print(info)"
   ]
  },
  {
   "cell_type": "code",
   "execution_count": 6,
   "metadata": {},
   "outputs": [
    {
     "name": "stdout",
     "output_type": "stream",
     "text": [
      "0023456989#\n"
     ]
    }
   ],
   "source": [
    "import re \n",
    "texto = '00234569891'\n",
    "info = re.sub(\"1\",\"#\",texto)\n",
    "print(info)"
   ]
  },
  {
   "cell_type": "code",
   "execution_count": 22,
   "metadata": {},
   "outputs": [
    {
     "data": {
      "text/plain": [
       "['carro', 'nome', 'Idade']"
      ]
     },
     "execution_count": 22,
     "metadata": {},
     "output_type": "execute_result"
    }
   ],
   "source": [
    "def ler_dados():\n",
    "    dados = {\n",
    "        \"carro\":'ferrari',\n",
    "        \"nome\":\"Saulo\",\n",
    "        \"Idade\":34\n",
    "    }\n",
    "    lista_dados = []\n",
    "    for nomes in dados:\n",
    "        lista_dados.append(nomes)\n",
    "\n",
    "    return lista_dados \n",
    "\n",
    "ler_dados()   "
   ]
  },
  {
   "cell_type": "code",
   "execution_count": 19,
   "metadata": {},
   "outputs": [
    {
     "name": "stdout",
     "output_type": "stream",
     "text": [
      "[('carro', 'ferrari'), ('nome', 'Saulo'), ('Idade', 34)]\n"
     ]
    }
   ],
   "source": [
    "def ler_dados():\n",
    "    dados = {\n",
    "        \"carro\": 'ferrari',\n",
    "        \"nome\": \"Saulo\",\n",
    "        \"Idade\": 34\n",
    "    }\n",
    "    \n",
    "    lista_dados = []\n",
    "    for chave, valor in dados.items():\n",
    "        lista_dados.append((chave, valor))  # Armazenando a chave e o valor em tupla\n",
    "\n",
    "    return lista_dados\n",
    "\n",
    "# Chamando a função e imprimindo o resultado\n",
    "print(ler_dados())\n"
   ]
  },
  {
   "cell_type": "code",
   "execution_count": 23,
   "metadata": {},
   "outputs": [
    {
     "name": "stdout",
     "output_type": "stream",
     "text": [
      "Encontrado ocorrência (8, 9)\n",
      "O que foi encontrado 6\n"
     ]
    }
   ],
   "source": [
    "import re \n",
    "texto = \"existem 64 predios com 700 metros \"\n",
    "info = re.search('6',texto)\n",
    "if info != None:\n",
    "    print(\"Encontrado ocorrência\",info.span())\n",
    "    print(\"O que foi encontrado\",info.group())\n",
    "else:\n",
    "    print(\"Nada foi encontrado\")\n"
   ]
  },
  {
   "cell_type": "code",
   "execution_count": 24,
   "metadata": {},
   "outputs": [
    {
     "name": "stdout",
     "output_type": "stream",
     "text": [
      "['A', 'e', '3']\n",
      "['A', 'B', 'C', 'D', 'H']\n",
      "['e', 'f', 'g']\n",
      "['1', '2', '3', '4']\n",
      "['A', 'B', 'C', 'D', 'e', 'f', 'g', 'H']\n"
     ]
    }
   ],
   "source": [
    "import re \n",
    "texto = \"ABCDefgH1234\"\n",
    "\n",
    "info1 = re.findall('[Ae3]',texto)\n",
    "info2 = re.findall('[A-Z]',texto)\n",
    "info3 = re.findall('[a-z]',texto)\n",
    "info4 = re.findall('[0-9]',texto)\n",
    "info5 = re.findall('[A-Za-z]',texto)\n",
    "print(info1)\n",
    "print(info2)\n",
    "print(info3)\n",
    "print(info4)\n",
    "print(info5)"
   ]
  },
  {
   "cell_type": "code",
   "execution_count": 25,
   "metadata": {},
   "outputs": [
    {
     "name": "stdout",
     "output_type": "stream",
     "text": [
      "['predios', 'metros']\n"
     ]
    }
   ],
   "source": [
    "import re \n",
    "texto = \"existem 64 predios com 700 metros\"\n",
    "info = re.findall('predios|metros',texto)\n",
    "print(info)"
   ]
  },
  {
   "cell_type": "code",
   "execution_count": null,
   "metadata": {},
   "outputs": [
    {
     "name": "stdout",
     "output_type": "stream",
     "text": [
      "This is taking too long, we give up.\n",
      "\n"
     ]
    }
   ],
   "source": [
    "import re \n",
    "texto = \"ABCDefgH1234\"\n",
    "info = re.findall('[A-Z]|[0-9]',texto)\n",
    "print(info)"
   ]
  },
  {
   "cell_type": "code",
   "execution_count": 27,
   "metadata": {},
   "outputs": [
    {
     "name": "stdout",
     "output_type": "stream",
     "text": [
      "Encontrado ocorrência em  (0, 7)\n",
      " o que foi encontrado: existem\n"
     ]
    }
   ],
   "source": [
    "import re \n",
    "texto = \"existem 64 predios com 700 metros\"\n",
    "info = re.search(\"^existem\",texto)\n",
    "if info != None:\n",
    "    print(\"Encontrado ocorrência em \",info.span())\n",
    "    print(\" o que foi encontrado:\",info.group())\n",
    "    "
   ]
  },
  {
   "cell_type": "code",
   "execution_count": 1,
   "metadata": {},
   "outputs": [
    {
     "name": "stdout",
     "output_type": "stream",
     "text": [
      "Encontrou ocorrência (0, 6)\n",
      "o que foi encontrado abbabb\n"
     ]
    }
   ],
   "source": [
    "import re\n",
    "texto = 'abbabb'\n",
    "info = re.search('(abb)+',texto)\n",
    "if info != None:\n",
    "    print(\"Encontrou ocorrência\",info.span())\n",
    "    print(\"o que foi encontrado\",info.group())\n",
    "else:\n",
    "    print(\"Nada foi encontrado\") "
   ]
  },
  {
   "cell_type": "code",
   "execution_count": 2,
   "metadata": {},
   "outputs": [
    {
     "name": "stdout",
     "output_type": "stream",
     "text": [
      "Encontrou ocorrência (1, 3)\n",
      "o que foi encontrado bb\n"
     ]
    }
   ],
   "source": [
    "import re\n",
    "texto = 'abbabbabbbbbbacccaa'\n",
    "info = re.search('(aa|bb)+',texto)\n",
    "if info != None:\n",
    "    print(\"Encontrou ocorrência\",info.span())\n",
    "    print(\"o que foi encontrado\",info.group())\n",
    "else:\n",
    "    print(\"Nada foi encontrado\") "
   ]
  },
  {
   "cell_type": "code",
   "execution_count": 3,
   "metadata": {},
   "outputs": [
    {
     "name": "stdout",
     "output_type": "stream",
     "text": [
      "Encontrou ocorrência (7, 11)\n",
      "o que foi encontrado bbbb\n"
     ]
    }
   ],
   "source": [
    "import re\n",
    "texto = 'abbabbabbbbbbacccaa'\n",
    "info = re.search('(aa|bb){2}',texto)\n",
    "if info != None:\n",
    "    print(\"Encontrou ocorrência\",info.span())\n",
    "    print(\"o que foi encontrado\",info.group())\n",
    "else:\n",
    "    print(\"Nada foi encontrado\")"
   ]
  },
  {
   "cell_type": "code",
   "execution_count": 4,
   "metadata": {},
   "outputs": [
    {
     "name": "stdout",
     "output_type": "stream",
     "text": [
      "Encontrou ocorrência (0, 0)\n",
      "o que foi encontrado \n"
     ]
    }
   ],
   "source": [
    "import re\n",
    "texto = 'abc'\n",
    "info = re.search('(aa|bb)*',texto)\n",
    "if info != None:\n",
    "    print(\"Encontrou ocorrência\",info.span())\n",
    "    print(\"o que foi encontrado\",info.group())\n",
    "else:\n",
    "    print(\"Nada foi encontrado\")"
   ]
  },
  {
   "cell_type": "code",
   "execution_count": 5,
   "metadata": {},
   "outputs": [
    {
     "name": "stdout",
     "output_type": "stream",
     "text": [
      "Encontrou ocorrência (0, 2)\n",
      "o que foi encontrado bb\n"
     ]
    }
   ],
   "source": [
    "import re\n",
    "texto = 'bbc'\n",
    "info = re.search('(aa|bb)*',texto)\n",
    "if info != None:\n",
    "    print(\"Encontrou ocorrência\",info.span())\n",
    "    print(\"o que foi encontrado\",info.group())\n",
    "else:\n",
    "    print(\"Nada foi encontrado\")"
   ]
  },
  {
   "cell_type": "code",
   "execution_count": 6,
   "metadata": {},
   "outputs": [
    {
     "name": "stdout",
     "output_type": "stream",
     "text": [
      "Nada foi encontrado\n"
     ]
    }
   ],
   "source": [
    "import re\n",
    "texto = 'abc'\n",
    "info = re.search('(aa|bb)',texto)\n",
    "if info != None:\n",
    "    print(\"Encontrou ocorrência\",info.span())\n",
    "    print(\"o que foi encontrado\",info.group())\n",
    "else:\n",
    "    print(\"Nada foi encontrado\")"
   ]
  },
  {
   "cell_type": "code",
   "execution_count": 7,
   "metadata": {},
   "outputs": [
    {
     "name": "stdout",
     "output_type": "stream",
     "text": [
      "Encontrou ocorrência (0, 2)\n",
      "o que foi encontrado aa\n"
     ]
    }
   ],
   "source": [
    "import re\n",
    "texto = 'aa'\n",
    "info = re.search('^(aa)?$',texto)\n",
    "if info != None:\n",
    "    print(\"Encontrou ocorrência\",info.span())\n",
    "    print(\"o que foi encontrado\",info.group())\n",
    "else:\n",
    "    print(\"Nada foi encontrado\")"
   ]
  },
  {
   "cell_type": "code",
   "execution_count": 1,
   "metadata": {},
   "outputs": [
    {
     "name": "stdout",
     "output_type": "stream",
     "text": [
      "Encontrou ocorrência (0, 0)\n",
      "o que foi encontrado \n"
     ]
    }
   ],
   "source": [
    "import re\n",
    "texto = ''\n",
    "info = re.search('^(aa)?$',texto)\n",
    "if info != None:\n",
    "    print(\"Encontrou ocorrência\",info.span())\n",
    "    print(\"o que foi encontrado\",info.group())\n",
    "else:\n",
    "    print(\"Nada foi encontrado\")"
   ]
  },
  {
   "cell_type": "code",
   "execution_count": 9,
   "metadata": {},
   "outputs": [
    {
     "name": "stdout",
     "output_type": "stream",
     "text": [
      "Encontrou ocorrência (0, 6)\n",
      "o que foi encontrado aaaaaa\n"
     ]
    }
   ],
   "source": [
    "import re\n",
    "texto = 'aaaaaa'\n",
    "info = re.search('^(aa){2,3}$',texto)\n",
    "if info != None:\n",
    "    print(\"Encontrou ocorrência\",info.span())\n",
    "    print(\"o que foi encontrado\",info.group())\n",
    "else:\n",
    "    print(\"Nada foi encontrado\")"
   ]
  },
  {
   "cell_type": "code",
   "execution_count": 14,
   "metadata": {},
   "outputs": [
    {
     "name": "stdout",
     "output_type": "stream",
     "text": [
      "Encontrou ocorrência (0, 7)\n",
      "o que foi encontrado xxxxxxx\n"
     ]
    }
   ],
   "source": [
    "import re\n",
    "texto = 'xxxxxxx'\n",
    "info = re.search('^x{,7}$',texto)\n",
    "if info != None:\n",
    "    print(\"Encontrou ocorrência\",info.span())\n",
    "    print(\"o que foi encontrado\",info.group())\n",
    "else:\n",
    "    print(\"Nada foi encontrado\")"
   ]
  },
  {
   "cell_type": "code",
   "execution_count": 1,
   "metadata": {},
   "outputs": [
    {
     "name": "stdout",
     "output_type": "stream",
     "text": [
      "Encontrada ocorrência em  (0, 1)\n",
      "O qie foi encontrado 0\n"
     ]
    }
   ],
   "source": [
    "import re \n",
    "\n",
    "texto = '01234 ABC'\n",
    "info = re.search(\"[0-9]\",texto)\n",
    "\n",
    "if info != None:\n",
    "    print(\"Encontrada ocorrência em \",info.span())\n",
    "    print(\"O qie foi encontrado\",info.group())\n",
    "    "
   ]
  },
  {
   "cell_type": "code",
   "execution_count": 2,
   "metadata": {},
   "outputs": [
    {
     "name": "stdout",
     "output_type": "stream",
     "text": [
      "Encontrada ocorrência em  (5, 9)\n",
      "O qie foi encontrado  ABC\n"
     ]
    }
   ],
   "source": [
    "import re \n",
    "\n",
    "texto = '01234 ABC'\n",
    "info = re.search(\"\\D+\",texto)\n",
    "\n",
    "if info != None:\n",
    "    print(\"Encontrada ocorrência em \",info.span())\n",
    "    print(\"O qie foi encontrado\",info.group())"
   ]
  },
  {
   "cell_type": "code",
   "execution_count": 4,
   "metadata": {},
   "outputs": [
    {
     "name": "stdout",
     "output_type": "stream",
     "text": [
      "Temperatura invalida\n"
     ]
    }
   ],
   "source": [
    "import re\n",
    "texto = '-10 C*'\n",
    "\n",
    "info = re.search('^(-)?[0-9]+C*$',texto)\n",
    "\n",
    "if info != None:\n",
    "    print(\"Temperatura valida\")\n",
    "else:\n",
    "    print(\"Temperatura invalida\")    "
   ]
  },
  {
   "cell_type": "code",
   "execution_count": 6,
   "metadata": {},
   "outputs": [
    {
     "name": "stdout",
     "output_type": "stream",
     "text": [
      "Temperatura valida\n"
     ]
    }
   ],
   "source": [
    "import re\n",
    "texto = '99224466'\n",
    "\n",
    "info = re.search('^99([0-9]{6})$',texto)\n",
    "\n",
    "if info != None:\n",
    "    print(\"Temperatura valida\")\n",
    "else:\n",
    "    print(\"Temperatura invalida\")"
   ]
  },
  {
   "cell_type": "code",
   "execution_count": 10,
   "metadata": {},
   "outputs": [
    {
     "name": "stdout",
     "output_type": "stream",
     "text": [
      "Encontrada ocorrência em  (0, 11)\n",
      "O qie foi encontrado Texto teste\n"
     ]
    }
   ],
   "source": [
    "import re \n",
    "texto = \"Texto teste\"\n",
    "\n",
    "info = re.search('^[A-Za-z]+ +[A-Za-z]+ *$',texto)\n",
    "if info != None:\n",
    "    print(\"Encontrada ocorrência em \",info.span())\n",
    "    print(\"O qie foi encontrado\",info.group())\n",
    "else:\n",
    "    print(\"Padrão Não encontrado\")"
   ]
  },
  {
   "cell_type": "code",
   "execution_count": 11,
   "metadata": {},
   "outputs": [
    {
     "name": "stdout",
     "output_type": "stream",
     "text": [
      "Data Valida\n"
     ]
    }
   ],
   "source": [
    "texto = '30/12/1998'\n",
    "\n",
    "info = re.search(\"^([0-2][0-9] |[3][0-1])/([0][1-9] |[1][0-2])/([0-9]){4}$\",texto)\n",
    "if info != None:\n",
    "    print(\"Data Valida\")\n",
    "else:\n",
    "    print(\"Data Invalida\")\n"
   ]
  },
  {
   "cell_type": "code",
   "execution_count": null,
   "metadata": {},
   "outputs": [
    {
     "name": "stdout",
     "output_type": "stream",
     "text": [
      "Não e um vogal\n",
      "None\n"
     ]
    }
   ],
   "source": [
    "def ler_vogais(letras):\n",
    "    vogais = 'aeiou'\n",
    "    if letras == vogais:\n",
    "        print(\"E uma vogal\")\n",
    "    elif letras != vogais:\n",
    "        print(\"Não e um vogal\")    \n",
    "    \n",
    "ler = ler_vogais('c') \n",
    "print(ler)   "
   ]
  },
  {
   "cell_type": "code",
   "execution_count": null,
   "metadata": {},
   "outputs": [
    {
     "ename": "",
     "evalue": "",
     "output_type": "error",
     "traceback": [
      "\u001b[1;31mFailed to start the Kernel. \n",
      "\u001b[1;31mUnable to start Kernel 'Python 3.9.2' due to a timeout waiting for the ports to get used. \n",
      "\u001b[1;31mView Jupyter <a href='command:jupyter.viewOutput'>log</a> for further details."
     ]
    }
   ],
   "source": [
    "def ler_vogais(letra):\n",
    "    vogais = 'aeiou'\n",
    "    \n",
    "    if letra.lower() in vogais:  # Verifica se a letra está em 'aeiou', ignorando maiúsculas/minúsculas\n",
    "        return \"É uma vogal\"\n",
    "    else:\n",
    "        return \"Não é uma vogal\"\n",
    "    \n",
    "# Exemplos de uso\n",
    "print(ler_vogais('a'))  # Deve retornar \"É uma vogal\"\n",
    "print(ler_vogais('b'))  # Deve retornar \"Não é uma vogal\"\n",
    "print(ler_vogais('E'))  # Deve retornar \"É uma vogal\"\n",
    "print(ler_vogais('z'))  # Deve retornar \"Não é uma vogal\"\n"
   ]
  }
 ],
 "metadata": {
  "kernelspec": {
   "display_name": "Python 3",
   "language": "python",
   "name": "python3"
  },
  "language_info": {
   "codemirror_mode": {
    "name": "ipython",
    "version": 3
   },
   "file_extension": ".py",
   "mimetype": "text/x-python",
   "name": "python",
   "nbconvert_exporter": "python",
   "pygments_lexer": "ipython3",
   "version": "3.9.2"
  }
 },
 "nbformat": 4,
 "nbformat_minor": 2
}
