{
 "cells": [
  {
   "cell_type": "code",
   "execution_count": 1,
   "metadata": {},
   "outputs": [
    {
     "name": "stdout",
     "output_type": "stream",
     "text": [
      "1\n",
      "2\n",
      "3\n",
      "4\n"
     ]
    }
   ],
   "source": [
    "lista = [1,2,3,4]\n",
    "iterador = iter(lista)\n",
    "print(next(iterador))\n",
    "print(next(iterador))\n",
    "print(next(iterador))\n",
    "print(next(iterador))"
   ]
  },
  {
   "cell_type": "code",
   "execution_count": 2,
   "metadata": {},
   "outputs": [
    {
     "name": "stdout",
     "output_type": "stream",
     "text": [
      "<class 'list_iterator'>\n"
     ]
    }
   ],
   "source": [
    "print(type(iterador))"
   ]
  },
  {
   "cell_type": "code",
   "execution_count": 3,
   "metadata": {},
   "outputs": [
    {
     "name": "stdout",
     "output_type": "stream",
     "text": [
      "1\n",
      "2\n",
      "3\n",
      "4\n"
     ]
    }
   ],
   "source": [
    "lista = [1,2,3,4]\n",
    "for item in lista:\n",
    "    print(item)"
   ]
  },
  {
   "cell_type": "code",
   "execution_count": 4,
   "metadata": {},
   "outputs": [
    {
     "name": "stdout",
     "output_type": "stream",
     "text": [
      "False\n"
     ]
    }
   ],
   "source": [
    "lista = [1,2,3,4]\n",
    "print(1 not in lista)"
   ]
  },
  {
   "cell_type": "code",
   "execution_count": 5,
   "metadata": {},
   "outputs": [
    {
     "name": "stdout",
     "output_type": "stream",
     "text": [
      "0\n",
      "1\n",
      "2\n",
      "3\n",
      "4\n",
      "5\n",
      "6\n"
     ]
    }
   ],
   "source": [
    "class ColecaoNumeros:\n",
    "    def __init__(self,numero_max):\n",
    "        self.max = numero_max\n",
    "    def __iter__(self):\n",
    "        self.numero_atual = 0\n",
    "        return self \n",
    "\n",
    "    def __next__(self):\n",
    "        if self.numero_atual <= self.max:\n",
    "            retorno = self.numero_atual\n",
    "            self.numero_atual += 1 \n",
    "            return retorno\n",
    "        else:\n",
    "            raise StopIteration \n",
    "\n",
    "colecao = ColecaoNumeros(6)\n",
    "\n",
    "for item in colecao:\n",
    "    print(item)\n"
   ]
  },
  {
   "cell_type": "code",
   "execution_count": 6,
   "metadata": {},
   "outputs": [
    {
     "name": "stdout",
     "output_type": "stream",
     "text": [
      "True\n"
     ]
    }
   ],
   "source": [
    "class ColecaoNumeros:\n",
    "    def __init__(self,numero_max):\n",
    "        self.max = numero_max\n",
    "    def __iter__(self):\n",
    "        self.numero_atual = 0\n",
    "        return self \n",
    "\n",
    "    def __next__(self):\n",
    "        if self.numero_atual <= self.max:\n",
    "            retorno = self.numero_atual\n",
    "            self.numero_atual += 1 \n",
    "            return retorno\n",
    "        else:\n",
    "            raise StopIteration \n",
    "\n",
    "colecao = ColecaoNumeros(6)\n",
    "\n",
    "print(2 in colecao)"
   ]
  },
  {
   "cell_type": "code",
   "execution_count": 9,
   "metadata": {},
   "outputs": [
    {
     "name": "stdout",
     "output_type": "stream",
     "text": [
      "0\n",
      "1\n",
      "2\n",
      "3\n",
      "4\n",
      "5\n"
     ]
    }
   ],
   "source": [
    "class ColecaoNumeros:\n",
    "    def __init__(self,numero_max):\n",
    "        self.max = numero_max\n",
    "    def __iter__(self):\n",
    "        self.numero_atual = 0\n",
    "        return self \n",
    "\n",
    "    def __next__(self):\n",
    "        if self.numero_atual <= self.max:\n",
    "            retorno = self.numero_atual\n",
    "            self.numero_atual += 1 \n",
    "            return retorno\n",
    "        else:\n",
    "            raise StopIteration \n",
    "\n",
    "colecao = ColecaoNumeros(6)\n",
    "\n",
    "iterador = iter(colecao)\n",
    "print(next(iterador))\n",
    "print(next(iterador))\n",
    "print(next(iterador))\n",
    "print(next(iterador))\n",
    "print(next(iterador))\n",
    "print(next(iterador))"
   ]
  },
  {
   "cell_type": "code",
   "execution_count": 10,
   "metadata": {},
   "outputs": [
    {
     "name": "stdout",
     "output_type": "stream",
     "text": [
      "1\n",
      "2\n",
      "3\n"
     ]
    }
   ],
   "source": [
    "def ancora():\n",
    "    yield 1 \n",
    "    yield 2 \n",
    "    yield 3 \n",
    "\n",
    "for item in ancora():\n",
    "    print(item)\n"
   ]
  },
  {
   "cell_type": "code",
   "execution_count": 11,
   "metadata": {},
   "outputs": [
    {
     "name": "stdout",
     "output_type": "stream",
     "text": [
      "False\n",
      "True\n"
     ]
    }
   ],
   "source": [
    "def ancora():\n",
    "    yield 1 \n",
    "    yield 2 \n",
    "    yield 3 \n",
    "\n",
    "print(10 in ancora())\n",
    "print(2 in ancora())"
   ]
  },
  {
   "cell_type": "code",
   "execution_count": 13,
   "metadata": {},
   "outputs": [
    {
     "name": "stdout",
     "output_type": "stream",
     "text": [
      "1\n",
      "2\n",
      "3\n"
     ]
    }
   ],
   "source": [
    "def ancora():\n",
    "    yield 1 \n",
    "    yield 2 \n",
    "    yield 3 \n",
    "\n",
    "func = ancora()\n",
    "\n",
    "print(next(func))\n",
    "print(next(func))\n",
    "print(next(func))"
   ]
  },
  {
   "cell_type": "code",
   "execution_count": 14,
   "metadata": {},
   "outputs": [
    {
     "name": "stdout",
     "output_type": "stream",
     "text": [
      "0\n",
      "1\n",
      "2\n",
      "3\n",
      "4\n",
      "5\n",
      "6\n",
      "7\n",
      "8\n",
      "9\n"
     ]
    }
   ],
   "source": [
    "for i in range(10):\n",
    "    print(i)"
   ]
  },
  {
   "cell_type": "code",
   "execution_count": 15,
   "metadata": {},
   "outputs": [
    {
     "name": "stdout",
     "output_type": "stream",
     "text": [
      "0\n",
      "1\n",
      "2\n",
      "3\n",
      "4\n",
      "5\n",
      "6\n",
      "7\n",
      "8\n",
      "9\n"
     ]
    }
   ],
   "source": [
    "def meu_range(num):\n",
    "    local_num = 0\n",
    "    while local_num < num:\n",
    "        yield local_num\n",
    "        local_num += 1 \n",
    "\n",
    "for i in meu_range(10):\n",
    "    print(i)"
   ]
  },
  {
   "cell_type": "code",
   "execution_count": 16,
   "metadata": {},
   "outputs": [
    {
     "name": "stdout",
     "output_type": "stream",
     "text": [
      "(0, 'a')\n",
      "(1, 'b')\n",
      "(2, 'c')\n"
     ]
    }
   ],
   "source": [
    "lista = ['a','b','c']\n",
    "\n",
    "for item in enumerate(lista):\n",
    "    print(item)"
   ]
  },
  {
   "cell_type": "code",
   "execution_count": 17,
   "metadata": {},
   "outputs": [
    {
     "name": "stdout",
     "output_type": "stream",
     "text": [
      "0 a\n",
      "1 b\n",
      "2 c\n"
     ]
    }
   ],
   "source": [
    "lista = ['a','b','c']\n",
    "\n",
    "for indice , valor in enumerate(lista):\n",
    "    print(indice,valor)"
   ]
  },
  {
   "cell_type": "code",
   "execution_count": 18,
   "metadata": {},
   "outputs": [
    {
     "name": "stdout",
     "output_type": "stream",
     "text": [
      "0 2000\n",
      "1 2001\n",
      "2 2002\n",
      "3 2003\n",
      "4 2004\n",
      "5 2005\n"
     ]
    }
   ],
   "source": [
    "def anos():\n",
    "    yield '2000'\n",
    "    yield '2001'\n",
    "    yield '2002'\n",
    "    yield '2003'\n",
    "    yield '2004'\n",
    "    yield '2005'\n",
    "\n",
    "\n",
    "for indice , valor in enumerate(anos()):\n",
    "    print(indice,valor)\n"
   ]
  },
  {
   "cell_type": "code",
   "execution_count": 20,
   "metadata": {},
   "outputs": [
    {
     "name": "stdout",
     "output_type": "stream",
     "text": [
      "0 0\n",
      "1 5\n",
      "2 10\n",
      "3 15\n"
     ]
    }
   ],
   "source": [
    "for indice,valor in enumerate(range(0,20,5)):\n",
    "    print(indice,valor)"
   ]
  },
  {
   "cell_type": "code",
   "execution_count": 21,
   "metadata": {},
   "outputs": [
    {
     "name": "stdout",
     "output_type": "stream",
     "text": [
      "carro 200,00\n",
      "cadeira 1000\n",
      "moto 33000\n",
      "geladeira 2000\n",
      "armario 1500\n"
     ]
    }
   ],
   "source": [
    "produtos = [\n",
    "    ['carro','200,00'],\n",
    "    ['cadeira','1000'],\n",
    "    ['moto','33000'],\n",
    "    ['geladeira','2000'],\n",
    "    ['armario','1500']\n",
    "]\n",
    "\n",
    "for produto,valor in produtos:\n",
    "    print(produto,valor)\n"
   ]
  },
  {
   "cell_type": "code",
   "execution_count": 22,
   "metadata": {},
   "outputs": [
    {
     "name": "stdout",
     "output_type": "stream",
     "text": [
      "1 2\n",
      "3 4\n",
      "5 6\n"
     ]
    }
   ],
   "source": [
    "def gen1():\n",
    "    yield [1,2]\n",
    "    yield [3,4]\n",
    "    yield [5,6]\n",
    "\n",
    "for x,y in gen1():\n",
    "    print(x,y)    "
   ]
  },
  {
   "cell_type": "code",
   "execution_count": 24,
   "metadata": {},
   "outputs": [
    {
     "name": "stdout",
     "output_type": "stream",
     "text": [
      "1 a\n",
      "1 b\n",
      "1 c\n",
      "2 a\n",
      "2 b\n",
      "2 c\n",
      "3 a\n",
      "3 b\n",
      "3 c\n"
     ]
    }
   ],
   "source": [
    "def gen2():\n",
    "    yield 1 \n",
    "    yield 2 \n",
    "    yield 3 \n",
    "\n",
    "def gen3():\n",
    "    for i in gen2():\n",
    "        yield i,'a'\n",
    "        yield i,'b'\n",
    "        yield i,'c'\n",
    "\n",
    "for x,y in gen3():\n",
    "    print(x,y) "
   ]
  },
  {
   "cell_type": "code",
   "execution_count": 1,
   "metadata": {},
   "outputs": [
    {
     "name": "stdout",
     "output_type": "stream",
     "text": [
      "o#l#a\n"
     ]
    }
   ],
   "source": [
    "texto1 = 'ola'\n",
    "print(\"#\".join(texto1))"
   ]
  },
  {
   "cell_type": "code",
   "execution_count": 5,
   "metadata": {},
   "outputs": [
    {
     "name": "stdout",
     "output_type": "stream",
     "text": [
      "a b c d\n"
     ]
    }
   ],
   "source": [
    "lista = ['a','b','c','d']\n",
    "letras = ' ' .join(lista)\n",
    "print(letras)"
   ]
  },
  {
   "cell_type": "code",
   "execution_count": 6,
   "metadata": {},
   "outputs": [
    {
     "name": "stdout",
     "output_type": "stream",
     "text": [
      "a-b-c-d\n"
     ]
    }
   ],
   "source": [
    "letras = '-'.join(lista)\n",
    "print(letras)"
   ]
  },
  {
   "cell_type": "code",
   "execution_count": 7,
   "metadata": {},
   "outputs": [
    {
     "name": "stdout",
     "output_type": "stream",
     "text": [
      "0-1-2-3-4-5-6-7-8-9\n"
     ]
    }
   ],
   "source": [
    "letras = '-'.join([str(i) for i in range(10)])\n",
    "print(letras)"
   ]
  },
  {
   "cell_type": "code",
   "execution_count": 8,
   "metadata": {},
   "outputs": [
    {
     "name": "stdout",
     "output_type": "stream",
     "text": [
      "2020-2021-2022-2023-2024-2025-2026-2027-2028-2029\n"
     ]
    }
   ],
   "source": [
    "def anos():\n",
    "    for i in range(2020,2030):\n",
    "        yield str(i)\n",
    "\n",
    "letras = '-'.join(anos())\n",
    "print(letras)        "
   ]
  },
  {
   "cell_type": "code",
   "execution_count": 11,
   "metadata": {},
   "outputs": [
    {
     "name": "stdout",
     "output_type": "stream",
     "text": [
      "1\n",
      "2\n",
      "3\n"
     ]
    }
   ],
   "source": [
    "lista = [1,2,3]\n",
    "iterador = iter(lista)\n",
    "print(next(iterador))\n",
    "print(next(iterador))\n",
    "print(next(iterador))\n"
   ]
  },
  {
   "cell_type": "code",
   "execution_count": 14,
   "metadata": {},
   "outputs": [
    {
     "name": "stdout",
     "output_type": "stream",
     "text": [
      "1\n",
      "2\n",
      "3\n",
      "4\n",
      "5\n"
     ]
    }
   ],
   "source": [
    "lista = [1,2,3,4,5]\n",
    "\n",
    "iterador = iter(lista)\n",
    "\n",
    "while True:\n",
    "    try:\n",
    "        print(next(iterador))\n",
    "    except:\n",
    "        break\n",
    "\n"
   ]
  },
  {
   "cell_type": "code",
   "execution_count": null,
   "metadata": {},
   "outputs": [],
   "source": []
  }
 ],
 "metadata": {
  "kernelspec": {
   "display_name": "Python 3",
   "language": "python",
   "name": "python3"
  },
  "language_info": {
   "codemirror_mode": {
    "name": "ipython",
    "version": 3
   },
   "file_extension": ".py",
   "mimetype": "text/x-python",
   "name": "python",
   "nbconvert_exporter": "python",
   "pygments_lexer": "ipython3",
   "version": "3.9.2"
  }
 },
 "nbformat": 4,
 "nbformat_minor": 2
}
