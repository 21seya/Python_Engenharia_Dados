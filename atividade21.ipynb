{
 "cells": [
  {
   "cell_type": "markdown",
   "id": "33055172",
   "metadata": {},
   "source": [
    "# 1 - Crie um array com os números de 0 a 9 , utilize somente 1 dimensão \n"
   ]
  },
  {
   "cell_type": "code",
   "execution_count": 2,
   "id": "fdcfa693",
   "metadata": {},
   "outputs": [
    {
     "name": "stdout",
     "output_type": "stream",
     "text": [
      "[0 1 2 3 4 5 6 7 8 9]\n"
     ]
    }
   ],
   "source": [
    "import numpy as np \n",
    "array = np.arange(10)\n",
    "print(array)"
   ]
  },
  {
   "cell_type": "markdown",
   "id": "53e6aad9",
   "metadata": {},
   "source": [
    "# 2 - Crie um array com os números de 0 a 9 como o exercicio anterior , mas utilize List Compreensions"
   ]
  },
  {
   "cell_type": "code",
   "execution_count": 1,
   "id": "6be98ce3",
   "metadata": {},
   "outputs": [
    {
     "name": "stdout",
     "output_type": "stream",
     "text": [
      "[0 1 2 3 4 5 6 7 8 9]\n"
     ]
    }
   ],
   "source": [
    "import numpy as np \n",
    "array = np.array([i for i in range(0,10)])\n",
    "print(array)"
   ]
  },
  {
   "cell_type": "markdown",
   "id": "782707f9",
   "metadata": {},
   "source": [
    "# 3 - Crie um array com os números de 0 a 8 utilize 2 dimensões , ou seja , com 3 linhas \n",
    "# (3x3)"
   ]
  },
  {
   "cell_type": "code",
   "execution_count": 3,
   "id": "13b3a69c",
   "metadata": {},
   "outputs": [
    {
     "name": "stdout",
     "output_type": "stream",
     "text": [
      "[[0 1 2]\n",
      " [3 4 5]\n",
      " [6 7 8]]\n"
     ]
    }
   ],
   "source": [
    "import numpy as np \n",
    "array = np.arange(9).reshape((3,3))\n",
    "print(array)"
   ]
  },
  {
   "cell_type": "markdown",
   "id": "e74edcf9",
   "metadata": {},
   "source": [
    "# 4 - Crie um array do tipo float , com 10 números de sua escolha , mas utilize 32 bits/ 4 bytes "
   ]
  },
  {
   "cell_type": "code",
   "execution_count": 4,
   "id": "88649a35",
   "metadata": {},
   "outputs": [
    {
     "name": "stdout",
     "output_type": "stream",
     "text": [
      "[0. 1. 2. 3. 4. 5. 6. 7. 8.]\n"
     ]
    }
   ],
   "source": [
    "import numpy as np \n",
    "array = np.arange(0,9,dtype='f4')\n",
    "print(array)"
   ]
  },
  {
   "cell_type": "markdown",
   "id": "4212da3f",
   "metadata": {},
   "source": [
    "# 5 - Crie um array com os números de 1 a 20 , escolhendo o tipo de dado que ocupara \n",
    "# o menor espaço da memoria. Em seguida imprima o quanto ele ocupou em bytes \n"
   ]
  },
  {
   "cell_type": "code",
   "execution_count": 5,
   "id": "7da831f6",
   "metadata": {},
   "outputs": [
    {
     "name": "stdout",
     "output_type": "stream",
     "text": [
      "[ 1  2  3  4  5  6  7  8  9 10 11 12 13 14 15 16 17 18 19 20]\n",
      "20\n"
     ]
    }
   ],
   "source": [
    "import numpy as np \n",
    "array = np.arange(1,21,dtype=np.int8)\n",
    "print(array)\n",
    "print(array.nbytes)"
   ]
  },
  {
   "cell_type": "markdown",
   "id": "3f139faf",
   "metadata": {},
   "source": [
    "# 6 - Crie uma matriz 2x2 e imprima o primeiro elemento da primeira linha , e o último elemento \n",
    "# da última linha."
   ]
  },
  {
   "cell_type": "code",
   "execution_count": 8,
   "id": "2606d38a",
   "metadata": {},
   "outputs": [
    {
     "name": "stdout",
     "output_type": "stream",
     "text": [
      "[[4 1]\n",
      " [1 4]]\n",
      "4\n",
      "4\n"
     ]
    }
   ],
   "source": [
    "import numpy as np \n",
    "array = np.random.randint(1,5,(2,2))\n",
    "print(array)\n",
    "print(array[0][0])\n",
    "print(array[1][1])"
   ]
  },
  {
   "cell_type": "markdown",
   "id": "f5455fc3",
   "metadata": {},
   "source": [
    "# 7 - Gere um array 3x3 com números inteiros aleatórios entre 5 a 20. Então imprima a primeira \n",
    "# a primeira coluna e última linha "
   ]
  },
  {
   "cell_type": "code",
   "execution_count": 1,
   "id": "b7643a59",
   "metadata": {},
   "outputs": [
    {
     "name": "stdout",
     "output_type": "stream",
     "text": [
      "[[17  8 14]\n",
      " [15 17 16]\n",
      " [18 16 19]]\n",
      "[17 15 18]\n",
      "[18 16 19]\n"
     ]
    }
   ],
   "source": [
    "import numpy as np\n",
    "array = np.random.randint(5,20,(3,3))\n",
    "print(array)\n",
    "print(array[:,0])\n",
    "print(array[2,:])"
   ]
  },
  {
   "cell_type": "markdown",
   "id": "1f269032",
   "metadata": {},
   "source": [
    "# 8 - Crie uma matriz 3x3 aleatória.Percorra linha por linha com um laço e imprima \n",
    "# a soma de cada linha."
   ]
  },
  {
   "cell_type": "code",
   "execution_count": 2,
   "id": "2e89e99e",
   "metadata": {},
   "outputs": [
    {
     "name": "stdout",
     "output_type": "stream",
     "text": [
      "55\n",
      "74\n",
      "77\n"
     ]
    }
   ],
   "source": [
    "import numpy as np \n",
    "array = np.random.randint(1,50,(3,3))\n",
    "for linha in array:\n",
    "    print(np.sum(linha))"
   ]
  },
  {
   "cell_type": "markdown",
   "id": "d73e7ddc",
   "metadata": {},
   "source": [
    "# 9 - Gere um array com os valores pares de 0 a 100 com list comprehension"
   ]
  },
  {
   "cell_type": "code",
   "execution_count": 3,
   "id": "1d313d8b",
   "metadata": {},
   "outputs": [
    {
     "name": "stdout",
     "output_type": "stream",
     "text": [
      "[  0   2   4   6   8  10  12  14  16  18  20  22  24  26  28  30  32  34\n",
      "  36  38  40  42  44  46  48  50  52  54  56  58  60  62  64  66  68  70\n",
      "  72  74  76  78  80  82  84  86  88  90  92  94  96  98 100]\n"
     ]
    }
   ],
   "source": [
    "import numpy as np \n",
    "array = np.array([i for i in range(0,101) if i % 2==0])\n",
    "print(array)\n"
   ]
  },
  {
   "cell_type": "markdown",
   "id": "e87ae7cc",
   "metadata": {},
   "source": [
    "# 10 - Crie um array 4x9 com valores quaisquer , redimensione para as dimensões 36 \n",
    "# "
   ]
  },
  {
   "cell_type": "code",
   "execution_count": 5,
   "id": "4fb2939c",
   "metadata": {},
   "outputs": [
    {
     "name": "stdout",
     "output_type": "stream",
     "text": [
      "[8 5 1 9 8 8 2 6 9 3 1 6 1 2 5 0 4 2 6 6 8 0 9 7 3 2 6 6 2 6 6 2 7 8 1 7]\n",
      "[[8 5 1 9 8 8]\n",
      " [2 6 9 3 1 6]\n",
      " [1 2 5 0 4 2]\n",
      " [6 6 8 0 9 7]\n",
      " [3 2 6 6 2 6]\n",
      " [6 2 7 8 1 7]]\n"
     ]
    }
   ],
   "source": [
    "import numpy as np \n",
    "array = np.random.randint(0,10,(4,9))\n",
    "print(array.reshape(36))\n",
    "print(array.reshape(6,6))"
   ]
  },
  {
   "cell_type": "markdown",
   "id": "9c5d134c",
   "metadata": {},
   "source": [
    "# 11 - Crie Uma função que receba três arrays de mesmo formato , então retorne elas \n",
    "# concatenadas em uma só. Se as matrizes recebidas não forem do mesmo formato gere uma exceção."
   ]
  },
  {
   "cell_type": "code",
   "execution_count": 6,
   "id": "b3aee9ba",
   "metadata": {},
   "outputs": [
    {
     "name": "stdout",
     "output_type": "stream",
     "text": [
      "[1 2 3 3 4 5 6 7 8]\n"
     ]
    }
   ],
   "source": [
    "import numpy as np \n",
    "\n",
    "def combina(arr1,arr2,arr3):\n",
    "    if arr1.shape !=arr2.shape or arr1.shape != arr3.shape:\n",
    "        raise Exception(\"Formatos são diferentes\")\n",
    "\n",
    "    return np.concatenate((arr1,arr2,arr3))\n",
    "\n",
    "array1 = np.array([1,2,3])\n",
    "array2 = np.array([3,4,5])\n",
    "array3 = np.array([6,7,8])\n",
    "\n",
    "print(combina(array1,array2,array3))"
   ]
  },
  {
   "cell_type": "markdown",
   "id": "5bf066b8",
   "metadata": {},
   "source": [
    "# 12 - Crie uma função que divida um array em N pedaços , mas matenha \n",
    "# só os valores absolutos dos valores deste array."
   ]
  },
  {
   "cell_type": "code",
   "execution_count": 7,
   "id": "1678548a",
   "metadata": {},
   "outputs": [
    {
     "name": "stdout",
     "output_type": "stream",
     "text": [
      "[[1 2]\n",
      " [3 4]\n",
      " [5 7]]\n"
     ]
    }
   ],
   "source": [
    "import numpy as np \n",
    "def divide_abs(arr,n):\n",
    "    arr = np.array_split(arr,n)\n",
    "    arr = np.abs(arr)\n",
    "    return arr \n",
    "\n",
    "array1 = np.array([1,2,3,-4,5,-7])\n",
    "print(divide_abs(array1,3))\n"
   ]
  },
  {
   "cell_type": "markdown",
   "id": "51f4ac5e",
   "metadata": {},
   "source": [
    "# 13 - Crie uma função que receba um array e retorne quantos números positivos \n",
    "# ela contém "
   ]
  },
  {
   "cell_type": "code",
   "execution_count": 10,
   "id": "8284b8f7",
   "metadata": {},
   "outputs": [
    {
     "name": "stdout",
     "output_type": "stream",
     "text": [
      "5\n"
     ]
    }
   ],
   "source": [
    "import numpy as np \n",
    "\n",
    "def conta_positivos(arr):\n",
    "    return len(np.where(arr>0)[0])\n",
    "\n",
    "array = np.array([1,2,3,4,5,-7])\n",
    "print(conta_positivos(array))    "
   ]
  },
  {
   "cell_type": "markdown",
   "id": "8b173c98",
   "metadata": {},
   "source": [
    "# 14 - Crie uma função que receba uma matriz e retorne os indices dos números que são divísiveis por 3 "
   ]
  },
  {
   "cell_type": "code",
   "execution_count": 11,
   "id": "5eb105f1",
   "metadata": {},
   "outputs": [
    {
     "name": "stdout",
     "output_type": "stream",
     "text": [
      "[2 5]\n"
     ]
    }
   ],
   "source": [
    "import numpy as np \n",
    "\n",
    "def divisiveis_por_3(arr):\n",
    "    return np.where(arr % 3 == 0)[0]\n",
    "\n",
    "array = np.array([4,5,6,7,8,9])\n",
    "print(divisiveis_por_3(array))    "
   ]
  },
  {
   "cell_type": "markdown",
   "id": "484b11c3",
   "metadata": {},
   "source": [
    "# 15 - Crie uma função que diga se um array possui números negativos."
   ]
  },
  {
   "cell_type": "code",
   "execution_count": null,
   "id": "632b3e87",
   "metadata": {},
   "outputs": [
    {
     "ename": "",
     "evalue": "",
     "output_type": "error",
     "traceback": [
      "\u001b[1;31mFailed to interrupt the Kernel. \n",
      "\u001b[1;31mUnable to start Kernel 'Python 3.9.2' due to a timeout waiting for the ports to get used. \n",
      "\u001b[1;31mView Jupyter <a href='command:jupyter.viewOutput'>log</a> for further details."
     ]
    }
   ],
   "source": [
    "import numpy as np \n",
    "\n",
    "def tem_negativo(arr):\n",
    "    return np.arr(arr>0)\n",
    "\n",
    "array = np.array([4,5,6,7,8,9])\n",
    "print(tem_negativo(array))\n"
   ]
  },
  {
   "cell_type": "markdown",
   "id": "c4f2fb41",
   "metadata": {},
   "source": [
    "# 16 - Crie uma função que renova os números negativos de um array"
   ]
  },
  {
   "cell_type": "code",
   "execution_count": null,
   "id": "a3a9d917",
   "metadata": {},
   "outputs": [],
   "source": []
  },
  {
   "cell_type": "markdown",
   "id": "b5b3cfcb",
   "metadata": {},
   "source": [
    "# 17 -Crie uma função que receba um número inicial e final , e uma array . \n",
    "# A função deve retornar uma nova array somente com os números dentro deste intervalo."
   ]
  },
  {
   "cell_type": "code",
   "execution_count": null,
   "id": "6dd6a78b",
   "metadata": {},
   "outputs": [],
   "source": []
  },
  {
   "cell_type": "markdown",
   "id": "6f0c709b",
   "metadata": {},
   "source": [
    "# 18 - Crie uma função que ordene uma matriz e remova todos os números impares"
   ]
  },
  {
   "cell_type": "code",
   "execution_count": 3,
   "id": "a9801c15",
   "metadata": {},
   "outputs": [
    {
     "name": "stdout",
     "output_type": "stream",
     "text": [
      "[3 7 1 4 9 7 3 5 1 9 4 8 3 3 1 1 5 2 6 6 2 5 2 6 3 5 5 7 4 7 0 6 9 2 5 3 3\n",
      " 5 2 6 2 2 8 4 3 3 2 6 6 3 0 0 1 9 3 2 3 7 3 8 2 5 7 9 4 4 8 0 8 6 9 0 8 1\n",
      " 2 0 0 2 6 9 4 1 4 1 3 8 0 9 2 5 2 2 7 0 1 2 5 5 9 0]\n"
     ]
    }
   ],
   "source": [
    "import numpy as np\n",
    "\n",
    "def ordena_pares(arr):\n",
    "    arr = np.sort(arr)\n",
    "    filter = arr % 2 == 1\n",
    "    return arr[filter]\n",
    "\n",
    "array = np.random.randint(0,10,(100))\n",
    "print(array)"
   ]
  },
  {
   "cell_type": "markdown",
   "id": "32196a9f",
   "metadata": {},
   "source": [
    "# 19 - Realize o mesmo exercicio anterior , mas remova valores duplicados."
   ]
  },
  {
   "cell_type": "code",
   "execution_count": 4,
   "id": "aa05996e",
   "metadata": {},
   "outputs": [
    {
     "name": "stdout",
     "output_type": "stream",
     "text": [
      "[3 9 1 9 9 0 2 0 4 8 6 7 2 1 5 5 6 8 9 6 8 4 3 5 1 6 1 4 0 4 3 9 0 6 8 8 8\n",
      " 4 4 7 0 3 6 5 6 9 4 9 7 5 0 5 6 7 2 4 3 3 7 9 7 9 4 0 1 8 9 2 8 6 5 0 7 4\n",
      " 1 0 9 5 0 7 9 0 4 9 8 9 0 1 3 1 2 5 4 9 3 2 4 4 3 5]\n"
     ]
    }
   ],
   "source": [
    "import numpy as np\n",
    "\n",
    "def ordena_pares_unicos(arr):\n",
    "    arr = np.sort(arr)\n",
    "    filter = arr % 2 == 1\n",
    "    return np.unique(arr[filter])\n",
    "\n",
    "array = np.random.randint(0,10,(100))\n",
    "print(array)"
   ]
  }
 ],
 "metadata": {
  "kernelspec": {
   "display_name": "Python 3",
   "language": "python",
   "name": "python3"
  },
  "language_info": {
   "codemirror_mode": {
    "name": "ipython",
    "version": 3
   },
   "file_extension": ".py",
   "mimetype": "text/x-python",
   "name": "python",
   "nbconvert_exporter": "python",
   "pygments_lexer": "ipython3",
   "version": "3.9.2"
  }
 },
 "nbformat": 4,
 "nbformat_minor": 5
}
