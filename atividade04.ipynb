{
 "cells": [
  {
   "cell_type": "code",
   "execution_count": null,
   "metadata": {},
   "outputs": [],
   "source": [
    "#1- Crie um programa que possui duas variáveis , uma recebe \n",
    "# o ano em que você nasceu. Em seguida subtraia ambas para receber um estimativa \n",
    "#de quantos anos você tem.Mostre esse valor na saída do programa."
   ]
  },
  {
   "cell_type": "code",
   "execution_count": 1,
   "metadata": {},
   "outputs": [
    {
     "name": "stdout",
     "output_type": "stream",
     "text": [
      "Devo ter em torno 26 anos\n"
     ]
    }
   ],
   "source": [
    "ano_atual = 2024 \n",
    "ano_nascimento  = 1998\n",
    "estimativa_idade = ano_atual - ano_nascimento\n",
    "print(\"Devo ter em torno %d anos\" %(estimativa_idade))"
   ]
  },
  {
   "cell_type": "code",
   "execution_count": null,
   "metadata": {},
   "outputs": [],
   "source": [
    "#2 - Crie um programa que faz a média aritmética entre três números. \n",
    "#Estes números deve ser salvos em uma variável . Mostre esse valor na saída do programa. "
   ]
  },
  {
   "cell_type": "code",
   "execution_count": 5,
   "metadata": {},
   "outputs": [
    {
     "name": "stdout",
     "output_type": "stream",
     "text": [
      "A media e 30.000000\n"
     ]
    }
   ],
   "source": [
    "num1 = 20\n",
    "num2 = 30 \n",
    "num3 = 40 \n",
    "media = (num1 + num2 + num3) / 3\n",
    "print(\"A media e %f\"%(media))"
   ]
  },
  {
   "cell_type": "code",
   "execution_count": null,
   "metadata": {},
   "outputs": [],
   "source": [
    "#3- Crie um programa que calcule IMC(indice de massa corporal). O IMC é dado \n",
    "#pelo em KG divido pela altura em metros elevado ao quadradro. Salvar esses valores em \n",
    "#uma variável. Mostre esse valor na saída do programa. \n"
   ]
  },
  {
   "cell_type": "code",
   "execution_count": 9,
   "metadata": {},
   "outputs": [
    {
     "name": "stdout",
     "output_type": "stream",
     "text": [
      "O IMC e 24.00\n"
     ]
    }
   ],
   "source": [
    "peso = 80.5 \n",
    "altura = 1.82 \n",
    "imc = peso // altura ** 2\n",
    "print(\"O IMC e %.2f\"%(imc))"
   ]
  },
  {
   "cell_type": "code",
   "execution_count": null,
   "metadata": {},
   "outputs": [],
   "source": [
    "#4- (DESAFIO) - Você tem um determinado números de ovos de páscoa \n",
    "#para dividir entre um determinado número de pessoas (duas variáveis iniciais)\n",
    "#. Determine quantos ovos ficarão por pessoa e quantos ovos sobrarão \n",
    "#pois não puderam ser divido igualmente. Lembre o número de ovos por pessoa é um número inteiro."
   ]
  },
  {
   "cell_type": "code",
   "execution_count": 12,
   "metadata": {},
   "outputs": [
    {
     "name": "stdout",
     "output_type": "stream",
     "text": [
      "Tenho inicialmente 56 ovos para 3 pessoas\n",
      "Cada pessoa tera 3 pessoas ter 18 ovos\n",
      "Restou 2 ovos que não puderam ser divididos\n"
     ]
    }
   ],
   "source": [
    "ovos = 56 \n",
    "pessoas = 3 \n",
    "print(\"Tenho inicialmente %d ovos para %d pessoas\"%(ovos,pessoas))\n",
    "ovos_por_pessoas = ovos // pessoas \n",
    "ovos_restantes = ovos % pessoas \n",
    "print(\"Cada pessoa tera %d pessoas ter %d ovos\"%(pessoas,ovos_por_pessoas))\n",
    "print(\"Restou %d ovos que não puderam ser divididos\"%(ovos_restantes))\n"
   ]
  }
 ],
 "metadata": {
  "kernelspec": {
   "display_name": "Python 3",
   "language": "python",
   "name": "python3"
  },
  "language_info": {
   "codemirror_mode": {
    "name": "ipython",
    "version": 3
   },
   "file_extension": ".py",
   "mimetype": "text/x-python",
   "name": "python",
   "nbconvert_exporter": "python",
   "pygments_lexer": "ipython3",
   "version": "3.9.2"
  }
 },
 "nbformat": 4,
 "nbformat_minor": 2
}
