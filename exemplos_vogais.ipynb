{
 "cells": [
  {
   "cell_type": "code",
   "execution_count": 1,
   "metadata": {},
   "outputs": [
    {
     "name": "stdout",
     "output_type": "stream",
     "text": [
      "É uma vogal\n",
      "Não é uma vogal\n",
      "É uma vogal\n",
      "Não é uma vogal\n"
     ]
    }
   ],
   "source": [
    "def ler_vogais(letra):\n",
    "    # Usando set para verificar a letra\n",
    "    vogais = {'a', 'e', 'i', 'o', 'u'}  # Um conjunto (set) contém as vogais\n",
    "    \n",
    "    if letra.lower() in vogais:\n",
    "        return \"É uma vogal\"\n",
    "    else:\n",
    "        return \"Não é uma vogal\"\n",
    "    \n",
    "# Exemplos de uso\n",
    "print(ler_vogais('A'))  # \"É uma vogal\"\n",
    "print(ler_vogais('b'))  # \"Não é uma vogal\"\n",
    "print(ler_vogais('I'))  # \"É uma vogal\"\n",
    "print(ler_vogais('y'))  # \"Não é uma vogal\"\n"
   ]
  },
  {
   "cell_type": "code",
   "execution_count": 2,
   "metadata": {},
   "outputs": [
    {
     "name": "stdout",
     "output_type": "stream",
     "text": [
      "A frase contém 5 vogais.\n",
      "A frase contém 3 vogais.\n"
     ]
    }
   ],
   "source": [
    "def contar_vogais(frase):\n",
    "    # Conta o número de vogais em uma frase\n",
    "    vogais = \"aeiouAEIOU\"\n",
    "    contador = 0\n",
    "    for letra in frase:\n",
    "        if letra in vogais:\n",
    "            contador += 1\n",
    "    return f\"A frase contém {contador} vogais.\"\n",
    "\n",
    "# Exemplos de uso\n",
    "print(contar_vogais(\"Olá, como você está?\"))  # 8 vogais\n",
    "print(contar_vogais(\"Python é incrível!\"))  # 6 vogais\n"
   ]
  },
  {
   "cell_type": "code",
   "execution_count": 3,
   "metadata": {},
   "outputs": [
    {
     "name": "stdout",
     "output_type": "stream",
     "text": [
      "As vogais na frase são: Euaoooaao\n",
      "As vogais na frase são: Eeioio\n"
     ]
    }
   ],
   "source": [
    "def vogais_na_frase(frase):\n",
    "    # Retorna as vogais de uma frase\n",
    "    vogais = \"aeiouAEIOU\"\n",
    "    resultado = [letra for letra in frase if letra in vogais]\n",
    "    return f\"As vogais na frase são: {''.join(resultado)}\"\n",
    "\n",
    "# Exemplos de uso\n",
    "print(vogais_na_frase(\"Eu adoro programação\"))  # \"Eu a o o a o a\"\n",
    "print(vogais_na_frase(\"Esse código é ótimo!\"))  # \"E e o i o\"\n"
   ]
  },
  {
   "cell_type": "code",
   "execution_count": 4,
   "metadata": {},
   "outputs": [
    {
     "name": "stdout",
     "output_type": "stream",
     "text": [
      "A string é composta apenas por vogais.\n",
      "A string contém caracteres que não são vogais.\n",
      "A string é composta apenas por vogais.\n"
     ]
    }
   ],
   "source": [
    "def e_apenas_vogais(texto):\n",
    "    # Verifica se uma string é composta apenas por vogais\n",
    "    vogais = \"aeiouAEIOU\"\n",
    "    if all(letra in vogais for letra in texto):  # Verifica se todas as letras são vogais\n",
    "        return \"A string é composta apenas por vogais.\"\n",
    "    else:\n",
    "        return \"A string contém caracteres que não são vogais.\"\n",
    "\n",
    "# Exemplos de uso\n",
    "print(e_apenas_vogais(\"aeiou\"))  # \"A string é composta apenas por vogais.\"\n",
    "print(e_apenas_vogais(\"aeioux\"))  # \"A string contém caracteres que não são vogais.\"\n",
    "print(e_apenas_vogais(\"aeiO\"))  # \"A string é composta apenas por vogais.\"\n"
   ]
  },
  {
   "cell_type": "code",
   "execution_count": 5,
   "metadata": {},
   "outputs": [
    {
     "name": "stdout",
     "output_type": "stream",
     "text": [
      "EU AdOrO pythOn\n",
      "prOgrAmAçãO é lEgAl\n"
     ]
    }
   ],
   "source": [
    "def converter_vogais_para_maiusculas(frase):\n",
    "    # Converte todas as vogais para maiúsculas\n",
    "    vogais = \"aeiou\"\n",
    "    resultado = \"\".join([letra.upper() if letra in vogais else letra for letra in frase])\n",
    "    return resultado\n",
    "\n",
    "# Exemplos de uso\n",
    "print(converter_vogais_para_maiusculas(\"eu adoro python\"))  # \"E U AdOrO PythOn\"\n",
    "print(converter_vogais_para_maiusculas(\"programação é legal\"))  # \"prOgrAmAçãO É lEgAl\"\n"
   ]
  },
  {
   "cell_type": "code",
   "execution_count": 6,
   "metadata": {},
   "outputs": [
    {
     "name": "stdout",
     "output_type": "stream",
     "text": [
      "A palavra começa e termina com vogal.\n",
      "A palavra termina com vogal.\n",
      "A palavra termina com vogal.\n",
      "A palavra termina com vogal.\n"
     ]
    }
   ],
   "source": [
    "def verifica_inicio_fim(palavra):\n",
    "    # Verifica se a palavra começa ou termina com uma vogal\n",
    "    vogais = \"aeiouAEIOU\"\n",
    "    \n",
    "    if palavra[0] in vogais and palavra[-1] in vogais:\n",
    "        return \"A palavra começa e termina com vogal.\"\n",
    "    elif palavra[0] in vogais:\n",
    "        return \"A palavra começa com vogal.\"\n",
    "    elif palavra[-1] in vogais:\n",
    "        return \"A palavra termina com vogal.\"\n",
    "    else:\n",
    "        return \"A palavra não começa nem termina com vogal.\"\n",
    "    \n",
    "# Exemplos de uso\n",
    "print(verifica_inicio_fim(\"abacaxi\"))  # A palavra começa e termina com vogal.\n",
    "print(verifica_inicio_fim(\"mesa\"))  # A palavra começa com vogal.\n",
    "print(verifica_inicio_fim(\"porta\"))  # A palavra termina com vogal.\n",
    "print(verifica_inicio_fim(\"casa\"))  # A palavra não começa nem termina com vogal.\n"
   ]
  },
  {
   "cell_type": "code",
   "execution_count": 7,
   "metadata": {},
   "outputs": [
    {
     "name": "stdout",
     "output_type": "stream",
     "text": [
      "{'Eu': 2, 'amo': 2, 'programação': 4, 'em': 1, 'Python': 1}\n",
      "{'Fazer': 2, 'código': 2, 'é': 0, 'divertido': 4}\n"
     ]
    }
   ],
   "source": [
    "def contar_vogais_por_palavra(frase):\n",
    "    # Conta as vogais em cada palavra de uma frase\n",
    "    vogais = \"aeiouAEIOU\"\n",
    "    palavras = frase.split()\n",
    "    resultado = {}\n",
    "    \n",
    "    for palavra in palavras:\n",
    "        contador_vogais = sum(1 for letra in palavra if letra in vogais)\n",
    "        resultado[palavra] = contador_vogais\n",
    "    \n",
    "    return resultado\n",
    "\n",
    "# Exemplos de uso\n",
    "print(contar_vogais_por_palavra(\"Eu amo programação em Python\"))  \n",
    "# Saída: {'Eu': 1, 'amo': 2, 'programação': 5, 'em': 1, 'Python': 1}\n",
    "\n",
    "print(contar_vogais_por_palavra(\"Fazer código é divertido\"))  \n",
    "# Saída: {'Fazer': 2, 'código': 3, 'é': 1, 'divertido': 4}\n"
   ]
  },
  {
   "cell_type": "code",
   "execution_count": 8,
   "metadata": {},
   "outputs": [
    {
     "name": "stdout",
     "output_type": "stream",
     "text": [
      " gst d stdr Pythn\n",
      "prgrmçã é m rt\n"
     ]
    }
   ],
   "source": [
    "def remover_vogais(frase):\n",
    "    # Remove todas as vogais de uma frase\n",
    "    vogais = \"aeiouAEIOU\"\n",
    "    resultado = \"\".join([letra for letra in frase if letra not in vogais])\n",
    "    return resultado\n",
    "\n",
    "# Exemplos de uso\n",
    "print(remover_vogais(\"Eu gosto de estudar Python\"))  \n",
    "# Saída: \" gst d stdr Pythn\"\n",
    "\n",
    "print(remover_vogais(\"programação é uma arte\"))  \n",
    "# Saída: \"prgrmçã é m rt\"\n"
   ]
  },
  {
   "cell_type": "code",
   "execution_count": 9,
   "metadata": {},
   "outputs": [
    {
     "name": "stdout",
     "output_type": "stream",
     "text": [
      "A sequência de vogais não é um palíndromo.\n",
      "A sequência de vogais não é um palíndromo.\n"
     ]
    }
   ],
   "source": [
    "def palindromo_vogais(frase):\n",
    "    # Verifica se a sequência de vogais em uma frase é um palíndromo\n",
    "    vogais = \"aeiouAEIOU\"\n",
    "    # Filtra apenas as vogais da frase\n",
    "    apenas_vogais = [letra for letra in frase if letra in vogais]\n",
    "    \n",
    "    if apenas_vogais == apenas_vogais[::-1]:\n",
    "        return \"A sequência de vogais é um palíndromo.\"\n",
    "    else:\n",
    "        return \"A sequência de vogais não é um palíndromo.\"\n",
    "    \n",
    "# Exemplos de uso\n",
    "print(palindromo_vogais(\"A man has a plan\"))  \n",
    "# Saída: \"A sequência de vogais é um palíndromo.\"\n",
    "\n",
    "print(palindromo_vogais(\"Python é legal\"))  \n",
    "# Saída: \"A sequência de vogais não é um palíndromo.\"\n"
   ]
  },
  {
   "cell_type": "code",
   "execution_count": 10,
   "metadata": {},
   "outputs": [
    {
     "name": "stdout",
     "output_type": "stream",
     "text": [
      "Vogal\n",
      "Consoante\n",
      "Vogal\n",
      "Não é uma letra válida\n"
     ]
    }
   ],
   "source": [
    "def classificar_letra(letra):\n",
    "    # Classifica uma letra como vogal ou consoante\n",
    "    vogais = \"aeiouAEIOU\"\n",
    "    \n",
    "    if letra.isalpha():  # Verifica se é uma letra\n",
    "        if letra in vogais:\n",
    "            return \"Vogal\"\n",
    "        else:\n",
    "            return \"Consoante\"\n",
    "    else:\n",
    "        return \"Não é uma letra válida\"\n",
    "    \n",
    "# Exemplos de uso\n",
    "print(classificar_letra(\"a\"))  # \"Vogal\"\n",
    "print(classificar_letra(\"b\"))  # \"Consoante\"\n",
    "print(classificar_letra(\"A\"))  # \"Vogal\"\n",
    "print(classificar_letra(\"7\"))  # \"Não é uma letra válida\"\n"
   ]
  },
  {
   "cell_type": "code",
   "execution_count": 11,
   "metadata": {},
   "outputs": [
    {
     "name": "stdout",
     "output_type": "stream",
     "text": [
      "25 1d4r4 pr4gr1m1r\n",
      "Pyth4n é d3v2rt3d4\n"
     ]
    }
   ],
   "source": [
    "def vogais_para_numeros(frase):\n",
    "    # Mapeia vogais para números\n",
    "    mapa_vogais = {'a': 1, 'e': 2, 'i': 3, 'o': 4, 'u': 5,\n",
    "                   'A': 1, 'E': 2, 'I': 3, 'O': 4, 'U': 5}\n",
    "    \n",
    "    resultado = \"\".join([str(mapa_vogais[letra]) if letra in mapa_vogais else letra for letra in frase])\n",
    "    return resultado\n",
    "\n",
    "# Exemplos de uso\n",
    "print(vogais_para_numeros(\"Eu adoro programar\"))  \n",
    "# Saída: \"2 1d4r4 pr4gr4m1r\"\n",
    "\n",
    "print(vogais_para_numeros(\"Python é divertido\"))  \n",
    "# Saída: \"Pyth4n é d3v4rt1d4\"\n"
   ]
  },
  {
   "cell_type": "code",
   "execution_count": 12,
   "metadata": {},
   "outputs": [
    {
     "name": "stdout",
     "output_type": "stream",
     "text": [
      "A palavra não contém todas as vogais.\n",
      "A palavra não contém todas as vogais.\n"
     ]
    }
   ],
   "source": [
    "def tem_todas_as_vogais(palavra):\n",
    "    # Verifica se a palavra contém todas as vogais\n",
    "    vogais = \"aeiouAEIOU\"\n",
    "    if all(vogal in palavra for vogal in vogais):\n",
    "        return \"A palavra contém todas as vogais.\"\n",
    "    else:\n",
    "        return \"A palavra não contém todas as vogais.\"\n",
    "    \n",
    "# Exemplos de uso\n",
    "print(tem_todas_as_vogais(\"aeróbica\"))  # \"A palavra não contém todas as vogais.\"\n",
    "print(tem_todas_as_vogais(\"audiovisual\"))  # \"A palavra contém todas as vogais.\"\n"
   ]
  },
  {
   "cell_type": "code",
   "execution_count": 13,
   "metadata": {},
   "outputs": [
    {
     "name": "stdout",
     "output_type": "stream",
     "text": [
      "Existem 3 palavras que começam com vogal.\n",
      "Existem 1 palavras que começam com vogal.\n"
     ]
    }
   ],
   "source": [
    "def contar_palavras_comeca_com_vogal(frase):\n",
    "    # Conta quantas palavras começam com vogal\n",
    "    vogais = \"aeiouAEIOU\"\n",
    "    palavras = frase.split()\n",
    "    contador = sum(1 for palavra in palavras if palavra[0] in vogais)\n",
    "    return f\"Existem {contador} palavras que começam com vogal.\"\n",
    "\n",
    "# Exemplos de uso\n",
    "print(contar_palavras_comeca_com_vogal(\"Eu amo aprender Python\"))  \n",
    "# Saída: \"Existem 2 palavras que começam com vogal.\"\n",
    "\n",
    "print(contar_palavras_comeca_com_vogal(\"Hoje está frio no Rio\"))  \n",
    "# Saída: \"Existem 1 palavra que começa com vogal.\"\n"
   ]
  },
  {
   "cell_type": "code",
   "execution_count": 14,
   "metadata": {},
   "outputs": [
    {
     "name": "stdout",
     "output_type": "stream",
     "text": [
      "A palavra termina com uma vogal.\n",
      "A palavra termina com uma vogal.\n"
     ]
    }
   ],
   "source": [
    "def termina_com_vogal(palavra):\n",
    "    # Verifica se uma palavra termina com uma vogal\n",
    "    vogais = \"aeiouAEIOU\"\n",
    "    if palavra[-1] in vogais:\n",
    "        return \"A palavra termina com uma vogal.\"\n",
    "    else:\n",
    "        return \"A palavra não termina com uma vogal.\"\n",
    "    \n",
    "# Exemplos de uso\n",
    "print(termina_com_vogal(\"amigo\"))  # \"A palavra termina com uma vogal.\"\n",
    "print(termina_com_vogal(\"casa\"))  # \"A palavra não termina com uma vogal.\"\n"
   ]
  },
  {
   "cell_type": "code",
   "execution_count": 15,
   "metadata": {},
   "outputs": [
    {
     "name": "stdout",
     "output_type": "stream",
     "text": [
      "** g*st* d* pr*gr*m*r\n",
      "Pyth#n é d#v#rt#d#\n"
     ]
    }
   ],
   "source": [
    "def substituir_vogais(frase, caractere):\n",
    "    # Substitui todas as vogais por um caractere específico\n",
    "    vogais = \"aeiouAEIOU\"\n",
    "    resultado = \"\".join([caractere if letra in vogais else letra for letra in frase])\n",
    "    return resultado\n",
    "\n",
    "# Exemplos de uso\n",
    "print(substituir_vogais(\"Eu gosto de programar\", \"*\"))  \n",
    "# Saída: \"*g*st* d* pr*gr*m*r\"\n",
    "\n",
    "print(substituir_vogais(\"Python é divertido\", \"#\"))  \n",
    "# Saída: \"P#th#n # d#v#rt#d#\"\n"
   ]
  },
  {
   "cell_type": "code",
   "execution_count": 16,
   "metadata": {},
   "outputs": [
    {
     "name": "stdout",
     "output_type": "stream",
     "text": [
      "A primeira ocorrência da vogal 'o' está no índice 5.\n",
      "A vogal não está na frase ou não é uma vogal válida.\n"
     ]
    }
   ],
   "source": [
    "def indice_vogal(frase, vogal):\n",
    "    # Retorna o índice da primeira ocorrência de uma vogal na frase\n",
    "    if vogal in \"aeiouAEIOU\" and vogal in frase:\n",
    "        return f\"A primeira ocorrência da vogal '{vogal}' está no índice {frase.index(vogal)}.\"\n",
    "    else:\n",
    "        return \"A vogal não está na frase ou não é uma vogal válida.\"\n",
    "    \n",
    "# Exemplos de uso\n",
    "print(indice_vogal(\"Eu adoro Python\", \"o\"))  # \"A primeira ocorrência da vogal 'o' está no índice 3.\"\n",
    "print(indice_vogal(\"Eu adoro Python\", \"z\"))  # \"A vogal não está na frase ou não é uma vogal válida.\"\n"
   ]
  },
  {
   "cell_type": "code",
   "execution_count": 17,
   "metadata": {},
   "outputs": [
    {
     "name": "stdout",
     "output_type": "stream",
     "text": [
      "A palavra tem pelo menos 3 vogais.\n",
      "A palavra tem menos de 3 vogais.\n"
     ]
    }
   ],
   "source": [
    "def tem_3_vogais(palavra):\n",
    "    # Verifica se a palavra tem pelo menos 3 vogais\n",
    "    vogais = \"aeiouAEIOU\"\n",
    "    contador_vogais = sum(1 for letra in palavra if letra in vogais)\n",
    "    \n",
    "    if contador_vogais >= 3:\n",
    "        return \"A palavra tem pelo menos 3 vogais.\"\n",
    "    else:\n",
    "        return \"A palavra tem menos de 3 vogais.\"\n",
    "    \n",
    "# Exemplos de uso\n",
    "print(tem_3_vogais(\"amigo\"))  # \"A palavra tem pelo menos 3 vogais.\"\n",
    "print(tem_3_vogais(\"casa\"))   # \"A palavra tem menos de 3 vogais.\"\n"
   ]
  },
  {
   "cell_type": "code",
   "execution_count": 18,
   "metadata": {},
   "outputs": [
    {
     "name": "stdout",
     "output_type": "stream",
     "text": [
      "A palavra tem exatamente 2 vogais.\n",
      "A palavra tem exatamente 2 vogais.\n",
      "A palavra não tem exatamente 2 vogais.\n"
     ]
    }
   ],
   "source": [
    "def tem_exatamente_2_vogais(palavra):\n",
    "    # Verifica se a palavra contém exatamente 2 vogais\n",
    "    vogais = \"aeiouAEIOU\"\n",
    "    contador_vogais = sum(1 for letra in palavra if letra in vogais)\n",
    "    \n",
    "    if contador_vogais == 2:\n",
    "        return \"A palavra tem exatamente 2 vogais.\"\n",
    "    else:\n",
    "        return \"A palavra não tem exatamente 2 vogais.\"\n",
    "    \n",
    "# Exemplos de uso\n",
    "print(tem_exatamente_2_vogais(\"mesa\"))  # \"A palavra tem exatamente 2 vogais.\"\n",
    "print(tem_exatamente_2_vogais(\"bola\"))  # \"A palavra tem exatamente 2 vogais.\"\n",
    "print(tem_exatamente_2_vogais(\"computador\"))  # \"A palavra não tem exatamente 2 vogais.\"\n"
   ]
  },
  {
   "cell_type": "code",
   "execution_count": 19,
   "metadata": {},
   "outputs": [
    {
     "name": "stdout",
     "output_type": "stream",
     "text": [
      "Existem 2 palavras com vogais duplicadas.\n",
      "Existem 1 palavras com vogais duplicadas.\n"
     ]
    }
   ],
   "source": [
    "def palavras_com_vogais_duplicadas(frase):\n",
    "    # Conta palavras com vogais duplicadas\n",
    "    palavras = frase.split()\n",
    "    contador = 0\n",
    "    \n",
    "    for palavra in palavras:\n",
    "        # Filtra as vogais e verifica se há alguma duplicada\n",
    "        vogais = [letra for letra in palavra if letra in \"aeiouAEIOU\"]\n",
    "        if len(vogais) != len(set(vogais)):  # Se houver duplicação de vogais\n",
    "            contador += 1\n",
    "    \n",
    "    return f\"Existem {contador} palavras com vogais duplicadas.\"\n",
    "\n",
    "# Exemplos de uso\n",
    "print(palavras_com_vogais_duplicadas(\"Eu gosto de programar e estudar\"))  \n",
    "# Saída: \"Existem 2 palavras com vogais duplicadas.\"\n",
    "\n",
    "print(palavras_com_vogais_duplicadas(\"Python é divertido\"))  \n",
    "# Saída: \"Existem 0 palavras com vogais duplicadas.\"\n"
   ]
  },
  {
   "cell_type": "code",
   "execution_count": 21,
   "metadata": {},
   "outputs": [
    {
     "name": "stdout",
     "output_type": "stream",
     "text": [
      "A palavra com mais vogais é 'computador' com 4 vogais.\n",
      "A palavra com mais vogais é 'bola' com 2 vogais.\n"
     ]
    }
   ],
   "source": [
    "def palavra_com_mais_vogais(lista_palavras):\n",
    "    # Encontra a palavra com mais vogais\n",
    "    vogais = \"aeiouAEIOU\"\n",
    "    max_vogais = 0\n",
    "    palavra_com_max_vogais = \"\"\n",
    "    \n",
    "    for palavra in lista_palavras:\n",
    "        contador_vogais = sum(1 for letra in palavra if letra in vogais)\n",
    "        if contador_vogais > max_vogais:\n",
    "            max_vogais = contador_vogais\n",
    "            palavra_com_max_vogais = palavra\n",
    "    \n",
    "    return f\"A palavra com mais vogais é '{palavra_com_max_vogais}' com {max_vogais} vogais.\"\n",
    "\n",
    "# Exemplos de uso\n",
    "print(palavra_com_mais_vogais([\"casa\", \"computador\", \"automóvel\", \"escola\"]))  \n",
    "# Saída: \"A palavra com mais vogais é 'automóvel' com 4 vogais.\"\n",
    "\n",
    "print(palavra_com_mais_vogais([\"bola\", \"carro\", \"livro\"]))  \n",
    "# Saída: \"A palavra com mais vogais é 'livro' com 2 vogais.\"\n"
   ]
  },
  {
   "cell_type": "code",
   "execution_count": 22,
   "metadata": {},
   "outputs": [
    {
     "name": "stdout",
     "output_type": "stream",
     "text": [
      "cOmpUtAdOr\n",
      "pythOn\n"
     ]
    }
   ],
   "source": [
    "def alternar_vogais_consoantes(palavra):\n",
    "    # Alterna vogais e consoantes na palavra\n",
    "    resultado = \"\"\n",
    "    for letra in palavra:\n",
    "        if letra in \"aeiouAEIOU\":\n",
    "            resultado += letra.upper()  # Coloca as vogais em maiúsculas\n",
    "        else:\n",
    "            resultado += letra.lower()  # Coloca as consoantes em minúsculas\n",
    "    return resultado\n",
    "\n",
    "# Exemplos de uso\n",
    "print(alternar_vogais_consoantes(\"computador\"))  # \"cOmpUtAdOr\"\n",
    "print(alternar_vogais_consoantes(\"Python\"))      # \"pYthOn\"\n"
   ]
  },
  {
   "cell_type": "code",
   "execution_count": 23,
   "metadata": {},
   "outputs": [
    {
     "name": "stdout",
     "output_type": "stream",
     "text": [
      "A frase tem mais consoantes do que vogais.\n",
      "A frase tem mais consoantes do que vogais.\n"
     ]
    }
   ],
   "source": [
    "def mais_vogais_que_consoantes(frase):\n",
    "    # Verifica se a frase tem mais vogais que consoantes\n",
    "    vogais = \"aeiouAEIOU\"\n",
    "    contador_vogais = sum(1 for letra in frase if letra in vogais)\n",
    "    contador_consoantes = sum(1 for letra in frase if letra.isalpha() and letra not in vogais)\n",
    "    \n",
    "    if contador_vogais > contador_consoantes:\n",
    "        return \"A frase tem mais vogais do que consoantes.\"\n",
    "    else:\n",
    "        return \"A frase tem mais consoantes do que vogais.\"\n",
    "\n",
    "# Exemplos de uso\n",
    "print(mais_vogais_que_consoantes(\"Eu gosto de Python\"))  # \"A frase tem mais consoantes do que vogais.\"\n",
    "print(mais_vogais_que_consoantes(\"A aeróbica é legal\"))  # \"A frase tem mais vogais do que consoantes.\"\n"
   ]
  },
  {
   "cell_type": "code",
   "execution_count": 24,
   "metadata": {},
   "outputs": [
    {
     "name": "stdout",
     "output_type": "stream",
     "text": [
      "Fv gpstp df Pythpn\n",
      "Pythpn é jncrívfl\n"
     ]
    }
   ],
   "source": [
    "def proximo_caractere_vogal(frase):\n",
    "    # Transforma as vogais para o próximo caractere no alfabeto (circular)\n",
    "    vogais = \"aeiouAEIOU\"\n",
    "    alfabeto = \"abcdefghijklmnopqrstuvwxyz\"\n",
    "    resultado = \"\"\n",
    "    \n",
    "    for letra in frase:\n",
    "        if letra in vogais:\n",
    "            # Encontra o próximo caractere da vogal\n",
    "            proximo_caractere = alfabeto[(alfabeto.index(letra.lower()) + 1) % len(alfabeto)]\n",
    "            if letra.isupper():\n",
    "                resultado += proximo_caractere.upper()\n",
    "            else:\n",
    "                resultado += proximo_caractere\n",
    "        else:\n",
    "            resultado += letra\n",
    "    \n",
    "    return resultado\n",
    "\n",
    "# Exemplos de uso\n",
    "print(proximo_caractere_vogal(\"Eu gosto de Python\"))  # \"Fv gpstf df Pythpn\"\n",
    "print(proximo_caractere_vogal(\"Python é incrível\"))   # \"Pythpn é jncrívfl\"\n"
   ]
  },
  {
   "cell_type": "code",
   "execution_count": 25,
   "metadata": {},
   "outputs": [
    {
     "name": "stdout",
     "output_type": "stream",
     "text": [
      "As vogais únicas são: aou\n",
      "As vogais únicas são: ao\n"
     ]
    }
   ],
   "source": [
    "def vogais_unicas(palavra):\n",
    "    # Retorna as vogais únicas de uma palavra\n",
    "    vogais = \"aeiouAEIOU\"\n",
    "    resultado = \"\".join(sorted(set([letra for letra in palavra if letra in vogais])))\n",
    "    return f\"As vogais únicas são: {resultado}\"\n",
    "\n",
    "# Exemplos de uso\n",
    "print(vogais_unicas(\"computador\"))  # \"As vogais únicas são: a o u\"\n",
    "print(vogais_unicas(\"programação\"))  # \"As vogais únicas são: a o\"\n"
   ]
  },
  {
   "cell_type": "code",
   "execution_count": 26,
   "metadata": {},
   "outputs": [
    {
     "name": "stdout",
     "output_type": "stream",
     "text": [
      "A última vogal é: o\n",
      "A última vogal é: o\n",
      "A última vogal é: a\n"
     ]
    }
   ],
   "source": [
    "def ultima_vogal(palavra):\n",
    "    # Retorna a última vogal de uma palavra\n",
    "    vogais = \"aeiouAEIOU\"\n",
    "    for letra in reversed(palavra):\n",
    "        if letra in vogais:\n",
    "            return f\"A última vogal é: {letra}\"\n",
    "    return \"Não há vogal na palavra.\"\n",
    "\n",
    "# Exemplos de uso\n",
    "print(ultima_vogal(\"computador\"))  # \"A última vogal é: o\"\n",
    "print(ultima_vogal(\"python\"))      # \"A última vogal é: o\"\n",
    "print(ultima_vogal(\"casa\"))        # \"A última vogal é: a\"\n"
   ]
  },
  {
   "cell_type": "code",
   "execution_count": 27,
   "metadata": {},
   "outputs": [
    {
     "name": "stdout",
     "output_type": "stream",
     "text": [
      "['Eu', 'oo', 'e', 'aee', 'o']\n",
      "['Ee', 'eeo', 'ieeae']\n"
     ]
    }
   ],
   "source": [
    "def extrair_vogais_palavras(frase):\n",
    "    # Extrai as vogais de cada palavra e retorna uma lista com palavras formadas apenas por vogais\n",
    "    vogais = \"aeiouAEIOU\"\n",
    "    palavras = frase.split()\n",
    "    palavras_vogais = []\n",
    "    \n",
    "    for palavra in palavras:\n",
    "        palavra_vogais = \"\".join([letra for letra in palavra if letra in vogais])\n",
    "        if palavra_vogais:  # Se a palavra extraída de vogais não for vazia\n",
    "            palavras_vogais.append(palavra_vogais)\n",
    "    \n",
    "    return palavras_vogais\n",
    "\n",
    "# Exemplos de uso\n",
    "print(extrair_vogais_palavras(\"Eu gosto de aprender Python\"))  \n",
    "# Saída: ['Eu', 'o', 'o', 'e', 'e', 'e']\n",
    "print(extrair_vogais_palavras(\"Este exemplo é interessante\"))  \n",
    "# Saída: ['E', 'e', 'é', 'e', 'e']\n"
   ]
  },
  {
   "cell_type": "code",
   "execution_count": 28,
   "metadata": {},
   "outputs": [
    {
     "name": "stdout",
     "output_type": "stream",
     "text": [
      "[]\n",
      "[]\n"
     ]
    }
   ],
   "source": [
    "def palavras_com_todas_as_vogais(frase):\n",
    "    # Encontra as palavras que contêm todas as vogais (a, e, i, o, u)\n",
    "    vogais = \"aeiouAEIOU\"\n",
    "    palavras = frase.split()\n",
    "    palavras_completas = []\n",
    "    \n",
    "    for palavra in palavras:\n",
    "        if all(vogal in palavra for vogal in vogais.lower()):\n",
    "            palavras_completas.append(palavra)\n",
    "    \n",
    "    return palavras_completas\n",
    "\n",
    "# Exemplos de uso\n",
    "print(palavras_com_todas_as_vogais(\"A educação é muito importante para o nosso futuro\"))  \n",
    "# Saída: ['educação', 'importante']\n",
    "print(palavras_com_todas_as_vogais(\"Python é legal e ótimo\"))  \n",
    "# Saída: ['ótimo']\n"
   ]
  },
  {
   "cell_type": "code",
   "execution_count": 29,
   "metadata": {},
   "outputs": [
    {
     "name": "stdout",
     "output_type": "stream",
     "text": [
      "12 g3st4 d5 Pyth6n\n",
      "Pyth1n é 2ncrív3l\n"
     ]
    }
   ],
   "source": [
    "def substituir_vogais_por_numeros_crescentes(frase):\n",
    "    # Substitui as vogais por uma sequência crescente de números\n",
    "    vogais = \"aeiouAEIOU\"\n",
    "    contador = 1\n",
    "    resultado = \"\"\n",
    "    \n",
    "    for letra in frase:\n",
    "        if letra in vogais:\n",
    "            resultado += str(contador)\n",
    "            contador += 1  # Aumenta o número a cada vogal encontrada\n",
    "        else:\n",
    "            resultado += letra\n",
    "    \n",
    "    return resultado\n",
    "\n",
    "# Exemplos de uso\n",
    "print(substituir_vogais_por_numeros_crescentes(\"Eu gosto de Python\"))  \n",
    "# Saída: \"E1 g2st3 d4 P5th6n\"\n",
    "print(substituir_vogais_por_numeros_crescentes(\"Python é incrível\"))  \n",
    "# Saída: \"P1th2n é 3ncr4v5l\"\n"
   ]
  },
  {
   "cell_type": "code",
   "execution_count": 30,
   "metadata": {},
   "outputs": [
    {
     "name": "stdout",
     "output_type": "stream",
     "text": [
      "Eu amo programação e desenvolvimento\n",
      "A educação é ótima para o futuro\n"
     ]
    }
   ],
   "source": [
    "import re\n",
    "\n",
    "def remover_palavras_com_vogais_consecutivas(frase):\n",
    "    # Remove palavras com mais de 3 vogais consecutivas\n",
    "    # Expressão regular para encontrar sequências de mais de 3 vogais consecutivas\n",
    "    padrao = r'\\b\\w*[aeiouAEIOU]{4,}\\w*\\b'\n",
    "    resultado = re.sub(padrao, '', frase)\n",
    "    return resultado.strip()\n",
    "\n",
    "# Exemplos de uso\n",
    "print(remover_palavras_com_vogais_consecutivas(\"Eu amo programação e desenvolvimento\"))  \n",
    "# Saída: \"Eu amo e\"\n",
    "print(remover_palavras_com_vogais_consecutivas(\"A educação é ótima para o futuro\"))  \n",
    "# Saída: \"A é para o futuro\"\n"
   ]
  },
  {
   "cell_type": "code",
   "execution_count": 31,
   "metadata": {},
   "outputs": [
    {
     "name": "stdout",
     "output_type": "stream",
     "text": [
      "Eu *o**o *e **o**a*a*\n",
      "****o* * *i*e**i*o\n"
     ]
    }
   ],
   "source": [
    "def palavras_com_vogais_preservadas(frase):\n",
    "    # Cria um novo texto onde as vogais de cada palavra são preservadas, mas as consoantes são substituídas por '*'\n",
    "    vogais = \"aeiouAEIOU\"\n",
    "    resultado = \"\"\n",
    "    \n",
    "    for palavra in frase.split():\n",
    "        nova_palavra = \"\".join([letra if letra in vogais else \"*\" for letra in palavra])\n",
    "        resultado += nova_palavra + \" \"\n",
    "    \n",
    "    return resultado.strip()\n",
    "\n",
    "# Exemplos de uso\n",
    "print(palavras_com_vogais_preservadas(\"Eu gosto de programar\"))  \n",
    "# Saída: \"E* g**t* d* pr*g*ram*r\"\n",
    "print(palavras_com_vogais_preservadas(\"Python é divertido\"))  \n",
    "# Saída: \"P*th*n é d*v*rt*d*\"\n"
   ]
  },
  {
   "cell_type": "code",
   "execution_count": 32,
   "metadata": {},
   "outputs": [
    {
     "name": "stdout",
     "output_type": "stream",
     "text": [
      "{2: 2, 3: 2, 1: 2}\n",
      "{1: 1, 4: 2, 0: 1}\n"
     ]
    }
   ],
   "source": [
    "from collections import defaultdict\n",
    "\n",
    "def contar_palavras_com_mesma_quantidade_vogais(frase):\n",
    "    # Conta quantas palavras possuem a mesma quantidade de vogais\n",
    "    vogais = \"aeiouAEIOU\"\n",
    "    palavras = frase.split()\n",
    "    \n",
    "    contador_vogais = defaultdict(int)\n",
    "    \n",
    "    for palavra in palavras:\n",
    "        quantidade_vogais = sum(1 for letra in palavra if letra in vogais)\n",
    "        contador_vogais[quantidade_vogais] += 1\n",
    "    \n",
    "    return dict(contador_vogais)\n",
    "\n",
    "# Exemplos de uso\n",
    "print(contar_palavras_com_mesma_quantidade_vogais(\"Eu amo aprender Python e programar\"))  \n",
    "# Saída: {1: 2, 2: 2, 3: 1}\n",
    "print(contar_palavras_com_mesma_quantidade_vogais(\"A educação é importante\"))  \n",
    "# Saída: {1: 1, 3: 1, 4: 1}\n"
   ]
  },
  {
   "cell_type": "code",
   "execution_count": 33,
   "metadata": {},
   "outputs": [
    {
     "name": "stdout",
     "output_type": "stream",
     "text": [
      "{}\n",
      "{'Eu': 2, 'escola': 3, 'amo': 2}\n"
     ]
    }
   ],
   "source": [
    "import re\n",
    "\n",
    "def palavras_com_vogais_no_inicio_e_fim(frase):\n",
    "    # Encontra palavras que começam e terminam com vogal\n",
    "    # E conta quantas vogais existem em cada uma\n",
    "    vogais = \"aeiouAEIOU\"\n",
    "    padrao = r'\\b[aeiouAEIOU][a-zA-Z]*[aeiouAEIOU]\\b'\n",
    "    palavras = re.findall(padrao, frase)\n",
    "    \n",
    "    palavras_com_vogais = {}\n",
    "    \n",
    "    for palavra in palavras:\n",
    "        contador_vogais = sum(1 for letra in palavra if letra in vogais)\n",
    "        palavras_com_vogais[palavra] = contador_vogais\n",
    "    \n",
    "    return palavras_com_vogais\n",
    "\n",
    "# Exemplos de uso\n",
    "print(palavras_com_vogais_no_inicio_e_fim(\"A aeróbica é ótima em operações\"))  \n",
    "# Saída: {'A': 1, 'aeróbica': 4, 'ótima': 3}\n",
    "print(palavras_com_vogais_no_inicio_e_fim(\"Eu vou à escola e amo programação\"))  \n",
    "# Saída: {'Eu': 1, 'à': 1, 'escola': 3, 'amo': 2}\n"
   ]
  },
  {
   "cell_type": "code",
   "execution_count": 34,
   "metadata": {},
   "outputs": [
    {
     "name": "stdout",
     "output_type": "stream",
     "text": [
      "{2: ['Eu', 'gosto'], 1: ['de', 'e'], 3: ['estudar'], 4: ['matemática', 'programação']}\n",
      "{1: ['Python'], 0: ['é'], 2: ['legal', 'para'], 3: ['aprender']}\n"
     ]
    }
   ],
   "source": [
    "import re\n",
    "from collections import defaultdict\n",
    "\n",
    "def agrupar_palavras_por_vogais(frase):\n",
    "    # Agrupa as palavras com a mesma quantidade de vogais\n",
    "    vogais = \"aeiouAEIOU\"\n",
    "    palavras = frase.split()\n",
    "    \n",
    "    # Usamos defaultdict para garantir que não haja erro ao tentar acessar uma chave que não existe\n",
    "    agrupamento = defaultdict(list)\n",
    "    \n",
    "    for palavra in palavras:\n",
    "        quantidade_vogais = sum(1 for letra in palavra if letra in vogais)\n",
    "        agrupamento[quantidade_vogais].append(palavra)\n",
    "    \n",
    "    return dict(agrupamento)\n",
    "\n",
    "# Exemplos de uso\n",
    "print(agrupar_palavras_por_vogais(\"Eu gosto de estudar matemática e programação\"))  \n",
    "# Saída: {1: ['Eu', 'de', 'e'], 2: ['gosto', 'estudar'], 3: ['matemática', 'programação']}\n",
    "print(agrupar_palavras_por_vogais(\"Python é legal para aprender\"))  \n",
    "# Saída: {1: ['é', 'para'], 2: ['Python'], 3: ['legal', 'aprender']}\n"
   ]
  },
  {
   "cell_type": "code",
   "execution_count": 35,
   "metadata": {},
   "outputs": [
    {
     "name": "stdout",
     "output_type": "stream",
     "text": [
      "Eu amo estudar programação e ciência\n",
      "Python é interessante e divertido\n"
     ]
    }
   ],
   "source": [
    "import re\n",
    "\n",
    "def substituir_palavras_com_vogais_consecutivas(frase, substituicao=\"VOGAL\"):\n",
    "    # Substitui palavras que contêm mais de 2 vogais consecutivas\n",
    "    # por uma string personalizada (por padrão \"VOGAL\")\n",
    "    padrao = r'\\b\\w*[aeiouAEIOU]{3,}\\w*\\b'\n",
    "    frase_substituida = re.sub(padrao, substituicao, frase)\n",
    "    \n",
    "    return frase_substituida\n",
    "\n",
    "# Exemplos de uso\n",
    "print(substituir_palavras_com_vogais_consecutivas(\"Eu amo estudar programação e ciência\"))  \n",
    "# Saída: \"Eu amo estudar VOGAL e VOGAL\"\n",
    "print(substituir_palavras_com_vogais_consecutivas(\"Python é interessante e divertido\"))  \n",
    "# Saída: \"Python é VOGAL e VOGAL\"\n"
   ]
  },
  {
   "cell_type": "code",
   "execution_count": 36,
   "metadata": {},
   "outputs": [
    {
     "name": "stdout",
     "output_type": "stream",
     "text": [
      "0\n",
      "2\n"
     ]
    }
   ],
   "source": [
    "import re\n",
    "\n",
    "def palavras_com_todas_as_vogais(frase):\n",
    "    # Encontra e conta as palavras que contêm todas as vogais (a, e, i, o, u)\n",
    "    padrao = r'\\b(?=.*a)(?=.*e)(?=.*i)(?=.*o)(?=.*u)[a-zA-Z]+\\b'\n",
    "    palavras_completas = re.findall(padrao, frase)\n",
    "    \n",
    "    return len(palavras_completas)\n",
    "\n",
    "# Exemplos de uso\n",
    "print(palavras_com_todas_as_vogais(\"Eu amo estudar programação em python e a educação\"))  \n",
    "# Saída: 1 (apenas 'educação' contém todas as vogais)\n",
    "print(palavras_com_todas_as_vogais(\"A educação é ótima e necessária para o futuro\"))  \n",
    "# Saída: 1 (apenas 'educação' contém todas as vogais)\n"
   ]
  },
  {
   "cell_type": "code",
   "execution_count": 37,
   "metadata": {},
   "outputs": [
    {
     "name": "stdout",
     "output_type": "stream",
     "text": [
      "{'Eu': 0, 'gosto': 3, 'de': 1, 'programar': 6}\n",
      "{'Python': 5, 'é': 1, 'legal': 3, 'e': 0, 'divertido': 5}\n"
     ]
    }
   ],
   "source": [
    "def contar_consoantes_por_palavra(frase):\n",
    "    # Conta as consoantes em cada palavra\n",
    "    vogais = \"aeiouAEIOU\"\n",
    "    palavras = frase.split()\n",
    "    consoantes_por_palavra = {}\n",
    "    \n",
    "    for palavra in palavras:\n",
    "        consoantes = sum(1 for letra in palavra if letra.isalpha() and letra not in vogais)\n",
    "        consoantes_por_palavra[palavra] = consoantes\n",
    "    \n",
    "    return consoantes_por_palavra\n",
    "\n",
    "# Exemplos de uso\n",
    "print(contar_consoantes_por_palavra(\"Eu gosto de programar\"))  \n",
    "# Saída: {'Eu': 1, 'gosto': 3, 'de': 1, 'programar': 6}\n",
    "print(contar_consoantes_por_palavra(\"Python é legal e divertido\"))  \n",
    "# Saída: {'Python': 5, 'é': 0, 'legal': 3, 'e': 0, 'divertido': 5}\n"
   ]
  },
  {
   "cell_type": "code",
   "execution_count": 38,
   "metadata": {},
   "outputs": [
    {
     "name": "stdout",
     "output_type": "stream",
     "text": [
      "['programar', 'Python']\n",
      "['educação', 'essencial']\n"
     ]
    }
   ],
   "source": [
    "import re\n",
    "\n",
    "def palavras_com_letra_inicial(frase, letra):\n",
    "    # Encontrar palavras que começam com a letra especificada (ignorando maiúsculas/minúsculas)\n",
    "    padrao = fr'\\b{letra}\\w*\\b'\n",
    "    palavras = re.findall(padrao, frase, flags=re.IGNORECASE)\n",
    "    return palavras\n",
    "\n",
    "# Exemplos de uso\n",
    "print(palavras_com_letra_inicial(\"Eu gosto de programar em Python\", \"p\"))  \n",
    "# Saída: ['programar', 'Python']\n",
    "print(palavras_com_letra_inicial(\"A educação é essencial para o futuro\", \"e\"))  \n",
    "# Saída: ['educação', 'essencial']\n"
   ]
  },
  {
   "cell_type": "code",
   "execution_count": 39,
   "metadata": {},
   "outputs": [
    {
     "name": "stdout",
     "output_type": "stream",
     "text": [
      "Meu telefone é ****-**** e meu CPF é ***.***.***-**\n",
      "O valor é **** reais.\n"
     ]
    }
   ],
   "source": [
    "import re\n",
    "\n",
    "def substituir_numeros_por_simbolo(texto, simbolo=\"*\"):\n",
    "    # Substitui todos os números por um símbolo específico\n",
    "    padrao = r'\\d'\n",
    "    novo_texto = re.sub(padrao, simbolo, texto)\n",
    "    return novo_texto\n",
    "\n",
    "# Exemplos de uso\n",
    "print(substituir_numeros_por_simbolo(\"Meu telefone é 1234-5678 e meu CPF é 123.456.789-00\"))  \n",
    "# Saída: \"Meu telefone é ****-**** e meu CPF é ***.***.***-**\"\n",
    "print(substituir_numeros_por_simbolo(\"O valor é 1000 reais.\"))  \n",
    "# Saída: \"O valor é **** reais.\"\n"
   ]
  },
  {
   "cell_type": "code",
   "execution_count": 40,
   "metadata": {},
   "outputs": [
    {
     "name": "stdout",
     "output_type": "stream",
     "text": [
      "True\n",
      "False\n",
      "False\n"
     ]
    }
   ],
   "source": [
    "import re\n",
    "\n",
    "def verificar_numero_inteiro(texto):\n",
    "    # Verifica se o texto é um número inteiro\n",
    "    padrao = r'^\\d+$'\n",
    "    if re.match(padrao, texto):\n",
    "        return True\n",
    "    else:\n",
    "        return False\n",
    "\n",
    "# Exemplos de uso\n",
    "print(verificar_numero_inteiro(\"12345\"))  # Saída: True\n",
    "print(verificar_numero_inteiro(\"123.45\")) # Saída: False\n",
    "print(verificar_numero_inteiro(\"abc123\")) # Saída: False\n"
   ]
  },
  {
   "cell_type": "code",
   "execution_count": 41,
   "metadata": {},
   "outputs": [
    {
     "name": "stdout",
     "output_type": "stream",
     "text": [
      "['exemplo@dominio.com', 'teste@outro.com']\n",
      "[]\n"
     ]
    }
   ],
   "source": [
    "import re\n",
    "\n",
    "def extrair_emails(texto):\n",
    "    # Extrai todos os e-mails encontrados no texto\n",
    "    padrao = r'[a-zA-Z0-9._%+-]+@[a-zA-Z0-9.-]+\\.[a-zA-Z]{2,}'\n",
    "    emails = re.findall(padrao, texto)\n",
    "    return emails\n",
    "\n",
    "# Exemplos de uso\n",
    "print(extrair_emails(\"Meus e-mails são: exemplo@dominio.com e teste@outro.com\"))  \n",
    "# Saída: ['exemplo@dominio.com', 'teste@outro.com']\n",
    "print(extrair_emails(\"Não há e-mails aqui!\"))  \n",
    "# Saída: []\n"
   ]
  },
  {
   "cell_type": "code",
   "execution_count": 42,
   "metadata": {},
   "outputs": [
    {
     "name": "stdout",
     "output_type": "stream",
     "text": [
      "['Eu', 'gosto', 'de', 'programar', 'em', 'Python']\n",
      "['A', 'B', 'C', 'D']\n"
     ]
    }
   ],
   "source": [
    "import re\n",
    "\n",
    "def palavras_com_penas_letras(frase):\n",
    "    # Encontra todas as palavras que contêm apenas letras (sem números ou símbolos)\n",
    "    padrao = r'\\b[a-zA-Z]+\\b'\n",
    "    palavras = re.findall(padrao, frase)\n",
    "    return palavras\n",
    "\n",
    "# Exemplos de uso\n",
    "print(palavras_com_penas_letras(\"Eu gosto de programar em Python 12345\"))  \n",
    "# Saída: ['Eu', 'gosto', 'de', 'programar', 'em', 'Python']\n",
    "print(palavras_com_penas_letras(\"A 123 B C# D!\"))  \n",
    "# Saída: ['A', 'B', 'C', 'D']\n"
   ]
  },
  {
   "cell_type": "code",
   "execution_count": 43,
   "metadata": {},
   "outputs": [
    {
     "name": "stdout",
     "output_type": "stream",
     "text": [
      "Olá mundo! Como vai?\n",
      "Python é muito legal\n"
     ]
    }
   ],
   "source": [
    "import re\n",
    "\n",
    "def remover_espacos_extras(texto):\n",
    "    # Remove espaços extras entre palavras (reduz vários espaços para um único espaço)\n",
    "    padrao = r'\\s+'\n",
    "    novo_texto = re.sub(padrao, ' ', texto).strip()\n",
    "    return novo_texto\n",
    "\n",
    "# Exemplos de uso\n",
    "print(remover_espacos_extras(\"   Olá    mundo!    Como   vai?  \"))  \n",
    "# Saída: \"Olá mundo! Como vai?\"\n",
    "print(remover_espacos_extras(\"   Python     é    muito   legal   \"))  \n",
    "# Saída: \"Python é muito legal\"\n"
   ]
  },
  {
   "cell_type": "code",
   "execution_count": 44,
   "metadata": {},
   "outputs": [
    {
     "name": "stdout",
     "output_type": "stream",
     "text": [
      "True\n",
      "False\n",
      "False\n"
     ]
    }
   ],
   "source": [
    "import re\n",
    "\n",
    "def verificar_maiusculas(texto):\n",
    "    # Verifica se a string contém apenas letras maiúsculas\n",
    "    padrao = r'^[A-Z]+$'\n",
    "    if re.match(padrao, texto):\n",
    "        return True\n",
    "    else:\n",
    "        return False\n",
    "\n",
    "# Exemplos de uso\n",
    "print(verificar_maiusculas(\"HELLO\"))  # Saída: True\n",
    "print(verificar_maiusculas(\"Hello\"))  # Saída: False\n",
    "print(verificar_maiusculas(\"HELLO123\")) # Saída: False\n"
   ]
  },
  {
   "cell_type": "code",
   "execution_count": 45,
   "metadata": {},
   "outputs": [
    {
     "name": "stdout",
     "output_type": "stream",
     "text": [
      "['ideia']\n",
      "[]\n"
     ]
    }
   ],
   "source": [
    "import re\n",
    "\n",
    "def palavras_com_vogais_consecutivas(frase):\n",
    "    # Encontrar palavras com pelo menos 3 vogais consecutivas\n",
    "    padrao = r'\\b\\w*[aeiouAEIOU]{3,}\\w*\\b'\n",
    "    palavras = re.findall(padrao, frase)\n",
    "    return palavras\n",
    "\n",
    "# Exemplos de uso\n",
    "print(palavras_com_vogais_consecutivas(\"A aeróbica é uma excelente ideia\"))  \n",
    "# Saída: ['aeróbica', 'excelete']\n",
    "print(palavras_com_vogais_consecutivas(\"O céu está azul e bonito\"))  \n",
    "# Saída: ['azul', 'bonito']\n"
   ]
  },
  {
   "cell_type": "code",
   "execution_count": 46,
   "metadata": {},
   "outputs": [
    {
     "name": "stdout",
     "output_type": "stream",
     "text": [
      "A 1bób4r1 é 5m1 fr5t1 d2l3c34s1\n",
      "E5 1d4r4 Pyth4n 2 J1v1\n"
     ]
    }
   ],
   "source": [
    "import re\n",
    "\n",
    "def substituir_vogais_por_numeros(frase):\n",
    "    # Substituir vogais (a=1, e=2, i=3, o=4, u=5) nas palavras da frase\n",
    "    vogais = {'a': 1, 'e': 2, 'i': 3, 'o': 4, 'u': 5}\n",
    "    \n",
    "    def substituir(match):\n",
    "        palavra = match.group()\n",
    "        nova_palavra = ''.join(str(vogais[letra]) if letra in vogais else letra for letra in palavra)\n",
    "        return nova_palavra\n",
    "\n",
    "    padrao = r'\\b\\w+\\b'\n",
    "    frase_substituida = re.sub(padrao, substituir, frase)\n",
    "    return frase_substituida\n",
    "\n",
    "# Exemplos de uso\n",
    "print(substituir_vogais_por_numeros(\"A abóbora é uma fruta deliciosa\"))  \n",
    "# Saída: \"1 1b4r2 2 5m1 fr5t1 d5l3c2s1\"\n",
    "print(substituir_vogais_por_numeros(\"Eu adoro Python e Java\"))  \n",
    "# Saída: \"2 1d4r4 Pyth4n 2 J1v1\"\n"
   ]
  },
  {
   "cell_type": "code",
   "execution_count": 47,
   "metadata": {},
   "outputs": [
    {
     "name": "stdout",
     "output_type": "stream",
     "text": [
      "Eu gosto de aprender o que é certo\n",
      "A abóbora está boa e a uva também\n"
     ]
    }
   ],
   "source": [
    "import re\n",
    "\n",
    "def remover_palavras_com_vogais_repetidas(frase):\n",
    "    # Remove palavras com vogais repetidas consecutivas\n",
    "    padrao = r'\\b\\w*(aa|ee|ii|oo|uu|AA|EE|II|OO|UU)\\w*\\b'\n",
    "    frase_sem_vogais_repetidas = re.sub(padrao, '', frase)\n",
    "    return ' '.join(frase_sem_vogais_repetidas.split())\n",
    "\n",
    "# Exemplos de uso\n",
    "print(remover_palavras_com_vogais_repetidas(\"Eu gosto de aprender o que é certo\"))  \n",
    "# Saída: \"Eu gosto de aprender o é certo\"\n",
    "print(remover_palavras_com_vogais_repetidas(\"A abóbora está boa e a uva também\"))  \n",
    "# Saída: \"está e\"\n"
   ]
  },
  {
   "cell_type": "code",
   "execution_count": 48,
   "metadata": {},
   "outputs": [
    {
     "name": "stdout",
     "output_type": "stream",
     "text": [
      "True\n",
      "False\n"
     ]
    }
   ],
   "source": [
    "import re\n",
    "\n",
    "def verificar_todas_as_vogais(frase):\n",
    "    # Verifica se a frase contém todas as vogais (a, e, i, o, u)\n",
    "    padrao = r'(?=.*a)(?=.*e)(?=.*i)(?=.*o)(?=.*u)'\n",
    "    if re.search(padrao, frase, re.IGNORECASE):\n",
    "        return True\n",
    "    else:\n",
    "        return False\n",
    "\n",
    "# Exemplos de uso\n",
    "print(verificar_todas_as_vogais(\"A educação é importante\"))  \n",
    "# Saída: True\n",
    "print(verificar_todas_as_vogais(\"Eu amo programação\"))  \n",
    "# Saída: False\n"
   ]
  },
  {
   "cell_type": "code",
   "execution_count": 49,
   "metadata": {},
   "outputs": [
    {
     "name": "stdout",
     "output_type": "stream",
     "text": [
      "[]\n",
      "['está', 'azul']\n"
     ]
    }
   ],
   "source": [
    "import re\n",
    "\n",
    "def palavras_com_vogal_inicio_consoante_fim(frase):\n",
    "    # Encontra palavras que começam com uma vogal e terminam com uma consoante\n",
    "    padrao = r'\\b[aeiouAEIOU][a-zA-Z]*[^aeiouAEIOU\\s]\\b'\n",
    "    palavras = re.findall(padrao, frase)\n",
    "    return palavras\n",
    "\n",
    "# Exemplos de uso\n",
    "print(palavras_com_vogal_inicio_consoante_fim(\"Eu gosto de programar\"))  \n",
    "# Saída: ['Eu', 'gosto']\n",
    "print(palavras_com_vogal_inicio_consoante_fim(\"O céu está bonito e azul\"))  \n",
    "# Saída: ['está', 'azul']\n"
   ]
  },
  {
   "cell_type": "code",
   "execution_count": 50,
   "metadata": {},
   "outputs": [
    {
     "name": "stdout",
     "output_type": "stream",
     "text": [
      "{'A': 1, 'educação': 4, 'é': 0, 'fundamental': 4, 'para': 2, 'o': 1, 'futuro': 3}\n",
      "{'Python': 1, 'é': 0, 'divertido': 4, 'e': 1, 'poderoso': 4}\n"
     ]
    }
   ],
   "source": [
    "import re\n",
    "\n",
    "def contar_vogais_por_palavra(frase):\n",
    "    # Conta o número de vogais em cada palavra\n",
    "    padrao = r'\\b\\w+\\b'\n",
    "    palavras = re.findall(padrao, frase)\n",
    "    \n",
    "    contagem_vogais = {}\n",
    "    for palavra in palavras:\n",
    "        contador_vogais = sum(1 for letra in palavra if letra.lower() in 'aeiou')\n",
    "        contagem_vogais[palavra] = contador_vogais\n",
    "    \n",
    "    return contagem_vogais\n",
    "\n",
    "# Exemplos de uso\n",
    "print(contar_vogais_por_palavra(\"A educação é fundamental para o futuro\"))  \n",
    "# Saída: {'A': 1, 'educação': 4, 'é': 1, 'fundamental': 4, 'para': 2, 'o': 1, 'futuro': 3}\n",
    "print(contar_vogais_por_palavra(\"Python é divertido e poderoso\"))  \n",
    "# Saída: {'Python': 1, 'é': 1, 'divertido': 4, 'e': 1, 'poderoso': 4}\n"
   ]
  },
  {
   "cell_type": "code",
   "execution_count": 51,
   "metadata": {},
   "outputs": [
    {
     "name": "stdout",
     "output_type": "stream",
     "text": [
      "['A ', ' está ', ' e ']\n",
      "['O ', 'sol ', ' e ', 'o ']\n"
     ]
    }
   ],
   "source": [
    "import re\n",
    "\n",
    "def palavras_com_uma_vogal(frase):\n",
    "    # Encontra palavras que contêm exatamente uma vogal\n",
    "    padrao = r'\\b[^aeiou]*[aeiou][^aeiou]*\\b'\n",
    "    palavras = re.findall(padrao, frase, flags=re.IGNORECASE)\n",
    "    return palavras\n",
    "\n",
    "# Exemplos de uso\n",
    "print(palavras_com_uma_vogal(\"A casa está limpa e organizada\"))  \n",
    "# Saída: ['A', 'está']\n",
    "print(palavras_com_uma_vogal(\"O sol brilha e o vento sopra\"))  \n",
    "# Saída: ['O', 'sol', 'vento']\n"
   ]
  },
  {
   "cell_type": "code",
   "execution_count": 52,
   "metadata": {},
   "outputs": [
    {
     "name": "stdout",
     "output_type": "stream",
     "text": [
      "['A ', ' está ', ' e ']\n",
      "['O ', 'sol ', ' e ', 'o ']\n"
     ]
    }
   ],
   "source": [
    "import re\n",
    "\n",
    "def palavras_com_uma_vogal(frase):\n",
    "    # Encontra palavras que contêm exatamente uma vogal\n",
    "    padrao = r'\\b[^aeiou]*[aeiou][^aeiou]*\\b'\n",
    "    palavras = re.findall(padrao, frase, flags=re.IGNORECASE)\n",
    "    return palavras\n",
    "\n",
    "# Exemplos de uso\n",
    "print(palavras_com_uma_vogal(\"A casa está limpa e organizada\"))  \n",
    "# Saída: ['A', 'está']\n",
    "print(palavras_com_uma_vogal(\"O sol brilha e o vento sopra\"))  \n",
    "# Saída: ['O', 'sol', 'vento']\n"
   ]
  },
  {
   "cell_type": "code",
   "execution_count": 53,
   "metadata": {},
   "outputs": [
    {
     "name": "stdout",
     "output_type": "stream",
     "text": [
      "* pr*gr*m*çã* *m Pyth*n é d*v*rt*d*\n",
      "## #d#r# #st#d#r r#g#x\n"
     ]
    }
   ],
   "source": [
    "import re\n",
    "\n",
    "def substituir_vogais(texto, caractere):\n",
    "    # Substitui todas as vogais (a, e, i, o, u) por um caractere especificado\n",
    "    padrao = r'[aeiouAEIOU]'\n",
    "    novo_texto = re.sub(padrao, caractere, texto)\n",
    "    return novo_texto\n",
    "\n",
    "# Exemplos de uso\n",
    "print(substituir_vogais(\"A programação em Python é divertida\", \"*\"))  \n",
    "# Saída: \"* pr*gr*mm*ç** *m Pyth*n * d*v*rt*d*\"\n",
    "print(substituir_vogais(\"Eu adoro estudar regex\", \"#\"))  \n",
    "# Saída: \"# d#r# st#d#r r#g#x\"\n"
   ]
  },
  {
   "cell_type": "code",
   "execution_count": 54,
   "metadata": {},
   "outputs": [
    {
     "name": "stdout",
     "output_type": "stream",
     "text": [
      "[]\n",
      "[]\n"
     ]
    }
   ],
   "source": [
    "import re\n",
    "\n",
    "def palavras_com_vogais_ordem_crescente(frase):\n",
    "    # Encontrar palavras que contêm duas vogais consecutivas em ordem crescente\n",
    "    padrao = r'\\b\\w*[aeiou]{2}\\w*\\b'\n",
    "    palavras = re.findall(padrao, frase, flags=re.IGNORECASE)\n",
    "    \n",
    "    palavras_filtradas = []\n",
    "    for palavra in palavras:\n",
    "        for i in range(len(palavra) - 1):\n",
    "            if palavra[i] in 'aeiouAEIOU' and palavra[i + 1] in 'aeiouAEIOU':\n",
    "                # Verifica se as vogais estão em ordem crescente\n",
    "                if palavra[i].lower() < palavra[i + 1].lower():\n",
    "                    palavras_filtradas.append(palavra)\n",
    "                    break\n",
    "\n",
    "    return palavras_filtradas\n",
    "\n",
    "# Exemplos de uso\n",
    "print(palavras_com_vogais_ordem_crescente(\"A abóbora está linda e a uva é doce\"))  \n",
    "# Saída: ['abóbora', 'está', 'uva']\n",
    "print(palavras_com_vogais_ordem_crescente(\"O ovo é bom e o vento sopra\"))  \n",
    "# Saída: ['vento']\n"
   ]
  },
  {
   "cell_type": "code",
   "execution_count": 55,
   "metadata": {},
   "outputs": [
    {
     "name": "stdout",
     "output_type": "stream",
     "text": [
      "False\n",
      "False\n",
      "False\n"
     ]
    }
   ],
   "source": [
    "import re\n",
    "\n",
    "def verificar_palavra_com_3_vogais(frase):\n",
    "    # Verifica se a frase contém pelo menos uma palavra com 3 vogais\n",
    "    padrao = r'\\b\\w*[aeiouAEIOU]{3,}\\w*\\b'\n",
    "    palavras = re.findall(padrao, frase)\n",
    "    return len(palavras) > 0\n",
    "\n",
    "# Exemplos de uso\n",
    "print(verificar_palavra_com_3_vogais(\"Eu adoro programar em Python\"))  \n",
    "# Saída: True (palavra 'adoro' contém 3 vogais)\n",
    "print(verificar_palavra_com_3_vogais(\"O céu está bonito\"))  \n",
    "# Saída: True (palavra 'bonito' contém 3 vogais)\n",
    "print(verificar_palavra_com_3_vogais(\"Sol é bom\"))  \n",
    "# Saída: False\n"
   ]
  },
  {
   "cell_type": "code",
   "execution_count": 56,
   "metadata": {},
   "outputs": [
    {
     "name": "stdout",
     "output_type": "stream",
     "text": [
      "['Eu', 'gosto', 'de']\n",
      "['O', 'céu', 'e', 'bonito']\n"
     ]
    }
   ],
   "source": [
    "import re\n",
    "\n",
    "def palavras_terminando_com_vogal(frase):\n",
    "    # Encontra todas as palavras que terminam com uma vogal\n",
    "    padrao = r'\\b\\w*[aeiouAEIOU]\\b'\n",
    "    palavras = re.findall(padrao, frase)\n",
    "    return palavras\n",
    "\n",
    "# Exemplos de uso\n",
    "print(palavras_terminando_com_vogal(\"Eu gosto de estudar Python\"))  \n",
    "# Saída: ['Eu', 'gosto', 'estudar']\n",
    "print(palavras_terminando_com_vogal(\"O céu está azul e bonito\"))  \n",
    "# Saída: ['O', 'azul', 'e']\n"
   ]
  },
  {
   "cell_type": "code",
   "execution_count": 57,
   "metadata": {},
   "outputs": [
    {
     "name": "stdout",
     "output_type": "stream",
     "text": [
      "[]\n",
      "[]\n"
     ]
    }
   ],
   "source": [
    "import re\n",
    "\n",
    "def palavras_com_vogais_repetidas(frase):\n",
    "    # Encontra palavras com vogais repetidas consecutivas (aa, ee, ii, oo, uu)\n",
    "    padrao = r'\\b\\w*(aa|ee|ii|oo|uu|AA|EE|II|OO|UU)\\w*\\b'\n",
    "    palavras = re.findall(padrao, frase)\n",
    "    return palavras\n",
    "\n",
    "# Exemplos de uso\n",
    "print(palavras_com_vogais_repetidas(\"A abóbora está boa e a uva também\"))  \n",
    "# Saída: ['abóbora', 'boa']\n",
    "print(palavras_com_vogais_repetidas(\"Eu gosto de estudar o ovo\"))  \n",
    "# Saída: ['ovo']\n"
   ]
  },
  {
   "cell_type": "code",
   "execution_count": 58,
   "metadata": {},
   "outputs": [
    {
     "name": "stdout",
     "output_type": "stream",
     "text": [
      "['abóbora', 'organizada', 'evento']\n",
      "[]\n"
     ]
    }
   ],
   "source": [
    "import re\n",
    "\n",
    "def palavras_com_vogal_e_mais_5_letras(frase):\n",
    "    # Encontra palavras que começam com uma vogal e têm mais de 5 letras\n",
    "    padrao = r'\\b[aeiouAEIOU]\\w{5,}\\b'\n",
    "    palavras = re.findall(padrao, frase)\n",
    "    return palavras\n",
    "\n",
    "# Exemplos de uso\n",
    "print(palavras_com_vogal_e_mais_5_letras(\"A abóbora está sendo organizada em um evento\"))  \n",
    "# Saída: ['abóbora', 'organizada']\n",
    "print(palavras_com_vogal_e_mais_5_letras(\"O céu é azul e o vento sopra\"))  \n",
    "# Saída: ['organizada']\n"
   ]
  },
  {
   "cell_type": "code",
   "execution_count": 59,
   "metadata": {},
   "outputs": [
    {
     "name": "stdout",
     "output_type": "stream",
     "text": [
      "A abóbora é deliciosa e interessante\n",
      "Eu gosto de estudar o Python\n"
     ]
    }
   ],
   "source": [
    "import re\n",
    "\n",
    "def substituir_palavras_com_mais_de_3_vogais(frase):\n",
    "    # Substitui todas as palavras que contêm mais de 3 vogais por \"*\"\n",
    "    padrao = r'\\b\\w*[aeiouAEIOU]{3,}\\w*\\b'\n",
    "    nova_frase = re.sub(padrao, '*', frase)\n",
    "    return nova_frase\n",
    "\n",
    "# Exemplos de uso\n",
    "print(substituir_palavras_com_mais_de_3_vogais(\"A abóbora é deliciosa e interessante\"))  \n",
    "# Saída: \"* * * e *\"\n",
    "print(substituir_palavras_com_mais_de_3_vogais(\"Eu gosto de estudar o Python\"))  \n",
    "# Saída: \"Eu gosto de * o Python\"\n"
   ]
  },
  {
   "cell_type": "code",
   "execution_count": 60,
   "metadata": {},
   "outputs": [
    {
     "name": "stdout",
     "output_type": "stream",
     "text": [
      "['está']\n",
      "['azul']\n"
     ]
    }
   ],
   "source": [
    "import re\n",
    "\n",
    "def palavras_com_vogal_seguida_de_consoante(frase):\n",
    "    # Encontra palavras com pelo menos uma vogal seguida de uma consoante\n",
    "    padrao = r'\\b[aeiouAEIOU][a-zA-Z]*[^aeiouAEIOU\\s]\\b'\n",
    "    palavras = re.findall(padrao, frase)\n",
    "    return palavras\n",
    "\n",
    "# Exemplos de uso\n",
    "print(palavras_com_vogal_seguida_de_consoante(\"A apple está excelente e o sol brilha\"))  \n",
    "# Saída: ['apple', 'está', 'excellente', 'sol']\n",
    "print(palavras_com_vogal_seguida_de_consoante(\"O céu é azul e bonito\"))  \n",
    "# Saída: ['azul', 'bonito']\n"
   ]
  },
  {
   "cell_type": "code",
   "execution_count": 61,
   "metadata": {},
   "outputs": [
    {
     "name": "stdout",
     "output_type": "stream",
     "text": [
      "['oo']\n",
      "[]\n"
     ]
    }
   ],
   "source": [
    "import re\n",
    "\n",
    "def palavras_com_vogal_repetida(frase):\n",
    "    # Identificar palavras que contêm pelo menos uma vogal repetida consecutivamente (aa, ee, ii, oo, uu)\n",
    "    padrao = r'\\b\\w*(aa|ee|ii|oo|uu|AA|EE|II|OO|UU)\\w*\\b'\n",
    "    palavras = re.findall(padrao, frase)\n",
    "    return palavras\n",
    "\n",
    "# Exemplos de uso\n",
    "print(palavras_com_vogal_repetida(\"Eu vi a abóbora e o voo\"))  \n",
    "# Saída: ['abóbora', 'voo']\n",
    "print(palavras_com_vogal_repetida(\"A educação é uma experiência incrível\"))  \n",
    "# Saída: ['educação', 'experiência']\n"
   ]
  },
  {
   "cell_type": "code",
   "execution_count": 62,
   "metadata": {},
   "outputs": [
    {
     "name": "stdout",
     "output_type": "stream",
     "text": [
      "['está']\n",
      "['está', 'azul']\n"
     ]
    }
   ],
   "source": [
    "import re\n",
    "\n",
    "def palavras_com_vogal_e_consoante(frase):\n",
    "    # Encontra palavras que começam com uma vogal e terminam com uma consoante\n",
    "    padrao = r'\\b[aeiouAEIOU]\\w*[^aeiouAEIOU\\s]\\b'\n",
    "    palavras = re.findall(padrao, frase)\n",
    "    return palavras\n",
    "\n",
    "# Exemplos de uso\n",
    "print(palavras_com_vogal_e_consoante(\"A abóbora está boa e o sol brilha\"))  \n",
    "# Saída: ['abóbora', 'boa']\n",
    "print(palavras_com_vogal_e_consoante(\"O céu está azul e interessante\"))  \n",
    "# Saída: ['azul']\n"
   ]
  },
  {
   "cell_type": "code",
   "execution_count": 63,
   "metadata": {},
   "outputs": [
    {
     "name": "stdout",
     "output_type": "stream",
     "text": [
      "['está']\n",
      "['agradável']\n"
     ]
    }
   ],
   "source": [
    "import re\n",
    "\n",
    "def palavras_com_vogal_seguida_de_consoante(frase):\n",
    "    # Encontra palavras que contêm uma vogal seguida de uma consoante\n",
    "    padrao = r'\\b[aeiouAEIOU][^aeiouAEIOU\\s]\\w*\\b'\n",
    "    palavras = re.findall(padrao, frase)\n",
    "    return palavras\n",
    "\n",
    "# Exemplos de uso\n",
    "print(palavras_com_vogal_seguida_de_consoante(\"A maçã está boa e o sol brilha\"))  \n",
    "# Saída: ['maçã', 'boa', 'sol']\n",
    "print(palavras_com_vogal_seguida_de_consoante(\"O céu é bonito e agradável\"))  \n",
    "# Saída: ['céu', 'é', 'bonito']\n"
   ]
  },
  {
   "cell_type": "code",
   "execution_count": 64,
   "metadata": {},
   "outputs": [
    {
     "name": "stdout",
     "output_type": "stream",
     "text": [
      "{'vogais': 14, 'consoantes': 11}\n",
      "{'vogais': 6, 'consoantes': 8}\n"
     ]
    }
   ],
   "source": [
    "import re\n",
    "from collections import Counter\n",
    "\n",
    "def contar_vogais_e_consoantes(frase):\n",
    "    # Conta quantas vogais e consoantes existem na frase\n",
    "    padrao_vogais = r'[aeiouAEIOU]'\n",
    "    padrao_consoantes = r'[bcdfghjklmnpqrstvwxyzBCDFGHJKLMNPQRSTVWXYZ]'\n",
    "    \n",
    "    vogais = re.findall(padrao_vogais, frase)\n",
    "    consoantes = re.findall(padrao_consoantes, frase)\n",
    "    \n",
    "    return {'vogais': len(vogais), 'consoantes': len(consoantes)}\n",
    "\n",
    "# Exemplos de uso\n",
    "print(contar_vogais_e_consoantes(\"A educação é a chave para o sucesso\"))  \n",
    "# Saída: {'vogais': 15, 'consoantes': 14}\n",
    "print(contar_vogais_e_consoantes(\"O sol brilha no céu\"))  \n",
    "# Saída: {'vogais': 6, 'consoantes': 7}\n"
   ]
  },
  {
   "cell_type": "code",
   "execution_count": 65,
   "metadata": {},
   "outputs": [
    {
     "name": "stdout",
     "output_type": "stream",
     "text": [
      "A abóbora é m*r*v*lh*s* e o s*l br*lh*\n",
      "Eu g*st* d* estudar em c*s*\n"
     ]
    }
   ],
   "source": [
    "import re\n",
    "\n",
    "def substituir_vogais_por_asterisco(frase):\n",
    "    # Substitui todas as vogais por asteriscos em palavras que começam com uma consoante\n",
    "    padrao = r'\\b[^aeiouAEIOU\\s\\W]\\w*\\b'\n",
    "    nova_frase = re.sub(padrao, lambda m: re.sub(r'[aeiouAEIOU]', '*', m.group(0)), frase)\n",
    "    return nova_frase\n",
    "\n",
    "# Exemplos de uso\n",
    "print(substituir_vogais_por_asterisco(\"A abóbora é maravilhosa e o sol brilha\"))  \n",
    "# Saída: \"A *ób*r* é maravilhosa e * sol br*lh*\"\n",
    "print(substituir_vogais_por_asterisco(\"Eu gosto de estudar em casa\"))  \n",
    "# Saída: \"Eu gosto de estudar em casa\"\n"
   ]
  },
  {
   "cell_type": "code",
   "execution_count": 66,
   "metadata": {},
   "outputs": [
    {
     "name": "stdout",
     "output_type": "stream",
     "text": [
      "['e o ']\n",
      "[]\n"
     ]
    }
   ],
   "source": [
    "import re\n",
    "\n",
    "def palavras_com_vogais_e_consoantes_alternados(frase):\n",
    "    # Encontra palavras que contêm uma vogal e uma consoante alternadas\n",
    "    padrao = r'\\b([aeiouAEIOU][^aeiouAEIOU][aeiouAEIOU][^aeiouAEIOU])+\\b'\n",
    "    palavras = re.findall(padrao, frase)\n",
    "    return palavras\n",
    "\n",
    "# Exemplos de uso\n",
    "print(palavras_com_vogais_e_consoantes_alternados(\"A abóbora está ali e o sol brilha\"))  \n",
    "# Saída: ['abóbora']\n",
    "print(palavras_com_vogais_e_consoantes_alternados(\"Eu gosto de estudar em casa\"))  \n",
    "# Saída: ['gosto']\n"
   ]
  },
  {
   "cell_type": "code",
   "execution_count": 67,
   "metadata": {},
   "outputs": [
    {
     "name": "stdout",
     "output_type": "stream",
     "text": [
      "A a9ó9o9a é maravilhosa e o sol brilha\n",
      "Eu gosto de e99u9a9 e9 casa\n"
     ]
    }
   ],
   "source": [
    "import re\n",
    "\n",
    "def substituir_consoantes_por_numeros(frase):\n",
    "    # Substitui todas as consoantes por números em palavras que começam com uma vogal\n",
    "    padrao = r'\\b[aeiouAEIOU]\\w*\\b'\n",
    "    nova_frase = re.sub(padrao, lambda m: re.sub(r'[bcdfghjklmnpqrstvwxyzBCDFGHJKLMNPQRSTVWXYZ]', '9', m.group(0)), frase)\n",
    "    return nova_frase\n",
    "\n",
    "# Exemplos de uso\n",
    "print(substituir_consoantes_por_numeros(\"A abóbora é maravilhosa e o sol brilha\"))  \n",
    "# Saída: \"A 99999 é maravilhosa e o sol brilha\"\n",
    "print(substituir_consoantes_por_numeros(\"Eu gosto de estudar em casa\"))  \n",
    "# Saída: \"Eu 9999 de estudar em casa\"\n"
   ]
  },
  {
   "cell_type": "code",
   "execution_count": 68,
   "metadata": {},
   "outputs": [
    {
     "name": "stdout",
     "output_type": "stream",
     "text": [
      "[]\n",
      "['em']\n"
     ]
    }
   ],
   "source": [
    "import re\n",
    "\n",
    "def palavras_com_vogal_e_consoante(frase):\n",
    "    # Encontra palavras que começam com uma vogal e possuem pelo menos uma consoante\n",
    "    padrao = r'\\b[aeiouAEIOU]\\w*[^aeiouAEIOU\\s]\\b'\n",
    "    palavras = re.findall(padrao, frase)\n",
    "    return palavras\n",
    "\n",
    "# Exemplos de uso\n",
    "print(palavras_com_vogal_e_consoante(\"A abóbora é interessante e o sol brilha\"))  \n",
    "# Saída: ['abóbora', 'interessante']\n",
    "print(palavras_com_vogal_e_consoante(\"Eu estudo Python em casa\"))  \n",
    "# Saída: ['estudo']\n"
   ]
  },
  {
   "cell_type": "code",
   "execution_count": 69,
   "metadata": {},
   "outputs": [
    {
     "name": "stdout",
     "output_type": "stream",
     "text": [
      "0\n",
      "1\n"
     ]
    }
   ],
   "source": [
    "import re\n",
    "\n",
    "def contar_palavras_com_mais_de_uma_vogal(frase):\n",
    "    # Conta palavras que possuem mais de uma vogal\n",
    "    padrao = r'\\b\\w*[aeiouAEIOU]{2,}\\w*\\b'\n",
    "    palavras = re.findall(padrao, frase)\n",
    "    return len(palavras)\n",
    "\n",
    "# Exemplos de uso\n",
    "print(contar_palavras_com_mais_de_uma_vogal(\"A abóbora está na mesa\"))  \n",
    "# Saída: 2 (abóbora, está)\n",
    "print(contar_palavras_com_mais_de_uma_vogal(\"Eu gosto de estudar Python\"))  \n",
    "# Saída: 4 (Eu, gosto, estudar, Python)\n"
   ]
  },
  {
   "cell_type": "code",
   "execution_count": 70,
   "metadata": {},
   "outputs": [
    {
     "name": "stdout",
     "output_type": "stream",
     "text": [
      "A a*ó*o*a é i**e*e**a**e e o sol brilha\n",
      "Eu gosto de e##u#a# e# casa\n"
     ]
    }
   ],
   "source": [
    "import re\n",
    "\n",
    "def substituir_consoantes(frase, caractere):\n",
    "    # Substitui todas as consoantes por um caractere específico em palavras que começam com uma vogal\n",
    "    padrao = r'\\b[aeiouAEIOU]\\w*\\b'\n",
    "    nova_frase = re.sub(padrao, lambda m: re.sub(r'[bcdfghjklmnpqrstvwxyzBCDFGHJKLMNPQRSTVWXYZ]', caractere, m.group(0)), frase)\n",
    "    return nova_frase\n",
    "\n",
    "# Exemplos de uso\n",
    "print(substituir_consoantes(\"A abóbora é interessante e o sol brilha\", \"*\"))  \n",
    "# Saída: \"A *oo*a é *i*e*ta*e e o sol brilha\"\n",
    "print(substituir_consoantes(\"Eu gosto de estudar em casa\", \"#\"))  \n",
    "# Saída: \"Eu #o**o de e#u#a em ca#a\"\n"
   ]
  },
  {
   "cell_type": "code",
   "execution_count": 71,
   "metadata": {},
   "outputs": [
    {
     "name": "stdout",
     "output_type": "stream",
     "text": [
      "A abóbora é interessante e o sl brlh\n",
      "Eu estudo Pythn em cs\n"
     ]
    }
   ],
   "source": [
    "import re\n",
    "\n",
    "def remover_vogais_palavras_com_consoante(frase):\n",
    "    # Remove as vogais de palavras que começam com uma consoante\n",
    "    padrao = r'\\b[^aeiouAEIOU\\s\\W]\\w*\\b'\n",
    "    nova_frase = re.sub(padrao, lambda m: re.sub(r'[aeiouAEIOU]', '', m.group(0)), frase)\n",
    "    return nova_frase\n",
    "\n",
    "# Exemplos de uso\n",
    "print(remover_vogais_palavras_com_consoante(\"A abóbora é interessante e o sol brilha\"))  \n",
    "# Saída: \"A bbr é interessante e o sl brlha\"\n",
    "print(remover_vogais_palavras_com_consoante(\"Eu estudo Python em casa\"))  \n",
    "# Saída: \"Eu st d Pythn em csa\"\n"
   ]
  },
  {
   "cell_type": "code",
   "execution_count": 72,
   "metadata": {},
   "outputs": [
    {
     "name": "stdout",
     "output_type": "stream",
     "text": [
      "A casa foi limpa e o céu está azul\n",
      "Eu gosto de estudar Python em casa\n"
     ]
    }
   ],
   "source": [
    "import re\n",
    "\n",
    "def substituir_palavras_somente_consoantes(frase):\n",
    "    # Substitui palavras que contêm apenas consoantes por \"XYZ\"\n",
    "    padrao = r'\\b[^aeiouAEIOU\\s\\W]+\\b'\n",
    "    nova_frase = re.sub(padrao, \"XYZ\", frase)\n",
    "    return nova_frase\n",
    "\n",
    "# Exemplos de uso\n",
    "print(substituir_palavras_somente_consoantes(\"A casa foi limpa e o céu está azul\"))  \n",
    "# Saída: \"A XYZ foi limpa e o XYZ está XYZ\"\n",
    "print(substituir_palavras_somente_consoantes(\"Eu gosto de estudar Python em casa\"))  \n",
    "# Saída: \"Eu gosto de XYZ Python em XYZ\"\n"
   ]
  },
  {
   "cell_type": "code",
   "execution_count": 73,
   "metadata": {},
   "outputs": [
    {
     "name": "stdout",
     "output_type": "stream",
     "text": [
      "['A', 'e', 'o']\n",
      "['Eu']\n"
     ]
    }
   ],
   "source": [
    "import re\n",
    "\n",
    "def palavras_com_soa_vogais(frase):\n",
    "    # Encontra palavras que contêm apenas vogais\n",
    "    padrao = r'\\b[aeiouAEIOU]+\\b'\n",
    "    palavras = re.findall(padrao, frase)\n",
    "    return palavras\n",
    "\n",
    "# Exemplos de uso\n",
    "print(palavras_com_soa_vogais(\"A área é ótima e o céu está azul\"))  \n",
    "# Saída: ['A', 'área', 'é', 'ó', 'o']\n",
    "print(palavras_com_soa_vogais(\"Eu gosto de estudar em casa\"))  \n",
    "# Saída: ['Eu']\n"
   ]
  },
  {
   "cell_type": "code",
   "execution_count": 74,
   "metadata": {},
   "outputs": [
    {
     "name": "stdout",
     "output_type": "stream",
     "text": [
      "True\n",
      "True\n",
      "False\n",
      "False\n"
     ]
    }
   ],
   "source": [
    "import re\n",
    "\n",
    "def validar_vogais_apenas(texto):\n",
    "    # Verifica se a string contém apenas vogais\n",
    "    padrao = r'^[aeiouAEIOU]+$'\n",
    "    if re.match(padrao, texto):\n",
    "        return True\n",
    "    return False\n",
    "\n",
    "# Exemplos de uso\n",
    "print(validar_vogais_apenas(\"aeiou\"))  # Saída: True\n",
    "print(validar_vogais_apenas(\"aeio\"))   # Saída: True\n",
    "print(validar_vogais_apenas(\"abcde\"))  # Saída: False\n",
    "print(validar_vogais_apenas(\"aeio1\"))  # Saída: False\n"
   ]
  },
  {
   "cell_type": "code",
   "execution_count": 75,
   "metadata": {},
   "outputs": [
    {
     "name": "stdout",
     "output_type": "stream",
     "text": [
      "A aXóXoXa eXXá óXiXa\n",
      "Eu eXXuXo XXXXoX\n"
     ]
    }
   ],
   "source": [
    "import re\n",
    "\n",
    "def substituir_consoantes(frase):\n",
    "    # Substitui todas as consoantes por \"X\"\n",
    "    nova_frase = re.sub(r'[bcdfghjklmnpqrstvwxyzBCDFGHJKLMNPQRSTVWXYZ]', 'X', frase)\n",
    "    return nova_frase\n",
    "\n",
    "# Exemplos de uso\n",
    "print(substituir_consoantes(\"A abóbora está ótima\"))  # Saída: \"A aXXXoXa é XíXá\"\n",
    "print(substituir_consoantes(\"Eu estudo Python\"))      # Saída: \"Eu eXuXo XYXon\"\n"
   ]
  },
  {
   "cell_type": "code",
   "execution_count": 76,
   "metadata": {},
   "outputs": [
    {
     "name": "stdout",
     "output_type": "stream",
     "text": [
      "['A', 'a', 'e']\n",
      "['E', 'e', 'e']\n"
     ]
    }
   ],
   "source": [
    "import re\n",
    "\n",
    "def primeira_vogal_palavras(frase):\n",
    "    # Extrai a primeira vogal de cada palavra\n",
    "    padrao = r'\\b[aeiouAEIOU]'  # Busca a primeira vogal de cada palavra\n",
    "    vogais = re.findall(padrao, frase)\n",
    "    return vogais\n",
    "\n",
    "# Exemplos de uso\n",
    "print(primeira_vogal_palavras(\"A abóbora está na casa\"))  # Saída: ['A', 'a', 'á', 'a']\n",
    "print(primeira_vogal_palavras(\"Eu estudo Python em casa\"))  # Saída: ['E', 'e', 'o', 'o']\n"
   ]
  },
  {
   "cell_type": "code",
   "execution_count": 77,
   "metadata": {},
   "outputs": [
    {
     "name": "stdout",
     "output_type": "stream",
     "text": [
      " bóbr stá b\n",
      " gst d stdr Pythn\n"
     ]
    }
   ],
   "source": [
    "import re\n",
    "\n",
    "def remover_vogais(frase):\n",
    "    # Remove todas as vogais\n",
    "    nova_frase = re.sub(r'[aeiouAEIOU]', '', frase)\n",
    "    return nova_frase\n",
    "\n",
    "# Exemplos de uso\n",
    "print(remover_vogais(\"A abóbora está boa\"))  # Saída: \" bbr st b\"\n",
    "print(remover_vogais(\"Eu gosto de estudar Python\"))  # Saída: \" gst d stdr Pythn\"\n"
   ]
  },
  {
   "cell_type": "code",
   "execution_count": 78,
   "metadata": {},
   "outputs": [
    {
     "name": "stdout",
     "output_type": "stream",
     "text": [
      "5\n",
      "3\n"
     ]
    }
   ],
   "source": [
    "import re\n",
    "\n",
    "def contar_palavras_comeca_com_vogal(frase):\n",
    "    # Conta palavras que começam com uma vogal\n",
    "    padrao = r'\\b[aeiouAEIOU]\\w*'  # Encontra palavras que começam com uma vogal\n",
    "    palavras = re.findall(padrao, frase)\n",
    "    return len(palavras)\n",
    "\n",
    "# Exemplos de uso\n",
    "print(contar_palavras_comeca_com_vogal(\"A abóbora está ótima e o sol brilha\"))  # Saída: 4\n",
    "print(contar_palavras_comeca_com_vogal(\"Eu gosto de estudar Python em casa\"))  # Saída: 3\n"
   ]
  },
  {
   "cell_type": "code",
   "execution_count": 79,
   "metadata": {},
   "outputs": [
    {
     "name": "stdout",
     "output_type": "stream",
     "text": [
      "True\n",
      "True\n",
      "True\n",
      "True\n"
     ]
    }
   ],
   "source": [
    "import re\n",
    "\n",
    "def validar_telefone(telefone):\n",
    "    # Valida um número de telefone com ou sem espaços\n",
    "    padrao = r'^\\(?\\d{2}\\)?[\\s-]?\\d{4}[\\s-]?\\d{4}$'\n",
    "    if re.match(padrao, telefone):\n",
    "        return True\n",
    "    return False\n",
    "\n",
    "# Exemplos de uso\n",
    "print(validar_telefone(\"12 3456 7890\"))  # Saída: True\n",
    "print(validar_telefone(\"(12) 3456-7890\"))  # Saída: True\n",
    "print(validar_telefone(\"1234567890\"))  # Saída: True\n",
    "print(validar_telefone(\"12 34567890\"))  # Saída: False\n"
   ]
  },
  {
   "cell_type": "code",
   "execution_count": 80,
   "metadata": {},
   "outputs": [
    {
     "name": "stdout",
     "output_type": "stream",
     "text": [
      "1 1bób4r1 2stá ót3m1\n",
      "25 2st5d4 Pyth4n\n"
     ]
    }
   ],
   "source": [
    "import re\n",
    "\n",
    "def substituir_vogais_por_indices(frase):\n",
    "    # Substitui vogais pelos seus respectivos índices\n",
    "    substituicoes = {'a': '1', 'e': '2', 'i': '3', 'o': '4', 'u': '5'}\n",
    "    padrao = r'[aeiouAEIOU]'\n",
    "    \n",
    "    def substituir(match):\n",
    "        return substituicoes[match.group(0).lower()]\n",
    "\n",
    "    nova_frase = re.sub(padrao, substituir, frase)\n",
    "    return nova_frase\n",
    "\n",
    "# Exemplos de uso\n",
    "print(substituir_vogais_por_indices(\"A abóbora está ótima\"))  # Saída: \"1 1b4r2 2st2 4t3m1\"\n",
    "print(substituir_vogais_por_indices(\"Eu estudo Python\"))  # Saída: \"2 2st3d4 Pyth4n\"\n"
   ]
  },
  {
   "cell_type": "code",
   "execution_count": 81,
   "metadata": {},
   "outputs": [
    {
     "name": "stdout",
     "output_type": "stream",
     "text": [
      "['cheia', 'animais']\n",
      "['Eu', 'sou']\n"
     ]
    }
   ],
   "source": [
    "import re\n",
    "\n",
    "def palavras_com_vogais_duplicadas(frase):\n",
    "    # Encontra palavras que contêm uma vogal duplicada consecutiva\n",
    "    padrao = r'\\b\\w*[aeiouAEIOU]{2,}\\w*\\b'  # Palavra com pelo menos duas vogais consecutivas\n",
    "    palavras = re.findall(padrao, frase)\n",
    "    return palavras\n",
    "\n",
    "# Exemplos de uso\n",
    "print(palavras_com_vogais_duplicadas(\"A abóbora está cheia de ovos e animais\"))  \n",
    "# Saída: ['abóbora', 'animais', 'ovos']\n",
    "print(palavras_com_vogais_duplicadas(\"Eu estudo Python e sou feliz\"))  \n",
    "# Saída: ['estudo', 'Python']\n"
   ]
  },
  {
   "cell_type": "code",
   "execution_count": 82,
   "metadata": {},
   "outputs": [
    {
     "name": "stdout",
     "output_type": "stream",
     "text": [
      "Eu * de * *\n",
      "A * é *\n"
     ]
    }
   ],
   "source": [
    "import re\n",
    "\n",
    "def substituir_palavras_com_3_ou_mais_letras(frase):\n",
    "    # Substitui palavras com 3 ou mais letras por um asterisco\n",
    "    padrao = r'\\b\\w{3,}\\b'\n",
    "    nova_frase = re.sub(padrao, '*', frase)\n",
    "    return nova_frase\n",
    "\n",
    "# Exemplos de uso\n",
    "print(substituir_palavras_com_3_ou_mais_letras(\"Eu gosto de estudar Python\"))  \n",
    "# Saída: \"Eu * de * *\"\n",
    "print(substituir_palavras_com_3_ou_mais_letras(\"A casa é grande\"))  \n",
    "# Saída: \"A * é *\"\n"
   ]
  },
  {
   "cell_type": "code",
   "execution_count": 83,
   "metadata": {},
   "outputs": [
    {
     "name": "stdout",
     "output_type": "stream",
     "text": [
      "['', '.5']\n",
      "['', '.75']\n"
     ]
    }
   ],
   "source": [
    "import re\n",
    "\n",
    "def encontrar_numeros(frase):\n",
    "    # Encontra todos os números na string\n",
    "    padrao = r'\\b\\d+(\\.\\d+)?\\b'  # Números inteiros ou decimais\n",
    "    numeros = re.findall(padrao, frase)\n",
    "    return numeros\n",
    "\n",
    "# Exemplos de uso\n",
    "print(encontrar_numeros(\"Eu tenho 2 maçãs e 3.5 bananas\"))  \n",
    "# Saída: ['2', '3.5']\n",
    "print(encontrar_numeros(\"O valor é 1000 e a taxa é 15.75\"))  \n",
    "# Saída: ['1000', '15.75']\n"
   ]
  },
  {
   "cell_type": "code",
   "execution_count": 84,
   "metadata": {},
   "outputs": [
    {
     "name": "stdout",
     "output_type": "stream",
     "text": [
      "True\n",
      "False\n",
      "True\n"
     ]
    }
   ],
   "source": [
    "import re\n",
    "\n",
    "def validar_email(email):\n",
    "    # Valida um e-mail simples\n",
    "    padrao = r'^[a-zA-Z0-9._%+-]+@[a-zA-Z0-9.-]+\\.[a-zA-Z]{2,}$'\n",
    "    if re.match(padrao, email):\n",
    "        return True\n",
    "    return False\n",
    "\n",
    "# Exemplos de uso\n",
    "print(validar_email(\"teste@dominio.com\"))  # Saída: True\n",
    "print(validar_email(\"teste@dominio\"))      # Saída: False\n",
    "print(validar_email(\"teste123@dominio.co\")) # Saída: True\n"
   ]
  },
  {
   "cell_type": "code",
   "execution_count": 85,
   "metadata": {},
   "outputs": [
    {
     "name": "stdout",
     "output_type": "stream",
     "text": [
      "2 5 2 7 6\n",
      "1 4 1 6\n"
     ]
    }
   ],
   "source": [
    "import re\n",
    "\n",
    "def substituir_por_comprimento(frase):\n",
    "    # Substitui palavras pelo seu comprimento\n",
    "    padrao = r'\\b\\w+\\b'\n",
    "    \n",
    "    def comprimento(match):\n",
    "        return str(len(match.group(0)))\n",
    "    \n",
    "    nova_frase = re.sub(padrao, comprimento, frase)\n",
    "    return nova_frase\n",
    "\n",
    "# Exemplos de uso\n",
    "print(substituir_por_comprimento(\"Eu gosto de estudar Python\"))  \n",
    "# Saída: \"2 5 2 7 6\"\n",
    "print(substituir_por_comprimento(\"A casa é grande\"))  \n",
    "# Saída: \"1 4 2 6\"\n"
   ]
  },
  {
   "cell_type": "code",
   "execution_count": 86,
   "metadata": {},
   "outputs": [
    {
     "name": "stdout",
     "output_type": "stream",
     "text": [
      "True\n",
      "True\n",
      "True\n"
     ]
    }
   ],
   "source": [
    "import re\n",
    "\n",
    "def verificar_vogal_seguida_consoante(frase):\n",
    "    # Verifica se existe uma vogal seguida de uma consoante\n",
    "    padrao = r'[aeiouAEIOU][bcdfghjklmnpqrstvwxyzBCDFGHJKLMNPQRSTVWXYZ]'\n",
    "    if re.search(padrao, frase):\n",
    "        return True\n",
    "    return False\n",
    "\n",
    "# Exemplos de uso\n",
    "print(verificar_vogal_seguida_consoante(\"Eu gosto de estudar Python\"))  \n",
    "# Saída: True (exemplo com \"go\")\n",
    "print(verificar_vogal_seguida_consoante(\"A casa é grande\"))  \n",
    "# Saída: True (exemplo com \"ca\")\n",
    "print(verificar_vogal_seguida_consoante(\"abc\"))  \n",
    "# Saída: False\n"
   ]
  },
  {
   "cell_type": "code",
   "execution_count": 87,
   "metadata": {},
   "outputs": [
    {
     "name": "stdout",
     "output_type": "stream",
     "text": [
      "Eu tenho  maçãs e  laranjas\n",
      "Meu número de telefone é \n"
     ]
    }
   ],
   "source": [
    "import re\n",
    "\n",
    "def remover_palavras_com_numeros(frase):\n",
    "    # Remove todas as palavras que contêm números\n",
    "    padrao = r'\\b\\w*\\d\\w*\\b'\n",
    "    nova_frase = re.sub(padrao, '', frase)\n",
    "    return nova_frase\n",
    "\n",
    "# Exemplos de uso\n",
    "print(remover_palavras_com_numeros(\"Eu tenho 2 maçãs e 3 laranjas\"))  \n",
    "# Saída: \"Eu tenho maçãs e laranjas\"\n",
    "print(remover_palavras_com_numeros(\"Meu número de telefone é 12345\"))  \n",
    "# Saída: \"Meu número de telefone é\"\n"
   ]
  },
  {
   "cell_type": "code",
   "execution_count": 88,
   "metadata": {},
   "outputs": [
    {
     "name": "stdout",
     "output_type": "stream",
     "text": [
      "['Hoje', 'Python']\n",
      "['O']\n"
     ]
    }
   ],
   "source": [
    "import re\n",
    "\n",
    "def palavras_comeca_com_maiuscula(frase):\n",
    "    # Encontra palavras que começam com uma letra maiúscula\n",
    "    padrao = r'\\b[A-Z][a-z]*\\b'\n",
    "    palavras = re.findall(padrao, frase)\n",
    "    return palavras\n",
    "\n",
    "# Exemplos de uso\n",
    "print(palavras_comeca_com_maiuscula(\"Hoje é um dia maravilhoso para aprender Python.\"))  \n",
    "# Saída: ['Hoje', 'Python']\n",
    "print(palavras_comeca_com_maiuscula(\"O sol brilha e a lua aparece.\"))  \n",
    "# Saída: ['O']\n"
   ]
  },
  {
   "cell_type": "code",
   "execution_count": 89,
   "metadata": {},
   "outputs": [
    {
     "name": "stdout",
     "output_type": "stream",
     "text": [
      "True\n",
      "True\n",
      "True\n",
      "True\n"
     ]
    }
   ],
   "source": [
    "import re\n",
    "\n",
    "def validar_url(url):\n",
    "    # Valida um URL simples\n",
    "    padrao = r'^(https?://)?([a-zA-Z0-9.-]+)(:[0-9]+)?(/[\\w/-]*)?$'\n",
    "    if re.match(padrao, url):\n",
    "        return True\n",
    "    return False\n",
    "\n",
    "# Exemplos de uso\n",
    "print(validar_url(\"https://www.exemplo.com\"))  # Saída: True\n",
    "print(validar_url(\"http://exemplo.com\"))      # Saída: True\n",
    "print(validar_url(\"www.exemplo.com\"))         # Saída: False\n",
    "print(validar_url(\"https://example:8080/teste\"))  # Saída: True\n"
   ]
  },
  {
   "cell_type": "code",
   "execution_count": 90,
   "metadata": {},
   "outputs": [
    {
     "name": "stdout",
     "output_type": "stream",
     "text": [
      "(0, [])\n",
      "(1, ['casa'])\n"
     ]
    }
   ],
   "source": [
    "import re\n",
    "\n",
    "def palavras_com_4_letras(frase):\n",
    "    # Encontra palavras com exatamente 4 letras\n",
    "    padrao = r'\\b\\w{4}\\b'\n",
    "    palavras = re.findall(padrao, frase)\n",
    "    return len(palavras), palavras\n",
    "\n",
    "# Exemplos de uso\n",
    "print(palavras_com_4_letras(\"Eu gosto de estudar muito!\"))  \n",
    "# Saída: (2, ['gosto', 'muito'])\n",
    "print(palavras_com_4_letras(\"A casa é grande e bonita\"))  \n",
    "# Saída: (2, ['casa', 'grande'])\n"
   ]
  },
  {
   "cell_type": "code",
   "execution_count": 91,
   "metadata": {},
   "outputs": [
    {
     "name": "stdout",
     "output_type": "stream",
     "text": [
      "Tenho dois maçãs e três bananas.\n",
      "O número é 123.\n"
     ]
    }
   ],
   "source": [
    "import re\n",
    "\n",
    "def substituir_numeros_por_extenso(frase):\n",
    "    numeros_extenso = {\n",
    "        \"1\": \"um\", \"2\": \"dois\", \"3\": \"três\", \"4\": \"quatro\", \"5\": \"cinco\",\n",
    "        \"6\": \"seis\", \"7\": \"sete\", \"8\": \"oito\", \"9\": \"nove\", \"0\": \"zero\"\n",
    "    }\n",
    "    \n",
    "    def substituir(match):\n",
    "        return numeros_extenso.get(match.group(0), match.group(0))\n",
    "\n",
    "    padrao = r'\\b\\d\\b'\n",
    "    nova_frase = re.sub(padrao, substituir, frase)\n",
    "    return nova_frase\n",
    "\n",
    "# Exemplos de uso\n",
    "print(substituir_numeros_por_extenso(\"Tenho 2 maçãs e 3 bananas.\"))  \n",
    "# Saída: \"Tenho dois maçãs e três bananas.\"\n",
    "print(substituir_numeros_por_extenso(\"O número é 123.\"))  \n",
    "# Saída: \"O número é 123.\" (apenas números de 1 a 9 são substituídos)\n"
   ]
  },
  {
   "cell_type": "code",
   "execution_count": 92,
   "metadata": {},
   "outputs": [
    {
     "name": "stdout",
     "output_type": "stream",
     "text": [
      "['2', '3', '123abc']\n",
      "['python2']\n"
     ]
    }
   ],
   "source": [
    "import re\n",
    "\n",
    "def palavras_com_numeros(frase):\n",
    "    # Encontra palavras que contêm números\n",
    "    padrao = r'\\b\\w*\\d\\w*\\b'\n",
    "    palavras = re.findall(padrao, frase)\n",
    "    return palavras\n",
    "\n",
    "# Exemplos de uso\n",
    "print(palavras_com_numeros(\"Tenho 2 maçãs e 3 bananas, mas o código é 123abc\"))  \n",
    "# Saída: ['2', '3', '123abc']\n",
    "print(palavras_com_numeros(\"Eu adoro o código python2\"))  \n",
    "# Saída: ['python2']\n"
   ]
  },
  {
   "cell_type": "code",
   "execution_count": 93,
   "metadata": {},
   "outputs": [
    {
     "name": "stdout",
     "output_type": "stream",
     "text": [
      "Eu gosto de aprender Python\n",
      " Olá mundo !\n"
     ]
    }
   ],
   "source": [
    "import re\n",
    "\n",
    "def substituir_espacos_consecutivos(frase):\n",
    "    # Substitui todos os espaços consecutivos por um único espaço\n",
    "    nova_frase = re.sub(r'\\s+', ' ', frase)\n",
    "    return nova_frase\n",
    "\n",
    "# Exemplos de uso\n",
    "print(substituir_espacos_consecutivos(\"Eu   gosto    de   aprender    Python\"))  \n",
    "# Saída: \"Eu gosto de aprender Python\"\n",
    "print(substituir_espacos_consecutivos(\"    Olá   mundo    !\"))  \n",
    "# Saída: \"Olá mundo !\"\n"
   ]
  },
  {
   "cell_type": "code",
   "execution_count": 94,
   "metadata": {},
   "outputs": [
    {
     "name": "stdout",
     "output_type": "stream",
     "text": [
      "Eu tenho X maçãs e X bananas.\n",
      "O valor total é X e a taxa é X\n"
     ]
    }
   ],
   "source": [
    "import re\n",
    "\n",
    "def substituir_numeros_por_X(frase):\n",
    "    # Substitui todos os números por \"X\"\n",
    "    nova_frase = re.sub(r'\\d+(\\.\\d+)?', 'X', frase)\n",
    "    return nova_frase\n",
    "\n",
    "# Exemplos de uso\n",
    "print(substituir_numeros_por_X(\"Eu tenho 2 maçãs e 3.5 bananas.\"))  \n",
    "# Saída: \"Eu tenho X maçãs e X bananas.\"\n",
    "print(substituir_numeros_por_X(\"O valor total é 1000 e a taxa é 15.75\"))  \n",
    "# Saída: \"O valor total é X e a taxa é X\"\n"
   ]
  },
  {
   "cell_type": "code",
   "execution_count": 95,
   "metadata": {},
   "outputs": [
    {
     "name": "stdout",
     "output_type": "stream",
     "text": [
      "['3a', '12e']\n",
      "[]\n"
     ]
    }
   ],
   "source": [
    "import re\n",
    "\n",
    "def numeros_seguidos_vogal(frase):\n",
    "    # Encontra números seguidos de uma vogal\n",
    "    padrao = r'\\d+[aeiouAEIOU]'\n",
    "    numeros_vogais = re.findall(padrao, frase)\n",
    "    return numeros_vogais\n",
    "\n",
    "# Exemplos de uso\n",
    "print(numeros_seguidos_vogal(\"Eu tenho 3a maçãs e 12e bananas.\"))  \n",
    "# Saída: ['3a', '12e']\n",
    "print(numeros_seguidos_vogal(\"O número 5 é interessante.\"))  \n",
    "# Saída: ['5e']\n"
   ]
  },
  {
   "cell_type": "code",
   "execution_count": 96,
   "metadata": {},
   "outputs": [
    {
     "name": "stdout",
     "output_type": "stream",
     "text": [
      "['150', '2000']\n",
      "[]\n"
     ]
    }
   ],
   "source": [
    "import re\n",
    "\n",
    "def encontrar_numeros_maiores_que(frase, valor):\n",
    "    # Encontra números maiores que o valor especificado\n",
    "    padrao = r'\\b\\d+\\b'\n",
    "    numeros = re.findall(padrao, frase)\n",
    "    numeros_maiores = [num for num in numeros if int(num) > valor]\n",
    "    return numeros_maiores\n",
    "\n",
    "# Exemplos de uso\n",
    "print(encontrar_numeros_maiores_que(\"Tenho 50 maçãs, 150 bananas e 2000 laranjas\", 100))  \n",
    "# Saída: ['150', '2000']\n",
    "print(encontrar_numeros_maiores_que(\"O valor é 99, e a taxa é 100\", 100))  \n",
    "# Saída: []\n"
   ]
  },
  {
   "cell_type": "code",
   "execution_count": 97,
   "metadata": {},
   "outputs": [
    {
     "name": "stdout",
     "output_type": "stream",
     "text": [
      "** g*st* d* *pr*nd*r Pyth*n\n",
      "* c*s* é gr*nd* * b*n*t*\n"
     ]
    }
   ],
   "source": [
    "import re\n",
    "\n",
    "def substituir_vogais_por_asterisco(frase):\n",
    "    # Substitui todas as vogais por \"*\"\n",
    "    nova_frase = re.sub(r'[aeiouAEIOU]', '*', frase)\n",
    "    return nova_frase\n",
    "\n",
    "# Exemplos de uso\n",
    "print(substituir_vogais_por_asterisco(\"Eu gosto de aprender Python\"))  \n",
    "# Saída: \"*g*st* d* *pr*nd* Pyth*n\"\n",
    "print(substituir_vogais_por_asterisco(\"A casa é grande e bonita\"))  \n",
    "# Saída: \"* c*s* * gr*nd* * b*n*tt*\"\n"
   ]
  },
  {
   "cell_type": "code",
   "execution_count": 98,
   "metadata": {},
   "outputs": [
    {
     "name": "stdout",
     "output_type": "stream",
     "text": [
      "True\n",
      "False\n",
      "True\n"
     ]
    }
   ],
   "source": [
    "import re\n",
    "\n",
    "def verificar_alfanumerico(frase):\n",
    "    # Verifica se a string contém apenas números e letras\n",
    "    padrao = r'^[a-zA-Z0-9]+$'\n",
    "    return bool(re.match(padrao, frase))\n",
    "\n",
    "# Exemplos de uso\n",
    "print(verificar_alfanumerico(\"Eu123\"))  # Saída: True\n",
    "print(verificar_alfanumerico(\"Eu@123\"))  # Saída: False\n",
    "print(verificar_alfanumerico(\"12345\"))  # Saída: True\n"
   ]
  },
  {
   "cell_type": "code",
   "execution_count": 99,
   "metadata": {},
   "outputs": [
    {
     "name": "stdout",
     "output_type": "stream",
     "text": [
      "105\n",
      "65\n"
     ]
    }
   ],
   "source": [
    "import re\n",
    "\n",
    "def somar_numeros(frase):\n",
    "    # Encontra todos os números e soma-os\n",
    "    padrao = r'\\d+'\n",
    "    numeros = re.findall(padrao, frase)\n",
    "    soma = sum(int(num) for num in numeros)\n",
    "    return soma\n",
    "\n",
    "# Exemplos de uso\n",
    "print(somar_numeros(\"Eu tenho 2 maçãs, 3 bananas e 100 laranjas.\"))  \n",
    "# Saída: 105\n",
    "print(somar_numeros(\"O valor total é 50 e a taxa é 15.\"))  \n",
    "# Saída: 65\n"
   ]
  }
 ],
 "metadata": {
  "kernelspec": {
   "display_name": "Python 3",
   "language": "python",
   "name": "python3"
  },
  "language_info": {
   "codemirror_mode": {
    "name": "ipython",
    "version": 3
   },
   "file_extension": ".py",
   "mimetype": "text/x-python",
   "name": "python",
   "nbconvert_exporter": "python",
   "pygments_lexer": "ipython3",
   "version": "3.9.2"
  }
 },
 "nbformat": 4,
 "nbformat_minor": 2
}
