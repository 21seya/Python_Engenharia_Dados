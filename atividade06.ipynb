{
 "cells": [
  {
   "cell_type": "code",
   "execution_count": null,
   "metadata": {},
   "outputs": [],
   "source": [
    "#1-Crie um programa que possui uma variável do \"Tipo String\"\n",
    "#contendo um número que indique quanto você tem no banco. \n",
    "#Em seguida desconte mil deste valor e mostre na saída do programa. "
   ]
  },
  {
   "cell_type": "code",
   "execution_count": 4,
   "metadata": {},
   "outputs": [
    {
     "name": "stdout",
     "output_type": "stream",
     "text": [
      "Tenho no banco R$ 4000.57 \n"
     ]
    }
   ],
   "source": [
    "saldo_em_texto = \"5000.567\"\n",
    "saldo = float(saldo_em_texto)\n",
    "total = saldo -1000\n",
    "print(\"Tenho no banco R$ %.2f \" %(total))"
   ]
  },
  {
   "cell_type": "code",
   "execution_count": null,
   "metadata": {},
   "outputs": [],
   "source": [
    "#2 -Crie um programa que indique se seu saldo bancário esta zerado \n",
    "# (valor lógico) . Declare uma variável para guardar seu saldo bancário."
   ]
  },
  {
   "cell_type": "code",
   "execution_count": 5,
   "metadata": {},
   "outputs": [
    {
     "name": "stdout",
     "output_type": "stream",
     "text": [
      "Saldo zerado: False\n"
     ]
    }
   ],
   "source": [
    "saldo = 2000.04\n",
    "esta_zerado = not bool (saldo)\n",
    "print(\"Saldo zerado:\",esta_zerado)"
   ]
  },
  {
   "cell_type": "code",
   "execution_count": null,
   "metadata": {},
   "outputs": [],
   "source": [
    "#3- Crie um programa que contenha sua altura, mas deve somente mostrar a parte \n",
    "#inteira de sua altura na saída do programa , pois queremos uma estimativa. "
   ]
  },
  {
   "cell_type": "code",
   "execution_count": 7,
   "metadata": {},
   "outputs": [
    {
     "name": "stdout",
     "output_type": "stream",
     "text": [
      "Tenho pelo menos 1 mestros de altura \n"
     ]
    }
   ],
   "source": [
    "altura = 1.82 \n",
    "altura_inteira = int(altura)\n",
    "print(\"Tenho pelo menos %i mestros de altura \" %(altura_inteira))"
   ]
  }
 ],
 "metadata": {
  "kernelspec": {
   "display_name": "Python 3",
   "language": "python",
   "name": "python3"
  },
  "language_info": {
   "codemirror_mode": {
    "name": "ipython",
    "version": 3
   },
   "file_extension": ".py",
   "mimetype": "text/x-python",
   "name": "python",
   "nbconvert_exporter": "python",
   "pygments_lexer": "ipython3",
   "version": "3.9.2"
  }
 },
 "nbformat": 4,
 "nbformat_minor": 2
}
