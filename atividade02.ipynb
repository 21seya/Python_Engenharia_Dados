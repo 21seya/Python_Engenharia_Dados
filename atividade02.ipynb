{
 "cells": [
  {
   "cell_type": "code",
   "execution_count": null,
   "metadata": {},
   "outputs": [],
   "source": [
    "#1 crie uma variavel de cada tipo e ponha algum valor escolhido. \n",
    "#Em seguida ,printe todos esses valores. \n",
    "\n"
   ]
  },
  {
   "cell_type": "code",
   "execution_count": 2,
   "metadata": {},
   "outputs": [
    {
     "name": "stdout",
     "output_type": "stream",
     "text": [
      "760\n",
      "2.5\n",
      "Uva\n",
      "True\n"
     ]
    }
   ],
   "source": [
    "inteiro = 760 \n",
    "decimal = 2.50 \n",
    "text = \"Uva\"\n",
    "booleano = True\n",
    "print(inteiro)\n",
    "print(decimal)\n",
    "print(text)\n",
    "print(booleano)"
   ]
  },
  {
   "cell_type": "code",
   "execution_count": null,
   "metadata": {},
   "outputs": [],
   "source": [
    "#2 - Crie variável para guardar seu nome ,CPF e uma que indique \n",
    "# se você está casado , em seguida printe esses valores separadamente, \n",
    "# mas não esqueça de printar junto o que eles significa.\n"
   ]
  },
  {
   "cell_type": "code",
   "execution_count": 3,
   "metadata": {},
   "outputs": [
    {
     "name": "stdout",
     "output_type": "stream",
     "text": [
      "Nome: Programador\n",
      "CPF: 255.255.255-55\n",
      "Casado: True\n"
     ]
    }
   ],
   "source": [
    "nome = \"Programador\"\n",
    "CPF = \"255.255.255-55\"\n",
    "casado = True \n",
    "\n",
    "print(\"Nome:\",nome)\n",
    "print(\"CPF:\",CPF)\n",
    "print(\"Casado:\",casado)"
   ]
  }
 ],
 "metadata": {
  "kernelspec": {
   "display_name": "Python 3",
   "language": "python",
   "name": "python3"
  },
  "language_info": {
   "codemirror_mode": {
    "name": "ipython",
    "version": 3
   },
   "file_extension": ".py",
   "mimetype": "text/x-python",
   "name": "python",
   "nbconvert_exporter": "python",
   "pygments_lexer": "ipython3",
   "version": "3.9.2"
  }
 },
 "nbformat": 4,
 "nbformat_minor": 2
}
