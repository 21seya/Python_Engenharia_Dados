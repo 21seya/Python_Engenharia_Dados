{
 "cells": [
  {
   "cell_type": "code",
   "execution_count": null,
   "metadata": {},
   "outputs": [],
   "source": [
    "#Crie um programa que diga \"Se você precisa ir ao mercado\".\n",
    "#Você precisa ir ao mercado se \"Faltar comida\" ou \n",
    "#\"se for ao sabado\" , Mostre na saída do programa o valor \n",
    "#lógico, indicando sim ou não "
   ]
  },
  {
   "cell_type": "code",
   "execution_count": 1,
   "metadata": {},
   "outputs": [
    {
     "name": "stdout",
     "output_type": "stream",
     "text": [
      "Preciso ir ao mercado ? True\n"
     ]
    }
   ],
   "source": [
    "falta_comida = True \n",
    "e_sabado = True \n",
    "vou_ao_mercado = falta_comida or e_sabado\n",
    "print(\"Preciso ir ao mercado ?\",vou_ao_mercado)\n"
   ]
  },
  {
   "cell_type": "code",
   "execution_count": null,
   "metadata": {},
   "outputs": [],
   "source": [
    "#2 - Crie um programa que responda \"Se você prode atravessar a rua\". \n",
    "# Na faixa de pedestre . Você pode atravessar a rua se \n",
    "# o \"Sinal estiver vermelho\" e \"Se não houver nenhum carro vindo da direita\"\n",
    "# E \" nem da esquerda\", Altere as variáveis para verificar se o programa \n",
    "# esta correto. Mostre na saída do programa o valor lógico \n"
   ]
  },
  {
   "cell_type": "code",
   "execution_count": 1,
   "metadata": {},
   "outputs": [
    {
     "name": "stdout",
     "output_type": "stream",
     "text": [
      "Posso Atravessar?  False\n"
     ]
    }
   ],
   "source": [
    "sinal_vermelho = True \n",
    "carro_vindo_direita = True \n",
    "carro_vindo_esquerda = False \n",
    "pode_atravessar = sinal_vermelho and not carro_vindo_direita and not carro_vindo_esquerda \n",
    "print(\"Posso Atravessar? \",pode_atravessar)"
   ]
  },
  {
   "cell_type": "code",
   "execution_count": null,
   "metadata": {},
   "outputs": [],
   "source": [
    "# 3 - Agora faça a mesma coisa que o exercicio anterior , mas \n",
    "# desta vez você esta com pressa e para atravessar a rua basta \n",
    "# que o sinal esteja vermelho \"OU\" que não venha carro da esquerda \n",
    "# e direita. Altere as variáveis para verificar a resposta em comparação \n",
    "# com ao exercicio anterior. Mostre na saída do programa o valor lógico. \n"
   ]
  },
  {
   "cell_type": "code",
   "execution_count": null,
   "metadata": {},
   "outputs": [],
   "source": []
  }
 ],
 "metadata": {
  "kernelspec": {
   "display_name": "Python 3",
   "language": "python",
   "name": "python3"
  },
  "language_info": {
   "codemirror_mode": {
    "name": "ipython",
    "version": 3
   },
   "file_extension": ".py",
   "mimetype": "text/x-python",
   "name": "python",
   "nbconvert_exporter": "python",
   "pygments_lexer": "ipython3",
   "version": "3.9.2"
  }
 },
 "nbformat": 4,
 "nbformat_minor": 2
}
