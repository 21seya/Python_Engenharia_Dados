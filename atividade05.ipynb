{
 "cells": [
  {
   "cell_type": "code",
   "execution_count": null,
   "metadata": {},
   "outputs": [],
   "source": [
    "#Crie um programa que diga \"Se você precisa ir ao mercado\".\n",
    "#Você precisa ir ao mercado se \"Faltar comida\" ou \n",
    "#\"se for ao sabado\" , Mostre na saída do programa o valor \n",
    "#lógico, indicando sim ou não "
   ]
  },
  {
   "cell_type": "code",
   "execution_count": null,
   "metadata": {},
   "outputs": [],
   "source": [
    "#2 - Crie um programa que responda \"Se você prode atravessar a rua\". \n",
    "# Na faixa de pedestre . Você pode atravessar a rua se \n",
    "# o \"Sinal estiver vermelho\" e \"Se não houver nenhum carro vindo da direita\"\n",
    "# E \" nem da esquerda\", Altere as variáveis para verificar se o programa \n",
    "# esta correto. Mostre na saída do programa o valor lógico \n"
   ]
  },
  {
   "cell_type": "code",
   "execution_count": null,
   "metadata": {},
   "outputs": [],
   "source": [
    "# 3 - Agora faça a mesma coisa que o exercicio anterior , mas \n",
    "# desta vez você esta com pressa e para atravessar a rua basta \n",
    "# que o sinal esteja vermelho \"OU\" que não venha carro da esquerda \n",
    "# e direita. Altere as variáveis para verificar a resposta em comparação \n",
    "# com ao exercicio anterior. Mostre na saída do programa o valor lógico. \n"
   ]
  }
 ],
 "metadata": {
  "language_info": {
   "name": "python"
  }
 },
 "nbformat": 4,
 "nbformat_minor": 2
}
