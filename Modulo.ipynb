{
 "cells": [
  {
   "cell_type": "code",
   "execution_count": 19,
   "metadata": {},
   "outputs": [
    {
     "name": "stdout",
     "output_type": "stream",
     "text": [
      "<class 'module'>\n",
      "2025-02-07 00:00:00\n"
     ]
    }
   ],
   "source": [
    "import datetime \n",
    "print(type(datetime))\n",
    "data= datetime.datetime(2025,2,7)\n",
    "print(data)"
   ]
  },
  {
   "cell_type": "code",
   "execution_count": 20,
   "metadata": {},
   "outputs": [
    {
     "name": "stdout",
     "output_type": "stream",
     "text": [
      "2025-02-07 22:58:00\n"
     ]
    }
   ],
   "source": [
    "import datetime as tempo \n",
    "data = tempo.datetime(2025,2,7,22,58)\n",
    "print(data)"
   ]
  },
  {
   "cell_type": "code",
   "execution_count": 21,
   "metadata": {},
   "outputs": [
    {
     "name": "stdout",
     "output_type": "stream",
     "text": [
      "20\n"
     ]
    }
   ],
   "source": [
    "import random \n",
    "print(random.randrange(10,100))"
   ]
  },
  {
   "cell_type": "code",
   "execution_count": 22,
   "metadata": {},
   "outputs": [
    {
     "name": "stdout",
     "output_type": "stream",
     "text": [
      "91\n"
     ]
    }
   ],
   "source": [
    "from random import randrange\n",
    "print(randrange(10,100))"
   ]
  },
  {
   "cell_type": "code",
   "execution_count": 23,
   "metadata": {},
   "outputs": [
    {
     "name": "stdout",
     "output_type": "stream",
     "text": [
      "19\n"
     ]
    }
   ],
   "source": [
    "from random import randrange as num_aleatorio\n",
    "print(num_aleatorio(10,100))"
   ]
  },
  {
   "cell_type": "code",
   "execution_count": 24,
   "metadata": {},
   "outputs": [
    {
     "name": "stdout",
     "output_type": "stream",
     "text": [
      "77\n"
     ]
    }
   ],
   "source": [
    "from random import * \n",
    "print(randrange(10,100))"
   ]
  },
  {
   "cell_type": "code",
   "execution_count": 25,
   "metadata": {},
   "outputs": [
    {
     "data": {
      "text/plain": [
       "['BPF',\n",
       " 'LOG4',\n",
       " 'NV_MAGICCONST',\n",
       " 'RECIP_BPF',\n",
       " 'Random',\n",
       " 'SG_MAGICCONST',\n",
       " 'SystemRandom',\n",
       " 'TWOPI',\n",
       " '_Sequence',\n",
       " '_Set',\n",
       " '__all__',\n",
       " '__builtins__',\n",
       " '__cached__',\n",
       " '__doc__',\n",
       " '__file__',\n",
       " '__loader__',\n",
       " '__name__',\n",
       " '__package__',\n",
       " '__spec__',\n",
       " '_accumulate',\n",
       " '_acos',\n",
       " '_bisect',\n",
       " '_ceil',\n",
       " '_cos',\n",
       " '_e',\n",
       " '_exp',\n",
       " '_floor',\n",
       " '_inst',\n",
       " '_log',\n",
       " '_os',\n",
       " '_pi',\n",
       " '_random',\n",
       " '_repeat',\n",
       " '_sha512',\n",
       " '_sin',\n",
       " '_sqrt',\n",
       " '_test',\n",
       " '_test_generator',\n",
       " '_urandom',\n",
       " '_warn',\n",
       " 'betavariate',\n",
       " 'choice',\n",
       " 'choices',\n",
       " 'expovariate',\n",
       " 'gammavariate',\n",
       " 'gauss',\n",
       " 'getrandbits',\n",
       " 'getstate',\n",
       " 'lognormvariate',\n",
       " 'normalvariate',\n",
       " 'paretovariate',\n",
       " 'randbytes',\n",
       " 'randint',\n",
       " 'random',\n",
       " 'randrange',\n",
       " 'sample',\n",
       " 'seed',\n",
       " 'setstate',\n",
       " 'shuffle',\n",
       " 'triangular',\n",
       " 'uniform',\n",
       " 'vonmisesvariate',\n",
       " 'weibullvariate']"
      ]
     },
     "execution_count": 25,
     "metadata": {},
     "output_type": "execute_result"
    }
   ],
   "source": [
    "import random \n",
    "dir(random)"
   ]
  },
  {
   "cell_type": "code",
   "execution_count": 26,
   "metadata": {},
   "outputs": [
    {
     "name": "stdout",
     "output_type": "stream",
     "text": [
      "random\n",
      "c:\\Users\\walla\\AppData\\Local\\Programs\\Python\\Python39\\lib\\random.py\n",
      "Random variable generators.\n",
      "\n",
      "    bytes\n",
      "    -----\n",
      "           uniform bytes (values between 0 and 255)\n",
      "\n",
      "    integers\n",
      "    --------\n",
      "           uniform within range\n",
      "\n",
      "    sequences\n",
      "    ---------\n",
      "           pick random element\n",
      "           pick random sample\n",
      "           pick weighted random sample\n",
      "           generate random permutation\n",
      "\n",
      "    distributions on the real line:\n",
      "    ------------------------------\n",
      "           uniform\n",
      "           triangular\n",
      "           normal (Gaussian)\n",
      "           lognormal\n",
      "           negative exponential\n",
      "           gamma\n",
      "           beta\n",
      "           pareto\n",
      "           Weibull\n",
      "\n",
      "    distributions on the circle (angles 0 to 2pi)\n",
      "    ---------------------------------------------\n",
      "           circular uniform\n",
      "           von Mises\n",
      "\n",
      "General notes on the underlying Mersenne Twister core generator:\n",
      "\n",
      "* The period is 2**19937-1.\n",
      "* It is one of the most extensively tested generators in existence.\n",
      "* The random() method is implemented in C, executes in a single Python step,\n",
      "  and is, therefore, threadsafe.\n",
      "\n",
      "\n"
     ]
    }
   ],
   "source": [
    "import random \n",
    "print(random.__name__)\n",
    "print(random.__file__)\n",
    "print(random.__doc__)"
   ]
  },
  {
   "cell_type": "code",
   "execution_count": 27,
   "metadata": {},
   "outputs": [
    {
     "name": "stdout",
     "output_type": "stream",
     "text": [
      "__main__\n",
      "\n",
      "Este é o arquivo principal contendo uma variável chamada euler \n",
      "e uma função chamada soma\n",
      "\n"
     ]
    }
   ],
   "source": [
    "print(__name__)\n",
    "print(__doc__)"
   ]
  },
  {
   "cell_type": "code",
   "execution_count": 28,
   "metadata": {},
   "outputs": [
    {
     "name": "stdout",
     "output_type": "stream",
     "text": [
      "Package                   Version\n",
      "------------------------- ---------\n",
      "abstra                    2.24.0\n",
      "annotated-types           0.7.0\n",
      "asttokens                 2.4.1\n",
      "attrs                     23.2.0\n",
      "beautifulsoup4            4.12.3\n",
      "blinker                   1.8.2\n",
      "bs4                       0.0.2\n",
      "certifi                   2023.7.22\n",
      "cffi                      1.16.0\n",
      "chardet                   5.2.0\n",
      "charset-normalizer        3.3.2\n",
      "click                     8.1.7\n",
      "colorama                  0.4.6\n",
      "colour                    0.1.5\n",
      "comm                      0.2.0\n",
      "contourpy                 1.2.0\n",
      "cryptography              41.0.5\n",
      "cycler                    0.11.0\n",
      "dash                      2.17.1\n",
      "dash-core-components      2.0.0\n",
      "dash-html-components      2.0.0\n",
      "dash-table                5.0.0\n",
      "debugpy                   1.8.0\n",
      "decorator                 5.1.1\n",
      "et-xmlfile                1.1.0\n",
      "exceptiongroup            1.1.3\n",
      "executing                 2.0.1\n",
      "fastjsonschema            2.19.1\n",
      "fire                      0.5.0\n",
      "Flask                     2.2.2\n",
      "Flask-Cors                4.0.0\n",
      "flask-sock                0.6.0\n",
      "flask-talisman            1.1.0\n",
      "fonttools                 4.34.4\n",
      "frozendict                2.4.6\n",
      "greenlet                  3.0.3\n",
      "gunicorn                  23.0.0\n",
      "h11                       0.14.0\n",
      "html5lib                  1.1\n",
      "idna                      3.4\n",
      "importlib-metadata        6.8.0\n",
      "ipykernel                 6.26.0\n",
      "ipython                   8.17.2\n",
      "itsdangerous              2.1.2\n",
      "jedi                      0.19.0\n",
      "Jinja2                    3.1.2\n",
      "joblib                    1.4.2\n",
      "jsonpath-ng               1.6.1\n",
      "jsonschema                4.20.0\n",
      "jsonschema-specifications 2023.12.1\n",
      "jupyter_client            8.6.0\n",
      "jupyter_core              5.5.0\n",
      "kiwisolver                1.4.4\n",
      "lxml                      4.9.3\n",
      "MarkupSafe                2.1.3\n",
      "matplotlib                3.6.2\n",
      "matplotlib-inline         0.1.6\n",
      "MouseInfo                 0.1.3\n",
      "multipart                 0.2.4\n",
      "multitasking              0.0.11\n",
      "nbformat                  5.9.2\n",
      "nest-asyncio              1.5.8\n",
      "nltk                      3.8.1\n",
      "numpy                     1.23.1\n",
      "openpyxl                  3.0.10\n",
      "packaging                 21.3\n",
      "pandas                    1.4.3\n",
      "pandasql                  0.7.3\n",
      "parso                     0.8.3\n",
      "peewee                    3.17.8\n",
      "Pillow                    9.2.0\n",
      "pip                       24.3.1\n",
      "platformdirs              4.0.0\n",
      "plotly                    5.18.0\n",
      "ply                       3.11\n",
      "progress                  1.6\n",
      "prompt-toolkit            3.0.41\n",
      "psutil                    5.9.6\n",
      "psycopg2                  2.9.10\n",
      "pure-eval                 0.2.2\n",
      "PyAutoGUI                 0.9.54\n",
      "pycparser                 2.21\n",
      "pydantic                  2.8.2\n",
      "pydantic_core             2.20.1\n",
      "PyGetWindow               0.0.9\n",
      "Pygments                  2.17.1\n",
      "PyJWT                     2.8.0\n",
      "PyMsgBox                  1.0.9\n",
      "pyparsing                 3.0.9\n",
      "pyperclip                 1.8.2\n",
      "PyRect                    0.2.0\n",
      "PyScreeze                 0.1.30\n",
      "python-dateutil           2.8.2\n",
      "python-dotenv             1.0.1\n",
      "pytweening                1.0.7\n",
      "pytz                      2025.1\n",
      "pywin32                   306\n",
      "pyzmq                     25.1.1\n",
      "referencing               0.32.1\n",
      "regex                     2024.5.15\n",
      "requests                  2.31.0\n",
      "retrying                  1.3.4\n",
      "rpds-py                   0.16.2\n",
      "schedule                  1.2.1\n",
      "scikit-learn              1.5.1\n",
      "scipy                     1.13.1\n",
      "seaborn                   0.13.2\n",
      "sentry-sdk                2.13.0\n",
      "setuptools                49.2.1\n",
      "simple-websocket          0.10.1\n",
      "simplejson                3.19.1\n",
      "six                       1.16.0\n",
      "soupsieve                 2.5\n",
      "SQLAlchemy                1.4.46\n",
      "stack-data                0.6.3\n",
      "tenacity                  8.2.3\n",
      "termcolor                 2.3.0\n",
      "threadpoolctl             3.5.0\n",
      "tornado                   6.3.3\n",
      "tqdm                      4.66.4\n",
      "traitlets                 5.13.0\n",
      "typing_extensions         4.8.0\n",
      "Unidecode                 1.3.8\n",
      "urllib3                   2.1.0\n",
      "userpath                  1.9.2\n",
      "validators                0.20.0\n",
      "wcwidth                   0.2.10\n",
      "webencodings              0.5.1\n",
      "Werkzeug                  2.2.3\n",
      "wordcloud                 1.9.3\n",
      "wsproto                   1.2.0\n",
      "xlrd                      2.0.1\n",
      "XlsxWriter                3.2.0\n",
      "yfinance                  0.2.52\n",
      "zipp                      3.17.0\n"
     ]
    }
   ],
   "source": [
    "!pip list"
   ]
  },
  {
   "cell_type": "code",
   "execution_count": 29,
   "metadata": {},
   "outputs": [
    {
     "ename": "KeyboardInterrupt",
     "evalue": "",
     "output_type": "error",
     "traceback": [
      "\u001b[1;31m---------------------------------------------------------------------------\u001b[0m",
      "\u001b[1;31mKeyboardInterrupt\u001b[0m                         Traceback (most recent call last)",
      "Cell \u001b[1;32mIn[29], line 1\u001b[0m\n\u001b[1;32m----> 1\u001b[0m \u001b[38;5;28;01mimport\u001b[39;00m \u001b[38;5;21;01mpandas\u001b[39;00m \u001b[38;5;28;01mas\u001b[39;00m \u001b[38;5;21;01mpd\u001b[39;00m \n\u001b[0;32m      2\u001b[0m dados \u001b[38;5;241m=\u001b[39m pd\u001b[38;5;241m.\u001b[39mread_csv(\u001b[38;5;124m\"\u001b[39m\u001b[38;5;124mdados.csv\u001b[39m\u001b[38;5;124m\"\u001b[39m)\n\u001b[0;32m      4\u001b[0m \u001b[38;5;28;01mdef\u001b[39;00m \u001b[38;5;21mcalculo_dados\u001b[39m():\n",
      "File \u001b[1;32mc:\\Users\\walla\\AppData\\Local\\Programs\\Python\\Python39\\lib\\site-packages\\pandas\\__init__.py:11\u001b[0m\n\u001b[0;32m      9\u001b[0m \u001b[38;5;28;01mfor\u001b[39;00m dependency \u001b[38;5;129;01min\u001b[39;00m hard_dependencies:\n\u001b[0;32m     10\u001b[0m     \u001b[38;5;28;01mtry\u001b[39;00m:\n\u001b[1;32m---> 11\u001b[0m         \u001b[38;5;28;43m__import__\u001b[39;49m\u001b[43m(\u001b[49m\u001b[43mdependency\u001b[49m\u001b[43m)\u001b[49m\n\u001b[0;32m     12\u001b[0m     \u001b[38;5;28;01mexcept\u001b[39;00m \u001b[38;5;167;01mImportError\u001b[39;00m \u001b[38;5;28;01mas\u001b[39;00m e:\n\u001b[0;32m     13\u001b[0m         missing_dependencies\u001b[38;5;241m.\u001b[39mappend(\u001b[38;5;124mf\u001b[39m\u001b[38;5;124m\"\u001b[39m\u001b[38;5;132;01m{\u001b[39;00mdependency\u001b[38;5;132;01m}\u001b[39;00m\u001b[38;5;124m: \u001b[39m\u001b[38;5;132;01m{\u001b[39;00me\u001b[38;5;132;01m}\u001b[39;00m\u001b[38;5;124m\"\u001b[39m)\n",
      "File \u001b[1;32mc:\\Users\\walla\\AppData\\Local\\Programs\\Python\\Python39\\lib\\site-packages\\numpy\\__init__.py:140\u001b[0m\n\u001b[0;32m    137\u001b[0m \u001b[38;5;66;03m# Allow distributors to run custom init code\u001b[39;00m\n\u001b[0;32m    138\u001b[0m \u001b[38;5;28;01mfrom\u001b[39;00m \u001b[38;5;21;01m.\u001b[39;00m \u001b[38;5;28;01mimport\u001b[39;00m _distributor_init\n\u001b[1;32m--> 140\u001b[0m \u001b[38;5;28;01mfrom\u001b[39;00m \u001b[38;5;21;01m.\u001b[39;00m \u001b[38;5;28;01mimport\u001b[39;00m core\n\u001b[0;32m    141\u001b[0m \u001b[38;5;28;01mfrom\u001b[39;00m \u001b[38;5;21;01m.\u001b[39;00m\u001b[38;5;21;01mcore\u001b[39;00m \u001b[38;5;28;01mimport\u001b[39;00m \u001b[38;5;241m*\u001b[39m\n\u001b[0;32m    142\u001b[0m \u001b[38;5;28;01mfrom\u001b[39;00m \u001b[38;5;21;01m.\u001b[39;00m \u001b[38;5;28;01mimport\u001b[39;00m compat\n",
      "File \u001b[1;32mc:\\Users\\walla\\AppData\\Local\\Programs\\Python\\Python39\\lib\\site-packages\\numpy\\core\\__init__.py:9\u001b[0m\n\u001b[0;32m      1\u001b[0m \u001b[38;5;124;03m\"\"\"\u001b[39;00m\n\u001b[0;32m      2\u001b[0m \u001b[38;5;124;03mContains the core of NumPy: ndarray, ufuncs, dtypes, etc.\u001b[39;00m\n\u001b[0;32m      3\u001b[0m \n\u001b[1;32m   (...)\u001b[0m\n\u001b[0;32m      6\u001b[0m \n\u001b[0;32m      7\u001b[0m \u001b[38;5;124;03m\"\"\"\u001b[39;00m\n\u001b[1;32m----> 9\u001b[0m \u001b[38;5;28;01mfrom\u001b[39;00m \u001b[38;5;21;01mnumpy\u001b[39;00m\u001b[38;5;21;01m.\u001b[39;00m\u001b[38;5;21;01mversion\u001b[39;00m \u001b[38;5;28;01mimport\u001b[39;00m version \u001b[38;5;28;01mas\u001b[39;00m __version__\n\u001b[0;32m     11\u001b[0m \u001b[38;5;28;01mimport\u001b[39;00m \u001b[38;5;21;01mos\u001b[39;00m\n\u001b[0;32m     12\u001b[0m \u001b[38;5;28;01mimport\u001b[39;00m \u001b[38;5;21;01mwarnings\u001b[39;00m\n",
      "File \u001b[1;32mc:\\Users\\walla\\AppData\\Local\\Programs\\Python\\Python39\\lib\\site-packages\\numpy\\version.py:3\u001b[0m\n\u001b[0;32m      1\u001b[0m \u001b[38;5;28;01mfrom\u001b[39;00m \u001b[38;5;21;01m__future__\u001b[39;00m \u001b[38;5;28;01mimport\u001b[39;00m annotations\n\u001b[1;32m----> 3\u001b[0m \u001b[38;5;28;01mfrom\u001b[39;00m \u001b[38;5;21;01m.\u001b[39;00m\u001b[38;5;21;01m_version\u001b[39;00m \u001b[38;5;28;01mimport\u001b[39;00m get_versions\n\u001b[0;32m      5\u001b[0m __ALL__ \u001b[38;5;241m=\u001b[39m [\u001b[38;5;124m'\u001b[39m\u001b[38;5;124mversion\u001b[39m\u001b[38;5;124m'\u001b[39m, \u001b[38;5;124m'\u001b[39m\u001b[38;5;124m__version__\u001b[39m\u001b[38;5;124m'\u001b[39m, \u001b[38;5;124m'\u001b[39m\u001b[38;5;124mfull_version\u001b[39m\u001b[38;5;124m'\u001b[39m, \u001b[38;5;124m'\u001b[39m\u001b[38;5;124mgit_revision\u001b[39m\u001b[38;5;124m'\u001b[39m, \u001b[38;5;124m'\u001b[39m\u001b[38;5;124mrelease\u001b[39m\u001b[38;5;124m'\u001b[39m]\n\u001b[0;32m      7\u001b[0m vinfo: \u001b[38;5;28mdict\u001b[39m[\u001b[38;5;28mstr\u001b[39m, \u001b[38;5;28mstr\u001b[39m] \u001b[38;5;241m=\u001b[39m get_versions()\n",
      "File \u001b[1;32m<frozen importlib._bootstrap>:1007\u001b[0m, in \u001b[0;36m_find_and_load\u001b[1;34m(name, import_)\u001b[0m\n",
      "File \u001b[1;32m<frozen importlib._bootstrap>:986\u001b[0m, in \u001b[0;36m_find_and_load_unlocked\u001b[1;34m(name, import_)\u001b[0m\n",
      "File \u001b[1;32m<frozen importlib._bootstrap>:680\u001b[0m, in \u001b[0;36m_load_unlocked\u001b[1;34m(spec)\u001b[0m\n",
      "File \u001b[1;32m<frozen importlib._bootstrap_external>:786\u001b[0m, in \u001b[0;36mexec_module\u001b[1;34m(self, module)\u001b[0m\n",
      "File \u001b[1;32m<frozen importlib._bootstrap_external>:881\u001b[0m, in \u001b[0;36mget_code\u001b[1;34m(self, fullname)\u001b[0m\n",
      "File \u001b[1;32m<frozen importlib._bootstrap_external>:979\u001b[0m, in \u001b[0;36mget_data\u001b[1;34m(self, path)\u001b[0m\n",
      "\u001b[1;31mKeyboardInterrupt\u001b[0m: "
     ]
    }
   ],
   "source": [
    "import pandas as pd \n",
    "dados = pd.read_csv(\"dados.csv\")\n",
    "\n",
    "def calculo_dados():\n",
    "    df = df[\"juros\"] * 100 \n",
    "    if df > 2000:\n",
    "        print(\"juros muitos alto\")\n",
    "    else:\n",
    "        print(\"juros baixo\")\n",
    "\n",
    "    return df.to_csv(\"novos_arquivo.csv\")"
   ]
  },
  {
   "cell_type": "code",
   "execution_count": 1,
   "metadata": {},
   "outputs": [
    {
     "data": {
      "text/plain": [
       "['MyFunc',\n",
       " 'PI',\n",
       " 'Teste',\n",
       " '__builtins__',\n",
       " '__cached__',\n",
       " '__doc__',\n",
       " '__file__',\n",
       " '__loader__',\n",
       " '__name__',\n",
       " '__package__',\n",
       " '__spec__']"
      ]
     },
     "execution_count": 1,
     "metadata": {},
     "output_type": "execute_result"
    }
   ],
   "source": [
    "import teste \n",
    "dir(teste)"
   ]
  },
  {
   "cell_type": "code",
   "execution_count": null,
   "metadata": {},
   "outputs": [
    {
     "name": "stdout",
     "output_type": "stream",
     "text": [
      "3.1415\n",
      "Classe Teste\n",
      "10\n"
     ]
    }
   ],
   "source": [
    "import teste \n",
    "print(teste.PI)\n",
    "var = teste.Teste()\n",
    "teste.MyFunc(10)"
   ]
  },
  {
   "cell_type": "code",
   "execution_count": null,
   "metadata": {},
   "outputs": [
    {
     "name": "stdout",
     "output_type": "stream",
     "text": [
      "3.1415\n"
     ]
    }
   ],
   "source": [
    "from teste import PI as NUMERO_PI\n",
    "print(NUMERO_PI)"
   ]
  },
  {
   "cell_type": "code",
   "execution_count": null,
   "metadata": {},
   "outputs": [
    {
     "name": "stdout",
     "output_type": "stream",
     "text": [
      "__main__\n"
     ]
    }
   ],
   "source": [
    "print(__name__)"
   ]
  },
  {
   "cell_type": "code",
   "execution_count": null,
   "metadata": {},
   "outputs": [
    {
     "name": "stdout",
     "output_type": "stream",
     "text": [
      "teste\n"
     ]
    }
   ],
   "source": [
    "import teste \n",
    "print(teste.__name__)"
   ]
  },
  {
   "cell_type": "code",
   "execution_count": null,
   "metadata": {},
   "outputs": [
    {
     "name": "stdout",
     "output_type": "stream",
     "text": [
      "c:\\Users\\walla\\OneDrive\\Documentos\\Python_Data_Engineer_new\\teste.py\n"
     ]
    }
   ],
   "source": [
    "import teste\n",
    "print(teste.__file__)"
   ]
  },
  {
   "cell_type": "code",
   "execution_count": null,
   "metadata": {},
   "outputs": [
    {
     "name": "stdout",
     "output_type": "stream",
     "text": [
      "Aqui inicia o programa\n"
     ]
    }
   ],
   "source": [
    "def main():\n",
    "    print(\"Aqui inicia o programa\")\n",
    "\n",
    "if (__name__ == '__main__'):\n",
    "    main()\n",
    "\n"
   ]
  },
  {
   "cell_type": "code",
   "execution_count": null,
   "metadata": {},
   "outputs": [
    {
     "name": "stdout",
     "output_type": "stream",
     "text": [
      "Nunmero de argumentos 2\n",
      "Argumentos são ['C:\\\\Users\\\\walla\\\\AppData\\\\Roaming\\\\Python\\\\Python39\\\\site-packages\\\\ipykernel_launcher.py', '--f=c:\\\\Users\\\\walla\\\\AppData\\\\Roaming\\\\jupyter\\\\runtime\\\\kernel-v32b88f4adf7bcbf84c312afdb6c1530ee32b933a6.json']\n"
     ]
    }
   ],
   "source": [
    "import sys \n",
    "if (__name__ == '__main__'):\n",
    "    print(\"Nunmero de argumentos\",len(sys.argv))\n",
    "    print(\"Argumentos são\",sys.argv)\n",
    "    "
   ]
  },
  {
   "cell_type": "code",
   "execution_count": null,
   "metadata": {},
   "outputs": [
    {
     "name": "stdout",
     "output_type": "stream",
     "text": [
      "\n",
      "Este é o arquivo principal contendo uma variável chamada euler \n",
      "e uma função chamada soma\n",
      "\n",
      "Função que soma dois números recebidos por entrada \n"
     ]
    }
   ],
   "source": [
    "'''\n",
    "Este é o arquivo principal contendo uma variável chamada euler \n",
    "e uma função chamada soma\n",
    "''' \n",
    "\n",
    "euler = 2.71828 \n",
    "\n",
    "def soma(num1,num2):\n",
    "    '''Função que soma dois números recebidos por entrada '''\n",
    "    return num1 + num2\n",
    "\n",
    "print(__doc__)\n",
    "print(soma.__doc__)\n"
   ]
  },
  {
   "cell_type": "code",
   "execution_count": 2,
   "metadata": {},
   "outputs": [
    {
     "name": "stdout",
     "output_type": "stream",
     "text": [
      " \n",
      "Este modulo de teste desenvolvimento\n",
      "\n",
      "Esta classe teste\n",
      " Essa é a função\n"
     ]
    }
   ],
   "source": [
    "import teste \n",
    "print(teste.__doc__)\n",
    "print(teste.Teste.__doc__)\n",
    "print(teste.MyFunc.__doc__)"
   ]
  }
 ],
 "metadata": {
  "kernelspec": {
   "display_name": "Python 3",
   "language": "python",
   "name": "python3"
  },
  "language_info": {
   "codemirror_mode": {
    "name": "ipython",
    "version": 3
   },
   "file_extension": ".py",
   "mimetype": "text/x-python",
   "name": "python",
   "nbconvert_exporter": "python",
   "pygments_lexer": "ipython3",
   "version": "3.9.2"
  }
 },
 "nbformat": 4,
 "nbformat_minor": 2
}
