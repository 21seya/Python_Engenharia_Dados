{
 "cells": [
  {
   "cell_type": "code",
   "execution_count": null,
   "metadata": {},
   "outputs": [],
   "source": [
    "#1- Crie um programa que receba o seu saldo bancário e o quanto você deve. \n",
    "#Em seguida o programa deve dizer se você tem saldo positivo ou negativo."
   ]
  },
  {
   "cell_type": "code",
   "execution_count": 2,
   "metadata": {},
   "outputs": [
    {
     "name": "stdout",
     "output_type": "stream",
     "text": [
      "Seu saldo é negativo R$ -1000.00 \n"
     ]
    }
   ],
   "source": [
    "saldo_entrada = input(\"Digite o seu saldo: \")\n",
    "valor_devido_entrada = input(\"Digite o quanto você deve: \")\n",
    "saldo = float(saldo_entrada)\n",
    "devido = float(valor_devido_entrada)\n",
    "valor_total = saldo - devido \n",
    "if valor_total >= 0:\n",
    "    print(\"Seu saldo é positivo R$ %.2f \" %(valor_total))\n",
    "else:\n",
    "    print(\"Seu saldo é negativo R$ %.2f \" %(valor_total)) \n",
    "       "
   ]
  },
  {
   "cell_type": "code",
   "execution_count": null,
   "metadata": {},
   "outputs": [],
   "source": [
    "#2- Crie um programa que possui uma variável que guarde seu CPF \n",
    "# e que guarde uma senha de sua escolha. Em seguida e receba por \n",
    "#input uma senha do usuário.Caso a senha recebida seja a correta \n",
    "#mostre o CPF, caso não diga que a senha está incorreta "
   ]
  },
  {
   "cell_type": "code",
   "execution_count": 4,
   "metadata": {},
   "outputs": [
    {
     "name": "stdout",
     "output_type": "stream",
     "text": [
      "Sua senha está incorreta\n"
     ]
    }
   ],
   "source": [
    "senha = \"123\"\n",
    "cpf = \"123.456.789-10\"\n",
    "senha_usuario = input(\"Digite a senha :\")\n",
    "if senha_usuario == senha:\n",
    "    print(\"Senha correta , seu CPF e %s \" %(cpf))\n",
    "else:\n",
    "    print(\"Sua senha está incorreta\")    "
   ]
  },
  {
   "cell_type": "code",
   "execution_count": null,
   "metadata": {},
   "outputs": [],
   "source": [
    "#3 - Crie um programa que fale sobe sua idade . AS regras \n",
    "#são a seguinte,você deve receber por input sua idade , se você tiver \n",
    "# até três anos printe que é um bebe, até 13 anos uma criança \n",
    "# até 18 anos adolescente , até 65 anos adulto. Em nenhum deste caso é um idoso "
   ]
  },
  {
   "cell_type": "code",
   "execution_count": 9,
   "metadata": {},
   "outputs": [
    {
     "name": "stdout",
     "output_type": "stream",
     "text": [
      "Você é um idoso!\n"
     ]
    }
   ],
   "source": [
    "idade = int(input(\"Digite a sua idade :\"))\n",
    "if idade <= 3:\n",
    "    print(\"Você é um bebe!\")\n",
    "elif idade <= 13:\n",
    "    print(\"Você é uma criança!\")\n",
    "elif idade <= 18:\n",
    "    print(\"Você é um adolescente!\")\n",
    "elif idade <= 65:\n",
    "    print(\"Você é um adulto!\")\n",
    "else:\n",
    "    print(\"Você é um idoso!\")                      "
   ]
  },
  {
   "cell_type": "code",
   "execution_count": null,
   "metadata": {},
   "outputs": [],
   "source": [
    "#4 - Crie um programa que receba dois números , e também receba \n",
    "# do usuário a operação que deve ser feita , as possibilidades são soma(+)\n",
    "#subtração(-) , divisão(/) , e multiplicação(*). Realize a operação \n",
    "#operação escolhida sobre os dois números."
   ]
  },
  {
   "cell_type": "code",
   "execution_count": 14,
   "metadata": {},
   "outputs": [
    {
     "name": "stdout",
     "output_type": "stream",
     "text": [
      "A subtracao eh:  0.0\n"
     ]
    }
   ],
   "source": [
    "num1 = float(input(\"Digite o primeiro número: \"))\n",
    "num2 = float(input(\"Digite o segundo número : \"))\n",
    "operacao = input(\"Digite a operacao\")\n",
    "\n",
    "if(operacao == \"+\"):\n",
    "    soma = num1 + num2\n",
    "    print(\"A soma eh:\", soma)\n",
    "elif(operacao == \"-\"):\n",
    "    subtracao = num1 - num2 \n",
    "    print(\"A subtracao eh: \" , subtracao)\n",
    "elif(operacao == '*'):\n",
    "    multiplicacao = num1 * num2\n",
    "    print(\"A multiplicação eh \" ,multiplicacao)\n",
    "elif(operacao == '/'):\n",
    "    divisao = num1 / num2\n",
    "    print(\"A divisão eh \" , divisao)\n",
    "else:\n",
    "    print(\"Operação invalida\")        \n",
    "\n"
   ]
  }
 ],
 "metadata": {
  "kernelspec": {
   "display_name": "Python 3",
   "language": "python",
   "name": "python3"
  },
  "language_info": {
   "codemirror_mode": {
    "name": "ipython",
    "version": 3
   },
   "file_extension": ".py",
   "mimetype": "text/x-python",
   "name": "python",
   "nbconvert_exporter": "python",
   "pygments_lexer": "ipython3",
   "version": "3.9.2"
  }
 },
 "nbformat": 4,
 "nbformat_minor": 2
}
