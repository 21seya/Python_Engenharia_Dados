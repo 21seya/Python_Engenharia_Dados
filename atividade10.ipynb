{
 "cells": [
  {
   "cell_type": "code",
   "execution_count": null,
   "metadata": {
    "vscode": {
     "languageId": "plaintext"
    }
   },
   "outputs": [],
   "source": [
    "#1- Crie um programa que receba o seu saldo bancário e o quanto você deve. \n",
    "#Em seguida o programa deve dizer se você tem saldo positivo ou negativo."
   ]
  },
  {
   "cell_type": "code",
   "execution_count": null,
   "metadata": {
    "vscode": {
     "languageId": "plaintext"
    }
   },
   "outputs": [],
   "source": [
    "#2- Crie um programa que possui uma variável que guarde seu CPF \n",
    "# e que guarde uma senha de sua escolha. Em seguida e receba por \n",
    "#input uma senha do usuário.Caso a senha recebida seja a correta \n",
    "#mostre o CPF, caso não diga que a senha está incorreta "
   ]
  },
  {
   "cell_type": "code",
   "execution_count": null,
   "metadata": {},
   "outputs": [],
   "source": [
    "#3 - Crie um programa que fale sobe sua idade . AS regras \n",
    "#são a seguinte,você deve receber por input sua idade , se você tiver \n",
    "# até três anos printe que é um bebe, até 13 anos uma criança \n",
    "# até 18 anos adolescente , até 65 anos adulto. Em nenhum deste caso é um idoso "
   ]
  },
  {
   "cell_type": "code",
   "execution_count": null,
   "metadata": {},
   "outputs": [],
   "source": [
    "#4 - Crie um programa que receba dois números , e também receba \n",
    "# do usuário a operação que deve ser feita , as possibilidades são soma(+)\n",
    "#subtração(-) , divisão(/) , e multiplicação(*). Realize a operação \n",
    "#operação escolhida sobre os dois números."
   ]
  }
 ],
 "metadata": {
  "language_info": {
   "name": "python"
  }
 },
 "nbformat": 4,
 "nbformat_minor": 2
}
