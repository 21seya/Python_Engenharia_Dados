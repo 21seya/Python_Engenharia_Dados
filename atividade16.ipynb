{
 "cells": [
  {
   "cell_type": "markdown",
   "metadata": {},
   "source": [
    "# 1 - Importe do modulo random a função randrange e crie um programa que gere um único \n",
    "# número aleatório entre 2 a 100. Em seguida diga se esse número é par ou impar "
   ]
  },
  {
   "cell_type": "code",
   "execution_count": 2,
   "metadata": {},
   "outputs": [
    {
     "name": "stdout",
     "output_type": "stream",
     "text": [
      "O número 95 é impar \n"
     ]
    }
   ],
   "source": [
    "from random import randrange \n",
    "numero = randrange(2,100)\n",
    "resto = numero % 2 \n",
    "if resto == 0:\n",
    "    print(\"O número %d é par \" %(numero))\n",
    "else:\n",
    "    print(\"O número %d é impar \"%(numero)) \n",
    "       "
   ]
  },
  {
   "cell_type": "markdown",
   "metadata": {},
   "source": [
    "# 2 - Da mesma forma que o exercicio anterior , gere a soma de 100 números aleatórios e mostre o resultado final \n",
    "# "
   ]
  },
  {
   "cell_type": "code",
   "execution_count": 3,
   "metadata": {},
   "outputs": [
    {
     "name": "stdout",
     "output_type": "stream",
     "text": [
      "4794\n"
     ]
    }
   ],
   "source": [
    "from random import randrange\n",
    "soma = 0 \n",
    "\n",
    "for i in range(0,100):\n",
    "    soma += randrange(1,100)\n",
    "\n",
    "print(soma)\n"
   ]
  },
  {
   "cell_type": "markdown",
   "metadata": {},
   "source": [
    "# 3 - Crie um modulo que dispoem de duas funções , uma que subtrai dois números e outra que soma dois \n",
    "# números . Importe essas funções e as use. Não se esqueça de gerar a documentação destas funções e do modulo \n",
    "# e mostrar na saída do seu programa. Chame o modulo de \"calc_python\""
   ]
  },
  {
   "cell_type": "code",
   "execution_count": 14,
   "metadata": {},
   "outputs": [
    {
     "name": "stdout",
     "output_type": "stream",
     "text": [
      " Este modulo dispoe de funções para soma subtração de odis números\n",
      "Retorna a soma de dois números \n",
      "50\n"
     ]
    }
   ],
   "source": [
    "import calc_python\n",
    "print(calc_python.__doc__)\n",
    "#help(calc_python)\n",
    "print(calc_python.soma.__doc__)\n",
    "resultado = calc_python.soma(20,30)\n",
    "print(resultado)"
   ]
  },
  {
   "cell_type": "markdown",
   "metadata": {},
   "source": [
    "# 4 - Cria um modulo para retornar uma lista de números aleatorios.Esse modulo deve ter \n",
    "# a seguinte funcionalidade. - Uma função que retorna a lista de números randômicos chamada de \n",
    "# get_random_lista(inicial,final,tam) , onde \"inicial\" é o número mínimo que pode aparecer na lista \"final\" \n",
    "# é o número máximo que pode aparecer. Por fim \"tam\" deve ser o número de elementos na lista . Chame o modulo de \"meu_random\""
   ]
  },
  {
   "cell_type": "code",
   "execution_count": 15,
   "metadata": {},
   "outputs": [
    {
     "name": "stdout",
     "output_type": "stream",
     "text": [
      "[40, 56, 33, 71, 84, 43, 88, 43, 47, 81]\n"
     ]
    }
   ],
   "source": [
    "from meu_random import get_random_lista\n",
    "print(get_random_lista(1,100,10))"
   ]
  },
  {
   "cell_type": "markdown",
   "metadata": {},
   "source": [
    "# 5- Crie um programa que tenha a entrada na função e modulo main(). Ele deve receber \n",
    "# dois números via parâmetros do programa e mostrar sua soma. Mas com uma condição: Verificar se possui \n",
    "# dois parâmetros de entrada. Caso contrario parar a execução do programa e avisar qual o problema ."
   ]
  },
  {
   "cell_type": "code",
   "execution_count": 17,
   "metadata": {},
   "outputs": [
    {
     "name": "stdout",
     "output_type": "stream",
     "text": [
      "Numero de argumentos incorretos\n"
     ]
    },
    {
     "ename": "SystemExit",
     "evalue": "1",
     "output_type": "error",
     "traceback": [
      "An exception has occurred, use %tb to see the full traceback.\n",
      "\u001b[1;31mSystemExit\u001b[0m\u001b[1;31m:\u001b[0m 1\n"
     ]
    }
   ],
   "source": [
    "import sys \n",
    "if (__name__ == '__main__'):\n",
    "    if len(sys.argv) != 3:\n",
    "        print(\"Numero de argumentos incorretos\")\n",
    "        sys.exit(1)\n",
    "\n",
    "numero1 = float(sys.argv[0])\n",
    "numero2 = float(sys.argv[1])\n",
    "print(numero1+numero2)        \n"
   ]
  }
 ],
 "metadata": {
  "kernelspec": {
   "display_name": "Python 3",
   "language": "python",
   "name": "python3"
  },
  "language_info": {
   "codemirror_mode": {
    "name": "ipython",
    "version": 3
   },
   "file_extension": ".py",
   "mimetype": "text/x-python",
   "name": "python",
   "nbconvert_exporter": "python",
   "pygments_lexer": "ipython3",
   "version": "3.9.2"
  }
 },
 "nbformat": 4,
 "nbformat_minor": 2
}
