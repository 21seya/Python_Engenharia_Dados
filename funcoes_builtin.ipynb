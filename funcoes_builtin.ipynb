{
 "cells": [
  {
   "cell_type": "code",
   "execution_count": 4,
   "metadata": {},
   "outputs": [
    {
     "name": "stdout",
     "output_type": "stream",
     "text": [
      "10\n",
      "10\n",
      "20\n"
     ]
    }
   ],
   "source": [
    "num1 = -10 \n",
    "num2 = 10 \n",
    "print(abs(num1))\n",
    "print(abs(num2))\n",
    "print(abs(num1) + abs(num2))"
   ]
  },
  {
   "cell_type": "code",
   "execution_count": 5,
   "metadata": {},
   "outputs": [
    {
     "name": "stdout",
     "output_type": "stream",
     "text": [
      "30\n"
     ]
    }
   ],
   "source": [
    "maior_valor = max(10,20,30)\n",
    "print(maior_valor)"
   ]
  },
  {
   "cell_type": "code",
   "execution_count": 6,
   "metadata": {},
   "outputs": [
    {
     "name": "stdout",
     "output_type": "stream",
     "text": [
      "3\n"
     ]
    }
   ],
   "source": [
    "lista = [-20,1,2,3,3]\n",
    "print(max(lista))"
   ]
  },
  {
   "cell_type": "code",
   "execution_count": 7,
   "metadata": {},
   "outputs": [
    {
     "name": "stdout",
     "output_type": "stream",
     "text": [
      "-20\n"
     ]
    }
   ],
   "source": [
    "lista = [-20,1,2,3,3]\n",
    "print(min(lista))"
   ]
  },
  {
   "cell_type": "code",
   "execution_count": 8,
   "metadata": {},
   "outputs": [
    {
     "name": "stdout",
     "output_type": "stream",
     "text": [
      "8\n"
     ]
    }
   ],
   "source": [
    "x = 2 \n",
    "y = 3 \n",
    "print(pow(2,3))\n"
   ]
  },
  {
   "cell_type": "code",
   "execution_count": 9,
   "metadata": {},
   "outputs": [
    {
     "name": "stdout",
     "output_type": "stream",
     "text": [
      "5.0\n"
     ]
    }
   ],
   "source": [
    "import math \n",
    "print(math.sqrt(25))"
   ]
  },
  {
   "cell_type": "code",
   "execution_count": 10,
   "metadata": {},
   "outputs": [
    {
     "name": "stdout",
     "output_type": "stream",
     "text": [
      "2.46\n"
     ]
    }
   ],
   "source": [
    "print(round(2.4566,2))"
   ]
  },
  {
   "cell_type": "code",
   "execution_count": 11,
   "metadata": {},
   "outputs": [
    {
     "name": "stdout",
     "output_type": "stream",
     "text": [
      "2\n",
      "3\n"
     ]
    }
   ],
   "source": [
    "from math import floor,ceil \n",
    "\n",
    "print(floor(2.4566))\n",
    "print(ceil(2.4566))"
   ]
  },
  {
   "cell_type": "code",
   "execution_count": 12,
   "metadata": {},
   "outputs": [
    {
     "name": "stdout",
     "output_type": "stream",
     "text": [
      "(2, 2)\n"
     ]
    }
   ],
   "source": [
    "print(divmod(10,4))"
   ]
  },
  {
   "cell_type": "code",
   "execution_count": 13,
   "metadata": {},
   "outputs": [
    {
     "name": "stdout",
     "output_type": "stream",
     "text": [
      "O numero 70 e mapeado para caractere F\n"
     ]
    }
   ],
   "source": [
    "numero = 70 \n",
    "caractere = chr(numero)\n",
    "print(\"O numero %d e mapeado para caractere %s\"%(numero,caractere))"
   ]
  },
  {
   "cell_type": "code",
   "execution_count": 14,
   "metadata": {},
   "outputs": [
    {
     "name": "stdout",
     "output_type": "stream",
     "text": [
      "70 - F \n",
      "71 - G \n",
      "72 - H \n",
      "73 - I \n",
      "74 - J \n",
      "75 - K \n",
      "76 - L \n",
      "77 - M \n",
      "78 - N \n",
      "79 - O \n",
      "80 - P \n",
      "81 - Q \n",
      "82 - R \n",
      "83 - S \n",
      "84 - T \n",
      "85 - U \n",
      "86 - V \n",
      "87 - W \n",
      "88 - X \n",
      "89 - Y \n",
      "90 - Z \n",
      "91 - [ \n",
      "92 - \\ \n",
      "93 - ] \n",
      "94 - ^ \n",
      "95 - _ \n",
      "96 - ` \n",
      "97 - a \n",
      "98 - b \n",
      "99 - c \n"
     ]
    }
   ],
   "source": [
    "for i in range(70,100):\n",
    "    caractere = chr(i)\n",
    "    print(\"%d - %s \"%(i,caractere),end='\\n')"
   ]
  },
  {
   "cell_type": "code",
   "execution_count": 15,
   "metadata": {},
   "outputs": [
    {
     "name": "stdout",
     "output_type": "stream",
     "text": [
      "O caractere F se mapeia para o número 70\n"
     ]
    }
   ],
   "source": [
    "caractere = \"F\"\n",
    "numero  = ord(caractere)\n",
    "print(\"O caractere %s se mapeia para o número %d\"%(caractere,numero))"
   ]
  },
  {
   "cell_type": "code",
   "execution_count": 16,
   "metadata": {},
   "outputs": [
    {
     "name": "stdout",
     "output_type": "stream",
     "text": [
      "[1, 2, 5, 5, 10, 10]\n"
     ]
    }
   ],
   "source": [
    "lista = [5,10,2,1,5,10]\n",
    "lista.sort()\n",
    "print(lista)"
   ]
  },
  {
   "cell_type": "code",
   "execution_count": 17,
   "metadata": {},
   "outputs": [
    {
     "name": "stdout",
     "output_type": "stream",
     "text": [
      "['d', 'c', 'b', 'a']\n"
     ]
    }
   ],
   "source": [
    "lista_letras = [\"a\",\"b\",\"c\",\"d\"]\n",
    "lista_letras.sort(reverse=True)\n",
    "print(lista_letras)"
   ]
  },
  {
   "cell_type": "code",
   "execution_count": 18,
   "metadata": {},
   "outputs": [
    {
     "name": "stdout",
     "output_type": "stream",
     "text": [
      "['a', 'b', 'c', 'd', 'e']\n"
     ]
    }
   ],
   "source": [
    "def sort_por_tamanho(item):\n",
    "    return len(item)\n",
    "\n",
    "lista_dados = [\"a\",\"b\",\"c\",\"d\",\"e\"]\n",
    "lista_dados.sort(key=sort_por_tamanho)\n",
    "print(lista_dados)"
   ]
  },
  {
   "cell_type": "code",
   "execution_count": 19,
   "metadata": {},
   "outputs": [
    {
     "name": "stdout",
     "output_type": "stream",
     "text": [
      "[23, 340, 20, 300, 10, 6, 5]\n"
     ]
    }
   ],
   "source": [
    "lista_num = [5,6,10,300,20,340,23]\n",
    "lista_num.reverse()\n",
    "print(lista_num)"
   ]
  },
  {
   "cell_type": "code",
   "execution_count": 21,
   "metadata": {},
   "outputs": [
    {
     "name": "stdout",
     "output_type": "stream",
     "text": [
      "Carro R$100.000\n",
      "Cadeira R$100\n",
      "Moto R$4000\n",
      "Geladeira R$2000\n"
     ]
    }
   ],
   "source": [
    "produtos=[['Carro','R$100.000'],\n",
    "          ['Cadeira','R$100'],\n",
    "          ['Moto','R$4000'],\n",
    "          ['Geladeira','R$2000']]\n",
    "\n",
    "for produto, valor in produtos:\n",
    "    print(produto,valor)\n"
   ]
  },
  {
   "cell_type": "code",
   "execution_count": 22,
   "metadata": {},
   "outputs": [
    {
     "name": "stdout",
     "output_type": "stream",
     "text": [
      "{'Joa': 10, 'Carlos': 10, 'Roberto': 10}\n"
     ]
    }
   ],
   "source": [
    "nomes =('Joa','Carlos','Roberto')\n",
    "dicionario = dict.fromkeys(nomes,10)\n",
    "print(dicionario)"
   ]
  }
 ],
 "metadata": {
  "kernelspec": {
   "display_name": "Python 3",
   "language": "python",
   "name": "python3"
  },
  "language_info": {
   "codemirror_mode": {
    "name": "ipython",
    "version": 3
   },
   "file_extension": ".py",
   "mimetype": "text/x-python",
   "name": "python",
   "nbconvert_exporter": "python",
   "pygments_lexer": "ipython3",
   "version": "3.9.2"
  }
 },
 "nbformat": 4,
 "nbformat_minor": 2
}
