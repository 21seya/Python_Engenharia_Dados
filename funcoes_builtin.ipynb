{
 "cells": [
  {
   "cell_type": "code",
   "execution_count": 2,
   "metadata": {},
   "outputs": [
    {
     "name": "stdout",
     "output_type": "stream",
     "text": [
      "10\n",
      "10\n",
      "20\n"
     ]
    }
   ],
   "source": [
    "num1 = -10 \n",
    "num2 = 10 \n",
    "print(abs(num1))\n",
    "print(abs(num2))\n",
    "print(abs(num1) + abs(num2))"
   ]
  },
  {
   "cell_type": "code",
   "execution_count": 3,
   "metadata": {},
   "outputs": [
    {
     "name": "stdout",
     "output_type": "stream",
     "text": [
      "30\n"
     ]
    }
   ],
   "source": [
    "maior_valor = max(10,20,30)\n",
    "print(maior_valor)"
   ]
  },
  {
   "cell_type": "code",
   "execution_count": 4,
   "metadata": {},
   "outputs": [
    {
     "name": "stdout",
     "output_type": "stream",
     "text": [
      "3\n"
     ]
    }
   ],
   "source": [
    "lista = [-20,1,2,3,3]\n",
    "print(max(lista))"
   ]
  },
  {
   "cell_type": "code",
   "execution_count": 5,
   "metadata": {},
   "outputs": [
    {
     "name": "stdout",
     "output_type": "stream",
     "text": [
      "-20\n"
     ]
    }
   ],
   "source": [
    "lista = [-20,1,2,3,3]\n",
    "print(min(lista))"
   ]
  },
  {
   "cell_type": "code",
   "execution_count": 6,
   "metadata": {},
   "outputs": [
    {
     "name": "stdout",
     "output_type": "stream",
     "text": [
      "8\n"
     ]
    }
   ],
   "source": [
    "x = 2 \n",
    "y = 3 \n",
    "print(pow(2,3))\n"
   ]
  },
  {
   "cell_type": "code",
   "execution_count": 7,
   "metadata": {},
   "outputs": [
    {
     "name": "stdout",
     "output_type": "stream",
     "text": [
      "5.0\n"
     ]
    }
   ],
   "source": [
    "import math \n",
    "print(math.sqrt(25))"
   ]
  },
  {
   "cell_type": "code",
   "execution_count": 8,
   "metadata": {},
   "outputs": [
    {
     "name": "stdout",
     "output_type": "stream",
     "text": [
      "2.46\n"
     ]
    }
   ],
   "source": [
    "print(round(2.4566,2))"
   ]
  },
  {
   "cell_type": "code",
   "execution_count": 1,
   "metadata": {},
   "outputs": [
    {
     "name": "stdout",
     "output_type": "stream",
     "text": [
      "2\n",
      "3\n"
     ]
    }
   ],
   "source": [
    "from math import floor,ceil \n",
    "\n",
    "print(floor(2.4566))\n",
    "print(ceil(2.4566))"
   ]
  },
  {
   "cell_type": "code",
   "execution_count": 2,
   "metadata": {},
   "outputs": [
    {
     "name": "stdout",
     "output_type": "stream",
     "text": [
      "(2, 2)\n"
     ]
    }
   ],
   "source": [
    "print(divmod(10,4))"
   ]
  },
  {
   "cell_type": "code",
   "execution_count": 4,
   "metadata": {},
   "outputs": [
    {
     "name": "stdout",
     "output_type": "stream",
     "text": [
      "O numero 70 e mapeado para caractere F\n"
     ]
    }
   ],
   "source": [
    "numero = 70 \n",
    "caractere = chr(numero)\n",
    "print(\"O numero %d e mapeado para caractere %s\"%(numero,caractere))"
   ]
  },
  {
   "cell_type": "code",
   "execution_count": 7,
   "metadata": {},
   "outputs": [
    {
     "name": "stdout",
     "output_type": "stream",
     "text": [
      "70 - F \n",
      "71 - G \n",
      "72 - H \n",
      "73 - I \n",
      "74 - J \n",
      "75 - K \n",
      "76 - L \n",
      "77 - M \n",
      "78 - N \n",
      "79 - O \n",
      "80 - P \n",
      "81 - Q \n",
      "82 - R \n",
      "83 - S \n",
      "84 - T \n",
      "85 - U \n",
      "86 - V \n",
      "87 - W \n",
      "88 - X \n",
      "89 - Y \n",
      "90 - Z \n",
      "91 - [ \n",
      "92 - \\ \n",
      "93 - ] \n",
      "94 - ^ \n",
      "95 - _ \n",
      "96 - ` \n",
      "97 - a \n",
      "98 - b \n",
      "99 - c \n"
     ]
    }
   ],
   "source": [
    "for i in range(70,100):\n",
    "    caractere = chr(i)\n",
    "    print(\"%d - %s \"%(i,caractere),end='\\n')"
   ]
  },
  {
   "cell_type": "code",
   "execution_count": 9,
   "metadata": {},
   "outputs": [
    {
     "name": "stdout",
     "output_type": "stream",
     "text": [
      "O caractere F se mapeia para o número 70\n"
     ]
    }
   ],
   "source": [
    "caractere = \"F\"\n",
    "numero  = ord(caractere)\n",
    "print(\"O caractere %s se mapeia para o número %d\"%(caractere,numero))"
   ]
  }
 ],
 "metadata": {
  "kernelspec": {
   "display_name": "Python 3",
   "language": "python",
   "name": "python3"
  },
  "language_info": {
   "codemirror_mode": {
    "name": "ipython",
    "version": 3
   },
   "file_extension": ".py",
   "mimetype": "text/x-python",
   "name": "python",
   "nbconvert_exporter": "python",
   "pygments_lexer": "ipython3",
   "version": "3.9.2"
  }
 },
 "nbformat": 4,
 "nbformat_minor": 2
}
