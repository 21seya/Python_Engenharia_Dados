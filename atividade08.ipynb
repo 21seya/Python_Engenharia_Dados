{
 "cells": [
  {
   "cell_type": "code",
   "execution_count": null,
   "metadata": {},
   "outputs": [],
   "source": [
    "#1 -Crie um programa que responda se você foi aprovado \n",
    "#numa prova . Você somente foi aprovado numa prova se a média \n",
    "# for maior ou igual que 7 ou se sua nota no exame for maior ou igual \n",
    "# a 5. Leia esses valores por input."
   ]
  },
  {
   "cell_type": "code",
   "execution_count": 2,
   "metadata": {},
   "outputs": [
    {
     "name": "stdout",
     "output_type": "stream",
     "text": [
      "Aprovação: True\n"
     ]
    }
   ],
   "source": [
    "media = input(\"Digite a sua média nas provas: \")\n",
    "exame = input(\"Digite a sua nota nos exames: \")\n",
    "media_prova = int(media)\n",
    "nota_exame = int(exame)\n",
    "aprovado = (media_prova >= 7 or (nota_exame >= 5))\n",
    "print(\"Aprovação:\" ,aprovado)"
   ]
  },
  {
   "cell_type": "code",
   "execution_count": null,
   "metadata": {},
   "outputs": [],
   "source": [
    "# 2 - Crie um programa que diga se a senha esta correta e portanto \n",
    "# você tem acesso ao sistema. A senha devera ser salva no código, e a tentativa \n",
    "# deve ser lida por input."
   ]
  },
  {
   "cell_type": "code",
   "execution_count": 4,
   "metadata": {},
   "outputs": [
    {
     "name": "stdout",
     "output_type": "stream",
     "text": [
      "Senha está correta ? False\n"
     ]
    }
   ],
   "source": [
    "senha_tentativa = input(\"Digite a senha :\")\n",
    "senha_padrao = \"1234\"\n",
    "print(\"Senha está correta ?\", senha_tentativa == senha_padrao)"
   ]
  }
 ],
 "metadata": {
  "kernelspec": {
   "display_name": "Python 3",
   "language": "python",
   "name": "python3"
  },
  "language_info": {
   "codemirror_mode": {
    "name": "ipython",
    "version": 3
   },
   "file_extension": ".py",
   "mimetype": "text/x-python",
   "name": "python",
   "nbconvert_exporter": "python",
   "pygments_lexer": "ipython3",
   "version": "undefined.undefined.undefined"
  }
 },
 "nbformat": 4,
 "nbformat_minor": 2
}
