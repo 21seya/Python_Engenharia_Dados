{
 "cells": [
  {
   "cell_type": "code",
   "execution_count": 1,
   "metadata": {},
   "outputs": [],
   "source": [
    "#1-Escreva e formate a data em que você nasceu no formato dia/mês/ano.\n",
    "#Não esqueça de criar 3 variáveis para guardar dia , mês e ano. \n"
   ]
  },
  {
   "cell_type": "code",
   "execution_count": 2,
   "metadata": {},
   "outputs": [
    {
     "name": "stdout",
     "output_type": "stream",
     "text": [
      "Eu nasci em 1/1/2001\n"
     ]
    }
   ],
   "source": [
    "dia = 1 \n",
    "mes = 1 \n",
    "ano = 2001\n",
    "data = \"Eu nasci em %d/%d/%d\" %(dia,mes,ano)\n",
    "print(data)"
   ]
  },
  {
   "cell_type": "code",
   "execution_count": null,
   "metadata": {},
   "outputs": [],
   "source": [
    "#2 - Escreva e formate a hora minuto e segundo \n",
    "#Não esqueça de criar duas variáveis para guardar a hora e minuto"
   ]
  },
  {
   "cell_type": "code",
   "execution_count": 4,
   "metadata": {},
   "outputs": [
    {
     "name": "stdout",
     "output_type": "stream",
     "text": [
      " Agora são 20 horas e 15 minutos\n"
     ]
    }
   ],
   "source": [
    "horas= 20\n",
    "minutos = 15 \n",
    "print(\" Agora são %d horas e %d minutos\" %(horas,minutos))"
   ]
  },
  {
   "cell_type": "code",
   "execution_count": null,
   "metadata": {},
   "outputs": [],
   "source": [
    "#3- Escreva um programa que contém o número PI , que deve ter o valor exato \n",
    "#de 3.14 . Agora formate esse número para ter apenas cinco casas decimais \n"
   ]
  },
  {
   "cell_type": "code",
   "execution_count": 6,
   "metadata": {},
   "outputs": [
    {
     "name": "stdout",
     "output_type": "stream",
     "text": [
      "O PI é normalmente exibido 3.14\n"
     ]
    }
   ],
   "source": [
    "pi = 3.14159\n",
    "pi_formatado = \"O PI é normalmente exibido %.2f\" %(pi)\n",
    "print(pi_formatado)"
   ]
  }
 ],
 "metadata": {
  "kernelspec": {
   "display_name": "Python 3",
   "language": "python",
   "name": "python3"
  },
  "language_info": {
   "codemirror_mode": {
    "name": "ipython",
    "version": 3
   },
   "file_extension": ".py",
   "mimetype": "text/x-python",
   "name": "python",
   "nbconvert_exporter": "python",
   "pygments_lexer": "ipython3",
   "version": "3.9.2"
  }
 },
 "nbformat": 4,
 "nbformat_minor": 2
}
