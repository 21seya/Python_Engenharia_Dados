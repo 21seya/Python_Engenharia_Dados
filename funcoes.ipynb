{
 "cells": [
  {
   "cell_type": "code",
   "execution_count": 1,
   "metadata": {},
   "outputs": [
    {
     "name": "stdout",
     "output_type": "stream",
     "text": [
      "Teste 3\n"
     ]
    }
   ],
   "source": [
    "def func(valor,nome = \"Teste\"):\n",
    "    print(nome,valor)\n",
    "\n",
    "func(3)    "
   ]
  },
  {
   "cell_type": "code",
   "execution_count": 2,
   "metadata": {},
   "outputs": [
    {
     "name": "stdout",
     "output_type": "stream",
     "text": [
      "<class 'dict'>\n",
      "{'valor': '10', 'operacao': 'Soma', 'resultado': 10}\n",
      "10\n"
     ]
    }
   ],
   "source": [
    "def func(**args):\n",
    "    print(type(args))\n",
    "    print(args)\n",
    "    print(args['valor'])\n",
    "\n",
    "func(valor= '10',operacao='Soma',resultado=10)    "
   ]
  },
  {
   "cell_type": "code",
   "execution_count": 7,
   "metadata": {},
   "outputs": [
    {
     "name": "stdout",
     "output_type": "stream",
     "text": [
      "<class 'function'>\n",
      "10\n"
     ]
    }
   ],
   "source": [
    "def printar(x):\n",
    "    print(x)\n",
    "\n",
    "def executa_func(func,x):\n",
    "    func(x)\n",
    "\n",
    "minha_funcao = printar\n",
    "print(type(minha_funcao))\n",
    "\n",
    "executa_func(minha_funcao,10)"
   ]
  },
  {
   "cell_type": "markdown",
   "metadata": {},
   "source": [
    "FUNÇÃO RETORNO DE VALORES"
   ]
  },
  {
   "cell_type": "code",
   "execution_count": 1,
   "metadata": {},
   "outputs": [
    {
     "data": {
      "text/plain": [
       "-290"
      ]
     },
     "execution_count": 1,
     "metadata": {},
     "output_type": "execute_result"
    }
   ],
   "source": [
    "def subtrair(num1,num2):\n",
    "    valor = num1 - num2 \n",
    "    return valor \n",
    "\n",
    "subtrair(10,300)\n"
   ]
  },
  {
   "cell_type": "code",
   "execution_count": 3,
   "metadata": {},
   "outputs": [
    {
     "data": {
      "text/plain": [
       "50"
      ]
     },
     "execution_count": 3,
     "metadata": {},
     "output_type": "execute_result"
    }
   ],
   "source": [
    "def somar(num1,num2):\n",
    "    valor = num1 + num2 \n",
    "    return valor \n",
    "\n",
    "somar(30,20)\n"
   ]
  },
  {
   "cell_type": "code",
   "execution_count": 4,
   "metadata": {},
   "outputs": [
    {
     "data": {
      "text/plain": [
       "20"
      ]
     },
     "execution_count": 4,
     "metadata": {},
     "output_type": "execute_result"
    }
   ],
   "source": [
    "def multiplicar(num1,num2):\n",
    "    valor = num1 * num2 \n",
    "    return valor \n",
    "\n",
    "multiplicar(2,10)"
   ]
  },
  {
   "cell_type": "code",
   "execution_count": 8,
   "metadata": {},
   "outputs": [
    {
     "data": {
      "text/plain": [
       "5"
      ]
     },
     "execution_count": 8,
     "metadata": {},
     "output_type": "execute_result"
    }
   ],
   "source": [
    "def dividir(num1,num2):\n",
    "    valor = num1 // num2 \n",
    "    return valor \n",
    "\n",
    "dividir(10,2)\n",
    "\n",
    "\n"
   ]
  },
  {
   "cell_type": "code",
   "execution_count": 10,
   "metadata": {},
   "outputs": [
    {
     "name": "stdout",
     "output_type": "stream",
     "text": [
      " O numero 10 tem 2 digitos\n",
      " O numero 10 tem 3 digitos\n"
     ]
    }
   ],
   "source": [
    "def len_int(numeros):\n",
    "    numero_em_textos = str(numeros)\n",
    "    return len(numero_em_textos)\n",
    "\n",
    "num1 = 10 \n",
    "num2 = 123 \n",
    "\n",
    "tamanho = len_int(num1)\n",
    "tamanho2 = len_int(num2)\n",
    "print(\" O numero %d tem %d digitos\" %(num1,tamanho))\n",
    "print(\" O numero %d tem %d digitos\" %(num1,tamanho2))"
   ]
  },
  {
   "cell_type": "code",
   "execution_count": 11,
   "metadata": {},
   "outputs": [
    {
     "name": "stdout",
     "output_type": "stream",
     "text": [
      "(1, 2)\n",
      "<class 'tuple'>\n"
     ]
    }
   ],
   "source": [
    "def retorna_multiplo():\n",
    "    return 1,2\n",
    "\n",
    "valor = retorna_multiplo()\n",
    "print(valor)\n",
    "print(type(valor))"
   ]
  },
  {
   "cell_type": "code",
   "execution_count": 14,
   "metadata": {},
   "outputs": [
    {
     "name": "stdout",
     "output_type": "stream",
     "text": [
      "2 4 8\n"
     ]
    }
   ],
   "source": [
    "def retorna_multiplo_numeros(a,b,c):\n",
    "    a += a \n",
    "    b += b \n",
    "    c += c \n",
    "    return a,b,c\n",
    "\n",
    "x,y,z = retorna_multiplo_numeros(1,2,4)\n",
    "print(x,y,z)"
   ]
  },
  {
   "cell_type": "code",
   "execution_count": 15,
   "metadata": {},
   "outputs": [
    {
     "name": "stdout",
     "output_type": "stream",
     "text": [
      "Ola\n"
     ]
    }
   ],
   "source": [
    "def func():\n",
    "    print('Ola')\n",
    "    return \n",
    "    print(\"123\")\n",
    "\n",
    "func()"
   ]
  },
  {
   "cell_type": "code",
   "execution_count": 18,
   "metadata": {},
   "outputs": [
    {
     "name": "stdout",
     "output_type": "stream",
     "text": [
      "Ola\n"
     ]
    }
   ],
   "source": [
    "def func(x):\n",
    "    if x == 'Ola':\n",
    "        print(\"Ola\")\n",
    "    else:\n",
    "        print(\"123\")\n",
    "\n",
    "func(\"Ola\")"
   ]
  },
  {
   "cell_type": "code",
   "execution_count": 26,
   "metadata": {},
   "outputs": [
    {
     "name": "stdout",
     "output_type": "stream",
     "text": [
      "Pequeno\n"
     ]
    },
    {
     "ename": "TypeError",
     "evalue": "object of type 'int' has no len()",
     "output_type": "error",
     "traceback": [
      "\u001b[1;31m---------------------------------------------------------------------------\u001b[0m",
      "\u001b[1;31mTypeError\u001b[0m                                 Traceback (most recent call last)",
      "Cell \u001b[1;32mIn[26], line 8\u001b[0m\n\u001b[0;32m      5\u001b[0m         \u001b[38;5;28mprint\u001b[39m(\u001b[38;5;124m\"\u001b[39m\u001b[38;5;124mPequeno\u001b[39m\u001b[38;5;124m\"\u001b[39m)\n\u001b[0;32m      6\u001b[0m     \u001b[38;5;28;01mreturn\u001b[39;00m \u001b[38;5;28mlen\u001b[39m(numero)\n\u001b[1;32m----> 8\u001b[0m dados \u001b[38;5;241m=\u001b[39m \u001b[43maprender_tamanho\u001b[49m\u001b[43m(\u001b[49m\u001b[38;5;241;43m2\u001b[39;49m\u001b[43m)\u001b[49m\n\u001b[0;32m      9\u001b[0m \u001b[38;5;28mprint\u001b[39m(dados)\n",
      "Cell \u001b[1;32mIn[26], line 6\u001b[0m, in \u001b[0;36maprender_tamanho\u001b[1;34m(numero)\u001b[0m\n\u001b[0;32m      4\u001b[0m \u001b[38;5;28;01melse\u001b[39;00m:\n\u001b[0;32m      5\u001b[0m     \u001b[38;5;28mprint\u001b[39m(\u001b[38;5;124m\"\u001b[39m\u001b[38;5;124mPequeno\u001b[39m\u001b[38;5;124m\"\u001b[39m)\n\u001b[1;32m----> 6\u001b[0m \u001b[38;5;28;01mreturn\u001b[39;00m \u001b[38;5;28;43mlen\u001b[39;49m\u001b[43m(\u001b[49m\u001b[43mnumero\u001b[49m\u001b[43m)\u001b[49m\n",
      "\u001b[1;31mTypeError\u001b[0m: object of type 'int' has no len()"
     ]
    }
   ],
   "source": [
    "def aprender_tamanho(numero):\n",
    "    if numero > 100:\n",
    "        print(\"muito grande\")\n",
    "    else:\n",
    "        print(\"Pequeno\")\n",
    "    return len(numero)\n",
    "\n",
    "dados = aprender_tamanho(2)\n",
    "print(dados)"
   ]
  },
  {
   "cell_type": "code",
   "execution_count": 1,
   "metadata": {},
   "outputs": [
    {
     "name": "stdout",
     "output_type": "stream",
     "text": [
      "40\n"
     ]
    }
   ],
   "source": [
    "faz_soma =  lambda x : x + 10\n",
    "valor  = faz_soma(30)\n",
    "print(valor)"
   ]
  },
  {
   "cell_type": "code",
   "execution_count": 2,
   "metadata": {},
   "outputs": [
    {
     "name": "stdout",
     "output_type": "stream",
     "text": [
      "20\n"
     ]
    }
   ],
   "source": [
    "multiplica = lambda x,y : x * y \n",
    "valor = multiplica(2,10)\n",
    "print(valor)"
   ]
  },
  {
   "cell_type": "code",
   "execution_count": 3,
   "metadata": {},
   "outputs": [
    {
     "name": "stdout",
     "output_type": "stream",
     "text": [
      "20\n"
     ]
    }
   ],
   "source": [
    "def multplica(y):\n",
    "    return lambda x,y: x * y \n",
    "\n",
    "valor = multiplica(2,10)\n",
    "print(valor)"
   ]
  },
  {
   "cell_type": "code",
   "execution_count": 9,
   "metadata": {},
   "outputs": [
    {
     "name": "stdout",
     "output_type": "stream",
     "text": [
      "3\n",
      "4\n",
      "5\n",
      "6\n",
      "7\n",
      "8\n",
      "9\n",
      "10\n"
     ]
    }
   ],
   "source": [
    "def print_num(num):\n",
    "    print(num)\n",
    "    if num >= 10:\n",
    "        return \n",
    "    print_num(num + 1)\n",
    "\n",
    "print_num(3)"
   ]
  },
  {
   "cell_type": "code",
   "execution_count": 12,
   "metadata": {},
   "outputs": [
    {
     "name": "stdout",
     "output_type": "stream",
     "text": [
      "P\n",
      "y\n",
      "t\n",
      "h\n",
      "o\n",
      "n\n"
     ]
    }
   ],
   "source": [
    "def print_str(texto,indice):\n",
    "    if indice == len(texto):\n",
    "        return\n",
    "    print(texto[indice])\n",
    "    print_str(texto,indice+1)\n",
    "\n",
    "print_str(\"Python\",0)"
   ]
  },
  {
   "cell_type": "code",
   "execution_count": 13,
   "metadata": {},
   "outputs": [
    {
     "name": "stdout",
     "output_type": "stream",
     "text": [
      "3628800\n"
     ]
    }
   ],
   "source": [
    "def fatorial(num):\n",
    "    if(num==1):\n",
    "        return 1 \n",
    "    return num * fatorial(num-1)\n",
    "\n",
    "print(fatorial(10))    "
   ]
  },
  {
   "cell_type": "code",
   "execution_count": null,
   "metadata": {},
   "outputs": [],
   "source": []
  }
 ],
 "metadata": {
  "kernelspec": {
   "display_name": "Python 3",
   "language": "python",
   "name": "python3"
  },
  "language_info": {
   "codemirror_mode": {
    "name": "ipython",
    "version": 3
   },
   "file_extension": ".py",
   "mimetype": "text/x-python",
   "name": "python",
   "nbconvert_exporter": "python",
   "pygments_lexer": "ipython3",
   "version": "3.9.2"
  }
 },
 "nbformat": 4,
 "nbformat_minor": 2
}
