{
 "cells": [
  {
   "cell_type": "code",
   "execution_count": null,
   "metadata": {},
   "outputs": [
    {
     "ename": "",
     "evalue": "",
     "output_type": "error",
     "traceback": [
      "\u001b[1;31mFailed to start the Kernel. \n",
      "\u001b[1;31mUnable to start Kernel 'Python 3.9.2' due to a timeout waiting for the ports to get used. \n",
      "\u001b[1;31mView Jupyter <a href='command:jupyter.viewOutput'>log</a> for further details."
     ]
    }
   ],
   "source": [
    "def func(valor,nome = \"Teste\"):\n",
    "    print(nome,valor)\n",
    "\n",
    "func(3)    "
   ]
  },
  {
   "cell_type": "code",
   "execution_count": null,
   "metadata": {},
   "outputs": [],
   "source": [
    "def func(**args):\n",
    "    print(type(args))\n",
    "    print(args)\n",
    "    print(args['valor'])\n",
    "\n",
    "func(valor= '10',operacao='Soma',resultado=10)    "
   ]
  },
  {
   "cell_type": "code",
   "execution_count": null,
   "metadata": {},
   "outputs": [],
   "source": [
    "def printar(x):\n",
    "    print(x)\n",
    "\n",
    "def executa_func(func,x):\n",
    "    func(x)\n",
    "\n",
    "minha_funcao = printar\n",
    "print(type(minha_funcao))\n",
    "\n",
    "executa_func(minha_funcao,10)"
   ]
  },
  {
   "cell_type": "markdown",
   "metadata": {},
   "source": [
    "FUNÇÃO RETORNO DE VALORES"
   ]
  },
  {
   "cell_type": "code",
   "execution_count": null,
   "metadata": {},
   "outputs": [],
   "source": [
    "def subtrair(num1,num2):\n",
    "    valor = num1 - num2 \n",
    "    return valor \n",
    "\n",
    "subtrair(10,300)\n"
   ]
  },
  {
   "cell_type": "code",
   "execution_count": null,
   "metadata": {},
   "outputs": [],
   "source": [
    "def somar(num1,num2):\n",
    "    valor = num1 + num2 \n",
    "    return valor \n",
    "\n",
    "somar(30,20)\n"
   ]
  },
  {
   "cell_type": "code",
   "execution_count": null,
   "metadata": {},
   "outputs": [],
   "source": [
    "def multiplicar(num1,num2):\n",
    "    valor = num1 * num2 \n",
    "    return valor \n",
    "\n",
    "multiplicar(2,10)"
   ]
  },
  {
   "cell_type": "code",
   "execution_count": null,
   "metadata": {},
   "outputs": [],
   "source": [
    "def dividir(num1,num2):\n",
    "    valor = num1 // num2 \n",
    "    return valor \n",
    "\n",
    "dividir(10,2)\n",
    "\n",
    "\n"
   ]
  },
  {
   "cell_type": "code",
   "execution_count": null,
   "metadata": {},
   "outputs": [],
   "source": [
    "def len_int(numeros):\n",
    "    numero_em_textos = str(numeros)\n",
    "    return len(numero_em_textos)\n",
    "\n",
    "num1 = 10 \n",
    "num2 = 123 \n",
    "\n",
    "tamanho = len_int(num1)\n",
    "tamanho2 = len_int(num2)\n",
    "print(\" O numero %d tem %d digitos\" %(num1,tamanho))\n",
    "print(\" O numero %d tem %d digitos\" %(num1,tamanho2))"
   ]
  },
  {
   "cell_type": "code",
   "execution_count": null,
   "metadata": {},
   "outputs": [],
   "source": [
    "def retorna_multiplo():\n",
    "    return 1,2\n",
    "\n",
    "valor = retorna_multiplo()\n",
    "print(valor)\n",
    "print(type(valor))"
   ]
  },
  {
   "cell_type": "code",
   "execution_count": null,
   "metadata": {},
   "outputs": [],
   "source": [
    "def retorna_multiplo_numeros(a,b,c):\n",
    "    a += a \n",
    "    b += b \n",
    "    c += c \n",
    "    return a,b,c\n",
    "\n",
    "x,y,z = retorna_multiplo_numeros(1,2,4)\n",
    "print(x,y,z)"
   ]
  },
  {
   "cell_type": "code",
   "execution_count": null,
   "metadata": {},
   "outputs": [],
   "source": [
    "def func():\n",
    "    print('Ola')\n",
    "    return \n",
    "    print(\"123\")\n",
    "\n",
    "func()"
   ]
  },
  {
   "cell_type": "code",
   "execution_count": null,
   "metadata": {},
   "outputs": [],
   "source": [
    "def func(x):\n",
    "    if x == 'Ola':\n",
    "        print(\"Ola\")\n",
    "    else:\n",
    "        print(\"123\")\n",
    "\n",
    "func(\"Ola\")"
   ]
  },
  {
   "cell_type": "code",
   "execution_count": null,
   "metadata": {},
   "outputs": [],
   "source": [
    "def aprender_tamanho(numero):\n",
    "    if numero > 100:\n",
    "        print(\"muito grande\")\n",
    "    else:\n",
    "        print(\"Pequeno\")\n",
    "    return len(numero)\n",
    "\n",
    "dados = aprender_tamanho(2)\n",
    "print(dados)"
   ]
  },
  {
   "cell_type": "code",
   "execution_count": null,
   "metadata": {},
   "outputs": [],
   "source": [
    "faz_soma =  lambda x : x + 10\n",
    "valor  = faz_soma(30)\n",
    "print(valor)"
   ]
  },
  {
   "cell_type": "code",
   "execution_count": null,
   "metadata": {},
   "outputs": [],
   "source": [
    "multiplica = lambda x,y : x * y \n",
    "valor = multiplica(2,10)\n",
    "print(valor)"
   ]
  },
  {
   "cell_type": "code",
   "execution_count": null,
   "metadata": {},
   "outputs": [],
   "source": [
    "def multplica(y):\n",
    "    return lambda x,y: x * y \n",
    "\n",
    "valor = multiplica(2,10)\n",
    "print(valor)"
   ]
  },
  {
   "cell_type": "code",
   "execution_count": null,
   "metadata": {},
   "outputs": [],
   "source": [
    "def print_num(num):\n",
    "    print(num)\n",
    "    if num >= 10:\n",
    "        return \n",
    "    print_num(num + 1)\n",
    "\n",
    "print_num(3)"
   ]
  },
  {
   "cell_type": "code",
   "execution_count": null,
   "metadata": {},
   "outputs": [],
   "source": [
    "def print_str(texto,indice):\n",
    "    if indice == len(texto):\n",
    "        return\n",
    "    print(texto[indice])\n",
    "    print_str(texto,indice+1)\n",
    "\n",
    "print_str(\"Python\",0)"
   ]
  },
  {
   "cell_type": "code",
   "execution_count": null,
   "metadata": {},
   "outputs": [],
   "source": [
    "def fatorial(num):\n",
    "    if(num==1):\n",
    "        return 1 \n",
    "    return num * fatorial(num-1)\n",
    "\n",
    "print(fatorial(10))    "
   ]
  },
  {
   "cell_type": "code",
   "execution_count": null,
   "metadata": {},
   "outputs": [],
   "source": [
    "def pai():\n",
    "    def filho():\n",
    "        print(\"Sou filho\")\n",
    "    filho()\n",
    "pai()"
   ]
  },
  {
   "cell_type": "code",
   "execution_count": null,
   "metadata": {},
   "outputs": [],
   "source": [
    "def calculadora(num1,num2,op):\n",
    "    def soma(a,b):\n",
    "        return a+ b \n",
    "    def subtrai(a,b):\n",
    "        return a - b\n",
    "    if (op=='+'):\n",
    "        return soma(num1,num2)\n",
    "    elif (op =='-'):\n",
    "        return subtrai(num1,num2)\n",
    "\n",
    "print(calculadora(2,3,\"+\"))    "
   ]
  },
  {
   "cell_type": "code",
   "execution_count": null,
   "metadata": {},
   "outputs": [],
   "source": [
    "def pega_func_print():\n",
    "    def print_var(var):\n",
    "        print(var)\n",
    "    return print_var\n",
    "\n",
    "print_me = pega_func_print()\n",
    "\n",
    "print_me(10)"
   ]
  },
  {
   "cell_type": "code",
   "execution_count": null,
   "metadata": {},
   "outputs": [],
   "source": [
    "def DeixaMaisculo(func):\n",
    "    def inner_func():\n",
    "        return func().upper()\n",
    "    return inner_func\n",
    "\n",
    "@DeixaMaisculo\n",
    "def retorna_string():\n",
    "    return \"string de texto\"\n",
    "\n",
    "valor = retorna_string()\n",
    "print(valor)"
   ]
  },
  {
   "cell_type": "code",
   "execution_count": null,
   "metadata": {},
   "outputs": [],
   "source": [
    "var2 = 10\n",
    "def func():\n",
    "    print(var2)\n",
    "    variavel_local = 10 \n",
    "\n",
    "func()    "
   ]
  },
  {
   "cell_type": "code",
   "execution_count": null,
   "metadata": {},
   "outputs": [],
   "source": [
    "var3 = 10\n",
    "if (True):\n",
    "    print(var3)\n",
    "    variavel_local = 10\n",
    "\n",
    "func()"
   ]
  },
  {
   "cell_type": "code",
   "execution_count": null,
   "metadata": {},
   "outputs": [],
   "source": [
    "var4 = 10 \n",
    "\n",
    "def func():\n",
    "    global var4\n",
    "    var4 = 20\n",
    "    print(var4)\n",
    "\n",
    "func()\n",
    "print(var4)"
   ]
  },
  {
   "cell_type": "code",
   "execution_count": 1,
   "metadata": {},
   "outputs": [
    {
     "name": "stdout",
     "output_type": "stream",
     "text": [
      "[2, 3]\n"
     ]
    }
   ],
   "source": [
    "array = [1,2,3]\n",
    "del array[0]\n",
    "print(array)"
   ]
  }
 ],
 "metadata": {
  "kernelspec": {
   "display_name": "Python 3",
   "language": "python",
   "name": "python3"
  },
  "language_info": {
   "codemirror_mode": {
    "name": "ipython",
    "version": 3
   },
   "file_extension": ".py",
   "mimetype": "text/x-python",
   "name": "python",
   "nbconvert_exporter": "python",
   "pygments_lexer": "ipython3",
   "version": "3.9.2"
  }
 },
 "nbformat": 4,
 "nbformat_minor": 2
}
