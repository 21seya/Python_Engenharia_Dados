{
 "cells": [
  {
   "cell_type": "code",
   "execution_count": 1,
   "metadata": {},
   "outputs": [
    {
     "name": "stdout",
     "output_type": "stream",
     "text": [
      " O seu nome eh  Wallace Neves\n",
      " A sua idade  30\n",
      " minha altura  1.82\n"
     ]
    }
   ],
   "source": [
    "print(\" O seu nome eh\",\" Wallace Neves\",)\n",
    "print(\" A sua idade \",\"30\")\n",
    "print(\" minha altura \",\"1.82\")\n"
   ]
  },
  {
   "cell_type": "code",
   "execution_count": 3,
   "metadata": {},
   "outputs": [
    {
     "name": "stdout",
     "output_type": "stream",
     "text": [
      "Nome: Wallace, idade: 30 , altura: 1.82\n"
     ]
    }
   ],
   "source": [
    "print(\"Nome: {}, idade: {} , altura: {}\".format(\"Wallace\",\"30\",\"1.82\"))"
   ]
  },
  {
   "cell_type": "code",
   "execution_count": 4,
   "metadata": {},
   "outputs": [
    {
     "name": "stdout",
     "output_type": "stream",
     "text": [
      "1 - 2 - 3\n"
     ]
    }
   ],
   "source": [
    "print(1,2,3,sep=' - ')"
   ]
  }
 ],
 "metadata": {
  "kernelspec": {
   "display_name": "Python 3",
   "language": "python",
   "name": "python3"
  },
  "language_info": {
   "codemirror_mode": {
    "name": "ipython",
    "version": 3
   },
   "file_extension": ".py",
   "mimetype": "text/x-python",
   "name": "python",
   "nbconvert_exporter": "python",
   "pygments_lexer": "ipython3",
   "version": "3.9.2"
  }
 },
 "nbformat": 4,
 "nbformat_minor": 2
}
