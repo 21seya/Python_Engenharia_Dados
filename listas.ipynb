{
 "cells": [
  {
   "cell_type": "code",
   "execution_count": 1,
   "metadata": {},
   "outputs": [
    {
     "name": "stdout",
     "output_type": "stream",
     "text": [
      "[1, 2, 3]\n",
      "[56.7, 22.8, 30.1]\n",
      "['A', 'B', 'C']\n",
      "[2, 10.1, 'A', 'B']\n"
     ]
    }
   ],
   "source": [
    "array_numeros = [1,2,3]\n",
    "array_floats = [56.7,22.8,30.1]\n",
    "array_strings = [\"A\",\"B\",\"C\"]\n",
    "array_misto = [2,10.1,\"A\",\"B\"]\n",
    "print(array_numeros)\n",
    "print(array_floats)\n",
    "print(array_strings)\n",
    "print(array_misto)"
   ]
  },
  {
   "cell_type": "code",
   "execution_count": 2,
   "metadata": {},
   "outputs": [
    {
     "name": "stdout",
     "output_type": "stream",
     "text": [
      "[1, 2, 3, 4, 5]\n"
     ]
    }
   ],
   "source": [
    "color = [1,2,3,4,5]\n",
    "print(color)"
   ]
  },
  {
   "cell_type": "code",
   "execution_count": 3,
   "metadata": {},
   "outputs": [
    {
     "name": "stdout",
     "output_type": "stream",
     "text": [
      "[1, 2, 3]\n",
      "1\n",
      "2000\n",
      "3\n",
      "[2000, 2, 3]\n"
     ]
    }
   ],
   "source": [
    "array = list([1,2,3])\n",
    "print(array)\n",
    "primeiro_elemento = array[0]\n",
    "print(primeiro_elemento)\n",
    "array[0] = 2000 \n",
    "primeiro_elemento = array[0]\n",
    "print(primeiro_elemento)\n",
    "print(array[-1])\n",
    "print(array)"
   ]
  },
  {
   "cell_type": "code",
   "execution_count": 4,
   "metadata": {},
   "outputs": [
    {
     "name": "stdout",
     "output_type": "stream",
     "text": [
      "['texto', 3]\n"
     ]
    }
   ],
   "source": [
    "array = [1,\"texto\",3]\n",
    "print(array[1:3])"
   ]
  },
  {
   "cell_type": "code",
   "execution_count": 5,
   "metadata": {},
   "outputs": [
    {
     "name": "stdout",
     "output_type": "stream",
     "text": [
      "[10, 2, 3, 300]\n",
      "[10, 2, 400, 3, 300]\n"
     ]
    }
   ],
   "source": [
    "array = [10,2,3]\n",
    "array.append(300)\n",
    "print(array)\n",
    "array.insert(2,400)\n",
    "print(array)"
   ]
  },
  {
   "cell_type": "code",
   "execution_count": 6,
   "metadata": {},
   "outputs": [
    {
     "name": "stdout",
     "output_type": "stream",
     "text": [
      "[30, 40, 50, 600]\n",
      "[30, 40, 600]\n"
     ]
    }
   ],
   "source": [
    "array = [10,30,40,50,600]\n",
    "array.remove(10)\n",
    "print(array)\n",
    "array.pop(2)\n",
    "print(array)"
   ]
  },
  {
   "cell_type": "code",
   "execution_count": 7,
   "metadata": {},
   "outputs": [
    {
     "name": "stdout",
     "output_type": "stream",
     "text": [
      "3\n"
     ]
    }
   ],
   "source": [
    "print(len(array))"
   ]
  },
  {
   "cell_type": "code",
   "execution_count": 8,
   "metadata": {},
   "outputs": [
    {
     "name": "stdout",
     "output_type": "stream",
     "text": [
      "[]\n"
     ]
    }
   ],
   "source": [
    "array.clear()\n",
    "print(array)"
   ]
  },
  {
   "cell_type": "code",
   "execution_count": 9,
   "metadata": {},
   "outputs": [
    {
     "name": "stdout",
     "output_type": "stream",
     "text": [
      "True\n",
      "True\n"
     ]
    }
   ],
   "source": [
    "array = [1,'teste',1.3,True]\n",
    "print(1 in array)\n",
    "print(False not in array)\n"
   ]
  },
  {
   "cell_type": "code",
   "execution_count": 10,
   "metadata": {},
   "outputs": [
    {
     "name": "stdout",
     "output_type": "stream",
     "text": [
      "1\n"
     ]
    }
   ],
   "source": [
    "lista = [5,7,6,2,4,0]\n",
    "teste = lista.count(7)\n",
    "print(teste)"
   ]
  },
  {
   "cell_type": "code",
   "execution_count": 11,
   "metadata": {},
   "outputs": [
    {
     "name": "stdout",
     "output_type": "stream",
     "text": [
      "1\n"
     ]
    }
   ],
   "source": [
    "lista = [5,7,6,2,4,0]\n",
    "pos = lista.index(7)\n",
    "print(pos)"
   ]
  },
  {
   "cell_type": "markdown",
   "metadata": {},
   "source": [
    "SETS"
   ]
  },
  {
   "cell_type": "code",
   "execution_count": 12,
   "metadata": {},
   "outputs": [
    {
     "name": "stdout",
     "output_type": "stream",
     "text": [
      "{}\n",
      "{1, 2, 3}\n",
      "{1, 2, 3}\n"
     ]
    }
   ],
   "source": [
    "lista_set = {}\n",
    "lista2_set = {1,2,3}\n",
    "lista3_set = set({1,2,3})\n",
    "print(lista_set)\n",
    "print(lista2_set)\n",
    "print(lista3_set)\n"
   ]
  },
  {
   "cell_type": "code",
   "execution_count": 13,
   "metadata": {},
   "outputs": [
    {
     "name": "stdout",
     "output_type": "stream",
     "text": [
      "{1, 2, 3, 500}\n"
     ]
    }
   ],
   "source": [
    "lista4_set = {1,2,3}\n",
    "lista4_set.add(500)\n",
    "print(lista4_set)"
   ]
  },
  {
   "cell_type": "code",
   "execution_count": 14,
   "metadata": {},
   "outputs": [
    {
     "name": "stdout",
     "output_type": "stream",
     "text": [
      "{1, 2, 3, 500}\n",
      "{2, 3, 500}\n"
     ]
    }
   ],
   "source": [
    "lista4_set = {1,2,3}\n",
    "lista4_set.add(500)\n",
    "print(lista4_set)\n",
    "lista4_set.remove(1)\n",
    "print(lista4_set)"
   ]
  },
  {
   "cell_type": "code",
   "execution_count": 15,
   "metadata": {},
   "outputs": [
    {
     "name": "stdout",
     "output_type": "stream",
     "text": [
      "{40000, 1, 2, 3, 4, 5, 6, 7, 8, 9, 10}\n"
     ]
    }
   ],
   "source": [
    "lista5_set = {1,2,3,4,5,6,7,8,9,10}\n",
    "lista5_set.add(40000)\n",
    "print(lista5_set)"
   ]
  },
  {
   "cell_type": "code",
   "execution_count": 16,
   "metadata": {},
   "outputs": [
    {
     "name": "stdout",
     "output_type": "stream",
     "text": [
      "set()\n"
     ]
    }
   ],
   "source": [
    "lista5_set = {1,2,3,4,5,6,7,8,9,10}\n",
    "lista5_set.clear()\n",
    "print(lista5_set)"
   ]
  },
  {
   "cell_type": "code",
   "execution_count": 17,
   "metadata": {},
   "outputs": [
    {
     "name": "stdout",
     "output_type": "stream",
     "text": [
      "6\n"
     ]
    }
   ],
   "source": [
    "lista6_set = {1,2,3,4,5,6}\n",
    "print(len(lista6_set))"
   ]
  },
  {
   "cell_type": "code",
   "execution_count": 18,
   "metadata": {},
   "outputs": [
    {
     "name": "stdout",
     "output_type": "stream",
     "text": [
      "<class 'set'>\n"
     ]
    }
   ],
   "source": [
    "lista7_set = {12,3,4,5,6}\n",
    "print(type(lista7_set))"
   ]
  },
  {
   "cell_type": "code",
   "execution_count": 19,
   "metadata": {},
   "outputs": [
    {
     "name": "stdout",
     "output_type": "stream",
     "text": [
      "False\n"
     ]
    }
   ],
   "source": [
    "lista8_set = {1,2,3,4,5,6}\n",
    "print(200 in lista7_set)"
   ]
  },
  {
   "cell_type": "code",
   "execution_count": 20,
   "metadata": {},
   "outputs": [
    {
     "name": "stdout",
     "output_type": "stream",
     "text": [
      "{1, 2, 3, 4, 5, 6, 7, 8}\n"
     ]
    }
   ],
   "source": [
    "set1 = {1,2,3,4}\n",
    "set2 = {4,5,6,7,8}\n",
    "set_unido = set1.union(set2)\n",
    "print(set_unido)"
   ]
  },
  {
   "cell_type": "code",
   "execution_count": 21,
   "metadata": {},
   "outputs": [
    {
     "name": "stdout",
     "output_type": "stream",
     "text": [
      "{4}\n"
     ]
    }
   ],
   "source": [
    "set1 = {1,2,3,4}\n",
    "set2 = {4,5,6,7,8}\n",
    "set_unido = set1.intersection(set2)\n",
    "print(set_unido)"
   ]
  },
  {
   "cell_type": "code",
   "execution_count": 22,
   "metadata": {},
   "outputs": [
    {
     "name": "stdout",
     "output_type": "stream",
     "text": [
      "{1, 2, 3}\n"
     ]
    }
   ],
   "source": [
    "set1 = {1,2,3,4}\n",
    "set2 = {4,5,6,7,8}\n",
    "set_unido = set1.difference(set2)\n",
    "print(set_unido)"
   ]
  },
  {
   "cell_type": "markdown",
   "metadata": {},
   "source": [
    "TUPLAS"
   ]
  },
  {
   "cell_type": "code",
   "execution_count": 23,
   "metadata": {},
   "outputs": [
    {
     "name": "stdout",
     "output_type": "stream",
     "text": [
      "('Chocolate', 'bom bom', 'maria mole')\n"
     ]
    }
   ],
   "source": [
    "doces = tuple([\"Chocolate\",\"bom bom\",\"maria mole\"])\n",
    "print(doces)"
   ]
  },
  {
   "cell_type": "code",
   "execution_count": 24,
   "metadata": {},
   "outputs": [
    {
     "name": "stdout",
     "output_type": "stream",
     "text": [
      "3\n"
     ]
    }
   ],
   "source": [
    "nums = ('1','2','3')\n",
    "print(len(nums))"
   ]
  },
  {
   "cell_type": "code",
   "execution_count": 25,
   "metadata": {},
   "outputs": [
    {
     "name": "stdout",
     "output_type": "stream",
     "text": [
      "(2, 3, 4)\n"
     ]
    }
   ],
   "source": [
    "nums = (1,2,3,4,5,6,7,8)\n",
    "sub_tupla = nums[1:4]\n",
    "print(sub_tupla)"
   ]
  },
  {
   "cell_type": "code",
   "execution_count": 26,
   "metadata": {},
   "outputs": [
    {
     "name": "stdout",
     "output_type": "stream",
     "text": [
      "False\n"
     ]
    }
   ],
   "source": [
    "nums = (1,2,3,45,6,7,8,10)\n",
    "print( 9 in nums)"
   ]
  },
  {
   "cell_type": "code",
   "execution_count": 27,
   "metadata": {},
   "outputs": [
    {
     "name": "stdout",
     "output_type": "stream",
     "text": [
      "1\n"
     ]
    }
   ],
   "source": [
    "tupla = (5,'3',True,2733)\n",
    "pos = tupla.index('3')\n",
    "print(pos)"
   ]
  },
  {
   "cell_type": "code",
   "execution_count": 28,
   "metadata": {},
   "outputs": [
    {
     "name": "stdout",
     "output_type": "stream",
     "text": [
      "5\n",
      "3\n",
      "True\n",
      "2733\n"
     ]
    }
   ],
   "source": [
    "tupla = (5,'3',True,2733)\n",
    "for x in tupla:\n",
    "    print(x)"
   ]
  },
  {
   "cell_type": "code",
   "execution_count": 29,
   "metadata": {},
   "outputs": [
    {
     "name": "stdout",
     "output_type": "stream",
     "text": [
      "5\n",
      "3\n",
      "True\n",
      "2733\n"
     ]
    }
   ],
   "source": [
    "tupla = (5,'3',True,2733)\n",
    "for i in range(0,len(tupla)):\n",
    "    print(tupla[i])"
   ]
  },
  {
   "cell_type": "markdown",
   "metadata": {},
   "source": [
    "Dicionário de dados"
   ]
  },
  {
   "cell_type": "code",
   "execution_count": 30,
   "metadata": {},
   "outputs": [
    {
     "name": "stdout",
     "output_type": "stream",
     "text": [
      "{'Ana': 10, 'Bia': 33}\n"
     ]
    }
   ],
   "source": [
    "idades = {'Ana':10,\"Bia\":33}\n",
    "print(idades)"
   ]
  },
  {
   "cell_type": "code",
   "execution_count": 31,
   "metadata": {},
   "outputs": [
    {
     "name": "stdout",
     "output_type": "stream",
     "text": [
      "{'Ana': 34.5, 'Renata': 45.6, 'Carla': 44.5}\n"
     ]
    }
   ],
   "source": [
    "nome_numeros = {\"Ana\":34.5,\"Renata\":45.6,\"Carla\":44.5}\n",
    "print(nome_numeros)"
   ]
  },
  {
   "cell_type": "code",
   "execution_count": 32,
   "metadata": {},
   "outputs": [
    {
     "name": "stdout",
     "output_type": "stream",
     "text": [
      "30\n",
      "indefinido\n"
     ]
    },
    {
     "data": {
      "text/plain": [
       "'indefinido'"
      ]
     },
     "execution_count": 32,
     "metadata": {},
     "output_type": "execute_result"
    }
   ],
   "source": [
    "idades = {\"Ana\":20,\"Maria\":30,\"João\":40,\"Fernando\":\"indefinido\"}\n",
    "print(idades['Maria'])\n",
    "print(idades['Fernando'])\n",
    "\n",
    "idades.get('Fernando')"
   ]
  },
  {
   "cell_type": "code",
   "execution_count": 33,
   "metadata": {},
   "outputs": [
    {
     "name": "stdout",
     "output_type": "stream",
     "text": [
      "Sete virgula um\n",
      "dez virgula quarenta e três\n"
     ]
    }
   ],
   "source": [
    "nome_numeros = {\n",
    "    7.1:\"Sete virgula um\",\n",
    "    9.8:\"nove virgula oito\",\n",
    "    10.43:\"dez virgula quarenta e três\"}\n",
    "print(nome_numeros[7.1])\n",
    "print(nome_numeros.get(10.43))"
   ]
  },
  {
   "cell_type": "code",
   "execution_count": 34,
   "metadata": {},
   "outputs": [
    {
     "name": "stdout",
     "output_type": "stream",
     "text": [
      "True\n",
      "True\n"
     ]
    }
   ],
   "source": [
    "idades = {\"Ana\":20,\"Maria\":30,\"João\":40,\"Fernando\":\"indefinido\"}\n",
    "print(\"Ana\" in idades)\n",
    "print(\"Roberto\" not in idades)"
   ]
  },
  {
   "cell_type": "code",
   "execution_count": null,
   "metadata": {},
   "outputs": [
    {
     "name": "stdout",
     "output_type": "stream",
     "text": [
      "{'Ana': 20, 'Maria': 30, 'João': 50, 'Fernando': 'indefinido'}\n"
     ]
    }
   ],
   "source": [
    "idades = {\"Ana\":20,\"Maria\":30,\"João\":40,\"Fernando\":\"indefinido\"}\n",
    "idades['Maria'] = 30 \n",
    "idades.update({\"João\":50})\n",
    "print(idades)"
   ]
  },
  {
   "cell_type": "code",
   "execution_count": 37,
   "metadata": {},
   "outputs": [
    {
     "name": "stdout",
     "output_type": "stream",
     "text": [
      "{'Maria': 30, 'João': 40, 'Fernando': 'indefinido', 'Marcos': 55}\n"
     ]
    }
   ],
   "source": [
    "idades = {\"Ana\":20,\"Maria\":30,\"João\":40,\"Fernando\":\"indefinido\"}\n",
    "idades['Marcos'] = 55 \n",
    "idades.pop('Ana')\n",
    "print(idades)"
   ]
  },
  {
   "cell_type": "code",
   "execution_count": 38,
   "metadata": {},
   "outputs": [
    {
     "name": "stdout",
     "output_type": "stream",
     "text": [
      "{'Maria': 30, 'João': 40, 'Fernando': 'indefinido', 'Marcos': 55}\n",
      "{'Maria': 30, 'João': 40, 'Fernando': 'indefinido'}\n"
     ]
    }
   ],
   "source": [
    "idades = {\"Ana\":20,\"Maria\":30,\"João\":40,\"Fernando\":\"indefinido\"}\n",
    "idades['Marcos'] = 55 \n",
    "idades.pop('Ana')\n",
    "print(idades)\n",
    "idades.popitem()\n",
    "print(idades)"
   ]
  }
 ],
 "metadata": {
  "kernelspec": {
   "display_name": "Python 3",
   "language": "python",
   "name": "python3"
  },
  "language_info": {
   "codemirror_mode": {
    "name": "ipython",
    "version": 3
   },
   "file_extension": ".py",
   "mimetype": "text/x-python",
   "name": "python",
   "nbconvert_exporter": "python",
   "pygments_lexer": "ipython3",
   "version": "3.9.2"
  }
 },
 "nbformat": 4,
 "nbformat_minor": 2
}
