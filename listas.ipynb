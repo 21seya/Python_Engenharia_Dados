{
 "cells": [
  {
   "cell_type": "code",
   "execution_count": 1,
   "metadata": {},
   "outputs": [
    {
     "name": "stdout",
     "output_type": "stream",
     "text": [
      "[1, 2, 3]\n",
      "[56.7, 22.8, 30.1]\n",
      "['A', 'B', 'C']\n",
      "[2, 10.1, 'A', 'B']\n"
     ]
    }
   ],
   "source": [
    "array_numeros = [1,2,3]\n",
    "array_floats = [56.7,22.8,30.1]\n",
    "array_strings = [\"A\",\"B\",\"C\"]\n",
    "array_misto = [2,10.1,\"A\",\"B\"]\n",
    "print(array_numeros)\n",
    "print(array_floats)\n",
    "print(array_strings)\n",
    "print(array_misto)"
   ]
  },
  {
   "cell_type": "code",
   "execution_count": 2,
   "metadata": {},
   "outputs": [
    {
     "name": "stdout",
     "output_type": "stream",
     "text": [
      "[1, 2, 3, 4, 5]\n"
     ]
    }
   ],
   "source": [
    "color = [1,2,3,4,5]\n",
    "print(color)"
   ]
  },
  {
   "cell_type": "code",
   "execution_count": 6,
   "metadata": {},
   "outputs": [
    {
     "name": "stdout",
     "output_type": "stream",
     "text": [
      "[1, 2, 3]\n",
      "1\n",
      "2000\n",
      "3\n",
      "[2000, 2, 3]\n"
     ]
    }
   ],
   "source": [
    "array = list([1,2,3])\n",
    "print(array)\n",
    "primeiro_elemento = array[0]\n",
    "print(primeiro_elemento)\n",
    "array[0] = 2000 \n",
    "primeiro_elemento = array[0]\n",
    "print(primeiro_elemento)\n",
    "print(array[-1])\n",
    "print(array)"
   ]
  },
  {
   "cell_type": "code",
   "execution_count": 8,
   "metadata": {},
   "outputs": [
    {
     "name": "stdout",
     "output_type": "stream",
     "text": [
      "['texto', 3]\n"
     ]
    }
   ],
   "source": [
    "array = [1,\"texto\",3]\n",
    "print(array[1:3])"
   ]
  },
  {
   "cell_type": "code",
   "execution_count": 10,
   "metadata": {},
   "outputs": [
    {
     "name": "stdout",
     "output_type": "stream",
     "text": [
      "[10, 2, 3, 300]\n",
      "[10, 2, 400, 3, 300]\n"
     ]
    }
   ],
   "source": [
    "array = [10,2,3]\n",
    "array.append(300)\n",
    "print(array)\n",
    "array.insert(2,400)\n",
    "print(array)"
   ]
  },
  {
   "cell_type": "code",
   "execution_count": 12,
   "metadata": {},
   "outputs": [
    {
     "name": "stdout",
     "output_type": "stream",
     "text": [
      "[30, 40, 50, 600]\n",
      "[30, 40, 600]\n"
     ]
    }
   ],
   "source": [
    "array = [10,30,40,50,600]\n",
    "array.remove(10)\n",
    "print(array)\n",
    "array.pop(2)\n",
    "print(array)"
   ]
  },
  {
   "cell_type": "code",
   "execution_count": 13,
   "metadata": {},
   "outputs": [
    {
     "name": "stdout",
     "output_type": "stream",
     "text": [
      "3\n"
     ]
    }
   ],
   "source": [
    "print(len(array))"
   ]
  },
  {
   "cell_type": "code",
   "execution_count": 15,
   "metadata": {},
   "outputs": [
    {
     "name": "stdout",
     "output_type": "stream",
     "text": [
      "[]\n"
     ]
    }
   ],
   "source": [
    "array.clear()\n",
    "print(array)"
   ]
  },
  {
   "cell_type": "code",
   "execution_count": 16,
   "metadata": {},
   "outputs": [
    {
     "name": "stdout",
     "output_type": "stream",
     "text": [
      "True\n",
      "True\n"
     ]
    }
   ],
   "source": [
    "array = [1,'teste',1.3,True]\n",
    "print(1 in array)\n",
    "print(False not in array)\n"
   ]
  },
  {
   "cell_type": "code",
   "execution_count": 18,
   "metadata": {},
   "outputs": [
    {
     "name": "stdout",
     "output_type": "stream",
     "text": [
      "1\n"
     ]
    }
   ],
   "source": [
    "lista = [5,7,6,2,4,0]\n",
    "teste = lista.count(7)\n",
    "print(teste)"
   ]
  },
  {
   "cell_type": "code",
   "execution_count": 20,
   "metadata": {},
   "outputs": [
    {
     "name": "stdout",
     "output_type": "stream",
     "text": [
      "1\n"
     ]
    }
   ],
   "source": [
    "lista = [5,7,6,2,4,0]\n",
    "pos = lista.index(7)\n",
    "print(pos)"
   ]
  }
 ],
 "metadata": {
  "kernelspec": {
   "display_name": "Python 3",
   "language": "python",
   "name": "python3"
  },
  "language_info": {
   "codemirror_mode": {
    "name": "ipython",
    "version": 3
   },
   "file_extension": ".py",
   "mimetype": "text/x-python",
   "name": "python",
   "nbconvert_exporter": "python",
   "pygments_lexer": "ipython3",
   "version": "3.9.2"
  }
 },
 "nbformat": 4,
 "nbformat_minor": 2
}
