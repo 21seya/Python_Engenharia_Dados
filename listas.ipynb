{
 "cells": [
  {
   "cell_type": "code",
   "execution_count": 1,
   "metadata": {},
   "outputs": [
    {
     "name": "stdout",
     "output_type": "stream",
     "text": [
      "[1, 2, 3]\n",
      "[56.7, 22.8, 30.1]\n",
      "['A', 'B', 'C']\n",
      "[2, 10.1, 'A', 'B']\n"
     ]
    }
   ],
   "source": [
    "array_numeros = [1,2,3]\n",
    "array_floats = [56.7,22.8,30.1]\n",
    "array_strings = [\"A\",\"B\",\"C\"]\n",
    "array_misto = [2,10.1,\"A\",\"B\"]\n",
    "print(array_numeros)\n",
    "print(array_floats)\n",
    "print(array_strings)\n",
    "print(array_misto)"
   ]
  },
  {
   "cell_type": "code",
   "execution_count": null,
   "metadata": {},
   "outputs": [],
   "source": [
    "color = [1,2,3,4,5]\n",
    "print(color)"
   ]
  },
  {
   "cell_type": "code",
   "execution_count": null,
   "metadata": {},
   "outputs": [],
   "source": [
    "array = list([1,2,3])\n",
    "print(array)\n",
    "primeiro_elemento = array[0]\n",
    "print(primeiro_elemento)\n",
    "array[0] = 2000 \n",
    "primeiro_elemento = array[0]\n",
    "print(primeiro_elemento)\n",
    "print(array[-1])\n",
    "print(array)"
   ]
  },
  {
   "cell_type": "code",
   "execution_count": null,
   "metadata": {},
   "outputs": [],
   "source": [
    "array = [1,\"texto\",3]\n",
    "print(array[1:3])"
   ]
  },
  {
   "cell_type": "code",
   "execution_count": null,
   "metadata": {},
   "outputs": [],
   "source": [
    "array = [10,2,3]\n",
    "array.append(300)\n",
    "print(array)\n",
    "array.insert(2,400)\n",
    "print(array)"
   ]
  },
  {
   "cell_type": "code",
   "execution_count": null,
   "metadata": {},
   "outputs": [],
   "source": [
    "array = [10,30,40,50,600]\n",
    "array.remove(10)\n",
    "print(array)\n",
    "array.pop(2)\n",
    "print(array)"
   ]
  },
  {
   "cell_type": "code",
   "execution_count": null,
   "metadata": {},
   "outputs": [],
   "source": [
    "print(len(array))"
   ]
  },
  {
   "cell_type": "code",
   "execution_count": null,
   "metadata": {},
   "outputs": [],
   "source": [
    "array.clear()\n",
    "print(array)"
   ]
  },
  {
   "cell_type": "code",
   "execution_count": null,
   "metadata": {},
   "outputs": [],
   "source": [
    "array = [1,'teste',1.3,True]\n",
    "print(1 in array)\n",
    "print(False not in array)\n"
   ]
  },
  {
   "cell_type": "code",
   "execution_count": null,
   "metadata": {},
   "outputs": [],
   "source": [
    "lista = [5,7,6,2,4,0]\n",
    "teste = lista.count(7)\n",
    "print(teste)"
   ]
  },
  {
   "cell_type": "code",
   "execution_count": null,
   "metadata": {},
   "outputs": [],
   "source": [
    "lista = [5,7,6,2,4,0]\n",
    "pos = lista.index(7)\n",
    "print(pos)"
   ]
  },
  {
   "cell_type": "markdown",
   "metadata": {},
   "source": [
    "SETS"
   ]
  },
  {
   "cell_type": "code",
   "execution_count": null,
   "metadata": {},
   "outputs": [],
   "source": [
    "lista_set = {}\n",
    "lista2_set = {1,2,3}\n",
    "lista3_set = set({1,2,3})\n",
    "print(lista_set)\n",
    "print(lista2_set)\n",
    "print(lista3_set)\n"
   ]
  },
  {
   "cell_type": "code",
   "execution_count": null,
   "metadata": {},
   "outputs": [],
   "source": [
    "lista4_set = {1,2,3}\n",
    "lista4_set.add(500)\n",
    "print(lista4_set)"
   ]
  },
  {
   "cell_type": "code",
   "execution_count": null,
   "metadata": {},
   "outputs": [],
   "source": [
    "lista4_set = {1,2,3}\n",
    "lista4_set.add(500)\n",
    "print(lista4_set)\n",
    "lista4_set.remove(1)\n",
    "print(lista4_set)"
   ]
  },
  {
   "cell_type": "code",
   "execution_count": null,
   "metadata": {},
   "outputs": [],
   "source": [
    "lista5_set = {1,2,3,4,5,6,7,8,9,10}\n",
    "lista5_set.add(40000)\n",
    "print(lista5_set)"
   ]
  },
  {
   "cell_type": "code",
   "execution_count": null,
   "metadata": {},
   "outputs": [],
   "source": [
    "lista5_set = {1,2,3,4,5,6,7,8,9,10}\n",
    "lista5_set.clear()\n",
    "print(lista5_set)"
   ]
  },
  {
   "cell_type": "code",
   "execution_count": null,
   "metadata": {},
   "outputs": [],
   "source": [
    "lista6_set = {1,2,3,4,5,6}\n",
    "print(len(lista6_set))"
   ]
  },
  {
   "cell_type": "code",
   "execution_count": null,
   "metadata": {},
   "outputs": [],
   "source": [
    "lista7_set = {12,3,4,5,6}\n",
    "print(type(lista7_set))"
   ]
  },
  {
   "cell_type": "code",
   "execution_count": null,
   "metadata": {},
   "outputs": [],
   "source": [
    "lista8_set = {1,2,3,4,5,6}\n",
    "print(200 in lista7_set)"
   ]
  },
  {
   "cell_type": "code",
   "execution_count": null,
   "metadata": {},
   "outputs": [],
   "source": [
    "set1 = {1,2,3,4}\n",
    "set2 = {4,5,6,7,8}\n",
    "set_unido = set1.union(set2)\n",
    "print(set_unido)"
   ]
  },
  {
   "cell_type": "code",
   "execution_count": null,
   "metadata": {},
   "outputs": [],
   "source": [
    "set1 = {1,2,3,4}\n",
    "set2 = {4,5,6,7,8}\n",
    "set_unido = set1.intersection(set2)\n",
    "print(set_unido)"
   ]
  },
  {
   "cell_type": "code",
   "execution_count": null,
   "metadata": {},
   "outputs": [],
   "source": [
    "set1 = {1,2,3,4}\n",
    "set2 = {4,5,6,7,8}\n",
    "set_unido = set1.difference(set2)\n",
    "print(set_unido)"
   ]
  },
  {
   "cell_type": "markdown",
   "metadata": {},
   "source": [
    "TUPLAS"
   ]
  },
  {
   "cell_type": "code",
   "execution_count": null,
   "metadata": {},
   "outputs": [],
   "source": [
    "doces = tuple([\"Chocolate\",\"bom bom\",\"maria mole\"])\n",
    "print(doces)"
   ]
  },
  {
   "cell_type": "code",
   "execution_count": null,
   "metadata": {},
   "outputs": [],
   "source": [
    "nums = ('1','2','3')\n",
    "print(len(nums))"
   ]
  },
  {
   "cell_type": "code",
   "execution_count": null,
   "metadata": {},
   "outputs": [],
   "source": [
    "nums = (1,2,3,4,5,6,7,8)\n",
    "sub_tupla = nums[1:4]\n",
    "print(sub_tupla)"
   ]
  },
  {
   "cell_type": "code",
   "execution_count": null,
   "metadata": {},
   "outputs": [],
   "source": [
    "nums = (1,2,3,45,6,7,8,10)\n",
    "print( 9 in nums)"
   ]
  },
  {
   "cell_type": "code",
   "execution_count": null,
   "metadata": {},
   "outputs": [],
   "source": [
    "tupla = (5,'3',True,2733)\n",
    "pos = tupla.index('3')\n",
    "print(pos)"
   ]
  },
  {
   "cell_type": "code",
   "execution_count": null,
   "metadata": {},
   "outputs": [],
   "source": [
    "tupla = (5,'3',True,2733)\n",
    "for x in tupla:\n",
    "    print(x)"
   ]
  },
  {
   "cell_type": "code",
   "execution_count": null,
   "metadata": {},
   "outputs": [],
   "source": [
    "tupla = (5,'3',True,2733)\n",
    "for i in range(0,len(tupla)):\n",
    "    print(tupla[i])"
   ]
  },
  {
   "cell_type": "markdown",
   "metadata": {},
   "source": [
    "Dicionário de dados"
   ]
  },
  {
   "cell_type": "code",
   "execution_count": null,
   "metadata": {},
   "outputs": [],
   "source": [
    "idades = {'Ana':10,\"Bia\":33}\n",
    "print(idades)"
   ]
  },
  {
   "cell_type": "code",
   "execution_count": null,
   "metadata": {},
   "outputs": [],
   "source": [
    "nome_numeros = {\"Ana\":34.5,\"Renata\":45.6,\"Carla\":44.5}\n",
    "print(nome_numeros)"
   ]
  },
  {
   "cell_type": "code",
   "execution_count": null,
   "metadata": {},
   "outputs": [],
   "source": [
    "idades = {\"Ana\":20,\"Maria\":30,\"João\":40,\"Fernando\":\"indefinido\"}\n",
    "print(idades['Maria'])\n",
    "print(idades['Fernando'])\n",
    "\n",
    "idades.get('Fernando')"
   ]
  },
  {
   "cell_type": "code",
   "execution_count": null,
   "metadata": {},
   "outputs": [],
   "source": [
    "nome_numeros = {\n",
    "    7.1:\"Sete virgula um\",\n",
    "    9.8:\"nove virgula oito\",\n",
    "    10.43:\"dez virgula quarenta e três\"}\n",
    "print(nome_numeros[7.1])\n",
    "print(nome_numeros.get(10.43))"
   ]
  },
  {
   "cell_type": "code",
   "execution_count": null,
   "metadata": {},
   "outputs": [],
   "source": [
    "idades = {\"Ana\":20,\"Maria\":30,\"João\":40,\"Fernando\":\"indefinido\"}\n",
    "print(\"Ana\" in idades)\n",
    "print(\"Roberto\" not in idades)"
   ]
  },
  {
   "cell_type": "code",
   "execution_count": null,
   "metadata": {},
   "outputs": [],
   "source": [
    "idades = {\"Ana\":20,\"Maria\":30,\"João\":40,\"Fernando\":\"indefinido\"}\n",
    "idades['Maria'] = 30 \n",
    "idades.update({\"João\":50})\n",
    "print(idades)"
   ]
  },
  {
   "cell_type": "code",
   "execution_count": null,
   "metadata": {},
   "outputs": [],
   "source": [
    "idades = {\"Ana\":20,\"Maria\":30,\"João\":40,\"Fernando\":\"indefinido\"}\n",
    "idades['Marcos'] = 55 \n",
    "idades.pop('Ana')\n",
    "print(idades)"
   ]
  },
  {
   "cell_type": "code",
   "execution_count": null,
   "metadata": {},
   "outputs": [],
   "source": [
    "idades = {\"Ana\":20,\"Maria\":30,\"João\":40,\"Fernando\":\"indefinido\"}\n",
    "idades['Marcos'] = 55 \n",
    "idades.pop('Ana')\n",
    "print(idades)\n",
    "idades.popitem()\n",
    "print(idades)"
   ]
  },
  {
   "cell_type": "code",
   "execution_count": null,
   "metadata": {},
   "outputs": [],
   "source": [
    "lista= [x for x in range(0,10)]\n",
    "print(lista)"
   ]
  },
  {
   "cell_type": "code",
   "execution_count": null,
   "metadata": {},
   "outputs": [],
   "source": [
    "lista_com = ['1','zero','Quatro']\n",
    "lista_com = [x for x in lista_com]\n",
    "print(lista_com)"
   ]
  },
  {
   "cell_type": "code",
   "execution_count": null,
   "metadata": {},
   "outputs": [],
   "source": [
    "lista_com_2 = [ x for x in range(0,10) if x % 2 ==0]\n",
    "print(lista_com_2)"
   ]
  },
  {
   "cell_type": "code",
   "execution_count": null,
   "metadata": {},
   "outputs": [],
   "source": [
    "list_aux = [1,5,6]\n",
    "lista_com_3= [ x for  x in range(0,10) if x not in list_aux]\n",
    "print(lista_com_3)"
   ]
  },
  {
   "cell_type": "code",
   "execution_count": null,
   "metadata": {},
   "outputs": [],
   "source": [
    "lista_com_4 = [x for x in range(0,10) if x <10 if x >0]\n",
    "print(lista_com_4)"
   ]
  },
  {
   "cell_type": "code",
   "execution_count": null,
   "metadata": {},
   "outputs": [],
   "source": [
    "lista_com_5 = [x for x in range(1,11) if x <=10 if x >0]\n",
    "print(lista_com_5)"
   ]
  },
  {
   "cell_type": "code",
   "execution_count": null,
   "metadata": {},
   "outputs": [],
   "source": [
    "lista_com_6 = [x for x in range(-10,20) if x <=10 if x >0]\n",
    "print(lista_com_6)"
   ]
  },
  {
   "cell_type": "code",
   "execution_count": null,
   "metadata": {},
   "outputs": [],
   "source": [
    "lista_com_7 = [str(x) for x in range(0,21)]\n",
    "print(lista_com_7)"
   ]
  },
  {
   "cell_type": "code",
   "execution_count": null,
   "metadata": {},
   "outputs": [],
   "source": [
    "lista_com_8 = [str(x)[0] for x in range(0,21)]\n",
    "print(lista_com_8)"
   ]
  },
  {
   "cell_type": "code",
   "execution_count": null,
   "metadata": {},
   "outputs": [],
   "source": [
    "lista_com_9 = ['negativo' if x < 0 else 'positivo' for x in range(-3,4)]\n",
    "print(lista_com_9)"
   ]
  },
  {
   "cell_type": "code",
   "execution_count": null,
   "metadata": {},
   "outputs": [],
   "source": [
    "lista_com_10 = [str(x) + 'par' if x % 2 ==0 else str(x) + 'impar' for x in range(2,11)]\n",
    "print(lista_com_10)"
   ]
  }
 ],
 "metadata": {
  "kernelspec": {
   "display_name": "Python 3",
   "language": "python",
   "name": "python3"
  },
  "language_info": {
   "codemirror_mode": {
    "name": "ipython",
    "version": 3
   },
   "file_extension": ".py",
   "mimetype": "text/x-python",
   "name": "python",
   "nbconvert_exporter": "python",
   "pygments_lexer": "ipython3",
   "version": "3.9.2"
  }
 },
 "nbformat": 4,
 "nbformat_minor": 2
}
