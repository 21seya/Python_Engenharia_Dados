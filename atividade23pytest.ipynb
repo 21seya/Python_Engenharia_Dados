{
 "cells": [
  {
   "cell_type": "code",
   "execution_count": null,
   "id": "999861b6",
   "metadata": {},
   "outputs": [],
   "source": [
    "# 1. Crie uma função que receba um nome completo e retorne apenas o \n",
    "# primeiro nome e o último sobrenome . Por exemplo: Ana da silva Rosa deve retornar \n",
    "# Ana Rosa. Crie uma função de teste parametrizando que teste a função pelo menos 5 vezes. "
   ]
  },
  {
   "cell_type": "code",
   "execution_count": 2,
   "id": "295abd61",
   "metadata": {},
   "outputs": [
    {
     "name": "stdout",
     "output_type": "stream",
     "text": [
      "Ana Rosa\n"
     ]
    }
   ],
   "source": [
    "from Primeiroultimo import primeiroultimo\n",
    "print(primeiroultimo(\"Ana da Silva Rosa\"))"
   ]
  },
  {
   "cell_type": "code",
   "execution_count": 4,
   "id": "54fe485a",
   "metadata": {},
   "outputs": [
    {
     "name": "stdout",
     "output_type": "stream",
     "text": [
      "\u001b[1m============================= test session starts =============================\u001b[0m\n",
      "platform win32 -- Python 3.9.2, pytest-8.3.5, pluggy-1.5.0 -- C:\\Users\\walla\\AppData\\Local\\Programs\\Python\\Python39\\python.exe\n",
      "cachedir: .pytest_cache\n",
      "rootdir: c:\\Users\\walla\\OneDrive\\Documentos\\Python_Data_Engineer_new\n",
      "plugins: dash-2.17.1\n",
      "\u001b[1mcollecting ... \u001b[0mcollected 3 items\n",
      "\n",
      "test_primeiroultimo.py::test_primeiroultimo[Sophia Lima-Sophia Lima] \u001b[32mPASSED\u001b[0m\u001b[32m [ 33%]\u001b[0m\n",
      "test_primeiroultimo.py::test_primeiroultimo[Maria Duarte Santos-Maria Santos] \u001b[32mPASSED\u001b[0m\u001b[32m [ 66%]\u001b[0m\n",
      "test_primeiroultimo.py::test_primeiroultimo[Carla Peixoto Santos-Carla Santos] \u001b[32mPASSED\u001b[0m\u001b[32m [100%]\u001b[0m\n",
      "\n",
      "\u001b[32m============================== \u001b[32m\u001b[1m3 passed\u001b[0m\u001b[32m in 0.05s\u001b[0m\u001b[32m ==============================\u001b[0m\n"
     ]
    }
   ],
   "source": [
    "! pytest test_primeiroultimo.py -v"
   ]
  },
  {
   "cell_type": "code",
   "execution_count": null,
   "id": "e0d26c1b",
   "metadata": {},
   "outputs": [],
   "source": [
    "# 2. Crie uma função que receba um nome completo e retorne a abreviatura , contendo \n",
    "# a primeira letra de cada nome em maíusculo. Por exemplo : Ana Rosa deve retornar \n",
    "# AR. Crie uma função de teste parametrizando que teste a função pelo menos 5 vezes e aborte \n",
    "# caso ocorra mais de 2 erros "
   ]
  },
  {
   "cell_type": "code",
   "execution_count": 5,
   "id": "c99c0c4a",
   "metadata": {},
   "outputs": [
    {
     "name": "stdout",
     "output_type": "stream",
     "text": [
      "MDSS\n"
     ]
    }
   ],
   "source": [
    "from abreviatura import abreviatura \n",
    "print(abreviatura(\"Marcio da Silva Santos\"))"
   ]
  },
  {
   "cell_type": "code",
   "execution_count": 12,
   "id": "7b2b3eb3",
   "metadata": {},
   "outputs": [
    {
     "name": "stdout",
     "output_type": "stream",
     "text": [
      "\u001b[1m============================= test session starts =============================\u001b[0m\n",
      "platform win32 -- Python 3.9.2, pytest-8.3.5, pluggy-1.5.0 -- C:\\Users\\walla\\AppData\\Local\\Programs\\Python\\Python39\\python.exe\n",
      "cachedir: .pytest_cache\n",
      "rootdir: c:\\Users\\walla\\OneDrive\\Documentos\\Python_Data_Engineer_new\n",
      "plugins: dash-2.17.1\n",
      "\u001b[1mcollecting ... \u001b[0mcollected 3 items\n",
      "\n",
      "test_abreviatura.py::test_abreviatura[Fernado Santos-FS] \u001b[32mPASSED\u001b[0m\u001b[32m          [ 33%]\u001b[0m\n",
      "test_abreviatura.py::test_abreviatura[Renata Franco-RF] \u001b[32mPASSED\u001b[0m\u001b[32m           [ 66%]\u001b[0m\n",
      "test_abreviatura.py::test_abreviatura[Renato Gon\\xe7alves-RG] \u001b[32mPASSED\u001b[0m\u001b[32m     [100%]\u001b[0m\n",
      "\n",
      "\u001b[32m============================== \u001b[32m\u001b[1m3 passed\u001b[0m\u001b[32m in 0.10s\u001b[0m\u001b[32m ==============================\u001b[0m\n"
     ]
    }
   ],
   "source": [
    "! pytest test_abreviatura.py -v"
   ]
  }
 ],
 "metadata": {
  "kernelspec": {
   "display_name": "Python 3",
   "language": "python",
   "name": "python3"
  },
  "language_info": {
   "codemirror_mode": {
    "name": "ipython",
    "version": 3
   },
   "file_extension": ".py",
   "mimetype": "text/x-python",
   "name": "python",
   "nbconvert_exporter": "python",
   "pygments_lexer": "ipython3",
   "version": "3.9.2"
  }
 },
 "nbformat": 4,
 "nbformat_minor": 5
}
