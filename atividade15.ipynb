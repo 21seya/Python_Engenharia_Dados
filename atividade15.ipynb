{
 "cells": [
  {
   "cell_type": "markdown",
   "metadata": {},
   "source": [
    "# 1- Crie uma classe para representar um carro. Ele deve ter um atributo \n",
    "# que diga sua potência em cavalos. Outro atributo deve dizer quanto de gasolina por quilômetros ele consome. \n",
    "# Cria duas instâncias e mostre os valores. \n",
    "# Exemplo saída \n",
    "# Potência do carro 1 : 100 cavalos \n",
    "# Alcance do carro 1 : 200km / l \n",
    "# Potência do carro 2 : 200 cavalos \n",
    "# Alcance do carro 2 : 350.5 km/ l \n"
   ]
  },
  {
   "cell_type": "code",
   "execution_count": null,
   "metadata": {},
   "outputs": [
    {
     "ename": "",
     "evalue": "",
     "output_type": "error",
     "traceback": [
      "\u001b[1;31mFailed to start the Kernel. \n",
      "\u001b[1;31mUnable to start Kernel 'Python 3.9.2' due to a timeout waiting for the ports to get used. \n",
      "\u001b[1;31mView Jupyter <a href='command:jupyter.viewOutput'>log</a> for further details."
     ]
    }
   ],
   "source": [
    "class Carro:\n",
    "    def __init__(self,potencia,alcance):\n",
    "        self.potencia = potencia \n",
    "        self.alcance = alcance\n",
    "\n",
    "carro1 = Carro(100,200)\n",
    "carro2 = Carro(300,200)\n",
    "\n",
    "print(\"Potência do carro1 eh: \",carro1.potencia,\" em cavalos \")\n",
    "print(\"Potência do carro2 eh :\",carro2.potencia, \" em cavalos \")\n"
   ]
  },
  {
   "cell_type": "markdown",
   "metadata": {},
   "source": [
    "# 2 - Crie uma classe que represente uma pessoa. Ela deve possuir um CPF e um depedente, onde \n",
    "# o dependente , onde o dependente é outra pessoa. Dependente não é obrigatório. Crie \n",
    "# duas instâncias: pai e filho , e imprima as saídas.\n",
    "\n",
    "# Exemplo saída \n",
    "# Nome: Rodrigo CPF: 200.300.400-45 Dependente:None \n",
    "# Nome : Fernando CPF: 100.200.300-45 Dependente:Rodrigo \n"
   ]
  },
  {
   "cell_type": "code",
   "execution_count": 1,
   "metadata": {},
   "outputs": [
    {
     "name": "stdout",
     "output_type": "stream",
     "text": [
      "Nome : Rodrigo  CPF: 200.300.400-45  Dependente :  None\n",
      "Nome : Fernando CPF:  100.200.300-35 Dependente :  <__main__.Pessoa object at 0x000002CDBF698FD0>\n"
     ]
    }
   ],
   "source": [
    "class Pessoa:\n",
    "    def __init__(self,nome,cpf,dependente=None):\n",
    "        self.nome = nome \n",
    "        self.cpf = cpf\n",
    "        self.dependente = dependente\n",
    "\n",
    "filho = Pessoa(\"Rodrigo\",\"200.300.400-45\")\n",
    "pai = Pessoa(\"Fernando\",\"100.200.300-35\",filho)\n",
    "\n",
    "print(\"Nome :\",filho.nome,\" CPF:\",filho.cpf,\" Dependente : \",filho.dependente)\n",
    "print(\"Nome :\",pai.nome,\"CPF: \",pai.cpf,\"Dependente : \",pai.dependente)\n"
   ]
  },
  {
   "cell_type": "markdown",
   "metadata": {},
   "source": [
    "# 4 - Baseado no exercício anterior , cria uma função na classe base que diga \n",
    "# a distância percorrida. Vamos supor que esse valor é dado pelo peso do veículo \n",
    "# dividido pela potência do veículo vezes mil. Crie uma moto , carro e um ônibus \n",
    "# Mostre esses valores \n",
    "\n",
    "# exemplo de saída \n",
    "# Distância percorrida ônibus: 2500.0 \n",
    "# Distância percorrida carro : 3000.0 \n",
    "# Distância percorrida moto : 2000.0\n"
   ]
  },
  {
   "cell_type": "code",
   "execution_count": null,
   "metadata": {},
   "outputs": [],
   "source": []
  },
  {
   "cell_type": "markdown",
   "metadata": {},
   "source": [
    "# 5 - Baseado no Exercicio anterior, crie os operadores '>' e '<' para dizer qual véiculo \n",
    "# é mais potente. Compare um de cada tipo. Observação , sobrescreva os métodos __lt__ e __gt__"
   ]
  },
  {
   "cell_type": "code",
   "execution_count": 4,
   "metadata": {},
   "outputs": [
    {
     "name": "stdout",
     "output_type": "stream",
     "text": [
      "Distancia percorrida do onibus 400.0\n",
      "Distancia percorrida do carro 333.3333333333333\n",
      "Distancia percorrida da moto 500.0\n",
      "True\n",
      "True\n",
      "False\n"
     ]
    }
   ],
   "source": [
    "class Veiculo:\n",
    "    def __init__(self,peso,potencia,rodas):\n",
    "        self.peso = peso \n",
    "        self.potencia = potencia \n",
    "        self.rodas = rodas\n",
    "\n",
    "    def __lt__(self,outro):\n",
    "        return self.potencia > outro.potencia\n",
    "\n",
    "    def __gt__(self,outro):\n",
    "        return self.potencia > outro.potencia    \n",
    "\n",
    "    def distancia_percorridas(self):\n",
    "        return (self.potencia/self.peso) * 1000\n",
    "    \n",
    "class Moto(Veiculo):\n",
    "    def __init__(self,peso,potencia,rodas):\n",
    "        Veiculo.__init__(self,peso,potencia,rodas)\n",
    "\n",
    "class Carro(Veiculo):\n",
    "    def __init__(self, peso, potencia, rodas):\n",
    "        Veiculo.__init__(self,peso, potencia, rodas)\n",
    "\n",
    "class Onibus(Veiculo):\n",
    "    def __init__(self, peso, potencia, rodas):\n",
    "        Veiculo.__init__(self,peso, potencia, rodas)\n",
    "\n",
    "\n",
    "onibus = Onibus(1000,400,6)\n",
    "carro = Carro(300,100,4)\n",
    "moto = Moto(100,50,2)        \n",
    "\n",
    "print(\"Distancia percorrida do onibus\",onibus.distancia_percorridas())\n",
    "print(\"Distancia percorrida do carro\",carro.distancia_percorridas())\n",
    "print(\"Distancia percorrida da moto\",moto.distancia_percorridas())\n",
    "\n",
    "print(onibus>carro)\n",
    "print(onibus<moto)\n",
    "print(moto > carro)"
   ]
  },
  {
   "cell_type": "markdown",
   "metadata": {},
   "source": [
    "# 6 - Crie uma classe que represente um número negativo , use propriedades (@property) para controlar \n",
    "# o valor guardado pela classe , sem deixar que ele fique positivo (0 pode) . Além disso crie alguns operadores \n",
    "# para comparação e de subtração. Cuide para que nenhum valor positivo surja."
   ]
  },
  {
   "cell_type": "code",
   "execution_count": 6,
   "metadata": {},
   "outputs": [
    {
     "name": "stdout",
     "output_type": "stream",
     "text": [
      "-10 -20 0\n",
      "True\n",
      "0\n"
     ]
    }
   ],
   "source": [
    "class NumeroNegativo:\n",
    "    def __init__(self,numero):\n",
    "        self.__numero = 0\n",
    "        self.numero = numero\n",
    "\n",
    "    @property\n",
    "    def numero(self):\n",
    "        return self.__numero\n",
    "\n",
    "    @numero.setter\n",
    "    def numero(self,value):\n",
    "        if value <=0:\n",
    "            self.__numero = value \n",
    "    def __lt__(self,outro):\n",
    "        return self.__numero < outro.__numero\n",
    "\n",
    "    def __gt__(self,outro):\n",
    "        return self.numero > outro.__numero\n",
    "\n",
    "    def __sub__(self,outro):\n",
    "        sub = self.__numero - outro.__numero\n",
    "        if sub > 0:\n",
    "            sub = 0 \n",
    "        return sub\n",
    "\n",
    "\n",
    "num1 = NumeroNegativo(-10)\n",
    "num2 = NumeroNegativo(-20)\n",
    "num3 = NumeroNegativo(10)\n",
    "\n",
    "print(num1.numero,num2.numero,num3.numero)\n",
    "print(num1>num2)\n",
    "print(num1 -num2)\n",
    "\n",
    "\n",
    "\n",
    "\n"
   ]
  },
  {
   "cell_type": "markdown",
   "metadata": {},
   "source": [
    "# 7 - Crie uma função que diga se um objeto é um primitivo do Python , informando que é sempre passado o valor. Ex[int,float,str,bool]\n",
    "# ou se é um objeto passado por referência "
   ]
  },
  {
   "cell_type": "code",
   "execution_count": 7,
   "metadata": {},
   "outputs": [
    {
     "name": "stdout",
     "output_type": "stream",
     "text": [
      "objeto por referência\n",
      "Objeto por valor\n"
     ]
    }
   ],
   "source": [
    "def teste_objeto(obj):\n",
    "    if isinstance(obj,(int,float,str,bool)):\n",
    "        print(\"Objeto por valor\")\n",
    "    else:\n",
    "        print(\"objeto por referência\")\n",
    "\n",
    "class Objeto:\n",
    "    def __init__(self):\n",
    "        pass \n",
    "\n",
    "obj = Objeto()\n",
    "valor = 3 \n",
    "\n",
    "teste_objeto(obj)\n",
    "teste_objeto(valor)\n"
   ]
  }
 ],
 "metadata": {
  "kernelspec": {
   "display_name": "Python 3",
   "language": "python",
   "name": "python3"
  },
  "language_info": {
   "codemirror_mode": {
    "name": "ipython",
    "version": 3
   },
   "file_extension": ".py",
   "mimetype": "text/x-python",
   "name": "python",
   "nbconvert_exporter": "python",
   "pygments_lexer": "ipython3",
   "version": "3.9.2"
  }
 },
 "nbformat": 4,
 "nbformat_minor": 2
}
