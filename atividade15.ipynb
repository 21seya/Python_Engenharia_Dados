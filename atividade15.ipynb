{
 "cells": [
  {
   "cell_type": "markdown",
   "metadata": {},
   "source": [
    "# 1- Crie uma classe para representar um carro. Ele deve ter um atributo \n",
    "# que diga sua potência em cavalos. Outro atributo deve dizer quanto de gasolina por quilômetros ele consome. \n",
    "# Cria duas instâncias e mostre os valores. \n",
    "# Exemplo saída \n",
    "# Potência do carro 1 : 100 cavalos \n",
    "# Alcance do carro 1 : 200km / l \n",
    "# Potência do carro 2 : 200 cavalos \n",
    "# Alcance do carro 2 : 350.5 km/ l \n"
   ]
  },
  {
   "cell_type": "code",
   "execution_count": null,
   "metadata": {},
   "outputs": [
    {
     "ename": "",
     "evalue": "",
     "output_type": "error",
     "traceback": [
      "\u001b[1;31mFailed to start the Kernel. \n",
      "\u001b[1;31mUnable to start Kernel 'Python 3.9.2' due to a timeout waiting for the ports to get used. \n",
      "\u001b[1;31mView Jupyter <a href='command:jupyter.viewOutput'>log</a> for further details."
     ]
    }
   ],
   "source": [
    "class Carro:\n",
    "    def __init__(self,potencia,alcance):\n",
    "        self.potencia = potencia \n",
    "        self.alcance = alcance\n",
    "\n",
    "carro1 = Carro(100,200)\n",
    "carro2 = Carro(300,200)\n",
    "\n",
    "print(\"Potência do carro1 eh: \",carro1.potencia,\" em cavalos \")\n",
    "print(\"Potência do carro2 eh :\",carro2.potencia, \" em cavalos \")\n"
   ]
  },
  {
   "cell_type": "markdown",
   "metadata": {},
   "source": [
    "# 2 - Crie uma classe que represente uma pessoa. Ela deve possuir um CPF e um depedente, onde \n",
    "# o dependente , onde o dependente é outra pessoa. Dependente não é obrigatório. Crie \n",
    "# duas instâncias: pai e filho , e imprima as saídas.\n",
    "\n",
    "# Exemplo saída \n",
    "# Nome: Rodrigo CPF: 200.300.400-45 Dependente:None \n",
    "# Nome : Fernando CPF: 100.200.300-45 Dependente:Rodrigo \n"
   ]
  },
  {
   "cell_type": "code",
   "execution_count": 1,
   "metadata": {},
   "outputs": [
    {
     "name": "stdout",
     "output_type": "stream",
     "text": [
      "Nome : Rodrigo  CPF: 200.300.400-45  Dependente :  None\n",
      "Nome : Fernando CPF:  100.200.300-35 Dependente :  <__main__.Pessoa object at 0x000002CDBF698FD0>\n"
     ]
    }
   ],
   "source": [
    "class Pessoa:\n",
    "    def __init__(self,nome,cpf,dependente=None):\n",
    "        self.nome = nome \n",
    "        self.cpf = cpf\n",
    "        self.dependente = dependente\n",
    "\n",
    "filho = Pessoa(\"Rodrigo\",\"200.300.400-45\")\n",
    "pai = Pessoa(\"Fernando\",\"100.200.300-35\",filho)\n",
    "\n",
    "print(\"Nome :\",filho.nome,\" CPF:\",filho.cpf,\" Dependente : \",filho.dependente)\n",
    "print(\"Nome :\",pai.nome,\"CPF: \",pai.cpf,\"Dependente : \",pai.dependente)\n"
   ]
  },
  {
   "cell_type": "markdown",
   "metadata": {},
   "source": [
    "# 4 - Baseado no exercício anterior , cria uma função na classe base que diga \n",
    "# a distância percorrida. Vamos supor que esse valor é dado pelo peso do veículo \n",
    "# dividido pela potência do veículo vezes mil. Crie uma moto , carro e um ônibus \n",
    "# Mostre esses valores \n",
    "\n",
    "# exemplo de saída \n",
    "# Distância percorrida ônibus: 2500.0 \n",
    "# Distância percorrida carro : 3000.0 \n",
    "# Distância percorrida moto : 2000.0\n"
   ]
  },
  {
   "cell_type": "code",
   "execution_count": null,
   "metadata": {},
   "outputs": [],
   "source": []
  }
 ],
 "metadata": {
  "kernelspec": {
   "display_name": "Python 3",
   "language": "python",
   "name": "python3"
  },
  "language_info": {
   "codemirror_mode": {
    "name": "ipython",
    "version": 3
   },
   "file_extension": ".py",
   "mimetype": "text/x-python",
   "name": "python",
   "nbconvert_exporter": "python",
   "pygments_lexer": "ipython3",
   "version": "3.9.2"
  }
 },
 "nbformat": 4,
 "nbformat_minor": 2
}
