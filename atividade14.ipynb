{
 "cells": [
  {
   "cell_type": "markdown",
   "metadata": {},
   "source": [
    "#Crie uma função que retorne a subtração de dois elementos, mas que considere o valor absoluto \n",
    "deste valores.\n"
   ]
  },
  {
   "cell_type": "code",
   "execution_count": 25,
   "metadata": {},
   "outputs": [
    {
     "name": "stdout",
     "output_type": "stream",
     "text": [
      "50\n"
     ]
    }
   ],
   "source": [
    "def subtrai(num1,num2):\n",
    "    return (abs(num1) - abs(num2))\n",
    "\n",
    "print(subtrai(200,-150))    "
   ]
  },
  {
   "cell_type": "markdown",
   "metadata": {},
   "source": [
    "2 - Sem usar \"ifs\" , crie uma função que receba dois números e retorne a soma \n",
    "dos mesmos, mas o valor retornado não pode passar de 10000 e deve ser sempre maior que 0. "
   ]
  },
  {
   "cell_type": "code",
   "execution_count": 26,
   "metadata": {},
   "outputs": [
    {
     "name": "stdout",
     "output_type": "stream",
     "text": [
      "40\n",
      "1000\n"
     ]
    }
   ],
   "source": [
    "def soma(num1,num2):\n",
    "    soma =  num1 + num2\n",
    "    soma = min(1000,soma)\n",
    "    soma = max(0,soma)\n",
    "    return soma \n",
    "\n",
    "print(soma(20,20))\n",
    "print(soma(5000,6000))\n",
    "\n"
   ]
  },
  {
   "cell_type": "markdown",
   "metadata": {},
   "source": [
    "3 - (DESAFIO) Crie uma função que receba argumentos de tamanho arbitrário \n",
    "todos esses argumentos serão números . Em seguida retorne o menor número entre \n",
    "todos os recebidos. "
   ]
  },
  {
   "cell_type": "code",
   "execution_count": 27,
   "metadata": {},
   "outputs": [
    {
     "name": "stdout",
     "output_type": "stream",
     "text": [
      "-2\n"
     ]
    }
   ],
   "source": [
    "def menor(*numeros):\n",
    "    menor = numeros[0]\n",
    "    for i in numeros:\n",
    "        menor = min(i,menor)\n",
    "    return menor    \n",
    "\n",
    "print(menor(10,20,30,1000,-2))\n"
   ]
  },
  {
   "cell_type": "markdown",
   "metadata": {},
   "source": [
    "4 - Crie uma função que calcule a formula de Bhaskara , encontrado o x. Os coeficientes \n",
    "a ,b e c devem ser lidos por input. "
   ]
  },
  {
   "cell_type": "code",
   "execution_count": 28,
   "metadata": {},
   "outputs": [
    {
     "ename": "ValueError",
     "evalue": "could not convert string to float: '01/07/1994'",
     "output_type": "error",
     "traceback": [
      "\u001b[1;31m---------------------------------------------------------------------------\u001b[0m",
      "\u001b[1;31mValueError\u001b[0m                                Traceback (most recent call last)",
      "Cell \u001b[1;32mIn[28], line 2\u001b[0m\n\u001b[0;32m      1\u001b[0m \u001b[38;5;28;01mimport\u001b[39;00m \u001b[38;5;21;01mcmath\u001b[39;00m\n\u001b[1;32m----> 2\u001b[0m a \u001b[38;5;241m=\u001b[39m \u001b[38;5;28;43mfloat\u001b[39;49m\u001b[43m(\u001b[49m\u001b[38;5;28;43minput\u001b[39;49m\u001b[43m(\u001b[49m\u001b[38;5;124;43m\"\u001b[39;49m\u001b[38;5;124;43mDigite o coeficiente a:\u001b[39;49m\u001b[38;5;124;43m\"\u001b[39;49m\u001b[43m)\u001b[49m\u001b[43m)\u001b[49m\n\u001b[0;32m      3\u001b[0m b \u001b[38;5;241m=\u001b[39m \u001b[38;5;28mfloat\u001b[39m(\u001b[38;5;28minput\u001b[39m(\u001b[38;5;124m\"\u001b[39m\u001b[38;5;124mDigite o coeficiente b:\u001b[39m\u001b[38;5;124m\"\u001b[39m))\n\u001b[0;32m      4\u001b[0m c \u001b[38;5;241m=\u001b[39m \u001b[38;5;28mfloat\u001b[39m(\u001b[38;5;28minput\u001b[39m(\u001b[38;5;124m\"\u001b[39m\u001b[38;5;124mDigite o coeficiente c:\u001b[39m\u001b[38;5;124m\"\u001b[39m))\n",
      "\u001b[1;31mValueError\u001b[0m: could not convert string to float: '01/07/1994'"
     ]
    }
   ],
   "source": [
    "import cmath\n",
    "a = float(input(\"Digite o coeficiente a:\"))\n",
    "b = float(input(\"Digite o coeficiente b:\"))\n",
    "c = float(input(\"Digite o coeficiente c:\"))\n",
    "\n",
    "x1 = (-b + cmath.sqrt(pow(b,2)- 4*a*c))/(2*a)\n",
    "x2 =(-b - cmath.sqrt(pow(b,2)- 4*a*c))/(2*a)\n",
    "print(\"A solução encontrada e :\",x1,x2)"
   ]
  },
  {
   "cell_type": "markdown",
   "metadata": {},
   "source": [
    "5 - Crie uma função que receba uma string , e para cada letra minúscula a transforme \n",
    "em uma letra maiúscula e vice e versa."
   ]
  },
  {
   "cell_type": "code",
   "execution_count": 14,
   "metadata": {},
   "outputs": [
    {
     "name": "stdout",
     "output_type": "stream",
     "text": [
      "oLA MunDO\n"
     ]
    }
   ],
   "source": [
    "def troca(texto):\n",
    "    return texto.swapcase()\n",
    "\n",
    "print(troca('Ola mUNdo'))"
   ]
  },
  {
   "cell_type": "markdown",
   "metadata": {},
   "source": [
    "6- Crie uma função receba uma string e uma letra do alfabeto. Retorne a quantidade de vezes \n",
    "que essa letra tem string. Caso não ocorra nenhuma vez retorne 0. \n"
   ]
  },
  {
   "cell_type": "code",
   "execution_count": 15,
   "metadata": {},
   "outputs": [
    {
     "name": "stdout",
     "output_type": "stream",
     "text": [
      "3\n",
      "0\n"
     ]
    }
   ],
   "source": [
    "def conta(texto,caracter):\n",
    "    return texto.count(caracter)\n",
    "\n",
    "print(conta(\"abcaa\",\"a\"))\n",
    "print(conta(\"abcaa\",\"d\"))"
   ]
  },
  {
   "cell_type": "markdown",
   "metadata": {},
   "source": [
    "7(DESAFIO) - Crie uma função receba uma string e uma letra do alfabeto. Retorne uma lista \n",
    "contendo o indice de onde todas as ocorrências aparecem."
   ]
  },
  {
   "cell_type": "code",
   "execution_count": 18,
   "metadata": {},
   "outputs": [
    {
     "name": "stdout",
     "output_type": "stream",
     "text": [
      "3\n",
      "2\n"
     ]
    }
   ],
   "source": [
    "def encontrar_ocorrencias(texto,caracter):\n",
    "    indices = []\n",
    "    indice = 0\n",
    "    for char in texto:\n",
    "        if (char == caracter):\n",
    "            indices.append(indice)\n",
    "        indice += 1\n",
    "    return indices\n",
    "\n",
    "print(conta(\"abcaa\",\"a\"))\n",
    "print(conta(\"abcab\",\"b\"))\n"
   ]
  },
  {
   "cell_type": "markdown",
   "metadata": {},
   "source": [
    "8 - Crie uma função que receba o que foi digitado pelo usuário no chat também. uma lista \n",
    "contendo todas as palavras não permitida a serem digitadas a função então retornara o que foi digitado \n",
    "pelo usuário , mas no lugar das palavras não permitidas retorna o caractere  "
   ]
  },
  {
   "cell_type": "code",
   "execution_count": 19,
   "metadata": {},
   "outputs": [
    {
     "name": "stdout",
     "output_type": "stream",
     "text": [
      "Não pode falar a palavra * ou * no chat\n"
     ]
    }
   ],
   "source": [
    "def retira_palavras(texto, palavras):\n",
    "    for palavra in palavras:\n",
    "        if palavra  in texto:\n",
    "            texto = texto.replace(palavra,\"*\")\n",
    "    return texto\n",
    "\n",
    "texto_usuario = \"Não pode falar a palavra droga ou diabo no chat\"\n",
    "palavras_proibidas = ['droga','diabo']\n",
    "print(retira_palavras(texto_usuario,palavras_proibidas))        "
   ]
  },
  {
   "cell_type": "markdown",
   "metadata": {},
   "source": [
    " 9 -Crie uma função que retorne verdadeiro se uma string é toltalmente maiúscula \n",
    " ou totalmente minúscula."
   ]
  },
  {
   "cell_type": "code",
   "execution_count": null,
   "metadata": {},
   "outputs": [
    {
     "name": "stdout",
     "output_type": "stream",
     "text": [
      "True\n",
      "True\n"
     ]
    }
   ],
   "source": [
    "def e_maiscuscula_ou_minuscula(texto :str) -> str:\n",
    "    return texto.islower() or texto.isupper()\n",
    "\n",
    "print(e_maiscuscula_ou_minuscula('OLA MUNDO'))\n",
    "print(e_maiscuscula_ou_minuscula('ola mundo'))\n"
   ]
  },
  {
   "cell_type": "markdown",
   "metadata": {},
   "source": [
    " 10 - Crie uma função que receba uma lista dee textos. Detecte quais os valores dessa lista \n",
    " são inteiros e em seguida transforme eles para um número do tipo inteiro. Todos esses valore \n",
    " encontrados serão retornados em uma nova lista que deve ser ordenadas "
   ]
  },
  {
   "cell_type": "code",
   "execution_count": 22,
   "metadata": {},
   "outputs": [
    {
     "name": "stdout",
     "output_type": "stream",
     "text": [
      "[5, 8, 12]\n"
     ]
    }
   ],
   "source": [
    "def transforma_lista(lista):\n",
    "    lista_inteiros =[]\n",
    "    for item in lista:\n",
    "        if item.isdecimal():\n",
    "            lista_inteiros.append(int(item))\n",
    "    lista_inteiros.sort()\n",
    "    return lista_inteiros\n",
    "\n",
    "lista_num = ['12','1234r','5','8','7y']\n",
    "print(transforma_lista(lista_num))        "
   ]
  },
  {
   "cell_type": "markdown",
   "metadata": {},
   "source": [
    "11 - Leia por input sua data de aniversário no formato Dia/Mês/Ano e mostre quantos \n",
    "dias faltam para su próximo aniversário."
   ]
  },
  {
   "cell_type": "code",
   "execution_count": null,
   "metadata": {},
   "outputs": [
    {
     "name": "stdout",
     "output_type": "stream",
     "text": [
      "Você ja viveu  7695 days, 0:26:35.057140 dias\n"
     ]
    }
   ],
   "source": [
    "import datetime \n",
    "\n",
    "data_txt = input(\"Digite a data em que você nasceu em formato dia/mês/ano: \")\n",
    "data_nasc = datetime.datetime.strptime(data_txt,'%d/%m/%Y')\n",
    "data_atual = datetime.datetime.now()\n",
    "diferenca = data_atual - data_nasc\n",
    "print(\"Você ja viveu \",diferenca,'dias')"
   ]
  },
  {
   "cell_type": "markdown",
   "metadata": {},
   "source": [
    "12 -Leia por input sua próxima data de aniversário no formato dia/mês/ano \n",
    "e mostra quantos dias falta para o seu aniversário."
   ]
  },
  {
   "cell_type": "code",
   "execution_count": 30,
   "metadata": {},
   "outputs": [
    {
     "name": "stdout",
     "output_type": "stream",
     "text": [
      "Você fará aniversário daqui a 156 days, 23:27:37.927310 dias\n"
     ]
    }
   ],
   "source": [
    "import datetime \n",
    "data_txt = input(\"Digite a data do seu aniversário no formato dia/mês/ano :\")\n",
    "data_aniversario = datetime.datetime.strptime(data_txt,'%d/%m/%Y')\n",
    "data_agora = datetime.datetime.now()\n",
    "diferenca = data_aniversario - data_agora\n",
    "print(\"Você fará aniversário daqui a\",diferenca,'dias')"
   ]
  },
  {
   "cell_type": "code",
   "execution_count": null,
   "metadata": {},
   "outputs": [],
   "source": []
  }
 ],
 "metadata": {
  "kernelspec": {
   "display_name": "Python 3",
   "language": "python",
   "name": "python3"
  },
  "language_info": {
   "codemirror_mode": {
    "name": "ipython",
    "version": 3
   },
   "file_extension": ".py",
   "mimetype": "text/x-python",
   "name": "python",
   "nbconvert_exporter": "python",
   "pygments_lexer": "ipython3",
   "version": "3.9.2"
  }
 },
 "nbformat": 4,
 "nbformat_minor": 2
}
