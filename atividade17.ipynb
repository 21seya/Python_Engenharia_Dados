{
 "cells": [
  {
   "cell_type": "markdown",
   "metadata": {},
   "source": [
    "# 1 - Crie uma função que receba duas strings que serão convertidas para números para serem somadas \n",
    "# Se ao realizar a casting ocorrer um error , gere uma exceção informando o motivo."
   ]
  },
  {
   "cell_type": "code",
   "execution_count": 1,
   "metadata": {},
   "outputs": [
    {
     "name": "stdout",
     "output_type": "stream",
     "text": [
      "3.0\n"
     ]
    }
   ],
   "source": [
    "def soma(str1,str2):\n",
    "    try:\n",
    "        num1 = float(str1)\n",
    "        num2 = float(str2)\n",
    "        return num1 + num2 \n",
    "    except:\n",
    "        raise Exception(\"Falha no casting\")\n",
    "\n",
    "print(soma('1','2'))            "
   ]
  },
  {
   "cell_type": "markdown",
   "metadata": {},
   "source": [
    "# 2 - Crie uma função que receba uma lista e um número e retorne o elemento da lista na posição \n",
    "# desse número. Faça um tratamento para caso haja um acesso fora do indice a função retorna o valor None "
   ]
  },
  {
   "cell_type": "code",
   "execution_count": 3,
   "metadata": {},
   "outputs": [
    {
     "name": "stdout",
     "output_type": "stream",
     "text": [
      "None\n"
     ]
    }
   ],
   "source": [
    "def acessa_seguro(lista,indice):\n",
    "    try:\n",
    "        return lista[indice]\n",
    "    except:\n",
    "        return None\n",
    "    \n",
    "lista = [1]\n",
    "print(acessa_seguro(lista,2))    "
   ]
  },
  {
   "cell_type": "markdown",
   "metadata": {},
   "source": [
    "# 3 - Crie uma função que leia o input do usuário e retorne o que foi digitado , mas caso o input seja \n",
    "# interrompido trate a exceção e retorne o valor None."
   ]
  },
  {
   "cell_type": "code",
   "execution_count": 6,
   "metadata": {},
   "outputs": [
    {
     "name": "stdout",
     "output_type": "stream",
     "text": [
      "None\n"
     ]
    }
   ],
   "source": [
    "def ler_input_seguro():\n",
    "    try:\n",
    "        return input(\"Digite algo:\")\n",
    "    except:\n",
    "        return None \n",
    "\n",
    "print(ler_input_seguro())    "
   ]
  },
  {
   "cell_type": "markdown",
   "metadata": {},
   "source": [
    "# 4- Crie uma classe que represente um caractere (string de tamanho 1) , use propriedades ou crie \n",
    "# uma função para isso (mas deixe valor privado) e caso usuário tente inserir um texto gere uma exceção \n",
    "# dizendo o motivo."
   ]
  },
  {
   "cell_type": "code",
   "execution_count": 13,
   "metadata": {},
   "outputs": [
    {
     "name": "stdout",
     "output_type": "stream",
     "text": [
      "a\n",
      "Caracter deve ter no máximo tamanho 1\n",
      "a\n"
     ]
    }
   ],
   "source": [
    "class Caracter:\n",
    "    def __init__(self,caracter):\n",
    "        self.__carater = ''\n",
    "        self.caracter = caracter\n",
    "\n",
    "    @property\n",
    "    def caracter(self):\n",
    "        return self.__carater\n",
    "\n",
    "    @caracter.setter\n",
    "    def caracter(self,value):\n",
    "        if len(value) > 1:\n",
    "            raise Exception(\"Caracter deve ter no máximo tamanho 1\")\n",
    "\n",
    "        self.__carater = value    \n",
    "\n",
    "letra = Caracter(\"a\")\n",
    "print(letra.caracter)  \n",
    "\n",
    "try:\n",
    "    letra.caracter = 'ab'\n",
    "except Exception as ex:\n",
    "    print(str(ex))\n",
    "\n",
    "print(letra.caracter)"
   ]
  },
  {
   "cell_type": "code",
   "execution_count": null,
   "metadata": {},
   "outputs": [],
   "source": []
  }
 ],
 "metadata": {
  "kernelspec": {
   "display_name": "Python 3",
   "language": "python",
   "name": "python3"
  },
  "language_info": {
   "codemirror_mode": {
    "name": "ipython",
    "version": 3
   },
   "file_extension": ".py",
   "mimetype": "text/x-python",
   "name": "python",
   "nbconvert_exporter": "python",
   "pygments_lexer": "ipython3",
   "version": "3.9.2"
  }
 },
 "nbformat": 4,
 "nbformat_minor": 2
}
