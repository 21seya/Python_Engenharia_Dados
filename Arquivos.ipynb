{
 "cells": [
  {
   "cell_type": "code",
   "execution_count": 2,
   "metadata": {},
   "outputs": [],
   "source": [
    "arquivo = open(\"exemplo.txt\",\"wt\")\n",
    "arquivo.write(\"ola estou escrevendo no arquivo\\n\")\n",
    "arquivo.write(\"essa é a segunda linha do arquivo\\n\")\n",
    "arquivo.close()\n"
   ]
  },
  {
   "cell_type": "code",
   "execution_count": 1,
   "metadata": {},
   "outputs": [],
   "source": [
    "lista=[ \"Ana\",\"Vitoria\",\"Maria\",\"Thais\"]\n",
    "arquivo= open(\"nomes.txt\",\"wt\")\n",
    "\n",
    "for i in lista:\n",
    "    arquivo.write(i + '\\n')\n",
    "arquivo.close()    \n"
   ]
  },
  {
   "cell_type": "code",
   "execution_count": 4,
   "metadata": {},
   "outputs": [],
   "source": [
    "texto = \"Ana\\nVitoria\\nMaria\\nThais\"\n",
    "arquivo = open(\"Nomes2.txt\",\"wt\")\n",
    "arquivo.writelines(texto)\n",
    "arquivo.close()"
   ]
  },
  {
   "cell_type": "code",
   "execution_count": 9,
   "metadata": {},
   "outputs": [],
   "source": [
    "lista = [str(i) + '\\n' for i in range(0,20)]\n",
    "arquivo = open(\"Nomes3.txt\",\"wt\")\n",
    "arquivo.writelines(lista)\n",
    "arquivo.close()"
   ]
  },
  {
   "cell_type": "code",
   "execution_count": 1,
   "metadata": {},
   "outputs": [],
   "source": [
    "with open(\"exemplo_with.txt\",\"wt\") as arquivo:\n",
    "    arquivo.write(\"ola estou escrevendo no arquivo\\n\")\n",
    "    arquivo.write(\"essa é a segunda linha do arquivo\\n\")"
   ]
  },
  {
   "cell_type": "code",
   "execution_count": 3,
   "metadata": {},
   "outputs": [
    {
     "name": "stdout",
     "output_type": "stream",
     "text": [
      "ola estou escrevendo no arquivo\n",
      "essa é a segunda linha do arquivo\n",
      "\n"
     ]
    }
   ],
   "source": [
    "arquivo = open(\"exemplo.txt\",\"rt\")\n",
    "lido = arquivo.read()\n",
    "print(lido)\n",
    "arquivo.close()"
   ]
  },
  {
   "cell_type": "code",
   "execution_count": 4,
   "metadata": {},
   "outputs": [
    {
     "name": "stdout",
     "output_type": "stream",
     "text": [
      "ola estou \n"
     ]
    }
   ],
   "source": [
    "arquivo = open(\"exemplo.txt\",\"rt\")\n",
    "lido = arquivo.read(10)\n",
    "print(lido)\n",
    "arquivo.close()"
   ]
  },
  {
   "cell_type": "code",
   "execution_count": 6,
   "metadata": {},
   "outputs": [
    {
     "name": "stdout",
     "output_type": "stream",
     "text": [
      "ola estou escrevendo no arquivo\n",
      "\n",
      "essa é a segunda linha do arquivo\n",
      "\n"
     ]
    }
   ],
   "source": [
    "arquivo = open(\"exemplo.txt\",\"rt\")\n",
    "primeira_linha = arquivo.readline()\n",
    "segunda_linha = arquivo.readline()\n",
    "\n",
    "print(primeira_linha)\n",
    "print(segunda_linha)\n",
    "arquivo.close()"
   ]
  },
  {
   "cell_type": "code",
   "execution_count": 7,
   "metadata": {},
   "outputs": [
    {
     "name": "stdout",
     "output_type": "stream",
     "text": [
      "ola estou escrevendo no arquivo\n",
      "\n",
      "essa é a segunda linha do arquivo\n",
      "\n"
     ]
    }
   ],
   "source": [
    "arquivo = open(\"exemplo.txt\",\"rt\")\n",
    "for linha in arquivo:\n",
    "    print(linha)\n",
    "\n",
    "arquivo.close()    "
   ]
  },
  {
   "cell_type": "code",
   "execution_count": null,
   "metadata": {},
   "outputs": [
    {
     "name": "stdout",
     "output_type": "stream",
     "text": [
      "ola estou escrevendo no arquivo\n",
      "\n",
      "essa é a segunda linha do arquivo\n",
      "\n"
     ]
    }
   ],
   "source": [
    "with open(\"exemplo.txt\",\"rt\") as arquivo:\n",
    "    for linha in arquivo:\n",
    "        print(linha)"
   ]
  },
  {
   "cell_type": "code",
   "execution_count": 10,
   "metadata": {},
   "outputs": [
    {
     "name": "stdout",
     "output_type": "stream",
     "text": [
      "O arquivo existe!\n"
     ]
    }
   ],
   "source": [
    "from os import path \n",
    "arquivo_existe = path.exists(\"exemplo.txt\")\n",
    "\n",
    "if arquivo_existe:\n",
    "    print(\"O arquivo existe!\")\n",
    "else:\n",
    "    print(\"O arquivo não existe!\")\n"
   ]
  },
  {
   "cell_type": "code",
   "execution_count": 11,
   "metadata": {},
   "outputs": [],
   "source": [
    "import os \n",
    "os.remove('exemplo.txt')"
   ]
  },
  {
   "cell_type": "code",
   "execution_count": 12,
   "metadata": {},
   "outputs": [],
   "source": [
    "file = open(\"teste\",\"w\")\n",
    "try:\n",
    "    file.write(\"hello world\")\n",
    "finally:\n",
    "    file.close()    "
   ]
  },
  {
   "cell_type": "code",
   "execution_count": 13,
   "metadata": {},
   "outputs": [
    {
     "name": "stdout",
     "output_type": "stream",
     "text": [
      "Ocorreu um erro[WinError 2] O sistema não pode encontrar o arquivo especificado: 'ererere.txt'\n"
     ]
    }
   ],
   "source": [
    "import os \n",
    "try:\n",
    "    os.remove(\"ererere.txt\")\n",
    "except Exception as error:\n",
    "    print(\"Ocorreu um erro\"+str(error))\n"
   ]
  },
  {
   "cell_type": "code",
   "execution_count": null,
   "metadata": {},
   "outputs": [],
   "source": [
    "#Criar pasta\n",
    "import os \n",
    "os.mkdir('pasta')"
   ]
  },
  {
   "cell_type": "code",
   "execution_count": null,
   "metadata": {},
   "outputs": [],
   "source": [
    "#Remover pasta\n",
    "import os \n",
    "os.rmdir('pasta')"
   ]
  },
  {
   "cell_type": "code",
   "execution_count": 4,
   "metadata": {},
   "outputs": [],
   "source": [
    "import os \n",
    "for i in range(0,10):\n",
    "    nome_pasta = 'pasta' + str(i)\n",
    "    try:\n",
    "        os.mkdir(nome_pasta)\n",
    "    except:\n",
    "        pass \n",
    "\n",
    "    try:\n",
    "        open(nome_pasta + '/texto.txt','wt').close()\n",
    "\n",
    "    except:\n",
    "        pass \n"
   ]
  },
  {
   "cell_type": "code",
   "execution_count": 5,
   "metadata": {},
   "outputs": [],
   "source": [
    "import os \n",
    "for i in range(0,10):\n",
    "    nome_pasta = 'pasta' + str(i)\n",
    "    try:\n",
    "        os.remove(nome_pasta + '/texto.txt')\n",
    "    except:\n",
    "        pass \n",
    "\n",
    "    try:\n",
    "        os.rmdir(nome_pasta)\n",
    "\n",
    "    except:\n",
    "        print(\"Falha ao excluir a pasta!\",nome_pasta)\n"
   ]
  },
  {
   "cell_type": "code",
   "execution_count": 6,
   "metadata": {},
   "outputs": [
    {
     "name": "stdout",
     "output_type": "stream",
     "text": [
      "['.git', '.gitignore', 'Arquivos.ipynb', 'atividade01.ipynb', 'atividade02.ipynb', 'atividade03.ipynb', 'atividade04.ipynb', 'atividade05.ipynb', 'atividade06.ipynb', 'atividade07.ipynb', 'atividade08.ipynb', 'atividade09.ipynb', 'atividade10.ipynb', 'atividade11.ipynb', 'atividade12.ipynb', 'atividade13.ipynb', 'atividade14.ipynb', 'atividade15.ipynb', 'atividade16.ipynb', 'atividade17.ipynb', 'atividade18.ipynb', 'calc_python.py', 'Excecoes.ipynb', 'exemplo_with.txt', 'file.log', 'funcoes.ipynb', 'funcoes_builtin.ipynb', 'Fundamentos.ipynb', 'interadores.ipynb', 'listas.ipynb', 'logs.ipynb', 'meu_random.py', 'Modulo.ipynb', 'nomes.txt', 'Nomes2.txt', 'Nomes3.txt', 'ola.py', 'pasta0texto.txt', 'pasta1texto.txt', 'pasta2texto.txt', 'pasta3texto.txt', 'pasta4texto.txt', 'pasta5texto.txt', 'pasta6texto.txt', 'pasta7texto.txt', 'pasta8texto.txt', 'pasta9texto.txt', 'POO.ipynb', 'Sequencial.ipynb', 'teste', 'teste.py', '__pycache__']\n"
     ]
    }
   ],
   "source": [
    "import os \n",
    "files = os.listdir()\n",
    "print(files)"
   ]
  }
 ],
 "metadata": {
  "kernelspec": {
   "display_name": "Python 3",
   "language": "python",
   "name": "python3"
  },
  "language_info": {
   "codemirror_mode": {
    "name": "ipython",
    "version": 3
   },
   "file_extension": ".py",
   "mimetype": "text/x-python",
   "name": "python",
   "nbconvert_exporter": "python",
   "pygments_lexer": "ipython3",
   "version": "3.9.2"
  }
 },
 "nbformat": 4,
 "nbformat_minor": 2
}
