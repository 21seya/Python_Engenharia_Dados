{
 "cells": [
  {
   "cell_type": "code",
   "execution_count": 2,
   "metadata": {},
   "outputs": [],
   "source": [
    "arquivo = open(\"exemplo.txt\",\"wt\")\n",
    "arquivo.write(\"ola estou escrevendo no arquivo\\n\")\n",
    "arquivo.write(\"essa é a segunda linha do arquivo\\n\")\n",
    "arquivo.close()\n"
   ]
  },
  {
   "cell_type": "code",
   "execution_count": 1,
   "metadata": {},
   "outputs": [],
   "source": [
    "lista=[ \"Ana\",\"Vitoria\",\"Maria\",\"Thais\"]\n",
    "arquivo= open(\"nomes.txt\",\"wt\")\n",
    "\n",
    "for i in lista:\n",
    "    arquivo.write(i + '\\n')\n",
    "arquivo.close()    \n"
   ]
  },
  {
   "cell_type": "code",
   "execution_count": 4,
   "metadata": {},
   "outputs": [],
   "source": [
    "texto = \"Ana\\nVitoria\\nMaria\\nThais\"\n",
    "arquivo = open(\"Nomes2.txt\",\"wt\")\n",
    "arquivo.writelines(texto)\n",
    "arquivo.close()"
   ]
  },
  {
   "cell_type": "code",
   "execution_count": 9,
   "metadata": {},
   "outputs": [],
   "source": [
    "lista = [str(i) + '\\n' for i in range(0,20)]\n",
    "arquivo = open(\"Nomes3.txt\",\"wt\")\n",
    "arquivo.writelines(lista)\n",
    "arquivo.close()"
   ]
  },
  {
   "cell_type": "code",
   "execution_count": 1,
   "metadata": {},
   "outputs": [],
   "source": [
    "with open(\"exemplo_with.txt\",\"wt\") as arquivo:\n",
    "    arquivo.write(\"ola estou escrevendo no arquivo\\n\")\n",
    "    arquivo.write(\"essa é a segunda linha do arquivo\\n\")"
   ]
  },
  {
   "cell_type": "code",
   "execution_count": 3,
   "metadata": {},
   "outputs": [
    {
     "name": "stdout",
     "output_type": "stream",
     "text": [
      "ola estou escrevendo no arquivo\n",
      "essa é a segunda linha do arquivo\n",
      "\n"
     ]
    }
   ],
   "source": [
    "arquivo = open(\"exemplo.txt\",\"rt\")\n",
    "lido = arquivo.read()\n",
    "print(lido)\n",
    "arquivo.close()"
   ]
  },
  {
   "cell_type": "code",
   "execution_count": 4,
   "metadata": {},
   "outputs": [
    {
     "name": "stdout",
     "output_type": "stream",
     "text": [
      "ola estou \n"
     ]
    }
   ],
   "source": [
    "arquivo = open(\"exemplo.txt\",\"rt\")\n",
    "lido = arquivo.read(10)\n",
    "print(lido)\n",
    "arquivo.close()"
   ]
  },
  {
   "cell_type": "code",
   "execution_count": 6,
   "metadata": {},
   "outputs": [
    {
     "name": "stdout",
     "output_type": "stream",
     "text": [
      "ola estou escrevendo no arquivo\n",
      "\n",
      "essa é a segunda linha do arquivo\n",
      "\n"
     ]
    }
   ],
   "source": [
    "arquivo = open(\"exemplo.txt\",\"rt\")\n",
    "primeira_linha = arquivo.readline()\n",
    "segunda_linha = arquivo.readline()\n",
    "\n",
    "print(primeira_linha)\n",
    "print(segunda_linha)\n",
    "arquivo.close()"
   ]
  },
  {
   "cell_type": "code",
   "execution_count": 7,
   "metadata": {},
   "outputs": [
    {
     "name": "stdout",
     "output_type": "stream",
     "text": [
      "ola estou escrevendo no arquivo\n",
      "\n",
      "essa é a segunda linha do arquivo\n",
      "\n"
     ]
    }
   ],
   "source": [
    "arquivo = open(\"exemplo.txt\",\"rt\")\n",
    "for linha in arquivo:\n",
    "    print(linha)\n",
    "\n",
    "arquivo.close()    "
   ]
  },
  {
   "cell_type": "code",
   "execution_count": null,
   "metadata": {},
   "outputs": [
    {
     "name": "stdout",
     "output_type": "stream",
     "text": [
      "ola estou escrevendo no arquivo\n",
      "\n",
      "essa é a segunda linha do arquivo\n",
      "\n"
     ]
    }
   ],
   "source": [
    "with open(\"exemplo.txt\",\"rt\") as arquivo:\n",
    "    for linha in arquivo:\n",
    "        print(linha)"
   ]
  },
  {
   "cell_type": "code",
   "execution_count": 10,
   "metadata": {},
   "outputs": [
    {
     "name": "stdout",
     "output_type": "stream",
     "text": [
      "O arquivo existe!\n"
     ]
    }
   ],
   "source": [
    "from os import path \n",
    "arquivo_existe = path.exists(\"exemplo.txt\")\n",
    "\n",
    "if arquivo_existe:\n",
    "    print(\"O arquivo existe!\")\n",
    "else:\n",
    "    print(\"O arquivo não existe!\")\n"
   ]
  },
  {
   "cell_type": "code",
   "execution_count": 11,
   "metadata": {},
   "outputs": [],
   "source": [
    "import os \n",
    "os.remove('exemplo.txt')"
   ]
  },
  {
   "cell_type": "code",
   "execution_count": 12,
   "metadata": {},
   "outputs": [],
   "source": [
    "file = open(\"teste\",\"w\")\n",
    "try:\n",
    "    file.write(\"hello world\")\n",
    "finally:\n",
    "    file.close()    "
   ]
  },
  {
   "cell_type": "code",
   "execution_count": 13,
   "metadata": {},
   "outputs": [
    {
     "name": "stdout",
     "output_type": "stream",
     "text": [
      "Ocorreu um erro[WinError 2] O sistema não pode encontrar o arquivo especificado: 'ererere.txt'\n"
     ]
    }
   ],
   "source": [
    "import os \n",
    "try:\n",
    "    os.remove(\"ererere.txt\")\n",
    "except Exception as error:\n",
    "    print(\"Ocorreu um erro\"+str(error))\n"
   ]
  },
  {
   "cell_type": "code",
   "execution_count": null,
   "metadata": {},
   "outputs": [],
   "source": [
    "#Criar pasta\n",
    "import os \n",
    "os.mkdir('pasta')"
   ]
  },
  {
   "cell_type": "code",
   "execution_count": null,
   "metadata": {},
   "outputs": [],
   "source": [
    "#Remover pasta\n",
    "import os \n",
    "os.rmdir('pasta')"
   ]
  },
  {
   "cell_type": "code",
   "execution_count": 4,
   "metadata": {},
   "outputs": [],
   "source": [
    "import os \n",
    "for i in range(0,10):\n",
    "    nome_pasta = 'pasta' + str(i)\n",
    "    try:\n",
    "        os.mkdir(nome_pasta)\n",
    "    except:\n",
    "        pass \n",
    "\n",
    "    try:\n",
    "        open(nome_pasta + '/texto.txt','wt').close()\n",
    "\n",
    "    except:\n",
    "        pass \n"
   ]
  },
  {
   "cell_type": "code",
   "execution_count": 5,
   "metadata": {},
   "outputs": [],
   "source": [
    "import os \n",
    "for i in range(0,10):\n",
    "    nome_pasta = 'pasta' + str(i)\n",
    "    try:\n",
    "        os.remove(nome_pasta + '/texto.txt')\n",
    "    except:\n",
    "        pass \n",
    "\n",
    "    try:\n",
    "        os.rmdir(nome_pasta)\n",
    "\n",
    "    except:\n",
    "        print(\"Falha ao excluir a pasta!\",nome_pasta)\n"
   ]
  },
  {
   "cell_type": "code",
   "execution_count": 6,
   "metadata": {},
   "outputs": [
    {
     "name": "stdout",
     "output_type": "stream",
     "text": [
      "['.git', '.gitignore', 'Arquivos.ipynb', 'atividade01.ipynb', 'atividade02.ipynb', 'atividade03.ipynb', 'atividade04.ipynb', 'atividade05.ipynb', 'atividade06.ipynb', 'atividade07.ipynb', 'atividade08.ipynb', 'atividade09.ipynb', 'atividade10.ipynb', 'atividade11.ipynb', 'atividade12.ipynb', 'atividade13.ipynb', 'atividade14.ipynb', 'atividade15.ipynb', 'atividade16.ipynb', 'atividade17.ipynb', 'atividade18.ipynb', 'calc_python.py', 'Excecoes.ipynb', 'exemplo_with.txt', 'file.log', 'funcoes.ipynb', 'funcoes_builtin.ipynb', 'Fundamentos.ipynb', 'interadores.ipynb', 'listas.ipynb', 'logs.ipynb', 'meu_random.py', 'Modulo.ipynb', 'nomes.txt', 'Nomes2.txt', 'Nomes3.txt', 'ola.py', 'pasta0texto.txt', 'pasta1texto.txt', 'pasta2texto.txt', 'pasta3texto.txt', 'pasta4texto.txt', 'pasta5texto.txt', 'pasta6texto.txt', 'pasta7texto.txt', 'pasta8texto.txt', 'pasta9texto.txt', 'POO.ipynb', 'Sequencial.ipynb', 'teste', 'teste.py', '__pycache__']\n"
     ]
    }
   ],
   "source": [
    "import os \n",
    "files = os.listdir()\n",
    "print(files)"
   ]
  },
  {
   "cell_type": "code",
   "execution_count": null,
   "metadata": {},
   "outputs": [],
   "source": [
    "import os \n",
    "import json\n",
    "def ler_dados_csv():\n",
    "    with open('arquivo.csv') as file:\n",
    "        file = json.load()\n",
    "        for files in file:\n",
    "            print(file)"
   ]
  },
  {
   "cell_type": "code",
   "execution_count": 3,
   "metadata": {},
   "outputs": [],
   "source": [
    "import csv \n",
    "with open('pessoas.csv','w') as arquivo:\n",
    "    escritorCsv = csv.writer(arquivo,delimiter=',')\n",
    "    escritorCsv.writerow([\"id\",\"nome\",\"profissao\"])\n",
    "    escritorCsv.writerow([\"1\",\"Maria\",\"Professora\"])\n",
    "    escritorCsv.writerow([\"2\",\"Joao\",\"Medico\"])\n",
    "    escritorCsv.writerow([\"3\",\"Ryan\",\"Engenheiro\"])\n",
    "    escritorCsv.writerow([\"4\",\"Robert\",\"Advogado\"])\n"
   ]
  },
  {
   "cell_type": "code",
   "execution_count": 4,
   "metadata": {},
   "outputs": [],
   "source": [
    "import csv \n",
    "linhas = [[\"id\",\"nome\",\"profissao\"],[\"1\",\"Maria\",\"Professora\"],\n",
    "          [\"2\",\"Joao\",\"Medico\"],[\"3\",\"Ryan\",\"Engenheiro\"],[\"4\",\"Robert\",\"Advogado\"]]\n",
    "\n",
    "with open('pessoas2.csv','w') as file:\n",
    "    escritorCsv = csv.writer(file)\n",
    "    escritorCsv.writerows(linhas)\n",
    "    "
   ]
  },
  {
   "cell_type": "code",
   "execution_count": 5,
   "metadata": {},
   "outputs": [
    {
     "name": "stdout",
     "output_type": "stream",
     "text": [
      "['id', 'nome', 'profissao']\n",
      "[]\n",
      "['1', 'Maria', 'Professora']\n",
      "[]\n",
      "['2', 'Joao', 'Medico']\n",
      "[]\n",
      "['3', 'Ryan', 'Engenheiro']\n",
      "[]\n",
      "['4', 'Robert', 'Advogado']\n",
      "[]\n"
     ]
    }
   ],
   "source": [
    "import csv \n",
    "with open('pessoas.csv','r') as arquivo:\n",
    "    leitorCsv =csv.reader(arquivo,delimiter=',')\n",
    "    for linha in leitorCsv:\n",
    "        print(linha)\n",
    "\n"
   ]
  },
  {
   "cell_type": "code",
   "execution_count": 4,
   "metadata": {},
   "outputs": [
    {
     "ename": "AttributeError",
     "evalue": "type object 'Pessoa' has no attribute 'salva_pessoas'",
     "output_type": "error",
     "traceback": [
      "\u001b[1;31m---------------------------------------------------------------------------\u001b[0m",
      "\u001b[1;31mAttributeError\u001b[0m                            Traceback (most recent call last)",
      "Cell \u001b[1;32mIn[4], line 31\u001b[0m\n\u001b[0;32m     28\u001b[0m pessoa2 \u001b[38;5;241m=\u001b[39m Pessoa(\u001b[38;5;241m35\u001b[39m,\u001b[38;5;124m\"\u001b[39m\u001b[38;5;124mPedro\u001b[39m\u001b[38;5;124m\"\u001b[39m,\u001b[38;5;124m\"\u001b[39m\u001b[38;5;124mEngenheiro de Dados\u001b[39m\u001b[38;5;124m\"\u001b[39m)\n\u001b[0;32m     29\u001b[0m pessoa3 \u001b[38;5;241m=\u001b[39m Pessoa(\u001b[38;5;241m39\u001b[39m,\u001b[38;5;124m\"\u001b[39m\u001b[38;5;124mAna\u001b[39m\u001b[38;5;124m\"\u001b[39m,\u001b[38;5;124m\"\u001b[39m\u001b[38;5;124mAnalista de Dados\u001b[39m\u001b[38;5;124m\"\u001b[39m)\n\u001b[1;32m---> 31\u001b[0m \u001b[43mPessoa\u001b[49m\u001b[38;5;241;43m.\u001b[39;49m\u001b[43msalva_pessoas\u001b[49m(pessoa1,pessoa2,pessoa3)\n\u001b[0;32m     33\u001b[0m lista_pessoas \u001b[38;5;241m=\u001b[39m Pessoa\u001b[38;5;241m.\u001b[39mle_pessoas()\n\u001b[0;32m     34\u001b[0m \u001b[38;5;28;01mfor\u001b[39;00m pessoa \u001b[38;5;129;01min\u001b[39;00m lista_pessoas:\n",
      "\u001b[1;31mAttributeError\u001b[0m: type object 'Pessoa' has no attribute 'salva_pessoas'"
     ]
    }
   ],
   "source": [
    "import csv\n",
    "class Pessoa:\n",
    "    def __init__(self,id,nome,profissao):\n",
    "        self.id = id \n",
    "        self.nome = nome \n",
    "        self.profissao = profissao\n",
    "\n",
    "@staticmethod\n",
    "def le_pessoas():\n",
    "    pessoas = []\n",
    "    with open('pessoas.csv','r') as arquivo:\n",
    "        leitorcsv = csv.reader(arquivo,delimiter=',')\n",
    "        for linha in leitorcsv:\n",
    "            pessoa = Pessoa(linha[0],linha[1],linha[2]) \n",
    "            pessoas.append(pessoa)\n",
    "\n",
    "    return pessoas\n",
    "\n",
    "@staticmethod\n",
    "def salva_pessoas(*pessoas):\n",
    "    with open('pessoas.csv','w') as arquivo:\n",
    "        escritorcsv = csv.writer(arquivo,delimiter=',')\n",
    "        for pessoa in pessoas:\n",
    "            escritorcsv.writerow([pessoa.id,pessoa.nome,pessoa.profissao])\n",
    "\n",
    "\n",
    "pessoa1 = Pessoa(30,\"Maria\",\"Medica\")\n",
    "pessoa2 = Pessoa(35,\"Pedro\",\"Engenheiro de Dados\")\n",
    "pessoa3 = Pessoa(39,\"Ana\",\"Analista de Dados\")\n",
    "\n",
    "Pessoa.salva_pessoas(pessoa1,pessoa2,pessoa3)\n",
    "\n",
    "lista_pessoas = Pessoa.le_pessoas()\n",
    "for pessoa in lista_pessoas:\n",
    "    print(pessoa.id,pessoa.nome,pessoa.profissao)\n",
    "    \n",
    "\n",
    "\n"
   ]
  },
  {
   "cell_type": "code",
   "execution_count": 3,
   "metadata": {},
   "outputs": [
    {
     "name": "stdout",
     "output_type": "stream",
     "text": [
      "{\"Rogerio\": 20, \"Maria\": 35, \"Jose\": 22, \"Pedro\": 19}\n"
     ]
    }
   ],
   "source": [
    "import json \n",
    "idades = {\n",
    "    'Rogerio':20,\n",
    "    'Maria':35,\n",
    "    'Jose':22,\n",
    "    'Pedro':19\n",
    "}\n",
    "\n",
    "print(json.dumps(idades))"
   ]
  },
  {
   "cell_type": "code",
   "execution_count": 6,
   "metadata": {},
   "outputs": [],
   "source": [
    "import json \n",
    "DadosPessoas ={\n",
    "    'Rodrigo':{\n",
    "        'CPF':'222.222.333-47',\n",
    "        'Sexo':'Masculino',\n",
    "        'Endereco':'Rua maranhoes',\n",
    "        'Idade':34\n",
    "},\n",
    "'Ferando':{\n",
    "    'CPF':'111.333.444-47',\n",
    "        'Sexo':'Masculino',\n",
    "        'Endereco':'Rua souza',\n",
    "        'Idade':30\n",
    "}\n",
    "}"
   ]
  },
  {
   "cell_type": "code",
   "execution_count": 8,
   "metadata": {},
   "outputs": [
    {
     "name": "stdout",
     "output_type": "stream",
     "text": [
      "{\n",
      "    \"Rodrigo\": {\n",
      "        \"CPF\": \"222.222.333-47\",\n",
      "        \"Sexo\": \"Masculino\",\n",
      "        \"Endereco\": \"Rua maranhoes\",\n",
      "        \"Idade\": 34\n",
      "    },\n",
      "    \"Ferando\": {\n",
      "        \"CPF\": \"111.333.444-47\",\n",
      "        \"Sexo\": \"Masculino\",\n",
      "        \"Endereco\": \"Rua souza\",\n",
      "        \"Idade\": 30\n",
      "    }\n",
      "}\n"
     ]
    }
   ],
   "source": [
    "texto = json.dumps(DadosPessoas,indent=4)\n",
    "print(texto)\n",
    "\n",
    "with open('exemplo.json','wt') as arquivo:\n",
    "    arquivo.write(texto)"
   ]
  },
  {
   "cell_type": "code",
   "execution_count": 11,
   "metadata": {},
   "outputs": [
    {
     "name": "stdout",
     "output_type": "stream",
     "text": [
      "{'Rodrigo': {'CPF': '222.222.333-47', 'Sexo': 'Masculino', 'Endereco': 'Rua maranhoes', 'Idade': 34}, 'Ferando': {'CPF': '111.333.444-47', 'Sexo': 'Masculino', 'Endereco': 'Rua souza', 'Idade': 30}}\n",
      "<class 'dict'>\n",
      "34\n"
     ]
    }
   ],
   "source": [
    "import json\n",
    "dicionario = None \n",
    "with open('exemplo.json','rt') as arquivo:\n",
    "    arquivo_lido = arquivo.read()\n",
    "    dicionario = json.loads(arquivo_lido)\n",
    "\n",
    "print(dicionario)\n",
    "print(type(dicionario))\n",
    "print(dicionario['Rodrigo']['Idade'])    "
   ]
  },
  {
   "cell_type": "code",
   "execution_count": 3,
   "metadata": {},
   "outputs": [
    {
     "name": "stdout",
     "output_type": "stream",
     "text": [
      "Fusca 50\n",
      "Ferrari 320\n",
      "Viper 300\n"
     ]
    }
   ],
   "source": [
    "import json \n",
    "class Carro:\n",
    "    def __init__(self,nome,potencia):\n",
    "        self.nome = nome \n",
    "        self.potencia = potencia \n",
    "\n",
    "    @staticmethod\n",
    "    def salva_carros(*carros):\n",
    "        dicionario = dict()\n",
    "        for carro in carros:\n",
    "            dicionario[carro.nome] = carro.potencia\n",
    "\n",
    "        texto = json.dumps(dicionario,indent=4)\n",
    "        with open('carros.json','w') as arquivo:\n",
    "            arquivo.write(texto)\n",
    "    @staticmethod\n",
    "    def le_carros():\n",
    "        lista = []\n",
    "        texto = None\n",
    "        with open('carros.json','r') as arquivo:\n",
    "            texto = arquivo.read()\n",
    "        dicionario = json.loads(texto)\n",
    "        for chave in dicionario:\n",
    "            carro = Carro(chave,dicionario[chave])\n",
    "            lista.append(carro)\n",
    "        return lista \n",
    "\n",
    "carro1 = Carro('Fusca',50)\n",
    "carro2 = Carro('Ferrari',320)\n",
    "carro3 = Carro('Viper',300)\n",
    "\n",
    "Carro.salva_carros(carro1,carro2,carro3)\n",
    "\n",
    "lista_carros = Carro.le_carros()\n",
    "\n",
    "for carro in lista_carros:\n",
    "    print(carro.nome,carro.potencia)\n",
    "\n",
    "\n"
   ]
  },
  {
   "cell_type": "code",
   "execution_count": 1,
   "metadata": {},
   "outputs": [],
   "source": [
    "import xml.etree.ElementTree as xml \n",
    "import os \n",
    "\n",
    "no_raiz = xml.Element(\"DadosPessoais\")\n",
    "no_Pessoa = xml.Element(\"Pessoa\",attrib={'nome':'Rodrigo'})\n",
    "no_cpf = xml.SubElement(no_Pessoa,\"CPF\")\n",
    "no_cpf.text='1234567890'\n",
    "\n",
    "no_sexo = xml.SubElement(no_Pessoa,'Sexo')\n",
    "no_sexo.text = 'Masculino'\n",
    "\n",
    "no_endereco = xml.SubElement(no_Pessoa,'Endereco')\n",
    "no_endereco.text = 'Rua souza santos'\n",
    "\n",
    "no_raiz.append(no_Pessoa)\n",
    "\n",
    "arvore = xml.ElementTree(no_raiz)\n",
    "\n",
    "with open(\"dados_exemplos.xml\",'wb') as f:\n",
    "    arvore.write(f)"
   ]
  },
  {
   "cell_type": "code",
   "execution_count": 3,
   "metadata": {},
   "outputs": [],
   "source": [
    "import xml.etree.ElementTree as xml \n",
    "import os \n",
    "\n",
    "def criaTagPessoa(nome,cpf,sexo,endereco):\n",
    "    no_Pessoa = xml.Element(\"Pessoa\",attrib={'Nome':nome})\n",
    "    no_cpf = xml.SubElement(no_Pessoa,\"CPF\")\n",
    "    no_cpf.text=cpf\n",
    "\n",
    "    no_sexo = xml.SubElement(no_Pessoa,'Sexo')\n",
    "    no_sexo.text = sexo\n",
    "\n",
    "    no_endereco = xml.SubElement(no_Pessoa,'Endereco')\n",
    "    no_endereco.text = endereco\n",
    "\n",
    "    return no_Pessoa\n",
    "    \n",
    "raiz = xml.Element(\"DadosPessoais\")\n",
    "pessoa1 = criaTagPessoa(\"Renato\",\"1234567789\",\"Masculino\",\"rua souza\")\n",
    "pessoa2 = criaTagPessoa(\"Ana\",\"2340506070\",\"Feminino\",\"rua luiz\")\n",
    "pessoa3 = criaTagPessoa(\"Marcia\",\"2450607080\",\"Feminino\",\"rua muriae\")\n",
    "\n",
    "raiz.append(pessoa1)\n",
    "raiz.append(pessoa2)\n",
    "raiz.append(pessoa3)\n",
    "\n",
    "arvore = xml.ElementTree(raiz)\n",
    "\n",
    "with open(\"dados_exemplos_2.xml\",'wb') as f:\n",
    "    arvore.write(f)"
   ]
  },
  {
   "cell_type": "code",
   "execution_count": 4,
   "metadata": {},
   "outputs": [],
   "source": [
    "import xml.etree.ElementTree as xml \n",
    "import os \n",
    "\n",
    "def criaTagPessoa(nome,cpf,sexo,endereco):\n",
    "    no_Pessoa = xml.Element(\"Pessoa\",attrib={'Nome':nome})\n",
    "    no_cpf = xml.SubElement(no_Pessoa,\"CPF\")\n",
    "    no_cpf.text=cpf\n",
    "\n",
    "    no_sexo = xml.SubElement(no_Pessoa,'Sexo')\n",
    "    no_sexo.text = sexo\n",
    "\n",
    "    no_endereco = xml.SubElement(no_Pessoa,'Endereco')\n",
    "    no_endereco.text = endereco\n",
    "\n",
    "    return no_Pessoa\n",
    "\n",
    "dados ={\n",
    "    'Rodrigo':{\n",
    "        'CPF':'222.222.333-47',\n",
    "        'Sexo':'Masculino',\n",
    "        'Endereco':'Rua maranhoes',\n",
    "        'Idade':34\n",
    "},\n",
    "'Ferando':{\n",
    "    'CPF':'111.333.444-47',\n",
    "        'Sexo':'Masculino',\n",
    "        'Endereco':'Rua souza',\n",
    "        'Idade':30\n",
    "}\n",
    "}\n",
    "\n",
    "raiz = xml.Element(\"DadosPessoais\")\n",
    "\n",
    "for key in dados:\n",
    "    nome = key \n",
    "    dados_pessoa = dados[nome]\n",
    "    cpf = dados_pessoa['CPF']\n",
    "    sexo = dados_pessoa['Sexo']\n",
    "    endereco = dados_pessoa['Endereco']\n",
    "    #idade = dados_pessoa['Idade']\n",
    "    pessoa = criaTagPessoa(nome,cpf,sexo,endereco)\n",
    "    if 'Filhos' in dados_pessoa:\n",
    "        filhos = xml.SubElement(pessoa,'Filhos')\n",
    "        for filho in dados_pessoa['Filhos']:\n",
    "                pessoa_filho = xml.SubElement(filhos,'Pessoa',attrib={'nome':filho})\n",
    "\n",
    "    raiz.append(pessoa)\n",
    "\n",
    "arvore = xml.ElementTree(raiz)\n",
    "with open(\"dados_pessoas_3.xml\",\"wb\") as file:\n",
    "     arvore.write(file)\n",
    "\n",
    "\n"
   ]
  },
  {
   "cell_type": "code",
   "execution_count": 6,
   "metadata": {},
   "outputs": [
    {
     "name": "stdout",
     "output_type": "stream",
     "text": [
      "DadosPessoais\n",
      "  Pessoa Rodrigo\n",
      "  CPF 222.222.333-47\n",
      "  Sexo Masculino\n",
      "  Endereco Rua maranhoes\n",
      "  Pessoa Ferando\n",
      "  CPF 111.333.444-47\n",
      "  Sexo Masculino\n",
      "  Endereco Rua souza\n"
     ]
    }
   ],
   "source": [
    "import xml.etree.ElementTree as xml \n",
    "tree = xml.parse(\"dados_pessoas_3.xml\")\n",
    "root = tree.getroot()\n",
    "print(root.tag)\n",
    "for pessoa in root:\n",
    "    print(' ',pessoa.tag,pessoa.attrib['Nome'])\n",
    "    for dado in pessoa:\n",
    "        if (dado.tag=='Filhos'):\n",
    "            for filho in dados:\n",
    "                print(' ',filho.tag,filho.atrrib['Nome'])\n",
    "        else:\n",
    "            print(' ',dado.tag,dado.text)        "
   ]
  },
  {
   "cell_type": "markdown",
   "metadata": {},
   "source": []
  },
  {
   "cell_type": "code",
   "execution_count": 10,
   "metadata": {},
   "outputs": [
    {
     "name": "stdout",
     "output_type": "stream",
     "text": [
      "Marverick 60\n",
      "Ferrari 320\n",
      "Viper 300\n"
     ]
    }
   ],
   "source": [
    "import xml.etree.ElementTree as xml \n",
    "import os \n",
    "\n",
    "class Carro:\n",
    "    def __init__(self,nome,potencia):\n",
    "        self.nome = nome \n",
    "        self.potencia = potencia \n",
    "\n",
    "    @staticmethod\n",
    "    def salvar_carros(*carros):\n",
    "        raiz = xml.Element(\"Raiz\")\n",
    "\n",
    "        for carro in carros:\n",
    "            no_carro = xml.Element('Carro')\n",
    "            no_nome = xml.SubElement(no_carro,'Nome')\n",
    "            no_nome.text = carro.nome\n",
    "            \n",
    "\n",
    "            no_potencia = xml.SubElement(no_carro,'Potencia')\n",
    "            no_potencia.text = str(carro.potencia)\n",
    "            raiz.append(no_carro)\n",
    "            \n",
    "        arvore = xml.ElementTree(raiz)\n",
    "        with open(\"carros_exemplo.xml\",\"wb\") as file:\n",
    "            arvore.write(file)\n",
    "\n",
    "    @staticmethod\n",
    "    def ler_carros():\n",
    "        lista_carros = []\n",
    "        tree = xml.parse(\"carros_exemplo.xml\")\n",
    "        root = tree.getroot()\n",
    "        for carro in root:\n",
    "            nome = None\n",
    "            potencia = None \n",
    "\n",
    "            for dado in carro:\n",
    "                if (dado.tag=='Nome'):\n",
    "                    nome = dado.text\n",
    "                if(dado.tag=='Potencia'):\n",
    "                    potencia = dado.text \n",
    "            carro = Carro(nome,potencia)\n",
    "            lista_carros.append(carro)\n",
    "        return lista_carros\n",
    "\n",
    "carro1 = Carro('Marverick',60)\n",
    "carro2 = Carro('Ferrari',320)\n",
    "carro3 = Carro('Viper',300)\n",
    "\n",
    "Carro.salvar_carros(carro1,carro2,carro3)\n",
    "\n",
    "list_carros = Carro.ler_carros()\n",
    "\n",
    "for carro in list_carros:\n",
    "    print(carro.nome,carro.potencia)\n",
    "\n"
   ]
  }
 ],
 "metadata": {
  "kernelspec": {
   "display_name": "Python 3",
   "language": "python",
   "name": "python3"
  },
  "language_info": {
   "codemirror_mode": {
    "name": "ipython",
    "version": 3
   },
   "file_extension": ".py",
   "mimetype": "text/x-python",
   "name": "python",
   "nbconvert_exporter": "python",
   "pygments_lexer": "ipython3",
   "version": "3.9.2"
  }
 },
 "nbformat": 4,
 "nbformat_minor": 2
}
