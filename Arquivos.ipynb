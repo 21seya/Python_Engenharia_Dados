{
 "cells": [
  {
   "cell_type": "code",
   "execution_count": 2,
   "metadata": {},
   "outputs": [],
   "source": [
    "arquivo = open(\"exemplo.txt\",\"wt\")\n",
    "arquivo.write(\"ola estou escrevendo no arquivo\\n\")\n",
    "arquivo.write(\"essa é a segunda linha do arquivo\\n\")\n",
    "arquivo.close()\n"
   ]
  },
  {
   "cell_type": "code",
   "execution_count": 1,
   "metadata": {},
   "outputs": [],
   "source": [
    "lista=[ \"Ana\",\"Vitoria\",\"Maria\",\"Thais\"]\n",
    "arquivo= open(\"nomes.txt\",\"wt\")\n",
    "\n",
    "for i in lista:\n",
    "    arquivo.write(i + '\\n')\n",
    "arquivo.close()    \n"
   ]
  },
  {
   "cell_type": "code",
   "execution_count": 4,
   "metadata": {},
   "outputs": [],
   "source": [
    "texto = \"Ana\\nVitoria\\nMaria\\nThais\"\n",
    "arquivo = open(\"Nomes2.txt\",\"wt\")\n",
    "arquivo.writelines(texto)\n",
    "arquivo.close()"
   ]
  },
  {
   "cell_type": "code",
   "execution_count": 9,
   "metadata": {},
   "outputs": [],
   "source": [
    "lista = [str(i) + '\\n' for i in range(0,20)]\n",
    "arquivo = open(\"Nomes3.txt\",\"wt\")\n",
    "arquivo.writelines(lista)\n",
    "arquivo.close()"
   ]
  },
  {
   "cell_type": "code",
   "execution_count": 1,
   "metadata": {},
   "outputs": [],
   "source": [
    "with open(\"exemplo_with.txt\",\"wt\") as arquivo:\n",
    "    arquivo.write(\"ola estou escrevendo no arquivo\\n\")\n",
    "    arquivo.write(\"essa é a segunda linha do arquivo\\n\")"
   ]
  },
  {
   "cell_type": "code",
   "execution_count": 3,
   "metadata": {},
   "outputs": [
    {
     "name": "stdout",
     "output_type": "stream",
     "text": [
      "ola estou escrevendo no arquivo\n",
      "essa é a segunda linha do arquivo\n",
      "\n"
     ]
    }
   ],
   "source": [
    "arquivo = open(\"exemplo.txt\",\"rt\")\n",
    "lido = arquivo.read()\n",
    "print(lido)\n",
    "arquivo.close()"
   ]
  },
  {
   "cell_type": "code",
   "execution_count": 4,
   "metadata": {},
   "outputs": [
    {
     "name": "stdout",
     "output_type": "stream",
     "text": [
      "ola estou \n"
     ]
    }
   ],
   "source": [
    "arquivo = open(\"exemplo.txt\",\"rt\")\n",
    "lido = arquivo.read(10)\n",
    "print(lido)\n",
    "arquivo.close()"
   ]
  },
  {
   "cell_type": "code",
   "execution_count": 6,
   "metadata": {},
   "outputs": [
    {
     "name": "stdout",
     "output_type": "stream",
     "text": [
      "ola estou escrevendo no arquivo\n",
      "\n",
      "essa é a segunda linha do arquivo\n",
      "\n"
     ]
    }
   ],
   "source": [
    "arquivo = open(\"exemplo.txt\",\"rt\")\n",
    "primeira_linha = arquivo.readline()\n",
    "segunda_linha = arquivo.readline()\n",
    "\n",
    "print(primeira_linha)\n",
    "print(segunda_linha)\n",
    "arquivo.close()"
   ]
  },
  {
   "cell_type": "code",
   "execution_count": 7,
   "metadata": {},
   "outputs": [
    {
     "name": "stdout",
     "output_type": "stream",
     "text": [
      "ola estou escrevendo no arquivo\n",
      "\n",
      "essa é a segunda linha do arquivo\n",
      "\n"
     ]
    }
   ],
   "source": [
    "arquivo = open(\"exemplo.txt\",\"rt\")\n",
    "for linha in arquivo:\n",
    "    print(linha)\n",
    "\n",
    "arquivo.close()    "
   ]
  },
  {
   "cell_type": "code",
   "execution_count": null,
   "metadata": {},
   "outputs": [
    {
     "name": "stdout",
     "output_type": "stream",
     "text": [
      "ola estou escrevendo no arquivo\n",
      "\n",
      "essa é a segunda linha do arquivo\n",
      "\n"
     ]
    }
   ],
   "source": [
    "with open(\"exemplo.txt\",\"rt\") as arquivo:\n",
    "    for linha in arquivo:\n",
    "        print(linha)"
   ]
  },
  {
   "cell_type": "code",
   "execution_count": 10,
   "metadata": {},
   "outputs": [
    {
     "name": "stdout",
     "output_type": "stream",
     "text": [
      "O arquivo existe!\n"
     ]
    }
   ],
   "source": [
    "from os import path \n",
    "arquivo_existe = path.exists(\"exemplo.txt\")\n",
    "\n",
    "if arquivo_existe:\n",
    "    print(\"O arquivo existe!\")\n",
    "else:\n",
    "    print(\"O arquivo não existe!\")\n"
   ]
  },
  {
   "cell_type": "code",
   "execution_count": 11,
   "metadata": {},
   "outputs": [],
   "source": [
    "import os \n",
    "os.remove('exemplo.txt')"
   ]
  },
  {
   "cell_type": "code",
   "execution_count": 12,
   "metadata": {},
   "outputs": [],
   "source": [
    "file = open(\"teste\",\"w\")\n",
    "try:\n",
    "    file.write(\"hello world\")\n",
    "finally:\n",
    "    file.close()    "
   ]
  },
  {
   "cell_type": "code",
   "execution_count": 13,
   "metadata": {},
   "outputs": [
    {
     "name": "stdout",
     "output_type": "stream",
     "text": [
      "Ocorreu um erro[WinError 2] O sistema não pode encontrar o arquivo especificado: 'ererere.txt'\n"
     ]
    }
   ],
   "source": [
    "import os \n",
    "try:\n",
    "    os.remove(\"ererere.txt\")\n",
    "except Exception as error:\n",
    "    print(\"Ocorreu um erro\"+str(error))\n"
   ]
  },
  {
   "cell_type": "code",
   "execution_count": null,
   "metadata": {},
   "outputs": [],
   "source": []
  }
 ],
 "metadata": {
  "kernelspec": {
   "display_name": "Python 3",
   "language": "python",
   "name": "python3"
  },
  "language_info": {
   "codemirror_mode": {
    "name": "ipython",
    "version": 3
   },
   "file_extension": ".py",
   "mimetype": "text/x-python",
   "name": "python",
   "nbconvert_exporter": "python",
   "pygments_lexer": "ipython3",
   "version": "3.9.2"
  }
 },
 "nbformat": 4,
 "nbformat_minor": 2
}
