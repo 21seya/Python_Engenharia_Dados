{
 "cells": [
  {
   "cell_type": "code",
   "execution_count": 1,
   "metadata": {},
   "outputs": [],
   "source": [
    "def custom_logger(level,message):\n",
    "    import logging \n",
    "    logger = logging.getLogger(__name__)\n",
    "    if not (len(logger.handlers)):\n",
    "        logging.basicConfig(level=logging.INFO)\n",
    "        c_handler = logging.StreamHandler()\n",
    "        f_handler = logging.FileHandler('file.log')\n",
    "        format = logging.Formatter(\"%(asctime)s - %(name)s %(levelname)s - %(message)s\")\n",
    "        c_handler.setFormatter(format)\n",
    "        f_handler.setFormatter(format)\n",
    "        logger.addHandler(c_handler)\n",
    "        logger.addHandler(f_handler)\n",
    "\n",
    "    if level == 'debug':\n",
    "        logger.debug(message)\n",
    "\n",
    "    elif level == 'info':\n",
    "        logger.info(message)\n",
    "    elif level == 'warning':\n",
    "        logger.warning(message)\n",
    "\n",
    "    elif level == 'error':\n",
    "        logger.error(message)\n",
    "\n",
    "    else:\n",
    "        logger.critical(message)\n",
    "                            "
   ]
  },
  {
   "cell_type": "code",
   "execution_count": 2,
   "metadata": {},
   "outputs": [
    {
     "name": "stderr",
     "output_type": "stream",
     "text": [
      "2025-02-19 19:30:00,034 - __main__ WARNING - Atenção parametro errado\n",
      "WARNING:__main__:Atenção parametro errado\n"
     ]
    }
   ],
   "source": [
    "custom_logger(\"warning\",\"Atenção parametro errado\")"
   ]
  },
  {
   "cell_type": "code",
   "execution_count": 4,
   "metadata": {},
   "outputs": [
    {
     "name": "stderr",
     "output_type": "stream",
     "text": [
      "2025-02-19 19:32:00,025 - __main__ ERROR - indice incorreto!\n",
      "ERROR:__main__:indice incorreto!\n",
      "2025-02-19 19:32:00,028 - __main__ INFO - fim do programa\n",
      "INFO:__main__:fim do programa\n"
     ]
    },
    {
     "name": "stdout",
     "output_type": "stream",
     "text": [
      "inicio\n"
     ]
    }
   ],
   "source": [
    "print(\"inicio\")\n",
    "lista = [1,2,3]\n",
    "try:\n",
    "    print(lista[10])\n",
    "\n",
    "except:\n",
    "    custom_logger(\"error\",\"indice incorreto!\")\n",
    "\n",
    "\n",
    "custom_logger(\"info\",\"fim do programa\")"
   ]
  },
  {
   "cell_type": "code",
   "execution_count": null,
   "metadata": {},
   "outputs": [],
   "source": []
  }
 ],
 "metadata": {
  "kernelspec": {
   "display_name": "Python 3",
   "language": "python",
   "name": "python3"
  },
  "language_info": {
   "codemirror_mode": {
    "name": "ipython",
    "version": 3
   },
   "file_extension": ".py",
   "mimetype": "text/x-python",
   "name": "python",
   "nbconvert_exporter": "python",
   "pygments_lexer": "ipython3",
   "version": "3.9.2"
  }
 },
 "nbformat": 4,
 "nbformat_minor": 2
}
