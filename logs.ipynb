{
 "cells": [
  {
   "cell_type": "code",
   "execution_count": null,
   "metadata": {},
   "outputs": [
    {
     "ename": "",
     "evalue": "",
     "output_type": "error",
     "traceback": [
      "\u001b[1;31mFailed to start the Kernel. \n",
      "\u001b[1;31mUnable to start Kernel 'Python 3.9.2' due to a timeout waiting for the ports to get used. \n",
      "\u001b[1;31mView Jupyter <a href='command:jupyter.viewOutput'>log</a> for further details."
     ]
    }
   ],
   "source": [
    "def custom_logger(level,message):\n",
    "    import logging \n",
    "    logger = logging.getLogger(__name__)\n",
    "    if not (len(logger.handlers)):\n",
    "        logging.basicConfig(level=logging.INFO)\n",
    "        c_handler = logging.StreamHandler()\n",
    "        f_handler = logging.FileHandler('file.log')\n",
    "        format = logging.Formatter(\"%(asctime)s - %(name)s %(levelname)s - %(message)s\")\n",
    "        c_handler.setFormatter(format)\n",
    "        f_handler.setFormatter(format)\n",
    "        logger.addHandler(c_handler)\n",
    "        logger.addHandler(f_handler)\n",
    "\n",
    "    if level == 'debug':\n",
    "        logger.debug(message)\n",
    "\n",
    "    elif level == 'info':\n",
    "        logger.info(message)\n",
    "    elif level == 'warning':\n",
    "        logger.warning(message)\n",
    "\n",
    "    elif level == 'error':\n",
    "        logger.error(message)\n",
    "\n",
    "    else:\n",
    "        logger.critical(message)\n",
    "                            "
   ]
  },
  {
   "cell_type": "code",
   "execution_count": null,
   "metadata": {},
   "outputs": [],
   "source": [
    "custom_logger(\"warning\",\"Atenção parametro errado\")"
   ]
  },
  {
   "cell_type": "code",
   "execution_count": null,
   "metadata": {},
   "outputs": [],
   "source": [
    "print(\"inicio\")\n",
    "lista = [1,2,3]\n",
    "try:\n",
    "    print(lista[10])\n",
    "\n",
    "except:\n",
    "    custom_logger(\"error\",\"indice incorreto!\")\n",
    "\n",
    "\n",
    "custom_logger(\"info\",\"fim do programa\")"
   ]
  }
 ],
 "metadata": {
  "kernelspec": {
   "display_name": "Python 3",
   "language": "python",
   "name": "python3"
  },
  "language_info": {
   "codemirror_mode": {
    "name": "ipython",
    "version": 3
   },
   "file_extension": ".py",
   "mimetype": "text/x-python",
   "name": "python",
   "nbconvert_exporter": "python",
   "pygments_lexer": "ipython3",
   "version": "3.9.2"
  }
 },
 "nbformat": 4,
 "nbformat_minor": 2
}
