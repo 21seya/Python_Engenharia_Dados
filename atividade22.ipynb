{
 "cells": [
  {
   "cell_type": "markdown",
   "id": "53550e23",
   "metadata": {},
   "source": [
    "# 1 - Crie um dataframe com a estrutura abaixo . Os indices devem ser as equipes \n",
    "# \"X Racing ,\"Equatorial\" , \"Typo\" , \"Blue Race\",\"Capa Racing\" . Utilize um dicionário"
   ]
  },
  {
   "cell_type": "code",
   "execution_count": 8,
   "id": "721a19d2",
   "metadata": {},
   "outputs": [
    {
     "data": {
      "text/html": [
       "<div>\n",
       "<style scoped>\n",
       "    .dataframe tbody tr th:only-of-type {\n",
       "        vertical-align: middle;\n",
       "    }\n",
       "\n",
       "    .dataframe tbody tr th {\n",
       "        vertical-align: top;\n",
       "    }\n",
       "\n",
       "    .dataframe thead th {\n",
       "        text-align: right;\n",
       "    }\n",
       "</style>\n",
       "<table border=\"1\" class=\"dataframe\">\n",
       "  <thead>\n",
       "    <tr style=\"text-align: right;\">\n",
       "      <th></th>\n",
       "      <th>Sede</th>\n",
       "      <th>Piloto</th>\n",
       "      <th>Mundiais</th>\n",
       "      <th>Vitorias</th>\n",
       "    </tr>\n",
       "  </thead>\n",
       "  <tbody>\n",
       "    <tr>\n",
       "      <th>X Racing</th>\n",
       "      <td>Nova York</td>\n",
       "      <td>Mike Ross</td>\n",
       "      <td>10</td>\n",
       "      <td>321</td>\n",
       "    </tr>\n",
       "    <tr>\n",
       "      <th>Equatorial</th>\n",
       "      <td>São Paulo</td>\n",
       "      <td>Sebastian Thomas</td>\n",
       "      <td>11</td>\n",
       "      <td>229</td>\n",
       "    </tr>\n",
       "    <tr>\n",
       "      <th>Type</th>\n",
       "      <td>Nova York</td>\n",
       "      <td>Glean Are</td>\n",
       "      <td>0</td>\n",
       "      <td>12</td>\n",
       "    </tr>\n",
       "    <tr>\n",
       "      <th>Blue Race</th>\n",
       "      <td>Londres</td>\n",
       "      <td>Micheal Schum</td>\n",
       "      <td>3</td>\n",
       "      <td>44</td>\n",
       "    </tr>\n",
       "    <tr>\n",
       "      <th>Capa Racing</th>\n",
       "      <td>Londres</td>\n",
       "      <td>Luiz da Silva</td>\n",
       "      <td>44</td>\n",
       "      <td>1023</td>\n",
       "    </tr>\n",
       "  </tbody>\n",
       "</table>\n",
       "</div>"
      ],
      "text/plain": [
       "                  Sede            Piloto  Mundiais  Vitorias\n",
       "X Racing     Nova York         Mike Ross        10       321\n",
       "Equatorial   São Paulo  Sebastian Thomas        11       229\n",
       "Type         Nova York         Glean Are         0        12\n",
       "Blue Race      Londres     Micheal Schum         3        44\n",
       "Capa Racing    Londres     Luiz da Silva        44      1023"
      ]
     },
     "execution_count": 8,
     "metadata": {},
     "output_type": "execute_result"
    }
   ],
   "source": [
    "import pandas as pd \n",
    "dados = {\n",
    "    'Sede':['Nova York','São Paulo','Nova York','Londres','Londres'],\n",
    "    'Piloto':['Mike Ross','Sebastian Thomas','Glean Are','Micheal Schum','Luiz da Silva'],\n",
    "    'Mundiais':[10,11,0,3,44],\n",
    "    'Vitorias':[321,229,12,44,1023]\n",
    "\n",
    "}\n",
    "data_frame = pd.DataFrame(dados,index=['X Racing','Equatorial','Type','Blue Race','Capa Racing'])\n",
    "data_frame"
   ]
  },
  {
   "cell_type": "markdown",
   "id": "4cd37989",
   "metadata": {},
   "source": [
    "# 2- Mostre todas as informações de equipe da Blue Race"
   ]
  },
  {
   "cell_type": "code",
   "execution_count": 9,
   "id": "2fceb2f6",
   "metadata": {},
   "outputs": [
    {
     "data": {
      "text/plain": [
       "Sede              Londres\n",
       "Piloto      Micheal Schum\n",
       "Mundiais                3\n",
       "Vitorias               44\n",
       "Name: Blue Race, dtype: object"
      ]
     },
     "execution_count": 9,
     "metadata": {},
     "output_type": "execute_result"
    }
   ],
   "source": [
    "data_frame.loc['Blue Race']"
   ]
  },
  {
   "cell_type": "markdown",
   "id": "9aa86fbe",
   "metadata": {},
   "source": [
    "# 3 - Mostre o número de mundiais da equipe Capa Racing "
   ]
  },
  {
   "cell_type": "code",
   "execution_count": 10,
   "id": "df638afe",
   "metadata": {},
   "outputs": [
    {
     "data": {
      "text/plain": [
       "44"
      ]
     },
     "execution_count": 10,
     "metadata": {},
     "output_type": "execute_result"
    }
   ],
   "source": [
    "data_frame.loc['Capa Racing']['Mundiais']"
   ]
  },
  {
   "cell_type": "markdown",
   "id": "931c9c16",
   "metadata": {},
   "source": [
    "# 4 - Mostre apenas as equipes que tem 10 ou mais mundiais "
   ]
  },
  {
   "cell_type": "code",
   "execution_count": 11,
   "id": "4210a199",
   "metadata": {},
   "outputs": [
    {
     "data": {
      "text/plain": [
       "X Racing        True\n",
       "Equatorial      True\n",
       "Type           False\n",
       "Blue Race      False\n",
       "Capa Racing     True\n",
       "Name: Mundiais, dtype: bool"
      ]
     },
     "execution_count": 11,
     "metadata": {},
     "output_type": "execute_result"
    }
   ],
   "source": [
    "mask = data_frame['Mundiais'] >= 10\n",
    "mask"
   ]
  },
  {
   "cell_type": "markdown",
   "id": "065bab3b",
   "metadata": {},
   "source": [
    "# 5 - Mostre apenas as equipes que tem 10 ou mais mundiais e mais de 300 vitorias "
   ]
  },
  {
   "cell_type": "code",
   "execution_count": 13,
   "id": "73cc617c",
   "metadata": {},
   "outputs": [
    {
     "data": {
      "text/html": [
       "<div>\n",
       "<style scoped>\n",
       "    .dataframe tbody tr th:only-of-type {\n",
       "        vertical-align: middle;\n",
       "    }\n",
       "\n",
       "    .dataframe tbody tr th {\n",
       "        vertical-align: top;\n",
       "    }\n",
       "\n",
       "    .dataframe thead th {\n",
       "        text-align: right;\n",
       "    }\n",
       "</style>\n",
       "<table border=\"1\" class=\"dataframe\">\n",
       "  <thead>\n",
       "    <tr style=\"text-align: right;\">\n",
       "      <th></th>\n",
       "      <th>Sede</th>\n",
       "      <th>Piloto</th>\n",
       "      <th>Mundiais</th>\n",
       "      <th>Vitorias</th>\n",
       "    </tr>\n",
       "  </thead>\n",
       "  <tbody>\n",
       "    <tr>\n",
       "      <th>X Racing</th>\n",
       "      <td>Nova York</td>\n",
       "      <td>Mike Ross</td>\n",
       "      <td>10</td>\n",
       "      <td>321</td>\n",
       "    </tr>\n",
       "    <tr>\n",
       "      <th>Equatorial</th>\n",
       "      <td>São Paulo</td>\n",
       "      <td>Sebastian Thomas</td>\n",
       "      <td>11</td>\n",
       "      <td>229</td>\n",
       "    </tr>\n",
       "    <tr>\n",
       "      <th>Type</th>\n",
       "      <td>Nova York</td>\n",
       "      <td>Glean Are</td>\n",
       "      <td>0</td>\n",
       "      <td>12</td>\n",
       "    </tr>\n",
       "    <tr>\n",
       "      <th>Blue Race</th>\n",
       "      <td>Londres</td>\n",
       "      <td>Micheal Schum</td>\n",
       "      <td>3</td>\n",
       "      <td>44</td>\n",
       "    </tr>\n",
       "    <tr>\n",
       "      <th>Capa Racing</th>\n",
       "      <td>Londres</td>\n",
       "      <td>Luiz da Silva</td>\n",
       "      <td>44</td>\n",
       "      <td>1023</td>\n",
       "    </tr>\n",
       "  </tbody>\n",
       "</table>\n",
       "</div>"
      ],
      "text/plain": [
       "                  Sede            Piloto  Mundiais  Vitorias\n",
       "X Racing     Nova York         Mike Ross        10       321\n",
       "Equatorial   São Paulo  Sebastian Thomas        11       229\n",
       "Type         Nova York         Glean Are         0        12\n",
       "Blue Race      Londres     Micheal Schum         3        44\n",
       "Capa Racing    Londres     Luiz da Silva        44      1023"
      ]
     },
     "execution_count": 13,
     "metadata": {},
     "output_type": "execute_result"
    }
   ],
   "source": [
    "data_frame[(data_frame['Mundiais']>=10 & (data_frame['Vitorias']>300))]\n"
   ]
  },
  {
   "cell_type": "markdown",
   "id": "f2058f3d",
   "metadata": {},
   "source": [
    "# 6 - Atualize o nome do piloto da Equipe Equatorial para Antônio Racer"
   ]
  },
  {
   "cell_type": "code",
   "execution_count": 14,
   "id": "ce8bcb94",
   "metadata": {},
   "outputs": [
    {
     "data": {
      "text/html": [
       "<div>\n",
       "<style scoped>\n",
       "    .dataframe tbody tr th:only-of-type {\n",
       "        vertical-align: middle;\n",
       "    }\n",
       "\n",
       "    .dataframe tbody tr th {\n",
       "        vertical-align: top;\n",
       "    }\n",
       "\n",
       "    .dataframe thead th {\n",
       "        text-align: right;\n",
       "    }\n",
       "</style>\n",
       "<table border=\"1\" class=\"dataframe\">\n",
       "  <thead>\n",
       "    <tr style=\"text-align: right;\">\n",
       "      <th></th>\n",
       "      <th>Sede</th>\n",
       "      <th>Piloto</th>\n",
       "      <th>Mundiais</th>\n",
       "      <th>Vitorias</th>\n",
       "    </tr>\n",
       "  </thead>\n",
       "  <tbody>\n",
       "    <tr>\n",
       "      <th>X Racing</th>\n",
       "      <td>Nova York</td>\n",
       "      <td>Mike Ross</td>\n",
       "      <td>10</td>\n",
       "      <td>321</td>\n",
       "    </tr>\n",
       "    <tr>\n",
       "      <th>Equatorial</th>\n",
       "      <td>São Paulo</td>\n",
       "      <td>Antonio Racer</td>\n",
       "      <td>11</td>\n",
       "      <td>229</td>\n",
       "    </tr>\n",
       "    <tr>\n",
       "      <th>Type</th>\n",
       "      <td>Nova York</td>\n",
       "      <td>Glean Are</td>\n",
       "      <td>0</td>\n",
       "      <td>12</td>\n",
       "    </tr>\n",
       "    <tr>\n",
       "      <th>Blue Race</th>\n",
       "      <td>Londres</td>\n",
       "      <td>Micheal Schum</td>\n",
       "      <td>3</td>\n",
       "      <td>44</td>\n",
       "    </tr>\n",
       "    <tr>\n",
       "      <th>Capa Racing</th>\n",
       "      <td>Londres</td>\n",
       "      <td>Luiz da Silva</td>\n",
       "      <td>44</td>\n",
       "      <td>1023</td>\n",
       "    </tr>\n",
       "  </tbody>\n",
       "</table>\n",
       "</div>"
      ],
      "text/plain": [
       "                  Sede         Piloto  Mundiais  Vitorias\n",
       "X Racing     Nova York      Mike Ross        10       321\n",
       "Equatorial   São Paulo  Antonio Racer        11       229\n",
       "Type         Nova York      Glean Are         0        12\n",
       "Blue Race      Londres  Micheal Schum         3        44\n",
       "Capa Racing    Londres  Luiz da Silva        44      1023"
      ]
     },
     "execution_count": 14,
     "metadata": {},
     "output_type": "execute_result"
    }
   ],
   "source": [
    "data_frame.at['Equatorial','Piloto'] = 'Antonio Racer'\n",
    "data_frame"
   ]
  },
  {
   "cell_type": "markdown",
   "id": "81b45b0f",
   "metadata": {},
   "source": [
    "# 7 - Atualize em um mesmo comando a equipe X Racing definindo sede \n",
    "# como São Paulo e vitórias com 322"
   ]
  },
  {
   "cell_type": "code",
   "execution_count": 16,
   "id": "220795e9",
   "metadata": {},
   "outputs": [
    {
     "data": {
      "text/html": [
       "<div>\n",
       "<style scoped>\n",
       "    .dataframe tbody tr th:only-of-type {\n",
       "        vertical-align: middle;\n",
       "    }\n",
       "\n",
       "    .dataframe tbody tr th {\n",
       "        vertical-align: top;\n",
       "    }\n",
       "\n",
       "    .dataframe thead th {\n",
       "        text-align: right;\n",
       "    }\n",
       "</style>\n",
       "<table border=\"1\" class=\"dataframe\">\n",
       "  <thead>\n",
       "    <tr style=\"text-align: right;\">\n",
       "      <th></th>\n",
       "      <th>Sede</th>\n",
       "      <th>Piloto</th>\n",
       "      <th>Mundiais</th>\n",
       "      <th>Vitorias</th>\n",
       "    </tr>\n",
       "  </thead>\n",
       "  <tbody>\n",
       "    <tr>\n",
       "      <th>X Racing</th>\n",
       "      <td>Sâo Paulo</td>\n",
       "      <td>Mike Ross</td>\n",
       "      <td>10</td>\n",
       "      <td>322</td>\n",
       "    </tr>\n",
       "    <tr>\n",
       "      <th>Equatorial</th>\n",
       "      <td>São Paulo</td>\n",
       "      <td>Antonio Racer</td>\n",
       "      <td>11</td>\n",
       "      <td>229</td>\n",
       "    </tr>\n",
       "    <tr>\n",
       "      <th>Type</th>\n",
       "      <td>Nova York</td>\n",
       "      <td>Glean Are</td>\n",
       "      <td>0</td>\n",
       "      <td>12</td>\n",
       "    </tr>\n",
       "    <tr>\n",
       "      <th>Blue Race</th>\n",
       "      <td>Londres</td>\n",
       "      <td>Micheal Schum</td>\n",
       "      <td>3</td>\n",
       "      <td>44</td>\n",
       "    </tr>\n",
       "    <tr>\n",
       "      <th>Capa Racing</th>\n",
       "      <td>Londres</td>\n",
       "      <td>Luiz da Silva</td>\n",
       "      <td>44</td>\n",
       "      <td>1023</td>\n",
       "    </tr>\n",
       "  </tbody>\n",
       "</table>\n",
       "</div>"
      ],
      "text/plain": [
       "                  Sede         Piloto  Mundiais  Vitorias\n",
       "X Racing     Sâo Paulo      Mike Ross        10       322\n",
       "Equatorial   São Paulo  Antonio Racer        11       229\n",
       "Type         Nova York      Glean Are         0        12\n",
       "Blue Race      Londres  Micheal Schum         3        44\n",
       "Capa Racing    Londres  Luiz da Silva        44      1023"
      ]
     },
     "execution_count": 16,
     "metadata": {},
     "output_type": "execute_result"
    }
   ],
   "source": [
    "data_frame.loc['X Racing',['Sede','Vitorias']] = ('Sâo Paulo',322)\n",
    "data_frame"
   ]
  },
  {
   "cell_type": "markdown",
   "id": "3f1fbfda",
   "metadata": {},
   "source": [
    "# 8 - Inclua uma nova equipe Red Cow com sede em São Paulo , Piloto \n",
    "# FernandO Vettel , Mundiais zero e vitórias zero"
   ]
  },
  {
   "cell_type": "code",
   "execution_count": 17,
   "id": "5c7f78eb",
   "metadata": {},
   "outputs": [
    {
     "data": {
      "text/html": [
       "<div>\n",
       "<style scoped>\n",
       "    .dataframe tbody tr th:only-of-type {\n",
       "        vertical-align: middle;\n",
       "    }\n",
       "\n",
       "    .dataframe tbody tr th {\n",
       "        vertical-align: top;\n",
       "    }\n",
       "\n",
       "    .dataframe thead th {\n",
       "        text-align: right;\n",
       "    }\n",
       "</style>\n",
       "<table border=\"1\" class=\"dataframe\">\n",
       "  <thead>\n",
       "    <tr style=\"text-align: right;\">\n",
       "      <th></th>\n",
       "      <th>Sede</th>\n",
       "      <th>Piloto</th>\n",
       "      <th>Mundiais</th>\n",
       "      <th>Vitorias</th>\n",
       "    </tr>\n",
       "  </thead>\n",
       "  <tbody>\n",
       "    <tr>\n",
       "      <th>X Racing</th>\n",
       "      <td>Sâo Paulo</td>\n",
       "      <td>Mike Ross</td>\n",
       "      <td>10</td>\n",
       "      <td>322</td>\n",
       "    </tr>\n",
       "    <tr>\n",
       "      <th>Equatorial</th>\n",
       "      <td>São Paulo</td>\n",
       "      <td>Antonio Racer</td>\n",
       "      <td>11</td>\n",
       "      <td>229</td>\n",
       "    </tr>\n",
       "    <tr>\n",
       "      <th>Type</th>\n",
       "      <td>Nova York</td>\n",
       "      <td>Glean Are</td>\n",
       "      <td>0</td>\n",
       "      <td>12</td>\n",
       "    </tr>\n",
       "    <tr>\n",
       "      <th>Blue Race</th>\n",
       "      <td>Londres</td>\n",
       "      <td>Micheal Schum</td>\n",
       "      <td>3</td>\n",
       "      <td>44</td>\n",
       "    </tr>\n",
       "    <tr>\n",
       "      <th>Capa Racing</th>\n",
       "      <td>Londres</td>\n",
       "      <td>Luiz da Silva</td>\n",
       "      <td>44</td>\n",
       "      <td>1023</td>\n",
       "    </tr>\n",
       "    <tr>\n",
       "      <th>Red Cow</th>\n",
       "      <td>São Paulo</td>\n",
       "      <td>Fernando Vettel</td>\n",
       "      <td>0</td>\n",
       "      <td>0</td>\n",
       "    </tr>\n",
       "  </tbody>\n",
       "</table>\n",
       "</div>"
      ],
      "text/plain": [
       "                  Sede           Piloto  Mundiais  Vitorias\n",
       "X Racing     Sâo Paulo        Mike Ross        10       322\n",
       "Equatorial   São Paulo    Antonio Racer        11       229\n",
       "Type         Nova York        Glean Are         0        12\n",
       "Blue Race      Londres    Micheal Schum         3        44\n",
       "Capa Racing    Londres    Luiz da Silva        44      1023\n",
       "Red Cow      São Paulo  Fernando Vettel         0         0"
      ]
     },
     "execution_count": 17,
     "metadata": {},
     "output_type": "execute_result"
    }
   ],
   "source": [
    "data_frame.loc['Red Cow'] = ('São Paulo','Fernando Vettel',0,0)\n",
    "data_frame"
   ]
  },
  {
   "cell_type": "markdown",
   "id": "99c72d60",
   "metadata": {},
   "source": [
    "# 9 - Ordene o dataframe de forma descrescente pelo número de vitórias "
   ]
  },
  {
   "cell_type": "code",
   "execution_count": 18,
   "id": "cbc8329f",
   "metadata": {},
   "outputs": [
    {
     "data": {
      "text/html": [
       "<div>\n",
       "<style scoped>\n",
       "    .dataframe tbody tr th:only-of-type {\n",
       "        vertical-align: middle;\n",
       "    }\n",
       "\n",
       "    .dataframe tbody tr th {\n",
       "        vertical-align: top;\n",
       "    }\n",
       "\n",
       "    .dataframe thead th {\n",
       "        text-align: right;\n",
       "    }\n",
       "</style>\n",
       "<table border=\"1\" class=\"dataframe\">\n",
       "  <thead>\n",
       "    <tr style=\"text-align: right;\">\n",
       "      <th></th>\n",
       "      <th>Sede</th>\n",
       "      <th>Piloto</th>\n",
       "      <th>Mundiais</th>\n",
       "      <th>Vitorias</th>\n",
       "    </tr>\n",
       "  </thead>\n",
       "  <tbody>\n",
       "    <tr>\n",
       "      <th>Capa Racing</th>\n",
       "      <td>Londres</td>\n",
       "      <td>Luiz da Silva</td>\n",
       "      <td>44</td>\n",
       "      <td>1023</td>\n",
       "    </tr>\n",
       "    <tr>\n",
       "      <th>X Racing</th>\n",
       "      <td>Sâo Paulo</td>\n",
       "      <td>Mike Ross</td>\n",
       "      <td>10</td>\n",
       "      <td>322</td>\n",
       "    </tr>\n",
       "    <tr>\n",
       "      <th>Equatorial</th>\n",
       "      <td>São Paulo</td>\n",
       "      <td>Antonio Racer</td>\n",
       "      <td>11</td>\n",
       "      <td>229</td>\n",
       "    </tr>\n",
       "    <tr>\n",
       "      <th>Blue Race</th>\n",
       "      <td>Londres</td>\n",
       "      <td>Micheal Schum</td>\n",
       "      <td>3</td>\n",
       "      <td>44</td>\n",
       "    </tr>\n",
       "    <tr>\n",
       "      <th>Type</th>\n",
       "      <td>Nova York</td>\n",
       "      <td>Glean Are</td>\n",
       "      <td>0</td>\n",
       "      <td>12</td>\n",
       "    </tr>\n",
       "    <tr>\n",
       "      <th>Red Cow</th>\n",
       "      <td>São Paulo</td>\n",
       "      <td>Fernando Vettel</td>\n",
       "      <td>0</td>\n",
       "      <td>0</td>\n",
       "    </tr>\n",
       "  </tbody>\n",
       "</table>\n",
       "</div>"
      ],
      "text/plain": [
       "                  Sede           Piloto  Mundiais  Vitorias\n",
       "Capa Racing    Londres    Luiz da Silva        44      1023\n",
       "X Racing     Sâo Paulo        Mike Ross        10       322\n",
       "Equatorial   São Paulo    Antonio Racer        11       229\n",
       "Blue Race      Londres    Micheal Schum         3        44\n",
       "Type         Nova York        Glean Are         0        12\n",
       "Red Cow      São Paulo  Fernando Vettel         0         0"
      ]
     },
     "execution_count": 18,
     "metadata": {},
     "output_type": "execute_result"
    }
   ],
   "source": [
    "data = data_frame.sort_values(\"Vitorias\",ascending=False,inplace=False)\n",
    "data"
   ]
  }
 ],
 "metadata": {
  "kernelspec": {
   "display_name": "Python 3",
   "language": "python",
   "name": "python3"
  },
  "language_info": {
   "codemirror_mode": {
    "name": "ipython",
    "version": 3
   },
   "file_extension": ".py",
   "mimetype": "text/x-python",
   "name": "python",
   "nbconvert_exporter": "python",
   "pygments_lexer": "ipython3",
   "version": "3.9.2"
  }
 },
 "nbformat": 4,
 "nbformat_minor": 5
}
