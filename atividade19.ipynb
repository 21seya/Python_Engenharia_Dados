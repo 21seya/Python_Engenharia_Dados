{
 "cells": [
  {
   "cell_type": "code",
   "execution_count": null,
   "metadata": {},
   "outputs": [],
   "source": [
    "# 1 - Leia o seguinte arquivo (\"exercicio1.txt\") e transforme em uma lista"
   ]
  },
  {
   "cell_type": "code",
   "execution_count": 1,
   "metadata": {},
   "outputs": [
    {
     "name": "stdout",
     "output_type": "stream",
     "text": [
      "['ola estou escrevendo no arquivo\\n', 'essa é a segunda linha do arquivo\\n']\n"
     ]
    }
   ],
   "source": [
    "lista = []\n",
    "with open(\"exemplo_with.txt\") as file:\n",
    "    for linha in file:\n",
    "        lista.append(linha)\n",
    "\n",
    "print(lista)        "
   ]
  },
  {
   "cell_type": "markdown",
   "metadata": {},
   "source": [
    "# 2 - Leia o seguinte arquivo (\"exercicio2.txt\") , onde cada linha tem um produto e seu valor. \n",
    "# Crie uma classe chamada Produto , para representar cada item do arquivo , com nome e valor . \n",
    "# Salve todos produtos em uma lista, ao final imprima a lista item por item , mostrando o nome e valor."
   ]
  },
  {
   "cell_type": "code",
   "execution_count": null,
   "metadata": {},
   "outputs": [],
   "source": [
    "class Produto:\n",
    "    def __init__(self,nome,valor):\n",
    "        self.nome = nome \n",
    "        self.valor = valor \n",
    "\n",
    "produtos = [] \n",
    "\n",
    "with open(\"arquivo.txt\") as arquivo:\n",
    "    for linha in arquivo:\n",
    "        indice_separa = linha.index(\"R$\")\n",
    "\n",
    "        nome = linha[:indice_separa-1]\n",
    "        valor = linha[indice_separa:len(linha)-1]\n",
    "        produto = Produto(nome,valor)\n",
    "        produtos.append(produto)\n",
    "\n",
    "for produto in produtos:\n",
    "    print(produto.nome,produto.valor)\n",
    "            "
   ]
  },
  {
   "cell_type": "markdown",
   "metadata": {},
   "source": [
    "# 3 - Escreva num arquivo os números de 0 ate 100 . Uma linha para cada número."
   ]
  },
  {
   "cell_type": "code",
   "execution_count": 2,
   "metadata": {},
   "outputs": [],
   "source": [
    "with open('exercicio3.txt','wt') as arquivo:\n",
    "    for i in range(0,101):\n",
    "        arquivo.write(str(i) + '\\n')"
   ]
  },
  {
   "cell_type": "markdown",
   "metadata": {},
   "source": [
    "# 4- Escreva num arquivo todos números positivos e menores que 100 que são divisiveis \n",
    "# por 3 "
   ]
  },
  {
   "cell_type": "code",
   "execution_count": 3,
   "metadata": {},
   "outputs": [],
   "source": [
    "with open('exercicio4.txt','wt') as arquivo:\n",
    "    for i in range(0,101):\n",
    "        if i % 3 == 0:\n",
    "            arquivo.write(str(i) + '\\n')\n",
    "            "
   ]
  },
  {
   "cell_type": "markdown",
   "metadata": {},
   "source": [
    "# 5 - Crie um arquivo csv separado por virgula para guardar informações de sua familia \n",
    "# Nesse arquivo deve constar em cada linha o nome de um mebro da familia e o grau de parentesco (EX:pai)\n",
    "# Escreva 5 membros da familia no arquivo . Faça uma função que ira escrever no arquivo , e outra que ira ler o arquivo."
   ]
  },
  {
   "cell_type": "code",
   "execution_count": 5,
   "metadata": {},
   "outputs": [
    {
     "name": "stdout",
     "output_type": "stream",
     "text": [
      "['Nome', 'Parentesco']\n",
      "[]\n",
      "['Pedro', 'Avó']\n",
      "[]\n",
      "['Maria', 'Avô']\n",
      "[]\n",
      "['Joao', 'Pai']\n",
      "[]\n",
      "['Ana', 'Mãe']\n",
      "[]\n",
      "['Joaquim', 'Filho']\n",
      "[]\n"
     ]
    }
   ],
   "source": [
    "import csv \n",
    "def escreve_arquivo():\n",
    "    with open('exercicio5.txt','w') as arquivo:\n",
    "        escritorCSV = csv.writer(arquivo,delimiter=',')\n",
    "        escritorCSV.writerow([\"Nome\",\"Parentesco\"])\n",
    "        escritorCSV.writerow([\"Pedro\",\"Avó\"])\n",
    "        escritorCSV.writerow([\"Maria\",\"Avô\"])\n",
    "        escritorCSV.writerow([\"Joao\",\"Pai\"])\n",
    "        escritorCSV.writerow([\"Ana\",\"Mãe\"])\n",
    "        escritorCSV.writerow([\"Joaquim\",\"Filho\"])\n",
    "\n",
    "def ler_arquivo():\n",
    "        with open('exercicio5.txt','r') as arquivo:    \n",
    "             leitor = csv.reader(arquivo,delimiter=',')\n",
    "             for linha in leitor:\n",
    "                  print(linha)\n",
    "\n",
    "escreve_arquivo()\n",
    "ler_arquivo()                  \n",
    "\n"
   ]
  },
  {
   "cell_type": "markdown",
   "metadata": {},
   "source": [
    "# 6 - Faça um programa que leia um arquivo CSV separado por vírgula \"exercicio6.csv\" , onde \n",
    "# cada linha tem os seguintes valores (id_empresa,nome_empresa,numero_funcionarios,lucro). Modele \n",
    "# uma classe empresa que será usada para guardar os valores do arquivo . Imprima o resultado "
   ]
  },
  {
   "cell_type": "code",
   "execution_count": null,
   "metadata": {},
   "outputs": [],
   "source": [
    "import csv \n",
    "class Empresa:\n",
    "    def __init__(self,id,nome,nome_funcionarios,lucro):\n",
    "        self.id = id \n",
    "        self.nome = nome \n",
    "        self.nome_funcionarios = nome_funcionarios\n",
    "        self.lucro = lucro\n",
    "\n",
    "empresas = []\n",
    "with open(\"exercicio6.csv\",\"r\") as arquivo:\n",
    "        leitor = csv.reader(arquivo,delimiter=',')\n",
    "        for linha in leitor:\n",
    "             emp = Empresa(linha[0],linha[1],linha[2],linha[3])\n",
    "             empresas.append(emp)\n",
    "\n",
    "for emp in empresas:\n",
    "     print(emp.id,emp.nome,emp.nome_funcionarios,emp.lucros)\n",
    "                    "
   ]
  },
  {
   "cell_type": "markdown",
   "metadata": {},
   "source": [
    "# 7 - Crie uma classe que represente uma pessoa , com nome e idade . Após criar pelo \n",
    "# menos 3 instâncias da classe , crie um método que transforme essas instâncias em um dicionário \n",
    "# para pode-las salvar em um arquivo em formato JSON , com nome de \"exercicio.json\" . Este metodo devem ser \n",
    "# um tipo estatico da classe leia o arquivo depois de salvo "
   ]
  },
  {
   "cell_type": "code",
   "execution_count": null,
   "metadata": {},
   "outputs": [
    {
     "name": "stdout",
     "output_type": "stream",
     "text": [
      "{\n",
      "    \"Ana\": 30,\n",
      "    \"Renata\": 33,\n",
      "    \"Pedro\": 35\n",
      "}\n"
     ]
    }
   ],
   "source": [
    "import json\n",
    "class Pessoa:\n",
    "    def __init__(self,nome,idade):\n",
    "        self.nome = nome \n",
    "        self.idade = idade \n",
    "\n",
    "    @staticmethod\n",
    "    def transforma_dict(*args):\n",
    "        dicionario = dict()\n",
    "        for pessoa in args:\n",
    "            dicionario[pessoa.nome] = pessoa.idade \n",
    "        return dicionario\n",
    "\n",
    "pessoa1 = Pessoa(\"Ana\",30)\n",
    "pessoa2 = Pessoa(\"Renata\",33)\n",
    "pessoa3 = Pessoa(\"Pedro\",35)\n",
    "\n",
    "dicionario_pessoas = Pessoa.transforma_dict(pessoa1,pessoa2,pessoa3)\n",
    "texto = json.dumps(dicionario_pessoas,indent=4)\n",
    "\n",
    "with open(\"exercicio7.json\",\"wt\") as arquivo:\n",
    "    arquivo.write(texto)"
   ]
  },
  {
   "cell_type": "markdown",
   "metadata": {},
   "source": [
    "# 8 - Com base no exercicio anterior , agora crie uma função do tipo da classe que leia \n",
    "# o arquivo gerado e retorne as instãncias de classes de volta em uma lista. "
   ]
  },
  {
   "cell_type": "code",
   "execution_count": 5,
   "metadata": {},
   "outputs": [
    {
     "name": "stdout",
     "output_type": "stream",
     "text": [
      "Ana 30\n",
      "Renata 33\n",
      "Pedro 35\n"
     ]
    }
   ],
   "source": [
    "class Pessoa:\n",
    "    def __init__(self,nome,idade):\n",
    "        self.nome = nome \n",
    "        self.idade = idade \n",
    "\n",
    "    @staticmethod\n",
    "    def transforma_pessoa():\n",
    "        pessoas = []\n",
    "        with open(\"exercicio7.json\",\"r\") as arquivo:\n",
    "            arquivo_lido = arquivo.read()\n",
    "            dicionario = json.loads(arquivo_lido)\n",
    "            for key in dicionario:\n",
    "                pessoa = Pessoa(key,dicionario[key])\n",
    "                pessoas.append(pessoa)\n",
    "        return pessoas            \n",
    "\n",
    "pessoas = Pessoa.transforma_pessoa()\n",
    "\n",
    "for pessoa in pessoas:\n",
    "    print(pessoa.nome,pessoa.idade)\n",
    "    \n"
   ]
  },
  {
   "cell_type": "markdown",
   "metadata": {},
   "source": [
    "# 9 - Crie um arquivo XML , nesse arquivo XML havera a tag ROOT. Dentro dessa raiz podem \n",
    "# haver várias tags de Estado com atributo nome . Dentro de cada estado pode haver tag Cidade \n",
    "# mas nesse caso o valor da tag texto devera ser o nome da cidade. Crie um programa que gere \n",
    "# esse arquivo com alguns estados e municípios. "
   ]
  },
  {
   "cell_type": "code",
   "execution_count": 6,
   "metadata": {},
   "outputs": [],
   "source": [
    "import xml.etree.ElementTree as xml \n",
    "import os \n",
    "\n",
    "def cria_estado(nome,cidades):\n",
    "    element_estado = xml.Element(\"Estado\",attrib={'nome':nome})\n",
    "    for cidade in cidades:\n",
    "        elemento_cidade = xml.SubElement(element_estado,'Cidade')\n",
    "        elemento_cidade.text = cidade\n",
    "    return element_estado\n",
    "\n",
    "raiz = xml.Element(\"Root\")\n",
    "no_estado = cria_estado('Rio de Janeiro',['Rio de Janeiro','Duque de Caxias','Nova Iguacu'])\n",
    "no_estado2 = cria_estado('Sao Paulo',['Sorocaba','Campinas','Sao Paulo'])\n",
    "raiz.append(no_estado)\n",
    "raiz.append(no_estado2)\n",
    "\n",
    "arvore = xml.ElementTree(raiz)\n",
    "\n",
    "with open('exercicio9.xml','wb') as arquivo:\n",
    "    arvore.write(arquivo)\n"
   ]
  }
 ],
 "metadata": {
  "kernelspec": {
   "display_name": "Python 3",
   "language": "python",
   "name": "python3"
  },
  "language_info": {
   "codemirror_mode": {
    "name": "ipython",
    "version": 3
   },
   "file_extension": ".py",
   "mimetype": "text/x-python",
   "name": "python",
   "nbconvert_exporter": "python",
   "pygments_lexer": "ipython3",
   "version": "3.9.2"
  }
 },
 "nbformat": 4,
 "nbformat_minor": 2
}
