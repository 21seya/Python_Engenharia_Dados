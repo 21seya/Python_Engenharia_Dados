{
 "cells": [
  {
   "cell_type": "markdown",
   "metadata": {},
   "source": [
    "# 1- Crie uma lista com os seguinte números 1,10,6,7,8,10.Em seguida printa a soma destes números."
   ]
  },
  {
   "cell_type": "code",
   "execution_count": 1,
   "metadata": {},
   "outputs": [
    {
     "name": "stdout",
     "output_type": "stream",
     "text": [
      "Soma e: 42\n"
     ]
    }
   ],
   "source": [
    "tupla = (1,10,6,7,8,10)\n",
    "soma = 0 \n",
    "for i in tupla:\n",
    "    soma += i \n",
    "print(\"Soma e:\",soma)\n",
    "    "
   ]
  },
  {
   "cell_type": "markdown",
   "metadata": {},
   "source": [
    "# 2 - Cria uma lista e preencha ela com os valores de 1 a 100. Em seguida printe esses valores."
   ]
  },
  {
   "cell_type": "code",
   "execution_count": 2,
   "metadata": {},
   "outputs": [
    {
     "name": "stdout",
     "output_type": "stream",
     "text": [
      " A lista de numero eh : [1, 2, 3, 4, 5, 6, 7, 8, 9, 10, 11, 12, 13, 14, 15, 16, 17, 18, 19, 20, 21, 22, 23, 24, 25, 26, 27, 28, 29, 30, 31, 32, 33, 34, 35, 36, 37, 38, 39, 40, 41, 42, 43, 44, 45, 46, 47, 48, 49, 50, 51, 52, 53, 54, 55, 56, 57, 58, 59, 60, 61, 62, 63, 64, 65, 66, 67, 68, 69, 70, 71, 72, 73, 74, 75, 76, 77, 78, 79, 80, 81, 82, 83, 84, 85, 86, 87, 88, 89, 90, 91, 92, 93, 94, 95, 96, 97, 98, 99, 100]\n"
     ]
    }
   ],
   "source": [
    "lista= []\n",
    "for i in range(1,101):\n",
    "    lista.append(i)\n",
    "print(\" A lista de numero eh :\",lista)\n"
   ]
  },
  {
   "cell_type": "markdown",
   "metadata": {},
   "source": [
    "# 3 - Crie duas listas com os seguintes valores 30, 4,43,52,65,-10 e 43, 2,4,76,32,65,3. Agora \n",
    "# faça a junção dessas listas , mas se houverem valores repetidos entre ambas eles não podem repetir na lista unida."
   ]
  },
  {
   "cell_type": "code",
   "execution_count": 3,
   "metadata": {},
   "outputs": [
    {
     "name": "stdout",
     "output_type": "stream",
     "text": [
      "{32, 65, 2, 3, 4, 43, 76, 52, -10, 30}\n"
     ]
    }
   ],
   "source": [
    "lista_set1 = {30,4,43,52,65,-10}\n",
    "lista_set2 = {43,2,4,76,32,65,3}\n",
    "novo_set = lista_set1.union(lista_set2)\n",
    "print(novo_set)"
   ]
  },
  {
   "cell_type": "markdown",
   "metadata": {},
   "source": [
    "# 4- Crie uma lista contendo o nome de todos os meses do ano. Em seguida receba por input o mês (número)\n",
    "# em que você nasceu e mostre qual é o nome do mês que você nasceu."
   ]
  },
  {
   "cell_type": "code",
   "execution_count": 4,
   "metadata": {},
   "outputs": [
    {
     "name": "stdout",
     "output_type": "stream",
     "text": [
      "Você nasceu em Junho \n"
     ]
    }
   ],
   "source": [
    "meses = ('Janeiro','Fevereiro','Março','Abril','Maio','Junho','Julho','Agosto','Setembro','Outubro','Novembro','Dezembro')\n",
    "\n",
    "mes_nascimento = int(input(\"Digite o mês que nasceu:\"))\n",
    "print(\"Você nasceu em %s \" %(meses[mes_nascimento -1]))\n"
   ]
  },
  {
   "cell_type": "markdown",
   "metadata": {},
   "source": [
    "# 5 - Crie uma lista contendo todos os dias (número) do mês em que você nasceu.Em seguida \n",
    "# receba por input por dia (número) em que você nasceu e remova desta lista. Ao final moste o conteúdo \n",
    "# da lista. \n"
   ]
  },
  {
   "cell_type": "code",
   "execution_count": 7,
   "metadata": {},
   "outputs": [
    {
     "name": "stdout",
     "output_type": "stream",
     "text": [
      "[1, 2, 3, 5, 6, 7, 8, 9, 10, 11, 12, 13, 14, 15, 16, 17, 18, 19, 20, 21, 22, 23, 24, 25, 26, 27, 28, 29, 30, 31]\n"
     ]
    }
   ],
   "source": [
    "dias = []\n",
    "for i in range(1,32):\n",
    "    dias.append(i)\n",
    "\n",
    "dia_nascido = int(input(\"Digite o número em dias que você nasceu:\"))\n",
    "dias.remove(dia_nascido)\n",
    "print(dias)"
   ]
  },
  {
   "cell_type": "markdown",
   "metadata": {},
   "source": [
    "# 6  - Escolha três objetos de sua escolha e em seguida cria uma lista para armazenar \n",
    "# o objetivo em sua função. Agora por input receba o nome desse objeto e imprima \n",
    "# a sua função. Caso o objeto não exista, informa ao usuário.\n",
    "\n",
    "# Todos as atividades a seguir devem utilizar List Compreehension \n"
   ]
  },
  {
   "cell_type": "code",
   "execution_count": 8,
   "metadata": {},
   "outputs": [
    {
     "name": "stdout",
     "output_type": "stream",
     "text": [
      "Serve para visualizar o processamento\n"
     ]
    }
   ],
   "source": [
    "objetos = {\n",
    "    'Cadeira': 'Serve para sentarmos',\n",
    "    'Monitor': 'Serve para visualizar o processamento',\n",
    "    'Mouse': 'Serve para realizar operações'\n",
    "}\n",
    "\n",
    "objeto_procurado = input(\"Digite o objeto:\")\n",
    "if objeto_procurado in objetos:\n",
    "    print(objetos[objeto_procurado])\n",
    "else:\n",
    "    print(\"Objeto não encontrado\")    "
   ]
  },
  {
   "cell_type": "markdown",
   "metadata": {},
   "source": [
    "# 7 - Crie uma lista contendo todos os números negativos de -30 até -20. Printe essa lista"
   ]
  },
  {
   "cell_type": "code",
   "execution_count": 9,
   "metadata": {},
   "outputs": [
    {
     "name": "stdout",
     "output_type": "stream",
     "text": [
      "[-30, -29, -28, -27, -26, -25, -24, -23, -22, -21, -20]\n"
     ]
    }
   ],
   "source": [
    "lista = [x for x in range(-30,-19)]\n",
    "print(lista)"
   ]
  },
  {
   "cell_type": "markdown",
   "metadata": {},
   "source": [
    "# 8 - Percorra os números de 4 a 100 e mantenha apenas aqueles divisiveis por 4 . "
   ]
  },
  {
   "cell_type": "code",
   "execution_count": 10,
   "metadata": {},
   "outputs": [
    {
     "name": "stdout",
     "output_type": "stream",
     "text": [
      "[4, 8, 12, 16, 20, 24, 28, 32, 36, 40, 44, 48, 52, 56, 60, 64, 68, 72, 76, 80, 84, 88, 92, 96, 100]\n"
     ]
    }
   ],
   "source": [
    "lista = [ x for x in range(4,101) if x % 4 ==0]\n",
    "print(lista)"
   ]
  },
  {
   "cell_type": "markdown",
   "metadata": {},
   "source": [
    "# 9 - Crie uma lista contendo todos os números de 0 a 100 , mas filtre , mantendo apenas os números \n",
    "# que terminam com 0. "
   ]
  },
  {
   "cell_type": "code",
   "execution_count": 11,
   "metadata": {},
   "outputs": [
    {
     "name": "stdout",
     "output_type": "stream",
     "text": [
      "[0, 10, 20, 30, 40, 50, 60, 70, 80, 90, 100]\n"
     ]
    }
   ],
   "source": [
    "lista = [x for x in range(0,101) if str(x)[-1] == '0']\n",
    "print(lista)"
   ]
  },
  {
   "cell_type": "markdown",
   "metadata": {},
   "source": [
    "# 10 - Percorra os números de 0 a 20 e crie um array , onde caso o número terminar com zero \n",
    "# o valor devera ser '0' , caso contrario devera ser '-'."
   ]
  },
  {
   "cell_type": "code",
   "execution_count": 12,
   "metadata": {},
   "outputs": [
    {
     "name": "stdout",
     "output_type": "stream",
     "text": [
      "['0', '-', '-', '-', '-', '-', '-', '-', '-', '-', '0', '-', '-', '-', '-', '-', '-', '-', '-', '-', '0']\n"
     ]
    }
   ],
   "source": [
    "lista = ['0' if str(x)[-1] == '0' else '-' for x in range(0,21)]\n",
    "print(lista)"
   ]
  }
 ],
 "metadata": {
  "kernelspec": {
   "display_name": "Python 3",
   "language": "python",
   "name": "python3"
  },
  "language_info": {
   "codemirror_mode": {
    "name": "ipython",
    "version": 3
   },
   "file_extension": ".py",
   "mimetype": "text/x-python",
   "name": "python",
   "nbconvert_exporter": "python",
   "pygments_lexer": "ipython3",
   "version": "3.9.2"
  }
 },
 "nbformat": 4,
 "nbformat_minor": 2
}
