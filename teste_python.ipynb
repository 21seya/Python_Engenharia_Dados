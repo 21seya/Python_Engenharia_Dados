{
 "cells": [
  {
   "cell_type": "code",
   "execution_count": 1,
   "id": "58c589df",
   "metadata": {},
   "outputs": [],
   "source": [
    "import pytest \n"
   ]
  },
  {
   "cell_type": "code",
   "execution_count": 13,
   "id": "41ab37b0",
   "metadata": {},
   "outputs": [
    {
     "name": "stdout",
     "output_type": "stream",
     "text": [
      "\u001b[1m============================= test session starts =============================\u001b[0m\n",
      "platform win32 -- Python 3.9.2, pytest-8.3.5, pluggy-1.5.0 -- C:\\Users\\walla\\AppData\\Local\\Programs\\Python\\Python39\\python.exe\n",
      "cachedir: .pytest_cache\n",
      "rootdir: c:\\Users\\walla\\OneDrive\\Documentos\\Python_Data_Engineer_new\n",
      "plugins: dash-2.17.1\n",
      "\u001b[1mcollecting ... \u001b[0mcollected 1 item\n",
      "\n",
      "test_1.py::test_par \u001b[32mPASSED\u001b[0m\u001b[32m                                               [100%]\u001b[0m\n",
      "\n",
      "\u001b[32m============================== \u001b[32m\u001b[1m1 passed\u001b[0m\u001b[32m in 0.23s\u001b[0m\u001b[32m ==============================\u001b[0m\n"
     ]
    }
   ],
   "source": [
    "! pytest test_1.py -v\n"
   ]
  },
  {
   "cell_type": "code",
   "execution_count": 15,
   "id": "2eec6826",
   "metadata": {},
   "outputs": [
    {
     "name": "stdout",
     "output_type": "stream",
     "text": [
      "\u001b[1m============================= test session starts =============================\u001b[0m\n",
      "platform win32 -- Python 3.9.2, pytest-8.3.5, pluggy-1.5.0\n",
      "rootdir: c:\\Users\\walla\\OneDrive\\Documentos\\Python_Data_Engineer_new\n",
      "plugins: dash-2.17.1\n",
      "collected 1 item\n",
      "\n",
      "test_1.py \u001b[32m.\u001b[0m\u001b[32m                                                              [100%]\u001b[0m\n",
      "\n",
      "\u001b[32m============================== \u001b[32m\u001b[1m1 passed\u001b[0m\u001b[32m in 0.03s\u001b[0m\u001b[32m ==============================\u001b[0m\n"
     ]
    }
   ],
   "source": [
    "! pytest"
   ]
  },
  {
   "cell_type": "code",
   "execution_count": 16,
   "id": "6225dff3",
   "metadata": {},
   "outputs": [
    {
     "name": "stdout",
     "output_type": "stream",
     "text": [
      "\u001b[1m============================= test session starts =============================\u001b[0m\n",
      "platform win32 -- Python 3.9.2, pytest-8.3.5, pluggy-1.5.0 -- C:\\Users\\walla\\AppData\\Local\\Programs\\Python\\Python39\\python.exe\n",
      "cachedir: .pytest_cache\n",
      "rootdir: c:\\Users\\walla\\OneDrive\\Documentos\\Python_Data_Engineer_new\n",
      "plugins: dash-2.17.1\n",
      "\u001b[1mcollecting ... \u001b[0mcollected 2 items / 1 deselected / 1 selected\n",
      "\n",
      "test_1.py::test_par \u001b[32mPASSED\u001b[0m\u001b[33m                                               [100%]\u001b[0m\n",
      "\n",
      "\u001b[33m============================== warnings summary ===============================\u001b[0m\n",
      "test_1.py:3\n",
      "  c:\\Users\\walla\\OneDrive\\Documentos\\Python_Data_Engineer_new\\test_1.py:3: PytestUnknownMarkWarning: Unknown pytest.mark.primarios - is this a typo?  You can register custom marks to avoid this warning - for details, see https://docs.pytest.org/en/stable/how-to/mark.html\n",
      "    @pytest.mark.primarios\n",
      "\n",
      "-- Docs: https://docs.pytest.org/en/stable/how-to/capture-warnings.html\n",
      "\u001b[33m================= \u001b[32m1 passed\u001b[0m, \u001b[33m\u001b[1m1 deselected\u001b[0m, \u001b[33m\u001b[1m1 warning\u001b[0m\u001b[33m in 0.09s\u001b[0m\u001b[33m ==================\u001b[0m\n"
     ]
    }
   ],
   "source": [
    "! pytest -m primarios -v"
   ]
  },
  {
   "cell_type": "code",
   "execution_count": 7,
   "id": "1eacd09d",
   "metadata": {},
   "outputs": [
    {
     "name": "stdout",
     "output_type": "stream",
     "text": [
      "\u001b[1m============================= test session starts =============================\u001b[0m\n",
      "platform win32 -- Python 3.9.2, pytest-8.3.5, pluggy-1.5.0 -- C:\\Users\\walla\\AppData\\Local\\Programs\\Python\\Python39\\python.exe\n",
      "cachedir: .pytest_cache\n",
      "rootdir: c:\\Users\\walla\\OneDrive\\Documentos\\Python_Data_Engineer_new\n",
      "plugins: dash-2.17.1\n",
      "\u001b[1mcollecting ... \u001b[0mcollected 4 items\n",
      "\n",
      "test_primo.py::test_primo[2-True] \u001b[32mPASSED\u001b[0m\u001b[32m                                 [ 25%]\u001b[0m\n",
      "test_primo.py::test_primo[6-False] \u001b[32mPASSED\u001b[0m\u001b[32m                                [ 50%]\u001b[0m\n",
      "test_primo.py::test_primo[13-True] \u001b[32mPASSED\u001b[0m\u001b[32m                                [ 75%]\u001b[0m\n",
      "test_primo.py::test_primo[-1-False] \u001b[32mPASSED\u001b[0m\u001b[32m                               [100%]\u001b[0m\n",
      "\n",
      "\u001b[32m============================== \u001b[32m\u001b[1m4 passed\u001b[0m\u001b[32m in 0.06s\u001b[0m\u001b[32m ==============================\u001b[0m\n"
     ]
    }
   ],
   "source": [
    "! pytest test_primo.py -v"
   ]
  }
 ],
 "metadata": {
  "kernelspec": {
   "display_name": "Python 3",
   "language": "python",
   "name": "python3"
  },
  "language_info": {
   "codemirror_mode": {
    "name": "ipython",
    "version": 3
   },
   "file_extension": ".py",
   "mimetype": "text/x-python",
   "name": "python",
   "nbconvert_exporter": "python",
   "pygments_lexer": "ipython3",
   "version": "3.9.2"
  }
 },
 "nbformat": 4,
 "nbformat_minor": 5
}
