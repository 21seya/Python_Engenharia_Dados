{
 "cells": [
  {
   "cell_type": "code",
   "execution_count": 2,
   "metadata": {},
   "outputs": [
    {
     "name": "stdout",
     "output_type": "stream",
     "text": [
      "<class '__main__.Teste'>\n"
     ]
    }
   ],
   "source": [
    "class Teste:\n",
    "    pass \n",
    "\n",
    "minha_classe = Teste()\n",
    "print(type(minha_classe))\n"
   ]
  },
  {
   "cell_type": "code",
   "execution_count": 3,
   "metadata": {},
   "outputs": [
    {
     "name": "stdout",
     "output_type": "stream",
     "text": [
      "Eu existo!\n",
      "<class '__main__.NossaClasse'>\n"
     ]
    }
   ],
   "source": [
    "class NossaClasse:\n",
    "    def __init__(self):\n",
    "        print(\"Eu existo!\")\n",
    "\n",
    "var = NossaClasse()\n",
    "print(type(var))"
   ]
  },
  {
   "cell_type": "code",
   "execution_count": 4,
   "metadata": {},
   "outputs": [
    {
     "name": "stdout",
     "output_type": "stream",
     "text": [
      "Pessoa com nome João e idade 30 criada\n",
      "Pessoa com nome Pedro e idade 44 criada\n",
      "João\n",
      "44\n"
     ]
    }
   ],
   "source": [
    "class Pessoa:\n",
    "    def __init__(self,nome,idade):\n",
    "        self.nome = nome \n",
    "        self.idade = idade \n",
    "        print(\"Pessoa com nome %s e idade %d criada\" %(nome,idade))\n",
    "\n",
    "pessoa1 = Pessoa('João',30)\n",
    "pessoa2 = Pessoa('Pedro',44)\n",
    "\n",
    "print(pessoa1.nome)\n",
    "print(pessoa2.idade)"
   ]
  },
  {
   "cell_type": "code",
   "execution_count": 5,
   "metadata": {},
   "outputs": [
    {
     "name": "stdout",
     "output_type": "stream",
     "text": [
      "Pessoa com nome João e idade 30 criada\n",
      "Pessoa com nome Pedro e idade 44 criada\n",
      "Homo Sapiens\n",
      "Homo Sapiens\n"
     ]
    }
   ],
   "source": [
    "class Pessoa:\n",
    "    especie = \"Homo Sapiens\"\n",
    "    def __init__(self,nome,idade):\n",
    "        self.nome = nome \n",
    "        self.idade = idade \n",
    "        print(\"Pessoa com nome %s e idade %d criada\" %(nome,idade))\n",
    "\n",
    "pessoa1 = Pessoa('João',30)\n",
    "pessoa2 = Pessoa('Pedro',44)\n",
    "\n",
    "print(pessoa1.especie)\n",
    "print(pessoa2.especie)"
   ]
  },
  {
   "cell_type": "code",
   "execution_count": 6,
   "metadata": {},
   "outputs": [
    {
     "name": "stdout",
     "output_type": "stream",
     "text": [
      "0\n"
     ]
    }
   ],
   "source": [
    "class Pessoa:\n",
    "    especie = \"Homo Sapiens\"\n",
    "    num_pessoa = 0\n",
    "    def __init__(self,nome,idade):\n",
    "        self.nome = nome \n",
    "        self.idade = idade \n",
    "        Pessoa.num_pessoa\n",
    "\n",
    "pessoa1 = Pessoa('João',30)\n",
    "pessoa2 = Pessoa('Pedro',44)\n",
    "pessoa3 = Pessoa('Lucas',23)\n",
    "\n",
    "print(Pessoa.num_pessoa)\n"
   ]
  },
  {
   "cell_type": "code",
   "execution_count": 1,
   "metadata": {},
   "outputs": [
    {
     "name": "stdout",
     "output_type": "stream",
     "text": [
      "1\n",
      "2\n",
      "3\n"
     ]
    }
   ],
   "source": [
    "class Pessoa:\n",
    "    especie = \"Homo Sapiens\"\n",
    "    num_pessoa = 0\n",
    "    def __init__(self,nome,idade):\n",
    "        self.nome = nome \n",
    "        self.idade = idade \n",
    "        Pessoa.num_pessoa += 1\n",
    "\n",
    "pessoa1 = Pessoa('João',30)\n",
    "print(Pessoa.num_pessoa)\n",
    "pessoa2 = Pessoa('Pedro',44)\n",
    "print(Pessoa.num_pessoa)\n",
    "pessoa3 = Pessoa('Lucas',23)\n",
    "print(Pessoa.num_pessoa)"
   ]
  },
  {
   "cell_type": "code",
   "execution_count": 3,
   "metadata": {},
   "outputs": [
    {
     "name": "stdout",
     "output_type": "stream",
     "text": [
      "Meu nome e Roger\n",
      "Meu nome e Maria\n"
     ]
    }
   ],
   "source": [
    "class Pessoa:\n",
    "    def __init__(self,nome,idade):\n",
    "        self.nome = nome \n",
    "        self.idade = idade\n",
    "    def print_nome(self):\n",
    "        print(\"Meu nome e %s\" %(self.nome))\n",
    "\n",
    "pessoa1 = Pessoa(\"Roger\",33)\n",
    "pessoa2 = Pessoa(\"Maria\",20)\n",
    "\n",
    "pessoa1.print_nome()\n",
    "pessoa2.print_nome()\n"
   ]
  },
  {
   "cell_type": "code",
   "execution_count": 4,
   "metadata": {},
   "outputs": [
    {
     "name": "stdout",
     "output_type": "stream",
     "text": [
      "Meu nome e Roger \n",
      "Meu nome e Maria \n"
     ]
    }
   ],
   "source": [
    "class Pessoa:\n",
    "    def __init__(self,nome,idade):\n",
    "        self.nome = nome \n",
    "        self.idade = idade\n",
    "\n",
    "    def print_string(self,nome):\n",
    "        print(\"Meu nome e %s \"%(nome))   \n",
    "    \n",
    "    def print_nome(self):\n",
    "       self.print_string(self.nome)\n",
    "\n",
    "pessoa1 = Pessoa(\"Roger\",33)\n",
    "pessoa2 = Pessoa(\"Maria\",20)\n",
    "\n",
    "pessoa1.print_nome()\n",
    "pessoa2.print_nome()"
   ]
  },
  {
   "cell_type": "code",
   "execution_count": 9,
   "metadata": {},
   "outputs": [
    {
     "name": "stdout",
     "output_type": "stream",
     "text": [
      "34\n",
      "Rodrigo\n"
     ]
    }
   ],
   "source": [
    "class Pessoa:\n",
    "    def __init__(self,nome):\n",
    "        self.nome =nome \n",
    "    \n",
    "    def insere_idade(self,idade):\n",
    "        self.idade = idade\n",
    "\n",
    "rodrigo = Pessoa(\"Rodrigo\")\n",
    "rodrigo.insere_idade(34)\n",
    "\n",
    "print(rodrigo.idade)\n",
    "print(rodrigo.nome)\n"
   ]
  },
  {
   "cell_type": "code",
   "execution_count": null,
   "metadata": {},
   "outputs": [],
   "source": []
  }
 ],
 "metadata": {
  "kernelspec": {
   "display_name": "Python 3",
   "language": "python",
   "name": "python3"
  },
  "language_info": {
   "codemirror_mode": {
    "name": "ipython",
    "version": 3
   },
   "file_extension": ".py",
   "mimetype": "text/x-python",
   "name": "python",
   "nbconvert_exporter": "python",
   "pygments_lexer": "ipython3",
   "version": "3.9.2"
  }
 },
 "nbformat": 4,
 "nbformat_minor": 2
}
