{
 "cells": [
  {
   "cell_type": "code",
   "execution_count": 2,
   "metadata": {},
   "outputs": [
    {
     "name": "stdout",
     "output_type": "stream",
     "text": [
      "<class '__main__.Teste'>\n"
     ]
    }
   ],
   "source": [
    "class Teste:\n",
    "    pass \n",
    "\n",
    "minha_classe = Teste()\n",
    "print(type(minha_classe))\n"
   ]
  },
  {
   "cell_type": "code",
   "execution_count": 1,
   "metadata": {},
   "outputs": [
    {
     "name": "stdout",
     "output_type": "stream",
     "text": [
      "Eu existo!\n",
      "<class '__main__.NossaClasse'>\n"
     ]
    }
   ],
   "source": [
    "class NossaClasse:\n",
    "    def __init__(self):\n",
    "        print(\"Eu existo!\")\n",
    "\n",
    "var = NossaClasse()\n",
    "print(type(var))"
   ]
  },
  {
   "cell_type": "code",
   "execution_count": 5,
   "metadata": {},
   "outputs": [
    {
     "name": "stdout",
     "output_type": "stream",
     "text": [
      "Pessoa com nome João e idade 30 criada\n",
      "Pessoa com nome Pedro e idade 44 criada\n",
      "João\n",
      "44\n"
     ]
    }
   ],
   "source": [
    "class Pessoa:\n",
    "    def __init__(self,nome,idade):\n",
    "        self.nome = nome \n",
    "        self.idade = idade \n",
    "        print(\"Pessoa com nome %s e idade %d criada\" %(nome,idade))\n",
    "\n",
    "pessoa1 = Pessoa('João',30)\n",
    "pessoa2 = Pessoa('Pedro',44)\n",
    "\n",
    "print(pessoa1.nome)\n",
    "print(pessoa2.idade)"
   ]
  },
  {
   "cell_type": "code",
   "execution_count": 6,
   "metadata": {},
   "outputs": [
    {
     "name": "stdout",
     "output_type": "stream",
     "text": [
      "Pessoa com nome João e idade 30 criada\n",
      "Pessoa com nome Pedro e idade 44 criada\n",
      "Homo Sapiens\n",
      "Homo Sapiens\n"
     ]
    }
   ],
   "source": [
    "class Pessoa:\n",
    "    especie = \"Homo Sapiens\"\n",
    "    def __init__(self,nome,idade):\n",
    "        self.nome = nome \n",
    "        self.idade = idade \n",
    "        print(\"Pessoa com nome %s e idade %d criada\" %(nome,idade))\n",
    "\n",
    "pessoa1 = Pessoa('João',30)\n",
    "pessoa2 = Pessoa('Pedro',44)\n",
    "\n",
    "print(pessoa1.especie)\n",
    "print(pessoa2.especie)"
   ]
  },
  {
   "cell_type": "code",
   "execution_count": 7,
   "metadata": {},
   "outputs": [
    {
     "name": "stdout",
     "output_type": "stream",
     "text": [
      "0\n"
     ]
    }
   ],
   "source": [
    "class Pessoa:\n",
    "    especie = \"Homo Sapiens\"\n",
    "    num_pessoa = 0\n",
    "    def __init__(self,nome,idade):\n",
    "        self.nome = nome \n",
    "        self.idade = idade \n",
    "        Pessoa.num_pessoa\n",
    "\n",
    "pessoa1 = Pessoa('João',30)\n",
    "pessoa2 = Pessoa('Pedro',44)\n",
    "pessoa3 = Pessoa('Lucas',23)\n",
    "\n",
    "print(Pessoa.num_pessoa)\n"
   ]
  }
 ],
 "metadata": {
  "kernelspec": {
   "display_name": "Python 3",
   "language": "python",
   "name": "python3"
  },
  "language_info": {
   "codemirror_mode": {
    "name": "ipython",
    "version": 3
   },
   "file_extension": ".py",
   "mimetype": "text/x-python",
   "name": "python",
   "nbconvert_exporter": "python",
   "pygments_lexer": "ipython3",
   "version": "3.9.2"
  }
 },
 "nbformat": 4,
 "nbformat_minor": 2
}
