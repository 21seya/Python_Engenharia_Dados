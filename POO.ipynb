{
 "cells": [
  {
   "cell_type": "code",
   "execution_count": 2,
   "metadata": {},
   "outputs": [
    {
     "name": "stdout",
     "output_type": "stream",
     "text": [
      "<class '__main__.Teste'>\n"
     ]
    }
   ],
   "source": [
    "class Teste:\n",
    "    pass \n",
    "\n",
    "minha_classe = Teste()\n",
    "print(type(minha_classe))\n"
   ]
  },
  {
   "cell_type": "code",
   "execution_count": 3,
   "metadata": {},
   "outputs": [
    {
     "name": "stdout",
     "output_type": "stream",
     "text": [
      "Eu existo!\n",
      "<class '__main__.NossaClasse'>\n"
     ]
    }
   ],
   "source": [
    "class NossaClasse:\n",
    "    def __init__(self):\n",
    "        print(\"Eu existo!\")\n",
    "\n",
    "var = NossaClasse()\n",
    "print(type(var))"
   ]
  },
  {
   "cell_type": "code",
   "execution_count": 4,
   "metadata": {},
   "outputs": [
    {
     "name": "stdout",
     "output_type": "stream",
     "text": [
      "Pessoa com nome João e idade 30 criada\n",
      "Pessoa com nome Pedro e idade 44 criada\n",
      "João\n",
      "44\n"
     ]
    }
   ],
   "source": [
    "class Pessoa:\n",
    "    def __init__(self,nome,idade):\n",
    "        self.nome = nome \n",
    "        self.idade = idade \n",
    "        print(\"Pessoa com nome %s e idade %d criada\" %(nome,idade))\n",
    "\n",
    "pessoa1 = Pessoa('João',30)\n",
    "pessoa2 = Pessoa('Pedro',44)\n",
    "\n",
    "print(pessoa1.nome)\n",
    "print(pessoa2.idade)"
   ]
  },
  {
   "cell_type": "code",
   "execution_count": 5,
   "metadata": {},
   "outputs": [
    {
     "name": "stdout",
     "output_type": "stream",
     "text": [
      "Pessoa com nome João e idade 30 criada\n",
      "Pessoa com nome Pedro e idade 44 criada\n",
      "Homo Sapiens\n",
      "Homo Sapiens\n"
     ]
    }
   ],
   "source": [
    "class Pessoa:\n",
    "    especie = \"Homo Sapiens\"\n",
    "    def __init__(self,nome,idade):\n",
    "        self.nome = nome \n",
    "        self.idade = idade \n",
    "        print(\"Pessoa com nome %s e idade %d criada\" %(nome,idade))\n",
    "\n",
    "pessoa1 = Pessoa('João',30)\n",
    "pessoa2 = Pessoa('Pedro',44)\n",
    "\n",
    "print(pessoa1.especie)\n",
    "print(pessoa2.especie)"
   ]
  },
  {
   "cell_type": "code",
   "execution_count": 6,
   "metadata": {},
   "outputs": [
    {
     "name": "stdout",
     "output_type": "stream",
     "text": [
      "0\n"
     ]
    }
   ],
   "source": [
    "class Pessoa:\n",
    "    especie = \"Homo Sapiens\"\n",
    "    num_pessoa = 0\n",
    "    def __init__(self,nome,idade):\n",
    "        self.nome = nome \n",
    "        self.idade = idade \n",
    "        Pessoa.num_pessoa\n",
    "\n",
    "pessoa1 = Pessoa('João',30)\n",
    "pessoa2 = Pessoa('Pedro',44)\n",
    "pessoa3 = Pessoa('Lucas',23)\n",
    "\n",
    "print(Pessoa.num_pessoa)\n"
   ]
  },
  {
   "cell_type": "code",
   "execution_count": 1,
   "metadata": {},
   "outputs": [
    {
     "name": "stdout",
     "output_type": "stream",
     "text": [
      "1\n",
      "2\n",
      "3\n"
     ]
    }
   ],
   "source": [
    "class Pessoa:\n",
    "    especie = \"Homo Sapiens\"\n",
    "    num_pessoa = 0\n",
    "    def __init__(self,nome,idade):\n",
    "        self.nome = nome \n",
    "        self.idade = idade \n",
    "        Pessoa.num_pessoa += 1\n",
    "\n",
    "pessoa1 = Pessoa('João',30)\n",
    "print(Pessoa.num_pessoa)\n",
    "pessoa2 = Pessoa('Pedro',44)\n",
    "print(Pessoa.num_pessoa)\n",
    "pessoa3 = Pessoa('Lucas',23)\n",
    "print(Pessoa.num_pessoa)"
   ]
  },
  {
   "cell_type": "code",
   "execution_count": 3,
   "metadata": {},
   "outputs": [
    {
     "name": "stdout",
     "output_type": "stream",
     "text": [
      "Meu nome e Roger\n",
      "Meu nome e Maria\n"
     ]
    }
   ],
   "source": [
    "class Pessoa:\n",
    "    def __init__(self,nome,idade):\n",
    "        self.nome = nome \n",
    "        self.idade = idade\n",
    "    def print_nome(self):\n",
    "        print(\"Meu nome e %s\" %(self.nome))\n",
    "\n",
    "pessoa1 = Pessoa(\"Roger\",33)\n",
    "pessoa2 = Pessoa(\"Maria\",20)\n",
    "\n",
    "pessoa1.print_nome()\n",
    "pessoa2.print_nome()\n"
   ]
  },
  {
   "cell_type": "code",
   "execution_count": 4,
   "metadata": {},
   "outputs": [
    {
     "name": "stdout",
     "output_type": "stream",
     "text": [
      "Meu nome e Roger \n",
      "Meu nome e Maria \n"
     ]
    }
   ],
   "source": [
    "class Pessoa:\n",
    "    def __init__(self,nome,idade):\n",
    "        self.nome = nome \n",
    "        self.idade = idade\n",
    "\n",
    "    def print_string(self,nome):\n",
    "        print(\"Meu nome e %s \"%(nome))   \n",
    "    \n",
    "    def print_nome(self):\n",
    "       self.print_string(self.nome)\n",
    "\n",
    "pessoa1 = Pessoa(\"Roger\",33)\n",
    "pessoa2 = Pessoa(\"Maria\",20)\n",
    "\n",
    "pessoa1.print_nome()\n",
    "pessoa2.print_nome()"
   ]
  },
  {
   "cell_type": "code",
   "execution_count": 9,
   "metadata": {},
   "outputs": [
    {
     "name": "stdout",
     "output_type": "stream",
     "text": [
      "34\n",
      "Rodrigo\n"
     ]
    }
   ],
   "source": [
    "class Pessoa:\n",
    "    def __init__(self,nome):\n",
    "        self.nome =nome \n",
    "    \n",
    "    def insere_idade(self,idade):\n",
    "        self.idade = idade\n",
    "\n",
    "rodrigo = Pessoa(\"Rodrigo\")\n",
    "rodrigo.insere_idade(34)\n",
    "\n",
    "print(rodrigo.idade)\n",
    "print(rodrigo.nome)\n"
   ]
  },
  {
   "cell_type": "code",
   "execution_count": 1,
   "metadata": {},
   "outputs": [
    {
     "name": "stdout",
     "output_type": "stream",
     "text": [
      "10\n"
     ]
    }
   ],
   "source": [
    "class Tipo1:\n",
    "    def __init__(self,outra_classe):\n",
    "        self.outra = outra_classe\n",
    "\n",
    "class Tipo2:\n",
    "    num = 10 \n",
    "\n",
    "classe2 = Tipo2()\n",
    "\n",
    "classe1 = Tipo1(classe2)\n",
    "\n",
    "print(classe1.outra.num)\n",
    "\n",
    "\n",
    "\n"
   ]
  },
  {
   "cell_type": "code",
   "execution_count": 3,
   "metadata": {},
   "outputs": [
    {
     "name": "stdout",
     "output_type": "stream",
     "text": [
      "<class '__main__.Exemplo'>\n"
     ]
    }
   ],
   "source": [
    "class Exemplo:\n",
    "    def __init__(self):\n",
    "        pass \n",
    "\n",
    "lista = []\n",
    "ex1 = Exemplo\n",
    "ex2 = Exemplo\n",
    "\n",
    "lista.append(ex1)\n",
    "lista.append(ex2)\n",
    "\n",
    "print(lista[0])"
   ]
  },
  {
   "cell_type": "markdown",
   "metadata": {},
   "source": [
    "HERANÇA"
   ]
  },
  {
   "cell_type": "code",
   "execution_count": 5,
   "metadata": {},
   "outputs": [
    {
     "name": "stdout",
     "output_type": "stream",
     "text": [
      "Sou Herdado\n",
      "Sou Herdado\n",
      "100\n",
      "50\n",
      "10\n",
      "50\n",
      "100\n",
      "10\n"
     ]
    }
   ],
   "source": [
    "class FormaGeometrica:\n",
    "    def __init__(self,altura,largura):\n",
    "        self.altura = altura \n",
    "        self.largura = largura \n",
    "\n",
    "    def funcao_herdada(self):\n",
    "        print(\"Sou Herdado\")    \n",
    "\n",
    "class Quadradro(FormaGeometrica):\n",
    "    lado  = 10\n",
    "\n",
    "class Triangulo(FormaGeometrica):\n",
    "    angulo = 10\n",
    "\n",
    "quadradro = Quadradro(100,50)\n",
    "triangulo = Triangulo(100,50)\n",
    "\n",
    "quadradro.funcao_herdada()\n",
    "\n",
    "triangulo.funcao_herdada()\n",
    "\n",
    "print(quadradro.altura)\n",
    "print(quadradro.largura)\n",
    "print(quadradro.lado)\n",
    "\n",
    "print(triangulo.largura)\n",
    "print(triangulo.altura)\n",
    "print(triangulo.angulo)\n"
   ]
  },
  {
   "cell_type": "markdown",
   "metadata": {},
   "source": [
    "OVERRIDE:SOBREPOSIÇÃO DE FUNÇÕES "
   ]
  },
  {
   "cell_type": "code",
   "execution_count": null,
   "metadata": {},
   "outputs": [],
   "source": [
    "class ClassePai:\n",
    "    def __init__(self):\n",
    "        print(\"Sou a classe pai\")\n",
    "\n",
    "\n",
    "class ClasseFilha1(ClassePai):\n",
    "    def __init__(self):\n",
    "        print(\"Sou a classe filha 1\")\n",
    "\n",
    "\n",
    "class ClasseFilha2(ClassePai):\n",
    "    def __init__(self):\n",
    "        print(\"sou a classe filha 2\")\n",
    "\n",
    "\n",
    "pai = ClassePai()\n",
    "filha1 = ClasseFilha1()\n",
    "filha2 = ClasseFilha2()\n",
    "\n"
   ]
  },
  {
   "cell_type": "code",
   "execution_count": 7,
   "metadata": {},
   "outputs": [
    {
     "name": "stdout",
     "output_type": "stream",
     "text": [
      "100\n",
      "quadradro\n",
      "200\n",
      "triangulo\n"
     ]
    }
   ],
   "source": [
    "class FormaGeometrica:\n",
    "    def __init__(self,altura,largura):\n",
    "        self.largura = largura\n",
    "        self.altura = altura\n",
    "\n",
    "class Quadradro(FormaGeometrica):\n",
    "    def __init__(self, altura, largura,atributo_quadradro):\n",
    "        FormaGeometrica.__init__(self,altura,largura)\n",
    "        self.atributo_quadradro = atributo_quadradro\n",
    "\n",
    "class Triangulo(FormaGeometrica):\n",
    "    def __init__(self, altura, largura,atributo_tringualo):\n",
    "        FormaGeometrica.__init__(self,altura,largura)\n",
    "        self.atributo_trinagulo = atributo_tringualo        \n",
    "\n",
    "quadradro = Quadradro(100,200,'quadradro')\n",
    "triangulo = Triangulo(100,200,'triangulo')\n",
    "\n",
    "print(quadradro.altura)\n",
    "print(quadradro.atributo_quadradro)\n",
    "\n",
    "print(triangulo.largura)\n",
    "print(triangulo.atributo_trinagulo)\n",
    "\n",
    "\n",
    "             "
   ]
  },
  {
   "cell_type": "code",
   "execution_count": 10,
   "metadata": {},
   "outputs": [
    {
     "name": "stdout",
     "output_type": "stream",
     "text": [
      "40000\n"
     ]
    },
    {
     "ename": "TypeError",
     "evalue": "calcula_area() missing 1 required positional argument: 'self'",
     "output_type": "error",
     "traceback": [
      "\u001b[1;31m---------------------------------------------------------------------------\u001b[0m",
      "\u001b[1;31mTypeError\u001b[0m                                 Traceback (most recent call last)",
      "Cell \u001b[1;32mIn[10], line 25\u001b[0m\n\u001b[0;32m     21\u001b[0m triangulo \u001b[38;5;241m=\u001b[39m Tringualo(\u001b[38;5;241m200\u001b[39m,\u001b[38;5;241m200\u001b[39m)\n\u001b[0;32m     23\u001b[0m \u001b[38;5;28mprint\u001b[39m(quadradro\u001b[38;5;241m.\u001b[39mcalcula_area())\n\u001b[1;32m---> 25\u001b[0m \u001b[38;5;28mprint\u001b[39m(\u001b[43mTringualo\u001b[49m\u001b[38;5;241;43m.\u001b[39;49m\u001b[43mcalcula_area\u001b[49m\u001b[43m(\u001b[49m\u001b[43m)\u001b[49m)\n",
      "\u001b[1;31mTypeError\u001b[0m: calcula_area() missing 1 required positional argument: 'self'"
     ]
    }
   ],
   "source": [
    "class FormaGeometrica:\n",
    "    def __init__(self,altura,largura):\n",
    "        self.altura = altura\n",
    "        self.largura = largura\n",
    "\n",
    "    def calcula_area(self):\n",
    "        pass \n",
    "\n",
    "class Quadradro(FormaGeometrica):\n",
    "    def calcula_area(self):\n",
    "        return self.altura * self.largura\n",
    "\n",
    "\n",
    "\n",
    "class Tringualo(FormaGeometrica):\n",
    "    def calcula_area(self):\n",
    "        return (self.altura * self.largura) / 2 \n",
    "\n",
    "quadradro = Quadradro(200,200)\n",
    "\n",
    "triangulo = Tringualo(200,200)\n",
    "\n",
    "print(quadradro.calcula_area())\n",
    "\n",
    "print(Tringualo.calcula_area())"
   ]
  },
  {
   "cell_type": "code",
   "execution_count": 12,
   "metadata": {},
   "outputs": [
    {
     "name": "stdout",
     "output_type": "stream",
     "text": [
      "2\n"
     ]
    }
   ],
   "source": [
    "class Veiculo:\n",
    "    def __init__(self,marcha):\n",
    "        self.marcha = marcha \n",
    "\n",
    "    def aumenta_marcha(self):\n",
    "        self.marcha += 1 \n",
    "        self.marcha = min(self.marcha,5)\n",
    "\n",
    "    def diminui_marcha(self):\n",
    "        self.marcha += 1 \n",
    "        self.marcha = min(self.marcha,1) \n",
    "\n",
    "class Palio(Veiculo):\n",
    "    def __init__(self, marcha):\n",
    "        Veiculo.__init__(self,marcha)\n",
    "\n",
    "class EcoSport(Veiculo):\n",
    "    def __init__(self, marcha):\n",
    "        Veiculo.__init__(self,marcha)\n",
    "\n",
    "    def aumenta_marcha(self):\n",
    "        self.marcha += 1\n",
    "        self.marcha = min(self.marcha,6)\n",
    "\n",
    "carro =  Palio(1)\n",
    "carro.aumenta_marcha()\n",
    "print(carro.marcha)      "
   ]
  },
  {
   "cell_type": "code",
   "execution_count": 1,
   "metadata": {},
   "outputs": [
    {
     "name": "stdout",
     "output_type": "stream",
     "text": [
      "10\n",
      "20\n",
      "Base1\n",
      "Base1\n"
     ]
    }
   ],
   "source": [
    "class Base:\n",
    "    def __init__(self,atributo):\n",
    "        self.atributo = atributo\n",
    "\n",
    "    def Base_print(self):\n",
    "        print(\"Base1\")\n",
    "\n",
    "\n",
    "class Base1:\n",
    "    def __init__(self,atributo1):\n",
    "        self.atributo1 = atributo1\n",
    "\n",
    "    def Base_print_1(self):\n",
    "        print(\"Base1\")\n",
    "\n",
    "\n",
    "class MinhaClasse(Base,Base1):\n",
    "    def __init__(self):\n",
    "        Base.__init__(self,10)\n",
    "        Base1.__init__(self,20)\n",
    "\n",
    "\n",
    "var =  MinhaClasse()\n",
    "\n",
    "print(var.atributo)\n",
    "print(var.atributo1)\n",
    "var.Base_print()\n",
    "var.Base_print_1()\n",
    "            "
   ]
  },
  {
   "cell_type": "code",
   "execution_count": 8,
   "metadata": {},
   "outputs": [
    {
     "ename": "AttributeError",
     "evalue": "'Segredo' object has no attribute '__segredo'",
     "output_type": "error",
     "traceback": [
      "\u001b[1;31m---------------------------------------------------------------------------\u001b[0m",
      "\u001b[1;31mAttributeError\u001b[0m                            Traceback (most recent call last)",
      "Cell \u001b[1;32mIn[8], line 6\u001b[0m\n\u001b[0;32m      3\u001b[0m         \u001b[38;5;28mself\u001b[39m\u001b[38;5;241m.\u001b[39m__segredo \u001b[38;5;241m=\u001b[39m \u001b[38;5;124m'\u001b[39m\u001b[38;5;124mSenha123\u001b[39m\u001b[38;5;124m'\u001b[39m\n\u001b[0;32m      5\u001b[0m seg \u001b[38;5;241m=\u001b[39m Segredo()\n\u001b[1;32m----> 6\u001b[0m \u001b[38;5;28mprint\u001b[39m(\u001b[43mseg\u001b[49m\u001b[38;5;241;43m.\u001b[39;49m\u001b[43m__segredo\u001b[49m)        \n",
      "\u001b[1;31mAttributeError\u001b[0m: 'Segredo' object has no attribute '__segredo'"
     ]
    }
   ],
   "source": [
    "class Segredo:\n",
    "    def __init__(self):\n",
    "        self.__segredo = 'Senha123'\n",
    "\n",
    "seg = Segredo()\n",
    "print(seg.__segredo)        "
   ]
  },
  {
   "cell_type": "code",
   "execution_count": 3,
   "metadata": {},
   "outputs": [
    {
     "ename": "AttributeError",
     "evalue": "'Segredo' object has no attribute '__printa_segredo'",
     "output_type": "error",
     "traceback": [
      "\u001b[1;31m---------------------------------------------------------------------------\u001b[0m",
      "\u001b[1;31mAttributeError\u001b[0m                            Traceback (most recent call last)",
      "Cell \u001b[1;32mIn[3], line 12\u001b[0m\n\u001b[0;32m      9\u001b[0m         \u001b[38;5;28mself\u001b[39m\u001b[38;5;241m.\u001b[39m__printa_segredo()    \n\u001b[0;32m     11\u001b[0m seg \u001b[38;5;241m=\u001b[39m Segredo()\n\u001b[1;32m---> 12\u001b[0m \u001b[43mseg\u001b[49m\u001b[38;5;241;43m.\u001b[39;49m\u001b[43m__printa_segredo\u001b[49m() \n",
      "\u001b[1;31mAttributeError\u001b[0m: 'Segredo' object has no attribute '__printa_segredo'"
     ]
    }
   ],
   "source": [
    "class Segredo:\n",
    "    def __init__(self):\n",
    "        self.__segredo = 'Senha123'\n",
    "\n",
    "    def __printa_segredo(self):\n",
    "        print(self.__segredo)\n",
    "\n",
    "    def print_segredo(self):\n",
    "        self.__printa_segredo()    \n",
    "\n",
    "seg = Segredo()\n",
    "seg.__printa_segredo() "
   ]
  },
  {
   "cell_type": "code",
   "execution_count": 4,
   "metadata": {},
   "outputs": [
    {
     "name": "stdout",
     "output_type": "stream",
     "text": [
      "Pertenço a Base e a quem me herdar\n",
      "Pertenço a Base e a quem me herdar\n"
     ]
    }
   ],
   "source": [
    "class Base:\n",
    "    def __base_privada(self):\n",
    "        print(\"Pertenço somente a base\")\n",
    "    def _baseprotegida(self):\n",
    "        print(\"Pertenço a Base e a quem me herdar\") \n",
    "\n",
    "class Filha(Base):\n",
    "    def acessa_protegida(self):\n",
    "        self._baseprotegida()\n",
    "\n",
    "filha = Filha()\n",
    "filha.acessa_protegida()\n",
    "filha._baseprotegida()\n"
   ]
  },
  {
   "cell_type": "code",
   "execution_count": null,
   "metadata": {},
   "outputs": [
    {
     "ename": "AttributeError",
     "evalue": "'Veiculo' object has no attribute 'marcha_atual'",
     "output_type": "error",
     "traceback": [
      "\u001b[1;31m---------------------------------------------------------------------------\u001b[0m",
      "\u001b[1;31mAttributeError\u001b[0m                            Traceback (most recent call last)",
      "Cell \u001b[1;32mIn[17], line 19\u001b[0m\n\u001b[0;32m     17\u001b[0m carro\u001b[38;5;241m.\u001b[39maumenta_marcha()\n\u001b[0;32m     18\u001b[0m carro\u001b[38;5;241m.\u001b[39maumenta_marcha()\n\u001b[1;32m---> 19\u001b[0m \u001b[38;5;28mprint\u001b[39m(\u001b[43mcarro\u001b[49m\u001b[38;5;241;43m.\u001b[39;49m\u001b[43mmarcha_atual\u001b[49m())  \n\u001b[0;32m     20\u001b[0m carro\u001b[38;5;241m.\u001b[39mdiminui_marcha()\n\u001b[0;32m     21\u001b[0m \u001b[38;5;28mprint\u001b[39m(carro\u001b[38;5;241m.\u001b[39mmarcha_atual()) \n",
      "\u001b[1;31mAttributeError\u001b[0m: 'Veiculo' object has no attribute 'marcha_atual'"
     ]
    }
   ],
   "source": [
    "class Veiculo:\n",
    "    def __init__(self):\n",
    "        self.__marcha = 1 \n",
    "    def aumenta_marcha(self):\n",
    "        self.__marcha += 1 \n",
    "        self.__marcha = min(self.__marcha,5)\n",
    "    def diminui_marcha(self):\n",
    "        self.__marcha -= 1 \n",
    "        self.__marcha = max(self.__marcha,5)    \n",
    "    def marcha_atual(self):\n",
    "        return self.__marcha\n",
    "\n",
    "carro = Veiculo()\n",
    "carro.aumenta_marcha()\n",
    "carro.aumenta_marcha()\n",
    "carro.aumenta_marcha()\n",
    "carro.aumenta_marcha()\n",
    "carro.aumenta_marcha()\n",
    "print(carro.marcha_atual())  \n",
    "carro.diminui_marcha()\n",
    "print(carro.marcha_atual()) \n",
    "carro.diminui_marcha() \n",
    "carro.diminui_marcha()\n",
    "print(carro.marcha_atual()) "
   ]
  },
  {
   "cell_type": "code",
   "execution_count": 27,
   "metadata": {},
   "outputs": [
    {
     "name": "stdout",
     "output_type": "stream",
     "text": [
      "Maria\n",
      "Marcos\n"
     ]
    }
   ],
   "source": [
    "class Pessoa:\n",
    "    def __init__(self,nome):\n",
    "        self.nome = nome \n",
    "\n",
    "def get_nome(self):\n",
    "    print(\"Pegando nome\")\n",
    "    return self.nome\n",
    "\n",
    "def set_nome(self,nome):\n",
    "    if len(nome) > 0:\n",
    "        print(\"Setando o nome\")\n",
    "        self.nome = nome\n",
    "\n",
    "nome = property(get_nome,set_nome)\n",
    "\n",
    "instancia = Pessoa(\"Maria\")\n",
    "print(instancia.nome)\n",
    "instancia.nome = \"Marcos\"\n",
    "print(instancia.nome)"
   ]
  }
 ],
 "metadata": {
  "kernelspec": {
   "display_name": "Python 3",
   "language": "python",
   "name": "python3"
  },
  "language_info": {
   "codemirror_mode": {
    "name": "ipython",
    "version": 3
   },
   "file_extension": ".py",
   "mimetype": "text/x-python",
   "name": "python",
   "nbconvert_exporter": "python",
   "pygments_lexer": "ipython3",
   "version": "3.9.2"
  }
 },
 "nbformat": 4,
 "nbformat_minor": 2
}
