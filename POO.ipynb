{
 "cells": [
  {
   "cell_type": "code",
   "execution_count": 1,
   "metadata": {},
   "outputs": [
    {
     "name": "stdout",
     "output_type": "stream",
     "text": [
      "<class '__main__.Teste'>\n"
     ]
    }
   ],
   "source": [
    "class Teste:\n",
    "    pass \n",
    "\n",
    "minha_classe = Teste()\n",
    "print(type(minha_classe))\n"
   ]
  },
  {
   "cell_type": "code",
   "execution_count": 2,
   "metadata": {},
   "outputs": [
    {
     "name": "stdout",
     "output_type": "stream",
     "text": [
      "Eu existo!\n",
      "<class '__main__.NossaClasse'>\n"
     ]
    }
   ],
   "source": [
    "class NossaClasse:\n",
    "    def __init__(self):\n",
    "        print(\"Eu existo!\")\n",
    "\n",
    "var = NossaClasse()\n",
    "print(type(var))"
   ]
  },
  {
   "cell_type": "code",
   "execution_count": 3,
   "metadata": {},
   "outputs": [
    {
     "name": "stdout",
     "output_type": "stream",
     "text": [
      "Pessoa com nome João e idade 30 criada\n",
      "Pessoa com nome Pedro e idade 44 criada\n",
      "João\n",
      "44\n"
     ]
    }
   ],
   "source": [
    "class Pessoa:\n",
    "    def __init__(self,nome,idade):\n",
    "        self.nome = nome \n",
    "        self.idade = idade \n",
    "        print(\"Pessoa com nome %s e idade %d criada\" %(nome,idade))\n",
    "\n",
    "pessoa1 = Pessoa('João',30)\n",
    "pessoa2 = Pessoa('Pedro',44)\n",
    "\n",
    "print(pessoa1.nome)\n",
    "print(pessoa2.idade)"
   ]
  },
  {
   "cell_type": "code",
   "execution_count": 4,
   "metadata": {},
   "outputs": [
    {
     "name": "stdout",
     "output_type": "stream",
     "text": [
      "Pessoa com nome João e idade 30 criada\n",
      "Pessoa com nome Pedro e idade 44 criada\n",
      "Homo Sapiens\n",
      "Homo Sapiens\n"
     ]
    }
   ],
   "source": [
    "class Pessoa:\n",
    "    especie = \"Homo Sapiens\"\n",
    "    def __init__(self,nome,idade):\n",
    "        self.nome = nome \n",
    "        self.idade = idade \n",
    "        print(\"Pessoa com nome %s e idade %d criada\" %(nome,idade))\n",
    "\n",
    "pessoa1 = Pessoa('João',30)\n",
    "pessoa2 = Pessoa('Pedro',44)\n",
    "\n",
    "print(pessoa1.especie)\n",
    "print(pessoa2.especie)"
   ]
  },
  {
   "cell_type": "code",
   "execution_count": 5,
   "metadata": {},
   "outputs": [
    {
     "name": "stdout",
     "output_type": "stream",
     "text": [
      "0\n"
     ]
    }
   ],
   "source": [
    "class Pessoa:\n",
    "    especie = \"Homo Sapiens\"\n",
    "    num_pessoa = 0\n",
    "    def __init__(self,nome,idade):\n",
    "        self.nome = nome \n",
    "        self.idade = idade \n",
    "        Pessoa.num_pessoa\n",
    "\n",
    "pessoa1 = Pessoa('João',30)\n",
    "pessoa2 = Pessoa('Pedro',44)\n",
    "pessoa3 = Pessoa('Lucas',23)\n",
    "\n",
    "print(Pessoa.num_pessoa)\n"
   ]
  },
  {
   "cell_type": "code",
   "execution_count": 6,
   "metadata": {},
   "outputs": [
    {
     "name": "stdout",
     "output_type": "stream",
     "text": [
      "1\n",
      "2\n",
      "3\n"
     ]
    }
   ],
   "source": [
    "class Pessoa:\n",
    "    especie = \"Homo Sapiens\"\n",
    "    num_pessoa = 0\n",
    "    def __init__(self,nome,idade):\n",
    "        self.nome = nome \n",
    "        self.idade = idade \n",
    "        Pessoa.num_pessoa += 1\n",
    "\n",
    "pessoa1 = Pessoa('João',30)\n",
    "print(Pessoa.num_pessoa)\n",
    "pessoa2 = Pessoa('Pedro',44)\n",
    "print(Pessoa.num_pessoa)\n",
    "pessoa3 = Pessoa('Lucas',23)\n",
    "print(Pessoa.num_pessoa)"
   ]
  },
  {
   "cell_type": "code",
   "execution_count": 7,
   "metadata": {},
   "outputs": [
    {
     "name": "stdout",
     "output_type": "stream",
     "text": [
      "Meu nome e Roger\n",
      "Meu nome e Maria\n"
     ]
    }
   ],
   "source": [
    "class Pessoa:\n",
    "    def __init__(self,nome,idade):\n",
    "        self.nome = nome \n",
    "        self.idade = idade\n",
    "    def print_nome(self):\n",
    "        print(\"Meu nome e %s\" %(self.nome))\n",
    "\n",
    "pessoa1 = Pessoa(\"Roger\",33)\n",
    "pessoa2 = Pessoa(\"Maria\",20)\n",
    "\n",
    "pessoa1.print_nome()\n",
    "pessoa2.print_nome()\n"
   ]
  },
  {
   "cell_type": "code",
   "execution_count": 8,
   "metadata": {},
   "outputs": [
    {
     "name": "stdout",
     "output_type": "stream",
     "text": [
      "Meu nome e Roger \n",
      "Meu nome e Maria \n"
     ]
    }
   ],
   "source": [
    "class Pessoa:\n",
    "    def __init__(self,nome,idade):\n",
    "        self.nome = nome \n",
    "        self.idade = idade\n",
    "\n",
    "    def print_string(self,nome):\n",
    "        print(\"Meu nome e %s \"%(nome))   \n",
    "    \n",
    "    def print_nome(self):\n",
    "       self.print_string(self.nome)\n",
    "\n",
    "pessoa1 = Pessoa(\"Roger\",33)\n",
    "pessoa2 = Pessoa(\"Maria\",20)\n",
    "\n",
    "pessoa1.print_nome()\n",
    "pessoa2.print_nome()"
   ]
  },
  {
   "cell_type": "code",
   "execution_count": 9,
   "metadata": {},
   "outputs": [
    {
     "name": "stdout",
     "output_type": "stream",
     "text": [
      "34\n",
      "Rodrigo\n"
     ]
    }
   ],
   "source": [
    "class Pessoa:\n",
    "    def __init__(self,nome):\n",
    "        self.nome =nome \n",
    "    \n",
    "    def insere_idade(self,idade):\n",
    "        self.idade = idade\n",
    "\n",
    "rodrigo = Pessoa(\"Rodrigo\")\n",
    "rodrigo.insere_idade(34)\n",
    "\n",
    "print(rodrigo.idade)\n",
    "print(rodrigo.nome)\n"
   ]
  },
  {
   "cell_type": "code",
   "execution_count": 10,
   "metadata": {},
   "outputs": [
    {
     "name": "stdout",
     "output_type": "stream",
     "text": [
      "10\n"
     ]
    }
   ],
   "source": [
    "class Tipo1:\n",
    "    def __init__(self,outra_classe):\n",
    "        self.outra = outra_classe\n",
    "\n",
    "class Tipo2:\n",
    "    num = 10 \n",
    "\n",
    "classe2 = Tipo2()\n",
    "\n",
    "classe1 = Tipo1(classe2)\n",
    "\n",
    "print(classe1.outra.num)\n",
    "\n",
    "\n",
    "\n"
   ]
  },
  {
   "cell_type": "code",
   "execution_count": 11,
   "metadata": {},
   "outputs": [
    {
     "name": "stdout",
     "output_type": "stream",
     "text": [
      "<class '__main__.Exemplo'>\n"
     ]
    }
   ],
   "source": [
    "class Exemplo:\n",
    "    def __init__(self):\n",
    "        pass \n",
    "\n",
    "lista = []\n",
    "ex1 = Exemplo\n",
    "ex2 = Exemplo\n",
    "\n",
    "lista.append(ex1)\n",
    "lista.append(ex2)\n",
    "\n",
    "print(lista[0])"
   ]
  },
  {
   "cell_type": "markdown",
   "metadata": {},
   "source": [
    "HERANÇA"
   ]
  },
  {
   "cell_type": "code",
   "execution_count": 12,
   "metadata": {},
   "outputs": [
    {
     "name": "stdout",
     "output_type": "stream",
     "text": [
      "Sou Herdado\n",
      "Sou Herdado\n",
      "100\n",
      "50\n",
      "10\n",
      "50\n",
      "100\n",
      "10\n"
     ]
    }
   ],
   "source": [
    "class FormaGeometrica:\n",
    "    def __init__(self,altura,largura):\n",
    "        self.altura = altura \n",
    "        self.largura = largura \n",
    "\n",
    "    def funcao_herdada(self):\n",
    "        print(\"Sou Herdado\")    \n",
    "\n",
    "class Quadradro(FormaGeometrica):\n",
    "    lado  = 10\n",
    "\n",
    "class Triangulo(FormaGeometrica):\n",
    "    angulo = 10\n",
    "\n",
    "quadradro = Quadradro(100,50)\n",
    "triangulo = Triangulo(100,50)\n",
    "\n",
    "quadradro.funcao_herdada()\n",
    "\n",
    "triangulo.funcao_herdada()\n",
    "\n",
    "print(quadradro.altura)\n",
    "print(quadradro.largura)\n",
    "print(quadradro.lado)\n",
    "\n",
    "print(triangulo.largura)\n",
    "print(triangulo.altura)\n",
    "print(triangulo.angulo)\n"
   ]
  },
  {
   "cell_type": "markdown",
   "metadata": {},
   "source": [
    "OVERRIDE:SOBREPOSIÇÃO DE FUNÇÕES "
   ]
  },
  {
   "cell_type": "code",
   "execution_count": 13,
   "metadata": {},
   "outputs": [
    {
     "name": "stdout",
     "output_type": "stream",
     "text": [
      "Sou a classe pai\n",
      "Sou a classe filha 1\n",
      "sou a classe filha 2\n"
     ]
    }
   ],
   "source": [
    "class ClassePai:\n",
    "    def __init__(self):\n",
    "        print(\"Sou a classe pai\")\n",
    "\n",
    "\n",
    "class ClasseFilha1(ClassePai):\n",
    "    def __init__(self):\n",
    "        print(\"Sou a classe filha 1\")\n",
    "\n",
    "\n",
    "class ClasseFilha2(ClassePai):\n",
    "    def __init__(self):\n",
    "        print(\"sou a classe filha 2\")\n",
    "\n",
    "\n",
    "pai = ClassePai()\n",
    "filha1 = ClasseFilha1()\n",
    "filha2 = ClasseFilha2()\n",
    "\n"
   ]
  },
  {
   "cell_type": "code",
   "execution_count": 14,
   "metadata": {},
   "outputs": [
    {
     "name": "stdout",
     "output_type": "stream",
     "text": [
      "100\n",
      "quadradro\n",
      "200\n",
      "triangulo\n"
     ]
    }
   ],
   "source": [
    "class FormaGeometrica:\n",
    "    def __init__(self,altura,largura):\n",
    "        self.largura = largura\n",
    "        self.altura = altura\n",
    "\n",
    "class Quadradro(FormaGeometrica):\n",
    "    def __init__(self, altura, largura,atributo_quadradro):\n",
    "        FormaGeometrica.__init__(self,altura,largura)\n",
    "        self.atributo_quadradro = atributo_quadradro\n",
    "\n",
    "class Triangulo(FormaGeometrica):\n",
    "    def __init__(self, altura, largura,atributo_tringualo):\n",
    "        FormaGeometrica.__init__(self,altura,largura)\n",
    "        self.atributo_trinagulo = atributo_tringualo        \n",
    "\n",
    "quadradro = Quadradro(100,200,'quadradro')\n",
    "triangulo = Triangulo(100,200,'triangulo')\n",
    "\n",
    "print(quadradro.altura)\n",
    "print(quadradro.atributo_quadradro)\n",
    "\n",
    "print(triangulo.largura)\n",
    "print(triangulo.atributo_trinagulo)\n",
    "\n",
    "\n",
    "             "
   ]
  },
  {
   "cell_type": "code",
   "execution_count": 15,
   "metadata": {},
   "outputs": [
    {
     "name": "stdout",
     "output_type": "stream",
     "text": [
      "40000\n"
     ]
    },
    {
     "ename": "TypeError",
     "evalue": "calcula_area() missing 1 required positional argument: 'self'",
     "output_type": "error",
     "traceback": [
      "\u001b[1;31m---------------------------------------------------------------------------\u001b[0m",
      "\u001b[1;31mTypeError\u001b[0m                                 Traceback (most recent call last)",
      "Cell \u001b[1;32mIn[15], line 25\u001b[0m\n\u001b[0;32m     21\u001b[0m triangulo \u001b[38;5;241m=\u001b[39m Tringualo(\u001b[38;5;241m200\u001b[39m,\u001b[38;5;241m200\u001b[39m)\n\u001b[0;32m     23\u001b[0m \u001b[38;5;28mprint\u001b[39m(quadradro\u001b[38;5;241m.\u001b[39mcalcula_area())\n\u001b[1;32m---> 25\u001b[0m \u001b[38;5;28mprint\u001b[39m(\u001b[43mTringualo\u001b[49m\u001b[38;5;241;43m.\u001b[39;49m\u001b[43mcalcula_area\u001b[49m\u001b[43m(\u001b[49m\u001b[43m)\u001b[49m)\n",
      "\u001b[1;31mTypeError\u001b[0m: calcula_area() missing 1 required positional argument: 'self'"
     ]
    }
   ],
   "source": [
    "class FormaGeometrica:\n",
    "    def __init__(self,altura,largura):\n",
    "        self.altura = altura\n",
    "        self.largura = largura\n",
    "\n",
    "    def calcula_area(self):\n",
    "        pass \n",
    "\n",
    "class Quadradro(FormaGeometrica):\n",
    "    def calcula_area(self):\n",
    "        return self.altura * self.largura\n",
    "\n",
    "\n",
    "\n",
    "class Tringualo(FormaGeometrica):\n",
    "    def calcula_area(self):\n",
    "        return (self.altura * self.largura) / 2 \n",
    "\n",
    "quadradro = Quadradro(200,200)\n",
    "\n",
    "triangulo = Tringualo(200,200)\n",
    "\n",
    "print(quadradro.calcula_area())\n",
    "\n",
    "print(Tringualo.calcula_area())"
   ]
  },
  {
   "cell_type": "code",
   "execution_count": 12,
   "metadata": {},
   "outputs": [
    {
     "name": "stdout",
     "output_type": "stream",
     "text": [
      "2\n"
     ]
    }
   ],
   "source": [
    "class Veiculo:\n",
    "    def __init__(self,marcha):\n",
    "        self.marcha = marcha \n",
    "\n",
    "    def aumenta_marcha(self):\n",
    "        self.marcha += 1 \n",
    "        self.marcha = min(self.marcha,5)\n",
    "\n",
    "    def diminui_marcha(self):\n",
    "        self.marcha += 1 \n",
    "        self.marcha = min(self.marcha,1) \n",
    "\n",
    "class Palio(Veiculo):\n",
    "    def __init__(self, marcha):\n",
    "        Veiculo.__init__(self,marcha)\n",
    "\n",
    "class EcoSport(Veiculo):\n",
    "    def __init__(self, marcha):\n",
    "        Veiculo.__init__(self,marcha)\n",
    "\n",
    "    def aumenta_marcha(self):\n",
    "        self.marcha += 1\n",
    "        self.marcha = min(self.marcha,6)\n",
    "\n",
    "carro =  Palio(1)\n",
    "carro.aumenta_marcha()\n",
    "print(carro.marcha)      "
   ]
  },
  {
   "cell_type": "code",
   "execution_count": 1,
   "metadata": {},
   "outputs": [
    {
     "name": "stdout",
     "output_type": "stream",
     "text": [
      "10\n",
      "20\n",
      "Base1\n",
      "Base1\n"
     ]
    }
   ],
   "source": [
    "class Base:\n",
    "    def __init__(self,atributo):\n",
    "        self.atributo = atributo\n",
    "\n",
    "    def Base_print(self):\n",
    "        print(\"Base1\")\n",
    "\n",
    "\n",
    "class Base1:\n",
    "    def __init__(self,atributo1):\n",
    "        self.atributo1 = atributo1\n",
    "\n",
    "    def Base_print_1(self):\n",
    "        print(\"Base1\")\n",
    "\n",
    "\n",
    "class MinhaClasse(Base,Base1):\n",
    "    def __init__(self):\n",
    "        Base.__init__(self,10)\n",
    "        Base1.__init__(self,20)\n",
    "\n",
    "\n",
    "var =  MinhaClasse()\n",
    "\n",
    "print(var.atributo)\n",
    "print(var.atributo1)\n",
    "var.Base_print()\n",
    "var.Base_print_1()\n",
    "            "
   ]
  },
  {
   "cell_type": "code",
   "execution_count": 8,
   "metadata": {},
   "outputs": [
    {
     "ename": "AttributeError",
     "evalue": "'Segredo' object has no attribute '__segredo'",
     "output_type": "error",
     "traceback": [
      "\u001b[1;31m---------------------------------------------------------------------------\u001b[0m",
      "\u001b[1;31mAttributeError\u001b[0m                            Traceback (most recent call last)",
      "Cell \u001b[1;32mIn[8], line 6\u001b[0m\n\u001b[0;32m      3\u001b[0m         \u001b[38;5;28mself\u001b[39m\u001b[38;5;241m.\u001b[39m__segredo \u001b[38;5;241m=\u001b[39m \u001b[38;5;124m'\u001b[39m\u001b[38;5;124mSenha123\u001b[39m\u001b[38;5;124m'\u001b[39m\n\u001b[0;32m      5\u001b[0m seg \u001b[38;5;241m=\u001b[39m Segredo()\n\u001b[1;32m----> 6\u001b[0m \u001b[38;5;28mprint\u001b[39m(\u001b[43mseg\u001b[49m\u001b[38;5;241;43m.\u001b[39;49m\u001b[43m__segredo\u001b[49m)        \n",
      "\u001b[1;31mAttributeError\u001b[0m: 'Segredo' object has no attribute '__segredo'"
     ]
    }
   ],
   "source": [
    "class Segredo:\n",
    "    def __init__(self):\n",
    "        self.__segredo = 'Senha123'\n",
    "\n",
    "seg = Segredo()\n",
    "print(seg.__segredo)        "
   ]
  },
  {
   "cell_type": "code",
   "execution_count": 3,
   "metadata": {},
   "outputs": [
    {
     "ename": "AttributeError",
     "evalue": "'Segredo' object has no attribute '__printa_segredo'",
     "output_type": "error",
     "traceback": [
      "\u001b[1;31m---------------------------------------------------------------------------\u001b[0m",
      "\u001b[1;31mAttributeError\u001b[0m                            Traceback (most recent call last)",
      "Cell \u001b[1;32mIn[3], line 12\u001b[0m\n\u001b[0;32m      9\u001b[0m         \u001b[38;5;28mself\u001b[39m\u001b[38;5;241m.\u001b[39m__printa_segredo()    \n\u001b[0;32m     11\u001b[0m seg \u001b[38;5;241m=\u001b[39m Segredo()\n\u001b[1;32m---> 12\u001b[0m \u001b[43mseg\u001b[49m\u001b[38;5;241;43m.\u001b[39;49m\u001b[43m__printa_segredo\u001b[49m() \n",
      "\u001b[1;31mAttributeError\u001b[0m: 'Segredo' object has no attribute '__printa_segredo'"
     ]
    }
   ],
   "source": [
    "class Segredo:\n",
    "    def __init__(self):\n",
    "        self.__segredo = 'Senha123'\n",
    "\n",
    "    def __printa_segredo(self):\n",
    "        print(self.__segredo)\n",
    "\n",
    "    def print_segredo(self):\n",
    "        self.__printa_segredo()    \n",
    "\n",
    "seg = Segredo()\n",
    "seg.__printa_segredo() "
   ]
  },
  {
   "cell_type": "code",
   "execution_count": 4,
   "metadata": {},
   "outputs": [
    {
     "name": "stdout",
     "output_type": "stream",
     "text": [
      "Pertenço a Base e a quem me herdar\n",
      "Pertenço a Base e a quem me herdar\n"
     ]
    }
   ],
   "source": [
    "class Base:\n",
    "    def __base_privada(self):\n",
    "        print(\"Pertenço somente a base\")\n",
    "    def _baseprotegida(self):\n",
    "        print(\"Pertenço a Base e a quem me herdar\") \n",
    "\n",
    "class Filha(Base):\n",
    "    def acessa_protegida(self):\n",
    "        self._baseprotegida()\n",
    "\n",
    "filha = Filha()\n",
    "filha.acessa_protegida()\n",
    "filha._baseprotegida()\n"
   ]
  },
  {
   "cell_type": "code",
   "execution_count": null,
   "metadata": {},
   "outputs": [
    {
     "ename": "AttributeError",
     "evalue": "'Veiculo' object has no attribute 'marcha_atual'",
     "output_type": "error",
     "traceback": [
      "\u001b[1;31m---------------------------------------------------------------------------\u001b[0m",
      "\u001b[1;31mAttributeError\u001b[0m                            Traceback (most recent call last)",
      "Cell \u001b[1;32mIn[17], line 19\u001b[0m\n\u001b[0;32m     17\u001b[0m carro\u001b[38;5;241m.\u001b[39maumenta_marcha()\n\u001b[0;32m     18\u001b[0m carro\u001b[38;5;241m.\u001b[39maumenta_marcha()\n\u001b[1;32m---> 19\u001b[0m \u001b[38;5;28mprint\u001b[39m(\u001b[43mcarro\u001b[49m\u001b[38;5;241;43m.\u001b[39;49m\u001b[43mmarcha_atual\u001b[49m())  \n\u001b[0;32m     20\u001b[0m carro\u001b[38;5;241m.\u001b[39mdiminui_marcha()\n\u001b[0;32m     21\u001b[0m \u001b[38;5;28mprint\u001b[39m(carro\u001b[38;5;241m.\u001b[39mmarcha_atual()) \n",
      "\u001b[1;31mAttributeError\u001b[0m: 'Veiculo' object has no attribute 'marcha_atual'"
     ]
    }
   ],
   "source": [
    "class Veiculo:\n",
    "    def __init__(self):\n",
    "        self.__marcha = 1 \n",
    "    def aumenta_marcha(self):\n",
    "        self.__marcha += 1 \n",
    "        self.__marcha = min(self.__marcha,5)\n",
    "    def diminui_marcha(self):\n",
    "        self.__marcha -= 1 \n",
    "        self.__marcha = max(self.__marcha,5)    \n",
    "    def marcha_atual(self):\n",
    "        return self.__marcha\n",
    "\n",
    "carro = Veiculo()\n",
    "carro.aumenta_marcha()\n",
    "carro.aumenta_marcha()\n",
    "carro.aumenta_marcha()\n",
    "carro.aumenta_marcha()\n",
    "carro.aumenta_marcha()\n",
    "print(carro.marcha_atual())  \n",
    "carro.diminui_marcha()\n",
    "print(carro.marcha_atual()) \n",
    "carro.diminui_marcha() \n",
    "carro.diminui_marcha()\n",
    "print(carro.marcha_atual()) "
   ]
  },
  {
   "cell_type": "code",
   "execution_count": 27,
   "metadata": {},
   "outputs": [
    {
     "name": "stdout",
     "output_type": "stream",
     "text": [
      "Maria\n",
      "Marcos\n"
     ]
    }
   ],
   "source": [
    "class Pessoa:\n",
    "    def __init__(self,nome):\n",
    "        self.nome = nome \n",
    "\n",
    "def get_nome(self):\n",
    "    print(\"Pegando nome\")\n",
    "    return self.nome\n",
    "\n",
    "def set_nome(self,nome):\n",
    "    if len(nome) > 0:\n",
    "        print(\"Setando o nome\")\n",
    "        self.nome = nome\n",
    "\n",
    "nome = property(get_nome,set_nome)\n",
    "\n",
    "instancia = Pessoa(\"Maria\")\n",
    "print(instancia.nome)\n",
    "instancia.nome = \"Marcos\"\n",
    "print(instancia.nome)"
   ]
  },
  {
   "cell_type": "code",
   "execution_count": 1,
   "metadata": {},
   "outputs": [
    {
     "ename": "",
     "evalue": "",
     "output_type": "error",
     "traceback": [
      "\u001b[1;31mThe Kernel crashed while executing code in the current cell or a previous cell. \n",
      "\u001b[1;31mPlease review the code in the cell(s) to identify a possible cause of the failure. \n",
      "\u001b[1;31mClick <a href='https://aka.ms/vscodeJupyterKernelCrash'>here</a> for more info. \n",
      "\u001b[1;31mView Jupyter <a href='command:jupyter.viewOutput'>log</a> for further details."
     ]
    }
   ],
   "source": [
    "class Natural:\n",
    "    def __init__(self,numero):\n",
    "        self.numero = numero\n",
    "\n",
    "    @property\n",
    "    def numero(self):\n",
    "        print(\"Pegando o número\")\n",
    "        return self.numero\n",
    "\n",
    "    @numero.setter\n",
    "    def numero(self,value):\n",
    "        if value >= 0:\n",
    "            self.numero = value\n",
    "            print(\"setando numero para \",value)\n",
    "\n",
    "\n",
    "numero = Natural(10)\n",
    "numero.numero = 20\n",
    "print(numero.numero)            \n",
    "\n"
   ]
  },
  {
   "cell_type": "code",
   "execution_count": 1,
   "metadata": {},
   "outputs": [
    {
     "ename": "NameError",
     "evalue": "name 'nome' is not defined",
     "output_type": "error",
     "traceback": [
      "\u001b[1;31m---------------------------------------------------------------------------\u001b[0m",
      "\u001b[1;31mNameError\u001b[0m                                 Traceback (most recent call last)",
      "Cell \u001b[1;32mIn[1], line 14\u001b[0m\n\u001b[0;32m     11\u001b[0m         \u001b[38;5;28;01mif\u001b[39;00m (\u001b[38;5;28mlen\u001b[39m(value)\u001b[38;5;241m!=\u001b[39m\u001b[38;5;241m0\u001b[39m):\n\u001b[0;32m     12\u001b[0m             \u001b[38;5;28mself\u001b[39m\u001b[38;5;241m.\u001b[39mnome \u001b[38;5;241m=\u001b[39m nome \n\u001b[1;32m---> 14\u001b[0m pessoa \u001b[38;5;241m=\u001b[39m \u001b[43mPessoa\u001b[49m\u001b[43m(\u001b[49m\u001b[38;5;124;43m\"\u001b[39;49m\u001b[38;5;124;43mRodrigo\u001b[39;49m\u001b[38;5;124;43m\"\u001b[39;49m\u001b[43m)\u001b[49m\n\u001b[0;32m     15\u001b[0m \u001b[38;5;28mprint\u001b[39m(pessoa\u001b[38;5;241m.\u001b[39mnome)\n\u001b[0;32m     16\u001b[0m pessoa\u001b[38;5;241m.\u001b[39mnome \u001b[38;5;241m=\u001b[39m \u001b[38;5;124m\"\u001b[39m\u001b[38;5;124mFernando\u001b[39m\u001b[38;5;124m\"\u001b[39m\n",
      "Cell \u001b[1;32mIn[1], line 3\u001b[0m, in \u001b[0;36mPessoa.__init__\u001b[1;34m(self, nome)\u001b[0m\n\u001b[0;32m      2\u001b[0m \u001b[38;5;28;01mdef\u001b[39;00m \u001b[38;5;21m__init__\u001b[39m(\u001b[38;5;28mself\u001b[39m,nome):\n\u001b[1;32m----> 3\u001b[0m     \u001b[38;5;28;43mself\u001b[39;49m\u001b[38;5;241;43m.\u001b[39;49m\u001b[43mnome\u001b[49m \u001b[38;5;241m=\u001b[39m nome\n",
      "Cell \u001b[1;32mIn[1], line 12\u001b[0m, in \u001b[0;36mPessoa.nome\u001b[1;34m(self, value)\u001b[0m\n\u001b[0;32m      9\u001b[0m \u001b[38;5;129m@nome\u001b[39m\u001b[38;5;241m.\u001b[39msetter\n\u001b[0;32m     10\u001b[0m \u001b[38;5;28;01mdef\u001b[39;00m \u001b[38;5;21mnome\u001b[39m(\u001b[38;5;28mself\u001b[39m,value):\n\u001b[0;32m     11\u001b[0m     \u001b[38;5;28;01mif\u001b[39;00m (\u001b[38;5;28mlen\u001b[39m(value)\u001b[38;5;241m!=\u001b[39m\u001b[38;5;241m0\u001b[39m):\n\u001b[1;32m---> 12\u001b[0m         \u001b[38;5;28mself\u001b[39m\u001b[38;5;241m.\u001b[39mnome \u001b[38;5;241m=\u001b[39m \u001b[43mnome\u001b[49m\n",
      "\u001b[1;31mNameError\u001b[0m: name 'nome' is not defined"
     ]
    }
   ],
   "source": [
    "class Pessoa:\n",
    "    def __init__(self,nome):\n",
    "        self.nome = nome \n",
    "\n",
    "    @property\n",
    "    def nome(self):\n",
    "        return self.nome.capitalize()\n",
    "    \n",
    "    @nome.setter\n",
    "    def nome(self,value):\n",
    "        if (len(value)!=0):\n",
    "            self.nome = nome \n",
    "\n",
    "pessoa = Pessoa(\"Rodrigo\")\n",
    "print(pessoa.nome)\n",
    "pessoa.nome = \"Fernando\"\n",
    "print(pessoa.nome)\n",
    "    "
   ]
  },
  {
   "cell_type": "code",
   "execution_count": 1,
   "metadata": {},
   "outputs": [
    {
     "name": "stdout",
     "output_type": "stream",
     "text": [
      "<class '__main__.Teste'>\n",
      "static method\n",
      "<class '__main__.Teste'>\n"
     ]
    }
   ],
   "source": [
    "class Teste:\n",
    "    def __init__(self,gasolina):\n",
    "        pass \n",
    "    @classmethod\n",
    "    def class_method(cls):\n",
    "        print(cls)\n",
    "    @staticmethod\n",
    "    def static_method():\n",
    "        print(\"static method\")\n",
    "\n",
    "Teste.class_method()\n",
    "Teste.static_method()\n",
    "\n",
    "teste = Teste(\"Aditivada\")\n",
    "teste.class_method()"
   ]
  },
  {
   "cell_type": "code",
   "execution_count": 2,
   "metadata": {},
   "outputs": [
    {
     "name": "stdout",
     "output_type": "stream",
     "text": [
      "carro\n",
      "comum\n",
      "200\n",
      "trator\n"
     ]
    }
   ],
   "source": [
    "class Veiculo:\n",
    "    def __init__(self,nome,gasolina,potencia):\n",
    "        self.nome = nome\n",
    "        self.gasolina = gasolina \n",
    "        self.potencia = potencia\n",
    "    @classmethod\n",
    "    def cria_carro(cls):\n",
    "        return cls(\"carro\",\"comum\",200)\n",
    "    @classmethod\n",
    "    def cria_trator(cls):\n",
    "        return cls(\"trator\",\"aditivada\",500)\n",
    "\n",
    "\n",
    "veiculo1 = Veiculo.cria_carro()\n",
    "veiculo2 = Veiculo.cria_trator()\n",
    "\n",
    "print(veiculo1.nome)\n",
    "print(veiculo1.gasolina)\n",
    "print(veiculo1.potencia)\n",
    "print(veiculo2.nome) \n"
   ]
  },
  {
   "cell_type": "code",
   "execution_count": 3,
   "metadata": {},
   "outputs": [
    {
     "name": "stdout",
     "output_type": "stream",
     "text": [
      "2\n"
     ]
    }
   ],
   "source": [
    "class Veiculo:\n",
    "    __numero_veiculos = 0\n",
    "    def __init__(self,nome,gasolina,potencia):\n",
    "        self.nome = nome\n",
    "        self.gasolina = gasolina \n",
    "        self.potencia = potencia\n",
    "        Veiculo.__numero_veiculos += 1\n",
    "    @staticmethod\n",
    "    def get_numero_carros():\n",
    "        return Veiculo.__numero_veiculos\n",
    "\n",
    "carro = Veiculo(\"carro\",\"aditivada\",300)\n",
    "carro2 = Veiculo(\"caminhão\",\"aditivada\",5000)\n",
    "print(Veiculo.get_numero_carros())    \n",
    "    \n"
   ]
  },
  {
   "cell_type": "code",
   "execution_count": 5,
   "metadata": {},
   "outputs": [
    {
     "name": "stdout",
     "output_type": "stream",
     "text": [
      "10\n"
     ]
    }
   ],
   "source": [
    "lst = 10 \n",
    "lst2 = lst\n",
    "lst2 = 20 \n",
    "print(lst)"
   ]
  },
  {
   "cell_type": "code",
   "execution_count": 7,
   "metadata": {},
   "outputs": [
    {
     "name": "stdout",
     "output_type": "stream",
     "text": [
      "[1, 2, 3, 10]\n"
     ]
    }
   ],
   "source": [
    "lst1 = [1,2,3]\n",
    "lst2 = lst1\n",
    "lst2.append(10)\n",
    "print(lst2)"
   ]
  },
  {
   "cell_type": "code",
   "execution_count": 9,
   "metadata": {},
   "outputs": [
    {
     "name": "stdout",
     "output_type": "stream",
     "text": [
      "20\n"
     ]
    }
   ],
   "source": [
    "class Classe:\n",
    "    def __init__(self):\n",
    "        self.num = 10 \n",
    "\n",
    "class1 = Classe()\n",
    "class2 = class1\n",
    "class2.num = 20\n",
    "print(class2.num)"
   ]
  },
  {
   "cell_type": "code",
   "execution_count": 10,
   "metadata": {},
   "outputs": [
    {
     "name": "stdout",
     "output_type": "stream",
     "text": [
      "[1, 2, 3, 10]\n"
     ]
    }
   ],
   "source": [
    "from copy import copy \n",
    "lst1 = [1,2,3]\n",
    "lst2 = copy(lst1)\n",
    "lst2.append(10)\n",
    "print(lst2)"
   ]
  },
  {
   "cell_type": "code",
   "execution_count": null,
   "metadata": {},
   "outputs": [],
   "source": [
    "numero = 10 \n",
    "del numero \n",
    "print(numero)"
   ]
  },
  {
   "cell_type": "code",
   "execution_count": null,
   "metadata": {},
   "outputs": [
    {
     "ename": "",
     "evalue": "",
     "output_type": "error",
     "traceback": [
      "\u001b[1;31mFailed to start the Kernel. \n",
      "\u001b[1;31mUnable to start Kernel 'Python 3.9.2' due to a timeout waiting for the ports to get used. \n",
      "\u001b[1;31mView Jupyter <a href='command:jupyter.viewOutput'>log</a> for further details."
     ]
    }
   ],
   "source": [
    "arr = [1,2,3]\n",
    "del arr[0]\n",
    "print(arr)"
   ]
  },
  {
   "cell_type": "code",
   "execution_count": 4,
   "metadata": {},
   "outputs": [
    {
     "name": "stdout",
     "output_type": "stream",
     "text": [
      "10\n",
      "<__main__.Teste object at 0x0000026054EAA730>\n"
     ]
    }
   ],
   "source": [
    "class Teste:\n",
    "    def __init__(self,num):\n",
    "        self.num = num\n",
    "        \n",
    "variavel = Teste(10)\n",
    "print(variavel.num)\n",
    "\n",
    "del variavel.num\n",
    "\n",
    "print(variavel)"
   ]
  },
  {
   "cell_type": "code",
   "execution_count": 6,
   "metadata": {},
   "outputs": [
    {
     "name": "stdout",
     "output_type": "stream",
     "text": [
      "Fui deletado\n"
     ]
    }
   ],
   "source": [
    "class Teste1:\n",
    "    def __init__(self):\n",
    "        self.lista = [1,2,3]\n",
    "    def __del__(self):\n",
    "        print(\"Fui deletado\")\n",
    "\n",
    "teste = Teste1()\n",
    "del teste \n"
   ]
  },
  {
   "cell_type": "code",
   "execution_count": null,
   "metadata": {},
   "outputs": [],
   "source": [
    "class pessoa:\n",
    "    def __init__(self,nome):\n",
    "        self.__nome = nome \n",
    "\n",
    "    def get_nome(self):\n",
    "        print(\"pegando nome\")\n",
    "\n",
    "    return self.__nome \n",
    "\n",
    "    def set_nome(self):\n",
    "        print(\"Setando o nome \")\n",
    "        self.__nome = nome \n",
    "\n",
    "\n",
    "    def del_nome(self):\n",
    "        print(\"deletando o nome\")\n",
    "        del self.__nome \n",
    "\n",
    "nome = property(get_nome,set_nome,del_nome)\n",
    "\n",
    "instancia = Pessoa(\"Manuela\")\n",
    "\n",
    "del instancia\n",
    "\n",
    "\n",
    "\n"
   ]
  },
  {
   "cell_type": "code",
   "execution_count": 7,
   "metadata": {},
   "outputs": [
    {
     "name": "stdout",
     "output_type": "stream",
     "text": [
      "Deletando o nome\n"
     ]
    }
   ],
   "source": [
    "class Pessoa:\n",
    "    def __init__(self,nome):\n",
    "        self.__nome = nome \n",
    "\n",
    "    @property\n",
    "    def nome(self):\n",
    "        return self\n",
    "\n",
    "    @nome.deleter\n",
    "    def nome(self):\n",
    "        print(\"Deletando o nome\")\n",
    "        del self.__nome \n",
    "\n",
    "instancia = Pessoa(\"Manuela\")\n",
    "del instancia.nome \n",
    "           "
   ]
  },
  {
   "cell_type": "code",
   "execution_count": 8,
   "metadata": {},
   "outputs": [
    {
     "name": "stdout",
     "output_type": "stream",
     "text": [
      "True\n"
     ]
    }
   ],
   "source": [
    "e_inteiro = isinstance(5,int)\n",
    "print(e_inteiro)"
   ]
  },
  {
   "cell_type": "code",
   "execution_count": null,
   "metadata": {},
   "outputs": [],
   "source": [
    "class Base:\n",
    "    def __init__(self):\n",
    "        pass \n",
    "classe = Base()\n",
    "\n",
    "e_base = isinstance(classe,Base)\n"
   ]
  },
  {
   "cell_type": "code",
   "execution_count": null,
   "metadata": {},
   "outputs": [],
   "source": [
    "class Base:\n",
    "    def __init__(self):\n",
    "        pass \n",
    "\n",
    "class Herdeiro(Base):\n",
    "    def __init__(self):\n",
    "        pass \n",
    "    "
   ]
  },
  {
   "cell_type": "code",
   "execution_count": 2,
   "metadata": {},
   "outputs": [
    {
     "name": "stdout",
     "output_type": "stream",
     "text": [
      "Memoria Iniciada\n",
      "0\n",
      "1\n",
      "2\n",
      "3\n",
      "4\n",
      "5\n",
      "6\n",
      "7\n",
      "8\n",
      "9\n",
      "Memoria Liberada\n",
      "Aqui e o objeto já não existe mais.\n"
     ]
    }
   ],
   "source": [
    "class Lista:\n",
    "    def __init__(self):\n",
    "        pass \n",
    "\n",
    "    def __enter__(self):\n",
    "        print(\"Memoria Iniciada\")\n",
    "        self.lista = [i for i in range(0,10)]\n",
    "        return self.lista\n",
    "    \n",
    "    def __exit__(self,*args,**kwargs):\n",
    "        print(\"Memoria Liberada\")\n",
    "\n",
    "        del self.lista\n",
    "\n",
    "with Lista() as temp_lista:\n",
    "    for i in temp_lista:\n",
    "        print(i)\n",
    "\n",
    "print(\"Aqui e o objeto já não existe mais.\")\n",
    "        \n",
    "\n"
   ]
  },
  {
   "cell_type": "code",
   "execution_count": 4,
   "metadata": {},
   "outputs": [
    {
     "name": "stdout",
     "output_type": "stream",
     "text": [
      "32\n"
     ]
    }
   ],
   "source": [
    "class MeuNumero:\n",
    "    def __init__(self,numero):\n",
    "        self.numero = numero\n",
    "\n",
    "    def __add__(self,outro):\n",
    "        soma = self.numero + outro.numero\n",
    "        return MeuNumero(soma)\n",
    "\n",
    "num1 = MeuNumero(10)\n",
    "num2 = MeuNumero(22)\n",
    "\n",
    "num3 =num1+num2\n",
    "print(num3.numero)"
   ]
  },
  {
   "cell_type": "code",
   "execution_count": 5,
   "metadata": {},
   "outputs": [
    {
     "name": "stdout",
     "output_type": "stream",
     "text": [
      "-12\n"
     ]
    }
   ],
   "source": [
    "class MeuNumero:\n",
    "    def __init__(self,numero):\n",
    "        self.numero = numero\n",
    "\n",
    "    def __sub__(self,outro):\n",
    "        subtracao = self.numero - outro.numero\n",
    "        return MeuNumero(subtracao)\n",
    "\n",
    "num1 = MeuNumero(10)\n",
    "num2 = MeuNumero(22)\n",
    "\n",
    "num3 =num1 - num2\n",
    "print(num3.numero)"
   ]
  },
  {
   "cell_type": "code",
   "execution_count": null,
   "metadata": {},
   "outputs": [],
   "source": []
  }
 ],
 "metadata": {
  "kernelspec": {
   "display_name": "Python 3",
   "language": "python",
   "name": "python3"
  },
  "language_info": {
   "codemirror_mode": {
    "name": "ipython",
    "version": 3
   },
   "file_extension": ".py",
   "mimetype": "text/x-python",
   "name": "python",
   "nbconvert_exporter": "python",
   "pygments_lexer": "ipython3",
   "version": "3.9.2"
  }
 },
 "nbformat": 4,
 "nbformat_minor": 2
}
